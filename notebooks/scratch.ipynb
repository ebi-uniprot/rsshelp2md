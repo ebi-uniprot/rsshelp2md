{
 "cells": [
  {
   "cell_type": "code",
   "execution_count": 1,
   "id": "48e22c6d",
   "metadata": {},
   "outputs": [],
   "source": [
    "import pypandoc\n",
    "import feedparser\n",
    "from collections import defaultdict\n",
    "from bs4 import BeautifulSoup\n",
    "import requests\n",
    "import os.path\n",
    "from pathlib import Path\n",
    "import base64\n",
    "import re\n",
    "from urllib.parse import urlparse\n",
    "from selenium import webdriver\n",
    "from selenium.webdriver.chrome.options import Options\n",
    "from fake_useragent import UserAgent\n",
    "\n",
    "# Use this to fake a valid user agent for requests\n",
    "ua = UserAgent()\n",
    "headers = {'User-Agent': ua.Chrome}\n",
    "\n",
    "options = Options()\n",
    "options.headless = True\n",
    "\n",
    "export_path = './export/pandoc'\n",
    "combined_path = os.path.join(export_path, 'combined')\n",
    "images_path = os.path.join(combined_path, 'images')\n",
    "html_path = os.path.join(export_path, 'html')\n",
    "markdown_path = os.path.join(export_path, 'markdown')\n",
    "report_path = os.path.join(export_path, 'report')\n",
    "\n",
    "\n",
    "for p in [images_path, html_path, markdown_path, report_path]:\n",
    "    Path(p).mkdir(parents=True, exist_ok=True)\n",
    "\n",
    "uniprotOrgURL = 'www.uniprot.org'\n",
    "uniprotBetaURL = 'beta.uniprot.org'\n",
    "uniprotOrgKBPath = '/uniprot'\n",
    "uniprotBetaKBPath = '/uniprotkb'\n",
    "\n",
    "table_string = '<table'"
   ]
  },
  {
   "cell_type": "code",
   "execution_count": 2,
   "id": "b7dc339f",
   "metadata": {},
   "outputs": [],
   "source": [
    "def get_joined_categories(entry):\n",
    "    return ','.join([tag['term'] for tag in entry['tags']])\n",
    "\n",
    "\n",
    "def strip_outer_divs(html):\n",
    "    return html.lstrip('<div>').rstrip('</div>').strip()\n",
    "\n",
    "\n",
    "def remove_newlines(html):\n",
    "    return html.replace('\\n', ' ')\n",
    "\n",
    "\n",
    "def replace_see_also_with_ul(parent):\n",
    "    c = list(parent.children)\n",
    "    if c[0].text != 'See also:' or not parent.find_all('br'):\n",
    "        return\n",
    "    lis = ''.join([f'<li>{el}</li>' for el in c[1:] if el.name != 'br'])\n",
    "    paragraph = BeautifulSoup(f'<p>See also:<ul>{lis}</ul></p>')\n",
    "    parent.replace_with(paragraph)\n",
    "\n",
    "    \n",
    "def has_color_style(soup):\n",
    "    return len(soup.find_all(None,style=lambda value: value and 'color:' in value)) > 0\n",
    "\n",
    "\n",
    "def convert_html_to_gfm(html, strict=True):\n",
    "    if strict:\n",
    "        pandoc_md = pypandoc.convert_text(html, 'markdown', format='html-native_divs-native_spans', extra_args=['--wrap=none'])\n",
    "        return pypandoc.convert_text(pandoc_md, 'gfm', format='markdown', extra_args=['--wrap=none'])\n",
    "    else:\n",
    "        return pypandoc.convert_text(html, 'gfm', format='html', extra_args=['--wrap=none'])\n",
    "    \n",
    "\n",
    "def is_image_encoded(src):\n",
    "    return src.startswith('data:')\n",
    "\n",
    "\n",
    "def save_image_from_url(src):\n",
    "    response = requests.get(src, headers=headers)\n",
    "    if response.status_code == 200:\n",
    "        image_file_name = os.path.basename(src)\n",
    "        image_file_path = os.path.join(images_path, image_file_name)\n",
    "        with open(image_file_path, 'wb') as f:\n",
    "            f.write(response.content)\n",
    "    return image_file_path\n",
    "\n",
    "\n",
    "def add_padding_to_encoded_string(image_data):\n",
    "    return image_data + '=' * (-len(image_data) % 4)\n",
    "\n",
    "\n",
    "def save_image_from_encoded_string(src, image_file_basename):\n",
    "    p = re.compile(r'data:image\\/(?P<image_type>\\w+);base64,(?P<image_data>.*)')\n",
    "    m = p.match(src)\n",
    "    assert m\n",
    "    d = m.groupdict()\n",
    "    image_type = d['image_type']\n",
    "    image_data = d['image_data']\n",
    "    image_file_name = f'{image_file_basename}.{image_type}'\n",
    "    image_file_path = os.path.join(images_path, image_file_name)\n",
    "    with open(image_file_path, 'wb') as f:\n",
    "        f.write(base64.b64decode(add_padding_to_encoded_string(image_data)))\n",
    "    return image_file_path\n",
    "    \n",
    "    \n",
    "def find_and_save_images(soup, entry_id):\n",
    "    encoded_img_counter = 1\n",
    "    for el in soup.find_all('img'):\n",
    "        src = el.attrs['src']\n",
    "        try:\n",
    "            if is_image_encoded(src):\n",
    "                image_file_basename = f'{entry_id}-{encoded_img_counter}'\n",
    "                encoded_img_counter += 1\n",
    "                image_file_path = save_image_from_encoded_string(src, image_file_basename)\n",
    "            else:\n",
    "                image_file_path = save_image_from_url(src)\n",
    "        except Exception as e:\n",
    "            print(el.attrs['src'])\n",
    "            raise e\n",
    "        el.attrs['src'] = image_file_path\n",
    "        \n",
    "\n",
    "def does_page_exist(url):\n",
    "    try:\n",
    "        response = requests.get(url, headers=headers)\n",
    "    except:\n",
    "        return False\n",
    "    return response.ok\n",
    "\n",
    "        \n",
    "def is_anchor_in_page(anchor):\n",
    "    for el in driver.find_elements_by_id(anchor):\n",
    "            return True\n",
    "    return False\n",
    "\n",
    "        \n",
    "def is_uniprot_beta_link_ok(parsed):\n",
    "    url = parsed.geturl()\n",
    "    assert uniprotBetaURL in url\n",
    "    print(url)\n",
    "    driver.get(url)\n",
    "    not_found_class_names = ['message--failure', 'error-page-container__art-work']\n",
    "    for class_name in not_found_class_names:\n",
    "        if driver.find_elements_by_class_name(class_name):\n",
    "            return False, None\n",
    "    if parsed.fragment:\n",
    "        return True, is_anchor_in_page(parsed.fragment)\n",
    "    \n",
    "    return True, None\n",
    "\n",
    "\n",
    "def check_and_standardize_link(url, el):\n",
    "    parsed = urlparse(url)\n",
    "    if parsed.scheme == 'ftp':\n",
    "        return None, None\n",
    "    paths = os.path.split(parsed.path)\n",
    "    # Check if this is uniprot.org\n",
    "    if paths[0] == uniprotOrgKBPath:\n",
    "        paths = [uniprotBetaKBPath, *paths[1:]]\n",
    "        parsed = parsed._replace(path=os.path.join(*paths))\n",
    "        # Check that the corresponding beta page exists\n",
    "        beta_parsed = parsed._replace(netloc=uniprotBetaURL)\n",
    "        ok, anchor_found = is_uniprot_beta_link_ok(beta_parsed)\n",
    "        el.attrs['href'] = beta_parsed.geturl()\n",
    "        return ok, anchor_found\n",
    "    else:\n",
    "        # Well this isn't ideal but not sure how else to handle this\n",
    "        # as if the resource is a SPA I won't know what to look for \n",
    "        # the resource not being able to be accessed\n",
    "        return does_page_exist(url), None\n",
    "        \n",
    "def check_and_standardize_all_links(soup):\n",
    "    dead_links = []\n",
    "    dead_anchors = []\n",
    "    for el in soup.find_all('a'):\n",
    "        url = el.attrs['href']\n",
    "        ok, anchor_found = check_and_standardize_link(url, el)\n",
    "        if not ok:\n",
    "            dead_links.append(url)\n",
    "        if anchor_found != None and anchor_found:\n",
    "            dead_anchors.append(url)\n",
    "        print(url, ok, anchor_found)\n",
    "    return dead_links, dead_anchors"
   ]
  },
  {
   "cell_type": "code",
   "execution_count": 8,
   "id": "de0446ba",
   "metadata": {},
   "outputs": [],
   "source": [
    "with open('input/help.combined.rss') as f:\n",
    "    rss = ''.join(f.readlines())\n",
    "feed = feedparser.parse(rss)"
   ]
  },
  {
   "cell_type": "code",
   "execution_count": 52,
   "id": "d6a19c43",
   "metadata": {},
   "outputs": [
    {
     "ename": "KeyboardInterrupt",
     "evalue": "",
     "output_type": "error",
     "traceback": [
      "\u001b[0;31m---------------------------------------------------------------------------\u001b[0m",
      "\u001b[0;31mKeyboardInterrupt\u001b[0m                         Traceback (most recent call last)",
      "\u001b[0;32m/var/folders/3k/kq3mykdx3hs0jxfmjzxzxxx0f__wfl/T/ipykernel_24537/325013556.py\u001b[0m in \u001b[0;36m<module>\u001b[0;34m\u001b[0m\n\u001b[1;32m      1\u001b[0m \u001b[0;32mfor\u001b[0m \u001b[0mi\u001b[0m\u001b[0;34m,\u001b[0m \u001b[0mentry\u001b[0m \u001b[0;32min\u001b[0m \u001b[0menumerate\u001b[0m\u001b[0;34m(\u001b[0m\u001b[0mfeed\u001b[0m\u001b[0;34m[\u001b[0m\u001b[0;34m'entries'\u001b[0m\u001b[0;34m]\u001b[0m\u001b[0;34m)\u001b[0m\u001b[0;34m:\u001b[0m\u001b[0;34m\u001b[0m\u001b[0;34m\u001b[0m\u001b[0m\n\u001b[0;32m----> 2\u001b[0;31m     \u001b[0mdriver\u001b[0m \u001b[0;34m=\u001b[0m \u001b[0mwebdriver\u001b[0m\u001b[0;34m.\u001b[0m\u001b[0mChrome\u001b[0m\u001b[0;34m(\u001b[0m\u001b[0moptions\u001b[0m\u001b[0;34m=\u001b[0m\u001b[0moptions\u001b[0m\u001b[0;34m,\u001b[0m \u001b[0mexecutable_path\u001b[0m\u001b[0;34m=\u001b[0m\u001b[0;34m'/Users/dlrice/bin/chromedriver'\u001b[0m\u001b[0;34m)\u001b[0m\u001b[0;34m\u001b[0m\u001b[0;34m\u001b[0m\u001b[0m\n\u001b[0m\u001b[1;32m      3\u001b[0m     \u001b[0;32mif\u001b[0m \u001b[0mi\u001b[0m \u001b[0;34m<\u001b[0m \u001b[0;36m49\u001b[0m\u001b[0;34m:\u001b[0m\u001b[0;34m\u001b[0m\u001b[0;34m\u001b[0m\u001b[0m\n\u001b[1;32m      4\u001b[0m         \u001b[0;32mcontinue\u001b[0m\u001b[0;34m\u001b[0m\u001b[0;34m\u001b[0m\u001b[0m\n\u001b[1;32m      5\u001b[0m     \u001b[0mprint\u001b[0m\u001b[0;34m(\u001b[0m\u001b[0mi\u001b[0m\u001b[0;34m,\u001b[0m \u001b[0mentry\u001b[0m\u001b[0;34m.\u001b[0m\u001b[0mid\u001b[0m\u001b[0;34m)\u001b[0m\u001b[0;34m\u001b[0m\u001b[0;34m\u001b[0m\u001b[0m\n",
      "\u001b[0;32m~/miniconda3/lib/python3.9/site-packages/selenium/webdriver/chrome/webdriver.py\u001b[0m in \u001b[0;36m__init__\u001b[0;34m(self, executable_path, port, options, service_args, desired_capabilities, service_log_path, chrome_options, keep_alive)\u001b[0m\n\u001b[1;32m     71\u001b[0m             \u001b[0mservice_args\u001b[0m\u001b[0;34m=\u001b[0m\u001b[0mservice_args\u001b[0m\u001b[0;34m,\u001b[0m\u001b[0;34m\u001b[0m\u001b[0;34m\u001b[0m\u001b[0m\n\u001b[1;32m     72\u001b[0m             log_path=service_log_path)\n\u001b[0;32m---> 73\u001b[0;31m         \u001b[0mself\u001b[0m\u001b[0;34m.\u001b[0m\u001b[0mservice\u001b[0m\u001b[0;34m.\u001b[0m\u001b[0mstart\u001b[0m\u001b[0;34m(\u001b[0m\u001b[0;34m)\u001b[0m\u001b[0;34m\u001b[0m\u001b[0;34m\u001b[0m\u001b[0m\n\u001b[0m\u001b[1;32m     74\u001b[0m \u001b[0;34m\u001b[0m\u001b[0m\n\u001b[1;32m     75\u001b[0m         \u001b[0;32mtry\u001b[0m\u001b[0;34m:\u001b[0m\u001b[0;34m\u001b[0m\u001b[0;34m\u001b[0m\u001b[0m\n",
      "\u001b[0;32m~/miniconda3/lib/python3.9/site-packages/selenium/webdriver/common/service.py\u001b[0m in \u001b[0;36mstart\u001b[0;34m(self)\u001b[0m\n\u001b[1;32m    100\u001b[0m                 \u001b[0;32mbreak\u001b[0m\u001b[0;34m\u001b[0m\u001b[0;34m\u001b[0m\u001b[0m\n\u001b[1;32m    101\u001b[0m             \u001b[0mcount\u001b[0m \u001b[0;34m+=\u001b[0m \u001b[0;36m1\u001b[0m\u001b[0;34m\u001b[0m\u001b[0;34m\u001b[0m\u001b[0m\n\u001b[0;32m--> 102\u001b[0;31m             \u001b[0mtime\u001b[0m\u001b[0;34m.\u001b[0m\u001b[0msleep\u001b[0m\u001b[0;34m(\u001b[0m\u001b[0;36m1\u001b[0m\u001b[0;34m)\u001b[0m\u001b[0;34m\u001b[0m\u001b[0;34m\u001b[0m\u001b[0m\n\u001b[0m\u001b[1;32m    103\u001b[0m             \u001b[0;32mif\u001b[0m \u001b[0mcount\u001b[0m \u001b[0;34m==\u001b[0m \u001b[0;36m30\u001b[0m\u001b[0;34m:\u001b[0m\u001b[0;34m\u001b[0m\u001b[0;34m\u001b[0m\u001b[0m\n\u001b[1;32m    104\u001b[0m                 \u001b[0;32mraise\u001b[0m \u001b[0mWebDriverException\u001b[0m\u001b[0;34m(\u001b[0m\u001b[0;34m\"Can not connect to the Service %s\"\u001b[0m \u001b[0;34m%\u001b[0m \u001b[0mself\u001b[0m\u001b[0;34m.\u001b[0m\u001b[0mpath\u001b[0m\u001b[0;34m)\u001b[0m\u001b[0;34m\u001b[0m\u001b[0;34m\u001b[0m\u001b[0m\n",
      "\u001b[0;31mKeyboardInterrupt\u001b[0m: "
     ]
    }
   ],
   "source": [
    "for i, entry in enumerate(feed['entries']):\n",
    "    driver = webdriver.Chrome(options=options, executable_path='/Users/dlrice/bin/chromedriver')\n",
    "    if i < 49:\n",
    "        continue\n",
    "    print(i, entry.id)\n",
    "    html = entry['content'][0]['value']\n",
    "    soup = BeautifulSoup(html)\n",
    "    \n",
    "    with open(os.path.join(html_path, f'{entry.id}.html'), 'w') as f:\n",
    "        f.write(soup.prettify())\n",
    "    \n",
    "    # If there is a See also: with <br/> separated items replace with <ul>\n",
    "    for el in soup.find_all(text='See also:'):\n",
    "        replace_see_also_with_ul(el.parent)\n",
    "       \n",
    "    # Save all images to disk (encoded base64 & urls) with correct img paths\n",
    "    find_and_save_images(soup, entry.id)\n",
    "    \n",
    "    # Check all links before conversion and if broken, report\n",
    "    dead_links, dead_anchors = check_and_standardize_all_links(soup)\n",
    "    \n",
    "    html = soup.prettify()\n",
    "    \n",
    "    # Check if page has color style applied and if so don't use strict conversion which removes html tags\n",
    "    strict = not has_color_style(soup)\n",
    "    \n",
    "    md = convert_html_to_gfm(html, strict=strict)\n",
    "    \n",
    "    # Check if there any tables in the markdown\n",
    "    n_tables_in_html = html.count(table_string)\n",
    "    n_html_tables_in_md = md.count(table_string)\n",
    "    n_md_tables_in_md = n_tables_in_html - n_html_tables_in_md\n",
    "    other_html_tags_left = not strict\n",
    "    \n",
    "    # Save report\n",
    "    if dead_links or dead_anchors or n_md_tables_in_md or n_html_tables_in_md or other_html_tags_left:\n",
    "        with open(os.path.join(report_path, f'{entry.id}.txt'), 'w') as f:\n",
    "            print(entry.id, file=f)\n",
    "            print('---', file=f)\n",
    "            if dead_links:\n",
    "                print('Dead links',  file=f)\n",
    "                print('\\n'.join(dead_links),  end='\\n\\n', file=f)\n",
    "            if dead_anchors:\n",
    "                print('Dead anchor tags',  file=f)\n",
    "                print('\\n'.join(dead_anchors), end='\\n\\n', file=f)\n",
    "            if n_md_tables_in_md:\n",
    "                print('Number tables converted to Markdown',  file=f)\n",
    "                print(n_md_tables_in_md, end='\\n\\n', file=f)\n",
    "            if n_html_tables_in_md:\n",
    "                print('Number tables left as HTML',  file=f)\n",
    "                print(n_html_tables_in_md, end='\\n\\n', file=f)\n",
    "            if other_html_tags_left:\n",
    "                print('All extra HTML tags left (ie <span style=\"color: grey;\">)?', file=f)\n",
    "                print(other_html_tags_left, file=f)\n",
    "\n",
    "    # Write Markdown to file\n",
    "    with open(os.path.join(markdown_path, f'{entry.id}.md'), 'w') as f:\n",
    "        print('---', file=f)\n",
    "        print(f'title: {entry[\"title\"]}', file=f)\n",
    "        print(f'categories: {get_joined_categories(entry)}', file=f)\n",
    "        print('---', end='\\n\\n', file=f)\n",
    "        f.write(md)"
   ]
  },
  {
   "cell_type": "code",
   "execution_count": 11,
   "id": "d7a58334",
   "metadata": {},
   "outputs": [
    {
     "data": {
      "text/plain": [
       "'\\r\\n\\r\\n\\r\\n<!DOCTYPE html>\\r\\n<html lang=\"en\" class=\"no-js\">\\r\\n\\r\\n<head>\\r\\n\\r\\n        <title>UniRef clusters: a comprehensive and scalable alternative for improving sequence similarity searches | Bioinformatics | Oxford Academic</title>\\r\\n\\r\\n        <script src=\"https://ajax.googleapis.com/ajax/libs/jquery/2.2.4/jquery.min.js\" type=\"text/javascript\"></script>\\r\\n<script>window.jQuery || document.write(\\'<script src=\"//oup.silverchair-cdn.com/Themes/Silver/app/js/jquery.2.2.4.min.js\" type=\"text/javascript\">\\\\x3C/script>\\')</script>\\r\\n<script src=\"//oup.silverchair-cdn.com/Themes/Silver/app/vendor/v-637769993881668327/jquery-migrate-1.4.1.min.js\" type=\"text/javascript\"></script>\\r\\n\\r\\n\\r\\n\\r\\n    \\r\\n    <meta name=\"viewport\" content=\"width=device-width, initial-scale=1, maximum-scale=1\" />\\r\\n\\r\\n    \\r\\n    <meta charset=\"utf-8\" />\\r\\n    <meta http-equiv=\"Content-Type\" content=\"text/html; charset=utf-8\" />\\r\\n    <meta http-equiv=\"X-UA-Compatible\" content=\"IE=Edge\" />\\r\\n    <!-- Turn off telephone number detection. -->\\r\\n    <meta name=\"format-detection\" content=\"telephone=no\" />\\r\\n\\r\\n<!-- Bookmark Icons -->\\r\\n  <link rel=\"apple-touch-icon\" sizes=\"180x180\" href=\"//oup.silverchair-cdn.com/UI/app/img/v-637769993602565771/apple-touch-icon.png\">\\r\\n  <link rel=\"icon\" type=\"image/png\" href=\"//oup.silverchair-cdn.com/UI/app/img/v-637769993602565771/favicon-32x32.png\" sizes=\"32x32\">\\r\\n  <link rel=\"icon\" type=\"image/png\" href=\"//oup.silverchair-cdn.com/UI/app/img/v-637769993602565771/favicon-16x16.png\" sizes=\"16x16\">\\r\\n  <link rel=\"mask-icon\" href=\"//oup.silverchair-cdn.com/UI/app/img/v-637769993602765761/safari-pinned-tab.svg\" color=\"#5bbad5\">\\r\\n  <link rel=\"shortcut icon\" href=\"//oup.silverchair-cdn.com/UI/app/img/v-637769993602615770/favicon.ico\">\\r\\n  <link rel=\"manifest\" href=\"//oup.silverchair-cdn.com/UI/app/img/v-637769993602615770/manifest.json\">\\r\\n  <meta name=\"msapplication-config\" content=\"//oup.silverchair-cdn.com/UI/app/img/v-637769993602565771/browserconfig.xml\">\\r\\n  <meta name=\"theme-color\" content=\"#002f65\">\\r\\n\\r\\n\\r\\n    \\r\\n\\r\\n\\r\\n\\r\\n\\r\\n<link rel=\"stylesheet\" type=\"text/css\" href=\"//oup.silverchair-cdn.com/UI/app/fonts/icons.css\" />\\r\\n\\r\\n<link rel=\"stylesheet\" type=\"text/css\" href=\"//oup.silverchair-cdn.com/Themes/Client/app/css/v-637776852378999782/site.min.css\" />\\r\\n\\r\\n        <link rel=\"stylesheet\" type=\"text/css\" href=\"//oup.silverchair-cdn.com/Themes/Client/app/vendor/oupCookiePolicy/css/v-637769993602215841/jquery.fancybox-1.3.4_1.css\" />\\r\\n        <link rel=\"stylesheet\" type=\"text/css\" href=\"//oup.silverchair-cdn.com/Themes/Client/app/vendor/jscrollpane/v-637769993602165789/jscrollpane.css\" />\\r\\n        <link rel=\"stylesheet\" type=\"text/css\" href=\"//oup.silverchair-cdn.com/Themes/Client/app/vendor/jquery.tablesorter/v-637769993602165789/theme.default.css\" />\\r\\n\\r\\n    <link rel=\"stylesheet\" type=\"text/css\" href=\"https://fonts.googleapis.com/css?family=Merriweather:300,400,400italic,700,700italic|Source+Sans+Pro:400,400italic,700,700italic\" />\\r\\n\\r\\n\\r\\n        <link href=//oup.silverchair-cdn.com/data/SiteBuilderAssetsOriginals/Live/CSS/journals/global.css rel=\"stylesheet\" type=\"text/css\" />\\r\\n                <link href=//oup.silverchair-cdn.com/data/SiteBuilderAssets/Live/CSS/bioinformatics/Site123331040.css rel=\"stylesheet\" type=\"text/css\" />\\r\\n\\r\\n\\r\\n\\r\\n    <script> var dataLayer = [{\"event_type\":\"full-text\",\"supplier_tag\":\"SC_Journals\",\"object_type\":\"Article\",\"siteid\":\"bioinformatics\",\"authentication_method\":\"IP\",\"authzrequired\":\"false\",\"account_id\":\"2763981\",\"account_list\":\"2763981,2891860\",\"authnips\":\"LPBv5KAg7k7nAkUmF1omjQ==\",\"doi\":\"10.1093/bioinformatics/btu739\"}]; </script>\\r\\n            <script>\\r\\n                (function (w, d, s, l, i) {\\r\\n                    w[l] = w[l] || []; w[l].push({\\r\\n                        \\'gtm.start\\':\\r\\n                            new Date().getTime(), event: \\'gtm.js\\'\\r\\n                    }); var f = d.getElementsByTagName(s)[0],\\r\\n                        j = d.createElement(s), dl = l != \\'dataLayer\\' ? \\'&l=\\' + l : \\'\\'; j.async = true; j.src =\\r\\n                        \\'https://www.googletagmanager.com/gtm.js?id=\\' + i + dl; f.parentNode.insertBefore(j, f);\\r\\n                })(window, document, \\'script\\', \\'dataLayer\\', \\'GTM-W6DD7HV\\');\\r\\n            </script>\\r\\n\\r\\n    \\r\\n\\r\\n        <script type=\"text/javascript\">\\r\\n            var App = App || {};\\r\\n            App.LoginUserInfo = {\\r\\n                isInstLoggedIn: 1,\\r\\n                isIndividualLoggedIn: 0\\r\\n            };\\r\\n\\r\\n            App.CurrentSubdomain = \\'bioinformatics\\';\\r\\n            App.SiteURL = \\'academic.oup.com/bioinformatics\\';\\r\\n        </script>\\r\\n    \\r\\n    \\r\\n    <link href=\"https://cdn.jsdelivr.net/chartist.js/latest/chartist.min.css\" rel=\"stylesheet\" type=\"text/css\" />\\r\\n    <script type=\"application/ld+json\">\\r\\n        {\"@context\":\"https://schema.org\",\"@type\":\"ScholarlyArticle\",\"@id\":\"https://academic.oup.com/bioinformatics/article/31/6/926/214968\",\"name\":\"UniRef clusters: a comprehensive and scalable alternative for improving sequence similarity searches\",\"datePublished\":\"2014-11-13\",\"isPartOf\":{\"@id\":\"https://academic.oup.com/bioinformatics/bioinformatics/issue/31/6\",\"@type\":\"PublicationIssue\",\"issueNumber\":\"6\",\"datePublished\":\"2015-03-15\",\"isPartOf\":{\"@id\":\"https://academic.oup.com/bioinformatics/bioinformatics\",\"@type\":\"Periodical\",\"name\":\"Bioinformatics\",\"issn\":[\"1460-2059\"]}},\"url\":\"https://dx.doi.org/10.1093/bioinformatics/btu739\",\"inLanguage\":\"en\",\"copyrightHolder\":\"Oxford University Press\",\"copyrightYear\":\"2022\",\"publisher\":\"Oxford University Press\",\"sameAs\":\"https://academic.oup.com/bioinformatics/article/31/6/926/214968\",\"author\":[{\"name\":\"Suzek, Baris E.\",\"affiliation\":\"Protein Information Resource, Georgetown University Medical Center, Washington, DC 20007, USA, Department of Computer Engineering, Muğla Sıtkı Koçman University, Muğla 48000, Turkey, Center for Bioinformatics and Computational Biology and Protein Information Resource, University of Delaware, Newark, DE 19711, USA, European Bioinformatics Institute, Wellcome Trust Genome Campus, Hinxton, Cambridge CB10 1SD, UK and Swiss Institute of Bioinformatics, Centre Medical Universitaire, 1 rue Michel Servet, 1211 Geneva 4, Switzerland\",\"@type\":\"Person\"},{\"name\":\"Wang, Yuqi\",\"affiliation\":\"Protein Information Resource, Georgetown University Medical Center, Washington, DC 20007, USA, Department of Computer Engineering, Muğla Sıtkı Koçman University, Muğla 48000, Turkey, Center for Bioinformatics and Computational Biology and Protein Information Resource, University of Delaware, Newark, DE 19711, USA, European Bioinformatics Institute, Wellcome Trust Genome Campus, Hinxton, Cambridge CB10 1SD, UK and Swiss Institute of Bioinformatics, Centre Medical Universitaire, 1 rue Michel Servet, 1211 Geneva 4, Switzerland\",\"@type\":\"Person\"},{\"name\":\"Huang, Hongzhan\",\"affiliation\":\"Protein Information Resource, Georgetown University Medical Center, Washington, DC 20007, USA, Department of Computer Engineering, Muğla Sıtkı Koçman University, Muğla 48000, Turkey, Center for Bioinformatics and Computational Biology and Protein Information Resource, University of Delaware, Newark, DE 19711, USA, European Bioinformatics Institute, Wellcome Trust Genome Campus, Hinxton, Cambridge CB10 1SD, UK and Swiss Institute of Bioinformatics, Centre Medical Universitaire, 1 rue Michel Servet, 1211 Geneva 4, Switzerland\",\"@type\":\"Person\"},{\"name\":\"McGarvey, Peter B.\",\"affiliation\":\"Protein Information Resource, Georgetown University Medical Center, Washington, DC 20007, USA, Department of Computer Engineering, Muğla Sıtkı Koçman University, Muğla 48000, Turkey, Center for Bioinformatics and Computational Biology and Protein Information Resource, University of Delaware, Newark, DE 19711, USA, European Bioinformatics Institute, Wellcome Trust Genome Campus, Hinxton, Cambridge CB10 1SD, UK and Swiss Institute of Bioinformatics, Centre Medical Universitaire, 1 rue Michel Servet, 1211 Geneva 4, Switzerland\",\"@type\":\"Person\"},{\"name\":\"Wu, Cathy H.\",\"affiliation\":\"Protein Information Resource, Georgetown University Medical Center, Washington, DC 20007, USA, Department of Computer Engineering, Muğla Sıtkı Koçman University, Muğla 48000, Turkey, Center for Bioinformatics and Computational Biology and Protein Information Resource, University of Delaware, Newark, DE 19711, USA, European Bioinformatics Institute, Wellcome Trust Genome Campus, Hinxton, Cambridge CB10 1SD, UK and Swiss Institute of Bioinformatics, Centre Medical Universitaire, 1 rue Michel Servet, 1211 Geneva 4, Switzerland\",\"@type\":\"Person\"},{\"name\":\", \",\"@type\":\"Person\"}],\"description\":\"Abstract. Motivation: UniRef databases provide full-scale clustering of UniProtKB sequences and are utilized for a broad range of applications, particularly sim\",\"pageStart\":\"926\",\"pageEnd\":\"932\",\"thumbnailURL\":\"https://oup.silverchair-cdn.com/oup/backfile/content_public/journal/bioinformatics/31/6/10.1093/bioinformatics/btu739/2/m_btu739f1p.jpeg?Expires=1705164292&Signature=d9bHlyVYhLC2XzEDLsEvTGpBpDk-~hnk~DkDOVujdoCfOOulRdOjGKqj-29OaWOElyhpnvyhoGFwllxD-nmwI0Xk-YIAq2hE24YXIC8uBJlSzLRq0~v28TN5-Jw9rBDnXxPm6IvILORvyMbt0qDmGdMCftIlY7SsBNRxmEQ6tVzZWf4DFWtvGpg1OxtYjtU~87icnfFQWW439ayRtwZ4b2c23MkzoYua6IYt8K9Qx81ZBEfRBlTvB2eJ1S-ELmWPvgRO1xFh6KUA0~fYhLBWzscnrdV-45J5aCi6-x2GgGkKNQtgMhAHNRfdTzUXQD13QRR5wM0HPZVKB758H1T4pg__&Key-Pair-Id=APKAIE5G5CRDK6RD3PGA\",\"headline\":\"UniRef clusters: a comprehensive and scalable alternative for improving sequence similarity searches\",\"image\":\"https://oup.silverchair-cdn.com/oup/backfile/content_public/journal/bioinformatics/31/6/10.1093/bioinformatics/btu739/2/m_btu739f1p.jpeg?Expires=1705164292&Signature=d9bHlyVYhLC2XzEDLsEvTGpBpDk-~hnk~DkDOVujdoCfOOulRdOjGKqj-29OaWOElyhpnvyhoGFwllxD-nmwI0Xk-YIAq2hE24YXIC8uBJlSzLRq0~v28TN5-Jw9rBDnXxPm6IvILORvyMbt0qDmGdMCftIlY7SsBNRxmEQ6tVzZWf4DFWtvGpg1OxtYjtU~87icnfFQWW439ayRtwZ4b2c23MkzoYua6IYt8K9Qx81ZBEfRBlTvB2eJ1S-ELmWPvgRO1xFh6KUA0~fYhLBWzscnrdV-45J5aCi6-x2GgGkKNQtgMhAHNRfdTzUXQD13QRR5wM0HPZVKB758H1T4pg__&Key-Pair-Id=APKAIE5G5CRDK6RD3PGA\",\"image:alt\":\"The categories of UniRef clusters based on intra-cluster functional consistency. Upper left panel shows an example of GO term hierarchy used. Other panels illustrate the UniRef clusters in categories based on their intra-cluster consistency; I (All members have identical GO terms), II-1 (all members share common GO terms and some have additional less or equally specific GO terms, not children of the shared GO terms), II-2 (all members share common GO terms and some have additional more specific GO terms), III (only some members share common GO terms but all member’s GO terms can be traced to a common non-root parent GO term, is a child of one of the shared GO terms) and IV (members do not have any common GO term and the existing ones cannot be traced to a common non-root parent GO term)\"}\\r\\n    </script>\\r\\n        <meta property=\"og:site_name\" content=\"OUP Academic\"/>\\r\\n        <meta property=\"og:type\" content=\"article\"/>\\r\\n        <meta property=\"og:title\" content=\"UniRef clusters: a comprehensive and scalable alternative for improving sequence similarity searches\"/>\\r\\n        <meta property=\"og:description\" content=\"Abstract. Motivation: UniRef databases provide full-scale clustering of UniProtKB sequences and are utilized for a broad range of applications, particularly sim\"/>\\r\\n        <meta property=\"og:url\" content=\"https://academic.oup.com/bioinformatics/article/31/6/926/214968\"/>\\r\\n        <meta property=\"og:updated_time\" content=\"2014-11-13\"/>\\r\\n        <meta property=\"og:image\" content=\"https://oup.silverchair-cdn.com/oup/backfile/content_public/journal/bioinformatics/31/6/10.1093/bioinformatics/btu739/2/m_btu739f1p.jpeg?Expires=1705164292&amp;Signature=d9bHlyVYhLC2XzEDLsEvTGpBpDk-~hnk~DkDOVujdoCfOOulRdOjGKqj-29OaWOElyhpnvyhoGFwllxD-nmwI0Xk-YIAq2hE24YXIC8uBJlSzLRq0~v28TN5-Jw9rBDnXxPm6IvILORvyMbt0qDmGdMCftIlY7SsBNRxmEQ6tVzZWf4DFWtvGpg1OxtYjtU~87icnfFQWW439ayRtwZ4b2c23MkzoYua6IYt8K9Qx81ZBEfRBlTvB2eJ1S-ELmWPvgRO1xFh6KUA0~fYhLBWzscnrdV-45J5aCi6-x2GgGkKNQtgMhAHNRfdTzUXQD13QRR5wM0HPZVKB758H1T4pg__&amp;Key-Pair-Id=APKAIE5G5CRDK6RD3PGA\"/>\\r\\n        <meta property=\"og:image:alt\" content=\"The categories of UniRef clusters based on intra-cluster functional consistency. Upper left panel shows an example of GO term hierarchy used. Other panels illustrate the UniRef clusters in categories based on their intra-cluster consistency; I (All members have identical GO terms), II-1 (all members share common GO terms and some have additional less or equally specific GO terms, not children of the shared GO terms), II-2 (all members share common GO terms and some have additional more specific GO terms), III (only some members share common GO terms but all member’s GO terms can be traced to a common non-root parent GO term, is a child of one of the shared GO terms) and IV (members do not have any common GO term and the existing ones cannot be traced to a common non-root parent GO term)\"/>\\r\\n<meta name=\"citation_author\" content=\"Suzek, Baris E.\" /><meta name=\"citation_author_institution\" content=\"Protein Information Resource, Georgetown University Medical Center, Washington, DC 20007, USA, 2Department of Computer Engineering, Muğla Sıtkı Koçman University, Muğla 48000, Turkey, 3Center for Bioinformatics and Computational Biology and Protein Information Resource, University of Delaware, Newark, DE 19711, USA, 4European Bioinformatics Institute, Wellcome Trust Genome Campus, Hinxton, Cambridge CB10 1SD, UK and 5Swiss Institute of Bioinformatics, Centre Medical Universitaire, 1 rue Michel Servet, 1211 Geneva 4, Switzerland\" /><meta name=\"citation_author\" content=\"Wang, Yuqi\" /><meta name=\"citation_author_institution\" content=\"Protein Information Resource, Georgetown University Medical Center, Washington, DC 20007, USA, 2Department of Computer Engineering, Muğla Sıtkı Koçman University, Muğla 48000, Turkey, 3Center for Bioinformatics and Computational Biology and Protein Information Resource, University of Delaware, Newark, DE 19711, USA, 4European Bioinformatics Institute, Wellcome Trust Genome Campus, Hinxton, Cambridge CB10 1SD, UK and 5Swiss Institute of Bioinformatics, Centre Medical Universitaire, 1 rue Michel Servet, 1211 Geneva 4, Switzerland\" /><meta name=\"citation_author\" content=\"Huang, Hongzhan\" /><meta name=\"citation_author_institution\" content=\"Protein Information Resource, Georgetown University Medical Center, Washington, DC 20007, USA, 2Department of Computer Engineering, Muğla Sıtkı Koçman University, Muğla 48000, Turkey, 3Center for Bioinformatics and Computational Biology and Protein Information Resource, University of Delaware, Newark, DE 19711, USA, 4European Bioinformatics Institute, Wellcome Trust Genome Campus, Hinxton, Cambridge CB10 1SD, UK and 5Swiss Institute of Bioinformatics, Centre Medical Universitaire, 1 rue Michel Servet, 1211 Geneva 4, Switzerland\" /><meta name=\"citation_author\" content=\"McGarvey, Peter B.\" /><meta name=\"citation_author_institution\" content=\"Protein Information Resource, Georgetown University Medical Center, Washington, DC 20007, USA, 2Department of Computer Engineering, Muğla Sıtkı Koçman University, Muğla 48000, Turkey, 3Center for Bioinformatics and Computational Biology and Protein Information Resource, University of Delaware, Newark, DE 19711, USA, 4European Bioinformatics Institute, Wellcome Trust Genome Campus, Hinxton, Cambridge CB10 1SD, UK and 5Swiss Institute of Bioinformatics, Centre Medical Universitaire, 1 rue Michel Servet, 1211 Geneva 4, Switzerland\" /><meta name=\"citation_author\" content=\"Wu, Cathy H.\" /><meta name=\"citation_author_institution\" content=\"Protein Information Resource, Georgetown University Medical Center, Washington, DC 20007, USA, 2Department of Computer Engineering, Muğla Sıtkı Koçman University, Muğla 48000, Turkey, 3Center for Bioinformatics and Computational Biology and Protein Information Resource, University of Delaware, Newark, DE 19711, USA, 4European Bioinformatics Institute, Wellcome Trust Genome Campus, Hinxton, Cambridge CB10 1SD, UK and 5Swiss Institute of Bioinformatics, Centre Medical Universitaire, 1 rue Michel Servet, 1211 Geneva 4, Switzerland\" /><meta name=\"citation_author\" content=\"the UniProt Consortium\" /><meta name=\"citation_title\" content=\"UniRef clusters: a comprehensive and scalable alternative for improving sequence similarity searches\" /><meta name=\"citation_firstpage\" content=\"926\" /><meta name=\"citation_lastpage\" content=\"932\" /><meta name=\"citation_doi\" content=\"10.1093/bioinformatics/btu739\" /><meta name=\"citation_journal_title\" content=\"Bioinformatics\" /><meta name=\"citation_journal_abbrev\" content=\"Bioinformatics\" /><meta name=\"citation_volume\" content=\"31\" /><meta name=\"citation_issue\" content=\"6\" /><meta name=\"citation_publication_date\" content=\"2015/03/15\" /><meta name=\"citation_issn\" content=\"1367-4803\" /><meta name=\"citation_publisher\" content=\"Oxford Academic\" /><meta name=\"citation_reference\" content=\"citation_title=Basic local alignment search tool; citation_author=Altschul  S.F.;  citation_journal_title=J. Mol. Biol.;  citation_year=1990;  citation_volume=215;  citation_pages=403-410; \" /><meta name=\"citation_reference\" content=\"citation_title=Gene ontology: tool for the unification of biology. The Gene Ontology Consortium; citation_author=Ashburner  M.;  citation_journal_title=Nat. Genet.;  citation_year=2000;  citation_volume=25;  citation_pages=25-29; \" /><meta name=\"citation_reference\" content=\"citation_title=Clustered sequence representation for fast homology search; citation_author=Cameron  M.;  citation_journal_title=J. Comput. Biol.;  citation_year=2007;  citation_volume=14;  citation_pages=594-614; \" /><meta name=\"citation_reference\" content=\"citation_title=The oligodeoxynucleotide sequences corresponding to never-expressed peptide motifs are mainly located in the non-coding strand; citation_author=Capone  G.;  citation_journal_title=BMC Bioinformatics;  citation_year=2010;  citation_volume=11;  citation_pages=383\" /><meta name=\"citation_reference\" content=\"citation_title=Improving the prediction of disease-related variants using protein three-dimensional structure; citation_author=Capriotti  E.; citation_author=Altman  R.B.;  citation_journal_title=BMC Bioinformatics;  citation_year=2011a;  citation_volume=12;  citation_pages=S3\" /><meta name=\"citation_reference\" content=\"citation_title=A new disease-specific machine learning approach for the prediction of cancer-causing missense variants; citation_author=Capriotti  E.; citation_author=Altman  R.B.;  citation_journal_title=Genomics;  citation_year=2011b;  citation_volume=98;  citation_pages=310-317; \" /><meta name=\"citation_reference\" content=\"citation_title=Accurate multiple sequence alignment of transmembrane proteins with PSI-Coffee; citation_author=Chang  J.M.;  citation_journal_title=BMC Bioinformatics;  citation_year=2012;  citation_volume=13;  citation_pages=S1\" /><meta name=\"citation_reference\" content=\"citation_title=Representative proteomes: a stable, scalable and unbiased proteome set for sequence analysis and functional annotation; citation_author=Chen  C.;  citation_journal_title=PLoS One;  citation_year=2011;  citation_volume=6;  citation_pages=e18910\" /><meta name=\"citation_reference\" content=\"citation_title=A computational screen for type I polyketide synthases in metagenomics shotgun data; citation_author=Foerstner  K.U.;  citation_journal_title=PLoS One;  citation_year=2008;  citation_volume=3;  citation_pages=e3515\" /><meta name=\"citation_reference\" content=\"citation_title=Use of receiver operating characteristic (ROC) analysis to evaluate sequence matching; citation_author=Gribskov  M.; citation_author=Robinson  N.L.;  citation_journal_title=Comput. Chem.;  citation_year=1996;  citation_volume=20;  citation_pages=25-33; \" /><meta name=\"citation_reference\" content=\"citation_title=InterPro in 2011: new developments in the family and domain prediction database; citation_author=Hunter  S.;  citation_journal_title=Nucleic Acids Res.;  citation_year=2012;  citation_volume=40;  citation_pages=D306-D312; \" /><meta name=\"citation_reference\" content=\"citation_title=Clustering of database sequences for fast homology search using upper bounds on alignment score; citation_author=Itoh  M.;  citation_journal_title=Genome Informatics;  citation_year=2004;  citation_volume=15;  citation_pages=93-104; \" /><meta name=\"citation_reference\" content=\"citation_title=The properties of protein family space depend on experimental design; citation_author=Kunin  V.;  citation_journal_title=Bioinformatics;  citation_year=2005;  citation_volume=21;  citation_pages=2618-2622; \" /><meta name=\"citation_reference\" content=\"citation_title=Identification and distribution of protein families in 120 completed genomes using Gene 3D; citation_author=Lee  D.;  citation_journal_title=Proteins;  citation_year=2005;  citation_volume=59;  citation_pages=603-615; \" /><meta name=\"citation_reference\" content=\"citation_title=Cd-hit: a fast program for clustering and comparing large sets of protein or nucleotide sequences; citation_author=Li  W.; citation_author=Godzik  A.;  citation_journal_title=Bioinformatics;  citation_year=2006;  citation_volume=22;  citation_pages=1658-1659; \" /><meta name=\"citation_reference\" content=\"citation_title=Clustering of highly homologous sequences to reduce the size of large protein databases; citation_author=Li  W.;  citation_journal_title=Bioinformatics;  citation_year=2001;  citation_volume=17;  citation_pages=282-283; \" /><meta name=\"citation_reference\" content=\"citation_title=Sequence clustering strategies improve remote homology recognitions while reducing search times; citation_author=Li  W.;  citation_journal_title=Protein Eng.;  citation_year=2002;  citation_volume=15;  citation_pages=643-649; \" /><meta name=\"citation_reference\" content=\"citation_title=Efficient algorithms for accurate hierarchical clustering of huge datasets: tackling the entire protein space; citation_author=Loewenstein  Y.;  citation_journal_title=Bioinformatics;  citation_year=2008;  citation_volume=24;  citation_pages=i41-49; \" /><meta name=\"citation_reference\" content=\"citation_title=Quantifying protein function specificity in the gene ontology; citation_author=Louie  B.;  citation_journal_title=Stand. Genomic Sci.;  citation_year=2010;  citation_volume=2;  citation_pages=238-244; \" /><meta name=\"citation_reference\" content=\"citation_title=The dominance of the population by a selected few: power-law behaviour applies to a wide variety of genomic properties; citation_author=Luscombe  N.M.;  citation_journal_title=Genome Biol.;  citation_year=2002;  citation_volume=3;  citation_pages=RESEARCH0040\" /><meta name=\"citation_reference\" content=\"citation_title=Increasing sequence search sensitivity with transitive alignments; citation_author=Malde  K.; citation_author=Furmanek  T.;  citation_journal_title=PLoS One;  citation_year=2013;  citation_volume=8;  citation_pages=e54422\" /><meta name=\"citation_reference\" content=\"citation_title=RSDB: representative protein sequence databases have high information content; citation_author=Park  J.;  citation_journal_title=Bioinformatics;  citation_year=2000;  citation_volume=16;  citation_pages=458-464; \" /><meta name=\"citation_reference\" content=\"citation_title=The Pfam protein families database; citation_author=Punta  M.;  citation_journal_title=Nucleic Acids Res.;  citation_year=2012;  citation_volume=40;  citation_pages=D290-D301; \" /><meta name=\"citation_reference\" content=\"citation_title=The Gene Ontology’s Reference Genome Project: a unified framework for functional annotation across species; citation_author=Reference Genome Group of the Gene Ontology Consortium;  citation_journal_title=PLoS Comput. Biol.;  citation_year=2009;  citation_volume=5;  citation_pages=e1000431\" /><meta name=\"citation_reference\" content=\"citation_title=Gene duplication and the origins of morphological complexity in pancrustacean eyes, a genomic approach; citation_author=Rivera  A.S.;  citation_journal_title=BMC Evol. Biol.;  citation_year=2010;  citation_volume=10;  citation_pages=123\" /><meta name=\"citation_reference\" content=\"citation_title=Fast, scalable generation of high-quality protein multiple sequence alignments using Clustal Omega; citation_author=Sievers  F.;  citation_journal_title=Mol. Syst. Biol.;  citation_year=2011;  citation_volume=7;  citation_pages=539\" /><meta name=\"citation_reference\" content=\"citation_title=SIFT web server: predicting effects of amino acid substitutions on proteins; citation_author=Sim  N.L.;  citation_journal_title=Nucleic Acids Res.;  citation_year=2012;  citation_volume=40;  citation_issue=Web Server issue;  citation_pages=W452-W457; \" /><meta name=\"citation_reference\" content=\"citation_title=UniRef: comprehensive and non-redundant UniProt reference clusters; citation_author=Suzek  B.E.;  citation_journal_title=Bioinformatics;  citation_year=2007;  citation_volume=23;  citation_pages=1282-1288; \" /><meta name=\"citation_reference\" content=\"citation_title=Update on activities at the Universal Protein Resource (UniProt) in 2013; citation_author=UniProt  C.;  citation_journal_title=Nucleic Acids Res.;  citation_year=2013;  citation_volume=41;  citation_pages=D43-D47; \" /><meta name=\"citation_reference\" content=\"citation_title=VIROME: a standard operating procedure for analysis of viral metagenome sequences; citation_author=Wommack  K.E.;  citation_journal_title=Stand. Genomic Sci.;  citation_year=2012;  citation_volume=6;  citation_pages=427-439; \" /><meta name=\"citation_reference\" content=\"citation_title=PIRSF: family classification system at the Protein Information Resource; citation_author=Wu  C.H.;  citation_journal_title=Nucleic Acids Res.;  citation_year=2004;  citation_volume=32;  citation_pages=D112-D114; \" /><meta name=\"citation_fulltext_world_readable\" content=\"\" /><meta name=\"citation_pdf_url\" content=\"https://academic.oup.com/bioinformatics/article-pdf/31/6/926/569379/btu739.pdf\" /><meta name=\"description\" content=\"Abstract. Motivation: UniRef databases provide full-scale clustering of UniProtKB sequences and are utilized for a broad range of applications, particularly sim\" /><meta name=\"citation_xml_url\" content=\"https://academic.oup.com/bioinformatics/article-xml/31/6/926/214968\" />\\r\\n\\r\\n\\r\\n\\r\\n    <link rel=\"canonical\" href=\"https://academic.oup.com/bioinformatics/article/31/6/926/214968\" />\\r\\n\\r\\n\\r\\n\\r\\n\\r\\n\\r\\n\\r\\n\\r\\n\\r\\n    \\r\\n    \\r\\n\\r\\n\\r\\n<script async=\"async\" src=\"https://www.googletagservices.com/tag/js/gpt.js\"></script>\\r\\n<script>\\r\\n    var googletag = googletag || {};\\r\\n    googletag.cmd = googletag.cmd || [];\\r\\n</script>\\r\\n    \\r\\n        <script type=\\'text/javascript\\'>\\r\\n            var gptAdSlots = [];\\r\\n            googletag.cmd.push(function() {\\r\\n                    \\r\\n                    var mapping_ad1 = googletag.sizeMapping()\\r\\n                        .addSize([1024, 0], [[970, 90], [728, 90]])\\r\\n                        .addSize([768, 0], [728, 90])\\r\\n                        .addSize([0, 0], [320, 50])\\r\\n                        .build();\\r\\n                    gptAdSlots[\"ad1\"] = googletag.defineSlot(\\'/116097782/bioinformatics_Behind_Ad1\\',\\r\\n                            [[970, 90], [728, 90], [320, 50]], \\'adBlockHeader\\')\\r\\n                        .defineSizeMapping(mapping_ad1)\\r\\n                        .addService(googletag.pubads());\\r\\n                    \\r\\n\\r\\n                    \\r\\n                    var mapping_ad2 = googletag.sizeMapping()\\r\\n                        .addSize([768, 0], [[300, 250], [300, 600], [160, 600]])\\r\\n                        .build();\\r\\n                    gptAdSlots[\"ad2\"] = googletag.defineSlot(\\'/116097782/bioinformatics_Behind_Ad2\\',\\r\\n                            [[300, 250], [160, 600], [300, 600]], \\'adBlockMainBodyTop\\')\\r\\n                        .defineSizeMapping(mapping_ad2)\\r\\n                        .addService(googletag.pubads());\\r\\n                    \\r\\n\\r\\n                    \\r\\n                    var mapping_ad3 = googletag.sizeMapping()\\r\\n                        .addSize([768, 0], [[300, 250], [300, 600], [160, 600]])\\r\\n                        .build();\\r\\n                    gptAdSlots[\"ad3\"] = googletag.defineSlot(\\'/116097782/bioinformatics_Behind_Ad3\\',\\r\\n                        [[300, 250], [160, 600], [300, 600]], \\'adBlockMainBodyBottom\\')\\r\\n                        .defineSizeMapping(mapping_ad3)\\r\\n                        .addService(googletag.pubads());\\r\\n                    \\r\\n\\r\\n                    \\r\\n                var mapping_ad4 = googletag.sizeMapping()\\r\\n                        .addSize([0,0], [320, 50])\\r\\n                        .addSize([768, 0], [728, 90])\\r\\n                        .build();\\r\\n                    gptAdSlots[\"ad4\"] = googletag.defineSlot(\\'/116097782/bioinformatics_Behind_Ad4\\',\\r\\n                        [728, 90], \\'adBlockFooter\\')\\r\\n                        .defineSizeMapping(mapping_ad4)\\r\\n                        .addService(googletag.pubads());\\r\\n                    \\r\\n\\r\\n                googletag.pubads().addEventListener(\\'slotRenderEnded\\', function (event) {\\r\\n                    if (!event.isEmpty) {\\r\\n                        $(\\'.js-\\' + event.slot.getSlotElementId()).each(function () {\\r\\n                            if ($(this).find(\\'iframe\\').length) {\\r\\n                                $(this).removeClass(\\'hide\\');\\r\\n                            }\\r\\n                        });\\r\\n                    }\\r\\n                });\\r\\n\\r\\n                googletag.pubads().addEventListener(\\'impressionViewable\\', function (event) {\\r\\n                    if (!event.isEmpty) {\\r\\n                        $(\\'.js-\\' + event.slot.getSlotElementId()).each(function () {\\r\\n                            var $adblockDiv = $(this).find(\\'.js-adblock\\');\\r\\n                            var $adText = $(this).find(\\'.js-adblock-advertisement-text\\');\\r\\n                            if ($adblockDiv && $adblockDiv.is(\\':visible\\') && $adblockDiv.find(\\'*\\').length > 1) {\\r\\n                                $adText.removeClass(\\'hide\\');\\r\\n                            }\\r\\n                            else {\\r\\n                                $adText.addClass(\\'hide\\');\\r\\n                            }\\r\\n                        });\\r\\n                    }\\r\\n                });\\r\\n\\r\\n                googletag.pubads().setTargeting(\"jnlspage\", \"article\");\\r\\n                googletag.pubads().setTargeting(\"jnlsurl\", \"bioinformatics/article/31/6/926/214968\");\\r\\n                googletag.pubads().enableSingleRequest();\\r\\n                googletag.pubads().collapseEmptyDivs();\\r\\n            });\\r\\n        </script>\\r\\n    \\r\\n\\r\\n\\r\\n    \\r\\n    \\r\\n    \\r\\n        <script type=\"text/javascript\">\\r\\n                googletag.cmd.push(function () {\\r\\n                    \\r\\n                    googletag.pubads().setTargeting(\"jnlsdoi\", \"10.1093/bioinformatics/btu739\");\\r\\n                    googletag.enableServices();\\r\\n                });\\r\\n        </script>\\r\\n\\r\\n\\r\\n\\r\\n\\r\\n    \\r\\n\\r\\n\\r\\n    <script>\\r\\n        var oupcookiepolicy_siteid = \"journals\";        // the website id\\r\\n        var oupcookiepolicy_messagetype = \\'implied\\';                        // type of alert message e.g, implied / explicit\\r\\n        var oupcookiepolicy_preferredlanguage = \"en\";      // preferred language of the website\\r\\n        var oupcookiepolicy_impliedmessageclass = \\'cookiepolicyimplied\\';    // the css class for implied alert message\\r\\n        var oupcookiepolicy_documentroot = \\'/\\';\\t  \\t\\t\\t                // the document root the cookie is set to\\r\\n    </script>\\r\\n    <noscript>We use cookies to enhance your experience on our website.By continuing to use our website, you are agreeing to our use of cookies. You can change your cookie settings at any time. <a href=\"https://global.oup.com/cookiepolicy/\"> Find out more</a></noscript>\\r\\n    <script type=\"text/javascript\">\\r\\n        var NTPT_PGEXTRA= \\'event_type=full-text&supplier_tag=SC_Journals&object_type=Article&siteid=bioinformatics&authentication_method=IP&authzrequired=false&account_id=2763981&account_list=2763981,2891860&authnips=193.62.194.241&doi=10.1093/bioinformatics/btu739\\';\\r\\n    </script>\\r\\n\\r\\n\\r\\n\\r\\n\\r\\n    <script src=\"https://scholar.google.com/scholar_js/casa.js\" async></script>\\r\\n\\r\\n</head>\\r\\n\\r\\n<body data-sitename=\"bioinformatics\" class=\"off-canvas pg_Article pg_article   \" theme-bioinformatics data-sitestyletemplate=\"Journal\" >\\r\\n            <noscript>\\r\\n                <iframe src=\"https://www.googletagmanager.com/ns.html?id=GTM-W6DD7HV\"\\r\\n                        height=\"0\" width=\"0\" style=\"display:none;visibility:hidden\"></iframe>\\r\\n            </noscript>\\r\\n            <a href=\"#skipNav\" class=\"skipnav\">Skip to Main Content</a>\\r\\n<input id=\"hdnSiteID\" name=\"hdnSiteID\" type=\"hidden\" value=\"5139\" /><input id=\"hdnAdDelaySeconds\" name=\"hdnAdDelaySeconds\" type=\"hidden\" value=\"7000\" /><input id=\"hdnAdConfigurationTop\" name=\"hdnAdConfigurationTop\" type=\"hidden\" value=\"default\" /><input id=\"hdnAdConfigurationRightRail\" name=\"hdnAdConfigurationRightRail\" type=\"hidden\" value=\"sticky\" />\\r\\n    \\r\\n\\r\\n\\r\\n\\r\\n\\r\\n\\r\\n\\r\\n<div class=\"master-container js-master-container\">\\r\\n<section class=\"master-header row js-master-header vt-site-page-header\">\\r\\n    <div class=\"widget widget-SitePageHeader widget-instance-SitePageHeader\">\\r\\n        \\r\\n\\r\\n    <div class=\"ad-banner js-ad-banner-header\">\\r\\n    <div class=\"widget widget-AdBlock widget-instance-HeaderAd\">\\r\\n        <div class=\"adBlockHeader-wrap js-adBlockHeader hide\">\\r\\n    \\r\\n    <div id=\"adBlockHeader\" class=\"js-adblock at-adblock\">\\r\\n        <script>\\r\\n            \\r\\n            googletag.cmd.push(function () {\\r\\n                googletag.display(\\'adBlockHeader\\');\\r\\n            });\\r\\n        </script>\\r\\n    </div>\\r\\n        <div class=\"advertisement-text js-adblock-advertisement-text hide\">Advertisement</div>\\r\\n</div> \\r\\n    </div>\\r\\n\\r\\n    </div>\\r\\n\\r\\n    <div class=\"oup-header  \">\\r\\n        <div class=\"center-inner-row\">\\r\\n\\r\\n<div class=\"oup-header-logo\">\\r\\n    <a href=\"/\">\\r\\n        <img src=\"//oup.silverchair-cdn.com/UI/app/svg/umbrella/oxford-academic-logo.svg\" alt=\"Oxford Academic\"\\r\\n             class=\"oup-header-image at-oup-header-image \" />\\r\\n    </a>\\r\\n</div>                        <ul class=\"oup-header-menu account-menu  \">\\r\\n\\r\\n                \\r\\n                <li class=\"oup-header-menu-item mobile\">\\r\\n                    <a href=\"javascript:;\" class=\"mobile-dropdown-toggle mobile-search-toggle\">\\r\\n                        <i class=\"icon-menu_search\"><span class=\"screenreader-text\">Search Menu</span></i>\\r\\n                    </a>\\r\\n                </li>\\r\\n\\r\\n                \\r\\n                \\r\\n                    <li class=\"oup-header-menu-item mobile account-icon-menu-item\">\\r\\n                        <a href=\"javascript:;\" class=\"mobile-dropdown-toggle mobile-account-toggle\">\\r\\n                            <i class=\"icon-menu_account\"><span class=\"screenreader-text\">Account Menu</span></i>\\r\\n                        </a>\\r\\n                    </li>\\r\\n\\r\\n                \\r\\n                <li class=\"oup-header-menu-item mobile\">\\r\\n                    <a href=\"javascript:;\" class=\"mobile-dropdown-toggle mobile-nav-toggle\">\\r\\n                        <i class=\"icon-menu_hamburger\"><span class=\"screenreader-text\">Menu</span></i>\\r\\n                    </a>\\r\\n                </li>\\r\\n\\r\\n                \\r\\n                    <li class=\"oup-header-menu-item desktop\">\\r\\n                        \\r\\n                            <a href=\"\" class=\"dropdown-toggle institution\">Wellcome Genome Campus <i class=\"icon-general-arrow-filled-down arrow-icon\"></i></a>\\r\\n                        <div class=\"dropdown-panel dropdown-panel-institution\">\\r\\n                            \\r\\n                            <div class=\"dropdown-menu\">\\r\\n                                <ul>\\r\\n\\r\\n                                        <li class=\"dropdown-institution-item\">\\r\\n<a href=\"https://helix.wtgc.org/content/library-and-information-services\">\\r\\n                                                <div class=\"text-center\"><img src=\"https://oup.silverchair-cdn.com/Images/InstLogo/10295687_inst_logo_4817.jpg\" alt=\"Wellcome Genome Campus\" /></div>\\r\\n\\r\\n</a>                                        </li>\\r\\n\\r\\n                                </ul>\\r\\n\\r\\n                            </div>\\r\\n                        </div>\\r\\n                    </li>\\r\\n                \\r\\n                    <li class=\"oup-header-menu-item desktop account-icon-menu-item\">\\r\\n                        \\r\\n                        <a href=\"\" class=\"dropdown-toggle signin js-header-account-info-user-fullname\" id=\"header-account-info-user-fullname-desktop\">\\r\\nSign In                            <i class=\"icon-general-arrow-filled-down arrow-icon\"></i>\\r\\n                        </a>\\r\\n                        <div class=\"dropdown-panel dropdown-panel-signin dropdown-panel-form\">\\r\\n                            <div class=\"spinner\"></div>\\r\\n                        </div>\\r\\n                    </li>\\r\\n\\r\\n                \\r\\n                    <li class=\"oup-header-menu-item desktop\"><a href=\"/my-account/register?siteId=5139&amp;returnUrl=%2fbioinformatics%2farticle%2f31%2f6%2f926%2f214968\" class=\"register\">Register</a></li>\\r\\n                \\r\\n            </ul>\\r\\n\\r\\n            <div class=\"login-box-placeholder js-login-box-placeholder hide\">\\r\\n                <div class=\"spinner\"></div>\\r\\n            </div>\\r\\n        </div>\\r\\n    </div>\\r\\n<div class=\"dropdown-panel-wrap\">\\r\\n\\r\\n    \\r\\n    <div class=\"dropdown-panel mobile-search-dropdown\">\\r\\n        <div class=\"mobile-search-inner-wrap\">\\r\\n                <div class=\"navbar-search\">\\r\\n                    <div id=\"MobileMicrositeSearch\" class=\"mobile-microsite-search\">\\r\\n                        <label for=\"mobile-navbar-search-filter\" class=\"screenreader-text\">Navbar Search Filter</label>\\r\\n                        <select class=\"mobile-navbar-search-filter\" id=\"mobile-navbar-search-filter\">\\r\\n                                                            <optgroup label=\"Search within this journal\">\\r\\n<option class=\"header-search-bar-filters-item\" value=\"Issue\">This issue</option><option class=\"header-search-bar-filters-item\" value=\"\">All  Bioinformatics</option>\\r\\n                                </optgroup>\\r\\n                                <optgroup label=\"Search beyond this journal\">\\r\\n<option class=\"header-search-bar-filters-item\" value=\"Parent\">All  Bioinformatics Journals</option><option class=\"header-search-bar-filters-item\" value=\"Journals\">All  Journals</option>                                </optgroup>\\r\\n                        </select>\\r\\n\\r\\n\\r\\n\\r\\n\\r\\n\\r\\n                        <label for=\"MobileMicrositeSearchTerm\" class=\"screenreader-text\">Mobile Microsite Search Term</label>\\r\\n                        <input class=\"mobile-search-input mobile-microsite-search-term at-microsite-search-term\" type=\"text\" maxlength=\"255\" placeholder=\"Search\" id=\"MobileMicrositeSearchTerm\">\\r\\n\\r\\n                        <a href=\"javascript:;\" id=\"MobileMicrositeSearchIcon\" class=\"mobile-microsite-search-icon mobile-search-submit icon-menu_search\"><span class=\"screenreader-text\">Search</span></a>\\r\\n\\r\\n                    </div>\\r\\n                </div>        </div>\\r\\n    </div>\\r\\n    \\r\\n    <div class=\"dropdown-panel mobile-account-dropdown\">\\r\\n        <ul class=\"site-menu site-menu-lvl-0\">\\r\\n            <li class=\"site-menu-item site-menu-lvl-0\">\\r\\n                <a href=\"\" class=\"nav-link mobile-account-signin js-nav-dropdown js-header-account-info-user-fullname\" id=\"header-account-info-user-fullname-mobile\">\\r\\n                    \\r\\nSign In                    <i class=\"mobile-nav-arrow icon-general_arrow-down\"></i>\\r\\n                </a>\\r\\n                <ul class=\"site-menu site-menu-lvl-1 individual-menu\">\\r\\n                    <li class=\"dropdown-signin-form\">\\r\\n                        <div class=\"spinner\"></div>\\r\\n                    </li>\\r\\n                </ul>\\r\\n            </li>\\r\\n                <li class=\"site-menu-item site-menu-lvl-0\">\\r\\n                        <a href=\"javascript:;\" class=\"nav-link mobile-account-institution js-nav-dropdown\">\\r\\n                            Wellcome Genome Campus\\r\\n                        </a>\\r\\n\\r\\n                    <i class=\"mobile-nav-arrow icon-general_arrow-down\"></i>\\r\\n                    <ul class=\"site-menu site-menu-lvl-1\">\\r\\n                            <li class=\"dropdown-institution-item\">\\r\\n<a href=\"https://helix.wtgc.org/content/library-and-information-services\">\\r\\n                                    <img src=\"https://oup.silverchair-cdn.com/Images/InstLogo/10295687_inst_logo_4817.jpg\" alt=\"Wellcome Genome Campus\" />\\r\\n\\r\\n</a>                            </li>\\r\\n\\r\\n                        <li class=\"dropdown-institution-signout\">\\r\\n                        </li>\\r\\n                    </ul>\\r\\n                </li>\\r\\n                            <li class=\"site-menu-item\">\\r\\n                    <a href=\"/my-account/register?siteId=5139&amp;returnUrl=%2fbioinformatics%2farticle%2f31%2f6%2f926%2f214968\" class=\"register nav-link\">Register</a>\\r\\n                </li>\\r\\n        </ul>\\r\\n    </div>\\r\\n    \\r\\n    <div class=\"dropdown-panel mobile-nav-dropdown\">\\r\\n\\r\\n\\r\\n    <ul class=\"site-menu site-menu-lvl-0 at-site-menu\">\\r\\n        <li class=\"site-menu-item site-menu-lvl-0 at-site-menu-item\" id=\"site-menu-item-1496756\">\\r\\n\\r\\n                <a href=\"/bioinformatics/issue\" class=\"nav-link\">\\r\\n                    Issues\\r\\n                </a>\\r\\n            \\r\\n        </li>\\r\\n        <li class=\"site-menu-item site-menu-lvl-0 at-site-menu-item\" id=\"site-menu-item-1496757\">\\r\\n\\r\\n                <a href=\"/bioinformatics/advance-articles\" class=\"nav-link\">\\r\\n                    Advance articles\\r\\n                </a>\\r\\n            \\r\\n        </li>\\r\\n        <li class=\"site-menu-item site-menu-lvl-0 at-site-menu-item\" id=\"site-menu-item-1496754\">\\r\\n\\r\\n                <a href=\"javascript:;\" class=\"nav-link js-nav-dropdown at-nav-dropdown\" role=\"button\" aria-expanded=\"false\">\\r\\n                    Submit\\r\\n                    <i class=\"desktop-nav-arrow icon-general-arrow-filled-down arrow-icon\"></i>\\r\\n                </a>\\r\\n                <i class=\"mobile-nav-arrow icon-general_arrow-down\"></i>\\r\\n                <ul class=\"site-menu site-menu-lvl-1 at-site-menu\">\\r\\n        <li class=\"site-menu-item site-menu-lvl-1 at-site-menu-item\" id=\"site-menu-item-1496758\">\\r\\n\\r\\n                <a href=\"/bioinformatics/pages/instructions_for_authors \" class=\"nav-link\">\\r\\n                    Author Guidelines\\r\\n                </a>\\r\\n            \\r\\n        </li>\\r\\n        <li class=\"site-menu-item site-menu-lvl-1 at-site-menu-item\" id=\"site-menu-item-1496759\">\\r\\n\\r\\n                <a href=\"http://mc.manuscriptcentral.com/bioinformatics\" class=\"nav-link\">\\r\\n                    Submission Site\\r\\n                </a>\\r\\n            \\r\\n        </li>\\r\\n        <li class=\"site-menu-item site-menu-lvl-1 at-site-menu-item\" id=\"site-menu-item-1496760\">\\r\\n\\r\\n                <a href=\"/bioinformatics/pages/General_Instructions\" class=\"nav-link\">\\r\\n                    Open Access\\r\\n                </a>\\r\\n            \\r\\n        </li>\\r\\n            </ul>\\r\\n\\r\\n        </li>\\r\\n        <li class=\"site-menu-item site-menu-lvl-0 at-site-menu-item\" id=\"site-menu-item-1496761\">\\r\\n\\r\\n                <a href=\"/bioinformatics/subscribe\" class=\"nav-link\">\\r\\n                    Purchase\\r\\n                </a>\\r\\n            \\r\\n        </li>\\r\\n        <li class=\"site-menu-item site-menu-lvl-0 at-site-menu-item\" id=\"site-menu-item-1496762\">\\r\\n\\r\\n                <a href=\"/my-account/email-alerts\" class=\"nav-link\">\\r\\n                    Alerts\\r\\n                </a>\\r\\n            \\r\\n        </li>\\r\\n        <li class=\"site-menu-item site-menu-lvl-0 at-site-menu-item\" id=\"site-menu-item-1496755\">\\r\\n\\r\\n                <a href=\"javascript:;\" class=\"nav-link js-nav-dropdown at-nav-dropdown\" role=\"button\" aria-expanded=\"false\">\\r\\n                    About\\r\\n                    <i class=\"desktop-nav-arrow icon-general-arrow-filled-down arrow-icon\"></i>\\r\\n                </a>\\r\\n                <i class=\"mobile-nav-arrow icon-general_arrow-down\"></i>\\r\\n                <ul class=\"site-menu site-menu-lvl-1 at-site-menu\">\\r\\n        <li class=\"site-menu-item site-menu-lvl-1 at-site-menu-item\" id=\"site-menu-item-1496763\">\\r\\n\\r\\n                <a href=\"/bioinformatics/pages/About\" class=\"nav-link\">\\r\\n                    About Bioinformatics\\r\\n                </a>\\r\\n            \\r\\n        </li>\\r\\n        <li class=\"site-menu-item site-menu-lvl-1 at-site-menu-item\" id=\"site-menu-item-1496764\">\\r\\n\\r\\n                <a href=\"http://science-and-mathematics-careernetwork.oxfordjournals.org/jobseeker/search/results/?t730=&amp;t732=470053&amp;t731=&amp;t733=&amp;t735=&amp;t737=&amp;max=25&amp;site_id=20106&amp;search=\" class=\"nav-link\">\\r\\n                    Journals Career Network\\r\\n                </a>\\r\\n            \\r\\n        </li>\\r\\n        <li class=\"site-menu-item site-menu-lvl-1 at-site-menu-item\" id=\"site-menu-item-1496765\">\\r\\n\\r\\n                <a href=\"/bioinformatics/pages/Editorial_Board\" class=\"nav-link\">\\r\\n                    Editorial Board\\r\\n                </a>\\r\\n            \\r\\n        </li>\\r\\n        <li class=\"site-menu-item site-menu-lvl-1 at-site-menu-item\" id=\"site-menu-item-1496766\">\\r\\n\\r\\n                <a href=\"http://www.oupmediainfo.com/\" class=\"nav-link\">\\r\\n                    Advertising and Corporate Services\\r\\n                </a>\\r\\n            \\r\\n        </li>\\r\\n        <li class=\"site-menu-item site-menu-lvl-1 at-site-menu-item\" id=\"site-menu-item-1496767\">\\r\\n\\r\\n                <a href=\"https://academic.oup.com/journals/pages/access_purchase/rights_and_permissions/self_archiving_policy_b\" class=\"nav-link\">\\r\\n                    Self-Archiving Policy\\r\\n                </a>\\r\\n            \\r\\n        </li>\\r\\n        <li class=\"site-menu-item site-menu-lvl-1 at-site-menu-item\" id=\"site-menu-item-1496768\">\\r\\n\\r\\n                <a href=\"http://www.oxfordjournals.org/en/access-purchase/dispatch-dates.html\" class=\"nav-link\">\\r\\n                    Dispatch Dates\\r\\n                </a>\\r\\n            \\r\\n        </li>\\r\\n            </ul>\\r\\n\\r\\n        </li>\\r\\n            </ul>\\r\\n    </div>\\r\\n\\r\\n</div>\\r\\n\\r\\n    <div class=\"journal-header journal-bg\">\\r\\n        <div class=\"center-inner-row\">\\r\\n                            <a href=\"/bioinformatics\" class=\"journal-logo-container\">\\r\\n                    <img id=\"logo-Bioinformatics\" class=\"journal-logo\" src=\"//oup.silverchair-cdn.com/data/SiteBuilderAssets/Live/Images/bioinformatics/bioinformatics_title-205396838.svg\" alt=\"Bioinformatics\" />\\r\\n                </a>\\r\\n\\r\\n            <div class=\"society-logo-block\">\\r\\n                    <div class=\"society-block-inner-wrap\">\\r\\n                            <a href=\"http://www.iscb.org/\" target=\"\" class=\"society-logo-container\">\\r\\n                                <img id=\"logo-InternationalSocietyforComputationalBiology\" class=\"society-logo\" src=\"//oup.silverchair-cdn.com/data/SiteBuilderAssets/Live/Images/bioinformatics/bioinformatics_h11820233911.svg\" alt=\"International Society for Computational Biology\" />\\r\\n                            </a>\\r\\n                                            </div>            </div> \\r\\n        </div>\\r\\n    </div>\\r\\n<div class=\"navbar\">\\r\\n    <div class=\"center-inner-row\">\\r\\n        <nav class=\"navbar-menu\">\\r\\n\\r\\n\\r\\n    <ul class=\"site-menu site-menu-lvl-0 at-site-menu\">\\r\\n        <li class=\"site-menu-item site-menu-lvl-0 at-site-menu-item\" id=\"site-menu-item-1496756\">\\r\\n\\r\\n                <a href=\"/bioinformatics/issue\" class=\"nav-link\">\\r\\n                    Issues\\r\\n                </a>\\r\\n            \\r\\n        </li>\\r\\n        <li class=\"site-menu-item site-menu-lvl-0 at-site-menu-item\" id=\"site-menu-item-1496757\">\\r\\n\\r\\n                <a href=\"/bioinformatics/advance-articles\" class=\"nav-link\">\\r\\n                    Advance articles\\r\\n                </a>\\r\\n            \\r\\n        </li>\\r\\n        <li class=\"site-menu-item site-menu-lvl-0 at-site-menu-item\" id=\"site-menu-item-1496754\">\\r\\n\\r\\n                <a href=\"javascript:;\" class=\"nav-link js-nav-dropdown at-nav-dropdown\" role=\"button\" aria-expanded=\"false\">\\r\\n                    Submit\\r\\n                    <i class=\"desktop-nav-arrow icon-general-arrow-filled-down arrow-icon\"></i>\\r\\n                </a>\\r\\n                <i class=\"mobile-nav-arrow icon-general_arrow-down\"></i>\\r\\n                <ul class=\"site-menu site-menu-lvl-1 at-site-menu\">\\r\\n        <li class=\"site-menu-item site-menu-lvl-1 at-site-menu-item\" id=\"site-menu-item-1496758\">\\r\\n\\r\\n                <a href=\"/bioinformatics/pages/instructions_for_authors \" class=\"nav-link\">\\r\\n                    Author Guidelines\\r\\n                </a>\\r\\n            \\r\\n        </li>\\r\\n        <li class=\"site-menu-item site-menu-lvl-1 at-site-menu-item\" id=\"site-menu-item-1496759\">\\r\\n\\r\\n                <a href=\"http://mc.manuscriptcentral.com/bioinformatics\" class=\"nav-link\">\\r\\n                    Submission Site\\r\\n                </a>\\r\\n            \\r\\n        </li>\\r\\n        <li class=\"site-menu-item site-menu-lvl-1 at-site-menu-item\" id=\"site-menu-item-1496760\">\\r\\n\\r\\n                <a href=\"/bioinformatics/pages/General_Instructions\" class=\"nav-link\">\\r\\n                    Open Access\\r\\n                </a>\\r\\n            \\r\\n        </li>\\r\\n            </ul>\\r\\n\\r\\n        </li>\\r\\n        <li class=\"site-menu-item site-menu-lvl-0 at-site-menu-item\" id=\"site-menu-item-1496761\">\\r\\n\\r\\n                <a href=\"/bioinformatics/subscribe\" class=\"nav-link\">\\r\\n                    Purchase\\r\\n                </a>\\r\\n            \\r\\n        </li>\\r\\n        <li class=\"site-menu-item site-menu-lvl-0 at-site-menu-item\" id=\"site-menu-item-1496762\">\\r\\n\\r\\n                <a href=\"/my-account/email-alerts\" class=\"nav-link\">\\r\\n                    Alerts\\r\\n                </a>\\r\\n            \\r\\n        </li>\\r\\n        <li class=\"site-menu-item site-menu-lvl-0 at-site-menu-item\" id=\"site-menu-item-1496755\">\\r\\n\\r\\n                <a href=\"javascript:;\" class=\"nav-link js-nav-dropdown at-nav-dropdown\" role=\"button\" aria-expanded=\"false\">\\r\\n                    About\\r\\n                    <i class=\"desktop-nav-arrow icon-general-arrow-filled-down arrow-icon\"></i>\\r\\n                </a>\\r\\n                <i class=\"mobile-nav-arrow icon-general_arrow-down\"></i>\\r\\n                <ul class=\"site-menu site-menu-lvl-1 at-site-menu\">\\r\\n        <li class=\"site-menu-item site-menu-lvl-1 at-site-menu-item\" id=\"site-menu-item-1496763\">\\r\\n\\r\\n                <a href=\"/bioinformatics/pages/About\" class=\"nav-link\">\\r\\n                    About Bioinformatics\\r\\n                </a>\\r\\n            \\r\\n        </li>\\r\\n        <li class=\"site-menu-item site-menu-lvl-1 at-site-menu-item\" id=\"site-menu-item-1496764\">\\r\\n\\r\\n                <a href=\"http://science-and-mathematics-careernetwork.oxfordjournals.org/jobseeker/search/results/?t730=&amp;t732=470053&amp;t731=&amp;t733=&amp;t735=&amp;t737=&amp;max=25&amp;site_id=20106&amp;search=\" class=\"nav-link\">\\r\\n                    Journals Career Network\\r\\n                </a>\\r\\n            \\r\\n        </li>\\r\\n        <li class=\"site-menu-item site-menu-lvl-1 at-site-menu-item\" id=\"site-menu-item-1496765\">\\r\\n\\r\\n                <a href=\"/bioinformatics/pages/Editorial_Board\" class=\"nav-link\">\\r\\n                    Editorial Board\\r\\n                </a>\\r\\n            \\r\\n        </li>\\r\\n        <li class=\"site-menu-item site-menu-lvl-1 at-site-menu-item\" id=\"site-menu-item-1496766\">\\r\\n\\r\\n                <a href=\"http://www.oupmediainfo.com/\" class=\"nav-link\">\\r\\n                    Advertising and Corporate Services\\r\\n                </a>\\r\\n            \\r\\n        </li>\\r\\n        <li class=\"site-menu-item site-menu-lvl-1 at-site-menu-item\" id=\"site-menu-item-1496767\">\\r\\n\\r\\n                <a href=\"https://academic.oup.com/journals/pages/access_purchase/rights_and_permissions/self_archiving_policy_b\" class=\"nav-link\">\\r\\n                    Self-Archiving Policy\\r\\n                </a>\\r\\n            \\r\\n        </li>\\r\\n        <li class=\"site-menu-item site-menu-lvl-1 at-site-menu-item\" id=\"site-menu-item-1496768\">\\r\\n\\r\\n                <a href=\"http://www.oxfordjournals.org/en/access-purchase/dispatch-dates.html\" class=\"nav-link\">\\r\\n                    Dispatch Dates\\r\\n                </a>\\r\\n            \\r\\n        </li>\\r\\n            </ul>\\r\\n\\r\\n        </li>\\r\\n            </ul>\\r\\n        </nav>\\r\\n            <div class=\"navbar-search-container js-navbar-search-container\">\\r\\n                <a href=\"javascript:;\" class=\"navbar-search-close js_close-navsearch\">Close</a>\\r\\n                    <div class=\"navbar-search\">\\r\\n                        <div class=\"microsite-search\">\\r\\n                            <label for=\"navbar-search-filter\" class=\"screenreader-text\">search filter</label>\\r\\n                            <select class=\"navbar-search-filter at-navbar-search-filter\" id=\"navbar-search-filter\">\\r\\n                                                                    <optgroup label=\"Search within this journal\">\\r\\n                                                <option class=\"header-search-bar-filters-item\" value=\"Issue\" >This issue</option>\\r\\n                                                <option class=\"header-search-bar-filters-item\" value=\"\" selected=&quot;selected&quot;>All  Bioinformatics</option>\\r\\n\\r\\n                                    </optgroup>\\r\\n                                    <optgroup label=\"Search beyond this journal\">\\r\\n                                                <option class=\"header-search-bar-filters-item\" value=\"Parent\" >All  Bioinformatics Journals</option>\\r\\n                                                <option class=\"header-search-bar-filters-item\" value=\"Journals\" >All  Journals</option>\\r\\n                                    </optgroup>\\r\\n                            </select>\\r\\n\\r\\n                            <label for=\"MicrositeSearchTerm\" class=\"screenreader-text\">search input</label>\\r\\n                            <input class=\"navbar-search-input microsite-search-term at-microsite-search-term\" type=\"text\" maxlength=\"255\" id=\"MicrositeSearchTerm\" title=\"search input\">\\r\\n\\r\\n                            <a href=\"javascript:;\" id=\"MicrositeSearchIcon\" class=\"microsite-search-icon navbar-search-submit icon-menu_search\"><span class=\"screenreader-text\">Search</span></a>\\r\\n\\r\\n                        </div>\\r\\n                    </div>                <div class=\"navbar-search-advanced\"><a href=\"/bioinformatics/advanced-search\" class=\"advanced-search js-advanced-search\">Advanced Search</a></div>\\r\\n            </div>            <div class=\"navbar-search-collapsed\"><a href=\"javascript:;\" class=\"icon-menu_search js_expand-navsearch\"><span class=\"screenreader-text\">Search Menu</span></a></div>\\r\\n    </div>\\r\\n</div>\\r\\n<input id=\"hfEnableOupOnlineProductsFeatures\" name=\"hfEnableOupOnlineProductsFeatures\" type=\"hidden\" value=\"False\" />\\r\\n\\r\\n    <input type=\"hidden\" name=\"searchScope\" id=\"hfSolrJournalID\" value=\"\" />\\r\\n    <input type=\"hidden\" id=\"hfSolrJournalName\" value=\"\" />\\r\\n    <input type=\"hidden\" id=\"hfSolrMaxAllowSearchChar\" value=\"100\" />\\r\\n    <input type=\"hidden\" id=\"hfJournalShortName\" value=\"\" />\\r\\n    <input type=\"hidden\" id=\"hfSearchPlaceholder\" value=\"\" />\\r\\n    <input type=\"hidden\" name=\"hfGlobalSearchSiteURL\" id=\"hfGlobalSearchSiteURL\" value=\"\" />\\r\\n        <input type=\"hidden\" name=\"parentSiteName\" id=\"hfParentSiteName\" value=\"Bioinformatics Journals\" />\\r\\n        <input type=\"hidden\" name=\"parentSiteUrl\" id=\"hfParentSiteUrl\" value=\"academic.oup.com/bioinformaticsjournals\" />\\r\\n        <input type=\"hidden\" name=\"siteID\" id=\"hfSiteID\" value=\"5139\" />\\r\\n        <input type=\"hidden\" name=\"parentSiteID\" id=\"hfParentSiteID\" value=\"6390\" />\\r\\n        <input type=\"hidden\" name=\"journalSiteScope\" id=\"hfJournalSiteScope\" value=\"Journals\" />\\r\\n        <input type=\"hidden\" name=\"parentSiteScope\" id=\"hfParentSiteScope\" value=\"Parent\" />\\r\\n        <input type=\"hidden\" name=\"defaultSearchURL\" id=\"hfDefaultSearchURL\" value=\"search-results?page=1&amp;q=\" />\\r\\n        <input type=\"hidden\" name=\"issueSearch\" id=\"hfIssueSearch\" value=\"&amp;fl_IssueID=7326\" />\\r\\n        <input type=\"hidden\" name=\"issueSiteScope\" id=\"hfIssueSiteScope\" value=\"Issue\" />\\r\\n<input id=\"hfDefaultAdvancedSearchUrl\" name=\"hfDefaultAdvancedSearchUrl\" type=\"hidden\" value=\"advanced-search?page=1&amp;q=\" />    <input type=\"hidden\" name=\"hfSearchSiteURL\" id=\"hfSiteURL\" value=\"academic.oup.com/bioinformatics\" />\\r\\n    <script type=\"text/javascript\">\\r\\n        (function () {\\r\\n            var hfSiteUrl = document.getElementById(\\'hfSiteURL\\');\\r\\n            var siteUrl = hfSiteUrl.value;\\r\\n            var subdomainIndex = siteUrl.indexOf(\\'/\\');\\r\\n\\r\\n            hfSiteUrl.value = location.host + (subdomainIndex >= 0 ? siteUrl.substring(subdomainIndex) : \\'\\');\\r\\n        })();\\r\\n    </script>\\r\\n<input id=\"routename\" name=\"RouteName\" type=\"hidden\" value=\"bioinformatics\" /> \\r\\n    </div>\\r\\n\\r\\n</section>\\r\\n        <div class=\"widget widget-SitewideBanner widget-instance-\">\\r\\n        \\r\\n\\r\\n \\r\\n    </div>\\r\\n\\r\\n\\r\\n    <div id=\"main\" class=\"content-main js-main ui-base\">\\r\\n            <section class=\"master-main row\">\\r\\n                <div class=\"center-inner-row no-overflow\">\\r\\n                    <div id=\"skipNav\" tabindex=\"-1\"></div>\\r\\n                    \\r\\n\\r\\n\\r\\n<div class=\"page-column-wrap\">\\r\\n<div id=\"InfoColumn\" class=\"page-column page-column--left js-left-nav-col\">\\r\\n    <div class=\"mobile-content-topbar hide\">\\r\\n        <button class=\"toggle-left-col toggle-left-col__article\">Article Navigation</button>\\r\\n    </div>\\r\\n    <div class=\"info-inner-wrap js-left-nav\">\\r\\n        <button class=\"toggle-left-col__close btn-as-icon icon-general-close\">\\r\\n            <span class=\"screenreader-text\">Close mobile search navigation</span>\\r\\n        </button>\\r\\n        <div class=\"responsive-nav-title\">Article Navigation</div>\\r\\n        <div class=\"info-widget-wrap\">\\r\\n    <div class=\"widget widget-IssueInfo widget-instance-OUP_IssueInfo_Article\">\\r\\n        \\r\\n\\r\\n<div id=\"issueInfo-OUP_IssueInfo_Article\" class=\"article-info-wrap clearfix\">\\r\\n    <i class=\"icon-general-close mobile-nav-btn nav-open\"></i>\\r\\n    <div class=\"article-issue-img\">\\r\\n            <a href=\"/bioinformatics/issue/31/6\"><img id=\"issueImage\" class=\"fb-featured-image\" src=\"https://oup.silverchair-cdn.com/oup/backfile/Content_public/Journal/bioinformatics/Issue/31/6/0/m_bioinformatics31_6.cover.gif?Expires=1645725027&amp;Signature=ekVniY-1AWNkyzMVsO2QTilZT3zf7nKlRbaSnxGHS-bENiaFXlnc4ykuDfWce1V9cAiuL7akYUE7p5MkHY5K~JW7Tobe7rEBFNwaxC2zkbY28SgqGYbfrwjgiBiCqDEaIbFuGkP3cx19ylY~3udPLp1TTgac1G3mzVRtYoUGudsDkpLjWZF9FY8FkSt6QZzXH~1X~j5hsSDRZG8wl8h3sigWClmJ1tmeV69Zwt2KI-tyG50GZTjrJMf~Z3cCcyYAKOwCXQ8IRqd-DFl~O~8s4kwLzmlbcUVBE7uwWycaNPRHqwhXpJJ1ly2MUsX9nSbbTUNVx~U2Y5z6mR0LJGZFaw__&amp;Key-Pair-Id=APKAIE5G5CRDK6RD3PGA\" alt=\"Issue Cover\" /></a>\\r\\n    </div>\\r\\n    <div class=\"article-issue-info\">\\r\\n        <div class=\"volume-issue__wrap\">\\r\\n\\r\\n            <a href=\"/bioinformatics/issue/31/6\">\\r\\n                        <div class=\"volume trailing-comma\">Volume 31</div>\\r\\n                        <div class=\"issue\">Issue 6</div>\\r\\n\\r\\n            </a>\\r\\n\\r\\n        </div>\\r\\n        <div class=\"ii-pub-date\">\\r\\n15 March 2015        </div>\\r\\n        \\r\\n    </div>\\r\\n\\r\\n</div> \\r\\n    </div>\\r\\n\\r\\n            <div class=\"content-nav\">\\r\\n    <div class=\"widget widget-ArticleJumpLinks widget-instance-OUP_ArticleJumpLinks_Widget\">\\r\\n        \\r\\n\\r\\n<h3 class=\"contents-title\" >Article Contents</h3>\\r\\n<ul class=\"jumplink-list js-jumplink-list\">\\r\\n        <li class=\"section-jump-link head-1\" link-destination=\"2345093\">\\r\\n            <div class=\"section-jump-link__link-wrap\">\\r\\n\\r\\n                <a class=\"js-jumplink scrollTo\" href=\"#2345093\">Abstract</a>\\r\\n            </div>\\r\\n        </li>\\r\\n        <li class=\"section-jump-link head-1\" link-destination=\"2345094\">\\r\\n            <div class=\"section-jump-link__link-wrap\">\\r\\n\\r\\n                <a class=\"js-jumplink scrollTo\" href=\"#2345094\">1 Introduction</a>\\r\\n            </div>\\r\\n        </li>\\r\\n        <li class=\"section-jump-link head-1\" link-destination=\"2345098\">\\r\\n            <div class=\"section-jump-link__link-wrap\">\\r\\n\\r\\n                <a class=\"js-jumplink scrollTo\" href=\"#2345098\">2 System and methods</a>\\r\\n            </div>\\r\\n        </li>\\r\\n        <li class=\"section-jump-link head-1\" link-destination=\"2345114\">\\r\\n            <div class=\"section-jump-link__link-wrap\">\\r\\n\\r\\n                <a class=\"js-jumplink scrollTo\" href=\"#2345114\">3 Results and discussion</a>\\r\\n            </div>\\r\\n        </li>\\r\\n        <li class=\"section-jump-link head-1\" link-destination=\"2345143\">\\r\\n            <div class=\"section-jump-link__link-wrap\">\\r\\n\\r\\n                <a class=\"js-jumplink scrollTo\" href=\"#2345143\">4 Conclusions</a>\\r\\n            </div>\\r\\n        </li>\\r\\n        <li class=\"section-jump-link head-1\" link-destination=\"2345148\">\\r\\n            <div class=\"section-jump-link__link-wrap\">\\r\\n\\r\\n                <a class=\"js-jumplink scrollTo\" href=\"#2345148\">Acknowledgements</a>\\r\\n            </div>\\r\\n        </li>\\r\\n        <li class=\"section-jump-link head-1\" link-destination=\"2345150\">\\r\\n            <div class=\"section-jump-link__link-wrap\">\\r\\n\\r\\n                <a class=\"js-jumplink scrollTo\" href=\"#2345150\">Funding</a>\\r\\n            </div>\\r\\n        </li>\\r\\n        <li class=\"section-jump-link head-1 backReferenceLink\" link-destination=\"2345153\">\\r\\n            <div class=\"section-jump-link__link-wrap\">\\r\\n\\r\\n                <a class=\"js-jumplink scrollTo\" href=\"#2345153\">References</a>\\r\\n            </div>\\r\\n        </li>\\r\\n</ul>\\r\\n \\r\\n    </div>\\r\\n\\r\\n            </div>\\r\\n    <div class=\"widget widget-ArticleNavLinks widget-instance-OUP_ArticleNavLinks_Article\">\\r\\n        <ul class=\"inline-list\">\\r\\n        <li class=\"prev arrow\">\\r\\n            <a href=\"/bioinformatics/article/31/6/919/214750\">&lt; Previous</a>\\r\\n        </li>        \\r\\n            <li class=\"next arrow\">\\r\\n            <a href=\"/bioinformatics/article/31/6/933/215065\">Next &gt;</a>\\r\\n        </li>\\r\\n</ul> \\r\\n    </div>\\r\\n\\r\\n        </div>\\r\\n    </div>\\r\\n</div>\\r\\n<div class=\"sticky-toolbar js-sticky-toolbar\"></div>\\r\\n<div id=\"ContentColumn\" class=\"page-column page-column--center\">\\r\\n\\r\\n    <div class=\"article-browse-top article-browse-mobile-nav js-mobile-nav\">\\r\\n    <div class=\"article-browse-mobile-nav-inner js-mobile-nav-inner\">\\r\\n        <button class=\"toggle-left-col toggle-left-col__article btn-as-link\">\\r\\n            Article Navigation\\r\\n        </button>\\r\\n    </div>\\r\\n</div>\\r\\n<div class=\"article-browse-top article-browse-mobile-nav mobile-sticky-toolbar js-mobile-nav-sticky\">\\r\\n    <div class=\"article-browse-mobile-nav-inner\">\\r\\n        <button class=\"toggle-left-col toggle-left-col__article btn-as-link\">\\r\\n            Article Navigation\\r\\n        </button>\\r\\n    </div>\\r\\n</div>\\r\\n\\r\\n    <div class=\"content-inner-wrap\">\\r\\n    <div class=\"widget widget-ArticleTopInfo widget-instance-OUP_ArticleTop_Info_Widget\">\\r\\n        <div class=\"module-widget article-top-widget\">\\r\\n\\r\\n    \\r\\n\\r\\n    \\r\\n        <div class=\"access-state-logos all-viewports\">\\r\\n                        </div>\\r\\n\\r\\n\\r\\n    <div class=\"widget-items\">\\r\\n                <div class=\"title-wrap\">\\r\\n                    <h1 class=\"wi-article-title article-title-main accessible-content-title at-articleTitle\">\\r\\n                        UniRef clusters: a comprehensive and scalable alternative for improving sequence similarity searches\\r\\n<i class=\\'icon-availability_open\\' title=\\'Open Access\\' ></i>                    </h1>\\r\\n\\r\\n                </div>\\r\\n                <div class=\"wi-authors at-ArticleAuthors\">\\r\\n                    <div class=\"al-authors-list\">\\r\\n                                <span class=\"al-author-name-more js-flyout-wrap\">\\r\\n\\r\\n\\r\\n\\r\\n\\r\\n\\r\\n\\r\\n                                    <a class=\"linked-name js-linked-name-trigger\" href=\"javascript:;\">Baris E. Suzek</a><span class=\\'delimiter\\'>, </span>\\r\\n\\r\\n                                    <span class=\"al-author-info-wrap arrow-up\">\\r\\n<div class=\"info-card-author authorInfo_OUP_ArticleTop_Info_Widget\">\\r\\n    <div class=\"name-role-wrap\">\\r\\n        <div class=\"info-card-name\">\\r\\n    Baris E. Suzek\\r\\n</div>\\r\\n\\r\\n    </div>\\r\\n\\r\\n    <div class=\"info-card-affilitation\">\\r\\n        <div class=\"aff\"><span class=\"label\"><sup>1</sup></span>Protein Information Resource, Georgetown University Medical Center, Washington, DC 20007, USA, <sup>2</sup>Department of Computer Engineering, Muğla Sıtkı Koçman University, Muğla 48000, Turkey, <sup>3</sup>Center for Bioinformatics and Computational Biology and Protein Information Resource, University of Delaware, Newark, DE 19711, USA, <sup>4</sup>European Bioinformatics Institute, Wellcome Trust Genome Campus, Hinxton, Cambridge CB10 1SD, UK and <sup>5</sup>Swiss Institute of Bioinformatics, Centre Medical Universitaire, 1 rue Michel Servet, 1211 Geneva 4, Switzerland</div>\\r\\n    </div>\\r\\n\\r\\n    <div class=\"info-card-search-label\">\\r\\n        Search for other works by this author on:\\r\\n    </div>\\r\\n\\r\\n<div class=\"info-card-search info-card-search-internal\">\\r\\n    <a href=\"/bioinformatics/search-results?f_Authors=Baris+E.+Suzek\">Oxford Academic</a>\\r\\n</div>\\r\\n\\r\\n    <div class=\"info-card-search info-card-search-pubmed\">\\r\\n        <a href=\"http://www.ncbi.nlm.nih.gov/pubmed?cmd=search&amp;term=Suzek B\">PubMed</a>\\r\\n    </div>\\r\\n    <div class=\"info-card-search info-card-search-google\">\\r\\n        <a href=\"http://scholar.google.com/scholar?q=author:%22Suzek Baris E.%22\">Google Scholar</a>\\r\\n    </div>\\r\\n</div>                                    </span>\\r\\n                                </span>\\r\\n                                <span class=\"al-author-name-more js-flyout-wrap\">\\r\\n\\r\\n\\r\\n\\r\\n\\r\\n\\r\\n\\r\\n                                    <a class=\"linked-name js-linked-name-trigger\" href=\"javascript:;\">Yuqi Wang</a><span class=\\'delimiter\\'>, </span>\\r\\n\\r\\n                                    <span class=\"al-author-info-wrap arrow-up\">\\r\\n<div class=\"info-card-author authorInfo_OUP_ArticleTop_Info_Widget\">\\r\\n    <div class=\"name-role-wrap\">\\r\\n        <div class=\"info-card-name\">\\r\\n    Yuqi Wang\\r\\n</div>\\r\\n\\r\\n    </div>\\r\\n\\r\\n    <div class=\"info-card-affilitation\">\\r\\n        <div class=\"aff\"><span class=\"label\"><sup>1</sup></span>Protein Information Resource, Georgetown University Medical Center, Washington, DC 20007, USA, <sup>2</sup>Department of Computer Engineering, Muğla Sıtkı Koçman University, Muğla 48000, Turkey, <sup>3</sup>Center for Bioinformatics and Computational Biology and Protein Information Resource, University of Delaware, Newark, DE 19711, USA, <sup>4</sup>European Bioinformatics Institute, Wellcome Trust Genome Campus, Hinxton, Cambridge CB10 1SD, UK and <sup>5</sup>Swiss Institute of Bioinformatics, Centre Medical Universitaire, 1 rue Michel Servet, 1211 Geneva 4, Switzerland</div>\\r\\n    </div>\\r\\n\\r\\n    <div class=\"info-card-search-label\">\\r\\n        Search for other works by this author on:\\r\\n    </div>\\r\\n\\r\\n<div class=\"info-card-search info-card-search-internal\">\\r\\n    <a href=\"/bioinformatics/search-results?f_Authors=Yuqi+Wang\">Oxford Academic</a>\\r\\n</div>\\r\\n\\r\\n    <div class=\"info-card-search info-card-search-pubmed\">\\r\\n        <a href=\"http://www.ncbi.nlm.nih.gov/pubmed?cmd=search&amp;term=Wang Y\">PubMed</a>\\r\\n    </div>\\r\\n    <div class=\"info-card-search info-card-search-google\">\\r\\n        <a href=\"http://scholar.google.com/scholar?q=author:%22Wang Yuqi%22\">Google Scholar</a>\\r\\n    </div>\\r\\n</div>                                    </span>\\r\\n                                </span>\\r\\n                                <span class=\"al-author-name-more js-flyout-wrap\">\\r\\n\\r\\n\\r\\n\\r\\n\\r\\n\\r\\n\\r\\n                                    <a class=\"linked-name js-linked-name-trigger\" href=\"javascript:;\">Hongzhan Huang</a><span class=\\'delimiter\\'>, </span>\\r\\n\\r\\n                                    <span class=\"al-author-info-wrap arrow-up\">\\r\\n<div class=\"info-card-author authorInfo_OUP_ArticleTop_Info_Widget\">\\r\\n    <div class=\"name-role-wrap\">\\r\\n        <div class=\"info-card-name\">\\r\\n    Hongzhan Huang\\r\\n            <span class=\"info-card-footnote\"><span class=\"xrefLink\" id=\"jumplink-btu739-COR1\"></span><a href=\"javascript:;\" reveal-id=\"btu739-COR1\" data-open=\"btu739-COR1\" class=\"link link-ref link-reveal xref-default\"><sup>*</sup></a></span>\\r\\n</div>\\r\\n\\r\\n    </div>\\r\\n\\r\\n    <div class=\"info-card-affilitation\">\\r\\n        <div class=\"aff\"><span class=\"label\"><sup>1</sup></span>Protein Information Resource, Georgetown University Medical Center, Washington, DC 20007, USA, <sup>2</sup>Department of Computer Engineering, Muğla Sıtkı Koçman University, Muğla 48000, Turkey, <sup>3</sup>Center for Bioinformatics and Computational Biology and Protein Information Resource, University of Delaware, Newark, DE 19711, USA, <sup>4</sup>European Bioinformatics Institute, Wellcome Trust Genome Campus, Hinxton, Cambridge CB10 1SD, UK and <sup>5</sup>Swiss Institute of Bioinformatics, Centre Medical Universitaire, 1 rue Michel Servet, 1211 Geneva 4, Switzerland</div>\\r\\n    </div>\\r\\n\\r\\n    <div class=\"info-author-correspondence\">\\r\\n        *To whom correspondence should be addressed.\\r\\n    </div>\\r\\n    <div class=\"info-card-search-label\">\\r\\n        Search for other works by this author on:\\r\\n    </div>\\r\\n\\r\\n<div class=\"info-card-search info-card-search-internal\">\\r\\n    <a href=\"/bioinformatics/search-results?f_Authors=Hongzhan+Huang\">Oxford Academic</a>\\r\\n</div>\\r\\n\\r\\n    <div class=\"info-card-search info-card-search-pubmed\">\\r\\n        <a href=\"http://www.ncbi.nlm.nih.gov/pubmed?cmd=search&amp;term=Huang H\">PubMed</a>\\r\\n    </div>\\r\\n    <div class=\"info-card-search info-card-search-google\">\\r\\n        <a href=\"http://scholar.google.com/scholar?q=author:%22Huang Hongzhan%22\">Google Scholar</a>\\r\\n    </div>\\r\\n</div>                                    </span>\\r\\n                                </span>\\r\\n                                <span class=\"al-author-name-more js-flyout-wrap\">\\r\\n\\r\\n\\r\\n\\r\\n\\r\\n\\r\\n\\r\\n                                    <a class=\"linked-name js-linked-name-trigger\" href=\"javascript:;\">Peter B. McGarvey</a><span class=\\'delimiter\\'>, </span>\\r\\n\\r\\n                                    <span class=\"al-author-info-wrap arrow-up\">\\r\\n<div class=\"info-card-author authorInfo_OUP_ArticleTop_Info_Widget\">\\r\\n    <div class=\"name-role-wrap\">\\r\\n        <div class=\"info-card-name\">\\r\\n    Peter B. McGarvey\\r\\n</div>\\r\\n\\r\\n    </div>\\r\\n\\r\\n    <div class=\"info-card-affilitation\">\\r\\n        <div class=\"aff\"><span class=\"label\"><sup>1</sup></span>Protein Information Resource, Georgetown University Medical Center, Washington, DC 20007, USA, <sup>2</sup>Department of Computer Engineering, Muğla Sıtkı Koçman University, Muğla 48000, Turkey, <sup>3</sup>Center for Bioinformatics and Computational Biology and Protein Information Resource, University of Delaware, Newark, DE 19711, USA, <sup>4</sup>European Bioinformatics Institute, Wellcome Trust Genome Campus, Hinxton, Cambridge CB10 1SD, UK and <sup>5</sup>Swiss Institute of Bioinformatics, Centre Medical Universitaire, 1 rue Michel Servet, 1211 Geneva 4, Switzerland</div>\\r\\n    </div>\\r\\n\\r\\n    <div class=\"info-card-search-label\">\\r\\n        Search for other works by this author on:\\r\\n    </div>\\r\\n\\r\\n<div class=\"info-card-search info-card-search-internal\">\\r\\n    <a href=\"/bioinformatics/search-results?f_Authors=Peter+B.+McGarvey\">Oxford Academic</a>\\r\\n</div>\\r\\n\\r\\n    <div class=\"info-card-search info-card-search-pubmed\">\\r\\n        <a href=\"http://www.ncbi.nlm.nih.gov/pubmed?cmd=search&amp;term=McGarvey P\">PubMed</a>\\r\\n    </div>\\r\\n    <div class=\"info-card-search info-card-search-google\">\\r\\n        <a href=\"http://scholar.google.com/scholar?q=author:%22McGarvey Peter B.%22\">Google Scholar</a>\\r\\n    </div>\\r\\n</div>                                    </span>\\r\\n                                </span>\\r\\n                                <span class=\"al-author-name-more js-flyout-wrap\">\\r\\n\\r\\n\\r\\n\\r\\n\\r\\n\\r\\n\\r\\n                                    <a class=\"linked-name js-linked-name-trigger\" href=\"javascript:;\">Cathy H. Wu</a><span class=\\'delimiter\\'>, </span>\\r\\n\\r\\n                                    <span class=\"al-author-info-wrap arrow-up\">\\r\\n<div class=\"info-card-author authorInfo_OUP_ArticleTop_Info_Widget\">\\r\\n    <div class=\"name-role-wrap\">\\r\\n        <div class=\"info-card-name\">\\r\\n    Cathy H. Wu\\r\\n</div>\\r\\n\\r\\n    </div>\\r\\n\\r\\n    <div class=\"info-card-affilitation\">\\r\\n        <div class=\"aff\"><span class=\"label\"><sup>1</sup></span>Protein Information Resource, Georgetown University Medical Center, Washington, DC 20007, USA, <sup>2</sup>Department of Computer Engineering, Muğla Sıtkı Koçman University, Muğla 48000, Turkey, <sup>3</sup>Center for Bioinformatics and Computational Biology and Protein Information Resource, University of Delaware, Newark, DE 19711, USA, <sup>4</sup>European Bioinformatics Institute, Wellcome Trust Genome Campus, Hinxton, Cambridge CB10 1SD, UK and <sup>5</sup>Swiss Institute of Bioinformatics, Centre Medical Universitaire, 1 rue Michel Servet, 1211 Geneva 4, Switzerland</div>\\r\\n    </div>\\r\\n\\r\\n    <div class=\"info-card-search-label\">\\r\\n        Search for other works by this author on:\\r\\n    </div>\\r\\n\\r\\n<div class=\"info-card-search info-card-search-internal\">\\r\\n    <a href=\"/bioinformatics/search-results?f_Authors=Cathy+H.+Wu\">Oxford Academic</a>\\r\\n</div>\\r\\n\\r\\n    <div class=\"info-card-search info-card-search-pubmed\">\\r\\n        <a href=\"http://www.ncbi.nlm.nih.gov/pubmed?cmd=search&amp;term=Wu C\">PubMed</a>\\r\\n    </div>\\r\\n    <div class=\"info-card-search info-card-search-google\">\\r\\n        <a href=\"http://scholar.google.com/scholar?q=author:%22Wu Cathy H.%22\">Google Scholar</a>\\r\\n    </div>\\r\\n</div>                                    </span>\\r\\n                                </span>\\r\\n                                <span class=\"al-author-name-more js-flyout-wrap\">\\r\\n\\r\\n\\r\\n\\r\\n\\r\\n\\r\\n\\r\\n                                    <a class=\"linked-name js-linked-name-trigger\" href=\"javascript:;\">the UniProt Consortium</a><span class=\\'delimiter\\'></span>\\r\\n\\r\\n                                    <span class=\"al-author-info-wrap arrow-up\">\\r\\n<div class=\"info-card-author authorInfo_OUP_ArticleTop_Info_Widget\">\\r\\n    <div class=\"name-role-wrap\">\\r\\n        <div class=\"info-card-name\">\\r\\n    the UniProt Consortium\\r\\n</div>\\r\\n\\r\\n    </div>\\r\\n\\r\\n\\r\\n    <div class=\"info-card-search-label\">\\r\\n        Search for other works by this author on:\\r\\n    </div>\\r\\n\\r\\n<div class=\"info-card-search info-card-search-internal\">\\r\\n    <a href=\"/bioinformatics/search-results?f_Authors=the+UniProt+Consortium\">Oxford Academic</a>\\r\\n</div>\\r\\n\\r\\n    <div class=\"info-card-search info-card-search-pubmed\">\\r\\n        <a href=\"http://www.ncbi.nlm.nih.gov/pubmed?cmd=search&amp;term=the UniProt Consortium\">PubMed</a>\\r\\n    </div>\\r\\n    <div class=\"info-card-search info-card-search-google\">\\r\\n        <a href=\"http://scholar.google.com/scholar?q=author:%22the UniProt Consortium%22\">Google Scholar</a>\\r\\n    </div>\\r\\n</div>                                    </span>\\r\\n                                </span>\\r\\n\\r\\n                            <div class=\"al-author-name al-author-footnotes\">\\r\\n                                <div class=\"al-author-info-wrap arrow-up\">\\r\\n    <div class=\"widget widget-SingleSection widget-instance-OUP_FootnoteSection\">\\r\\n        <div content-id=\"btu741-FN1\" class=\"footnote\"><span class=\"fn\"><div class=\"footnote-content\"><p class=\"footnote-compatibility\">†The authors wish it to be known that, in their opinion, the first two authors should be regarded as joint First Authors.</p></div></span></div> \\r\\n    </div>\\r\\n    <div class=\"widget widget-SingleSection widget-instance-OUP_FootnoteSection\">\\r\\n        <div content-id=\"btu741-FN2\" class=\"footnote\"><span class=\"fn\"><div class=\"footnote-content\"><p class=\"footnote-compatibility\">Associate Editor: Janet Kelso</p></div></span></div> \\r\\n    </div>\\r\\n                                </div>\\r\\n                                <a class=\"js-linked-footnotes\" href=\"javascript:;\">Author Notes</a>\\r\\n                            </div>\\r\\n                    </div>\\r\\n                </div>\\r\\n<div class=\"pub-history-wrap clearfix js-history-dropdown-wrap\">\\r\\n\\r\\n        <div class=\"pub-history-row clearfix\">\\r\\n            <div class=\"ww-citation-primary\"><em>Bioinformatics</em>, Volume 31, Issue 6, 15 March 2015, Pages 926–932, <a href=\\'https://doi.org/10.1093/bioinformatics/btu739\\'>https://doi.org/10.1093/bioinformatics/btu739</a></div>\\r\\n        </div>\\r\\n        <div class=\"pub-history-row clearfix\">\\r\\n            <div class=\"ww-citation-date-wrap\">\\r\\n                <div class=\"citation-label\">Published:</div>\\r\\n                <div class=\"citation-date\">13 November 2014</div>\\r\\n            </div>\\r\\n                <a href=\"javascript:;\" class=\"history-label js-history-dropdown-trigger st-article-history at-ArticleHistory\">\\r\\n                    <span>Article history</span><i class=\"icon-general-arrow-filled-down arrow-icon\"></i>\\r\\n                </a>\\r\\n        </div>\\r\\n            <div class=\"ww-history js-history-entries-wrap at-history-entries-wrap\">\\r\\n                <div class=\"history-entry at-history-entry\">\\r\\n                    <div class=\"wi-state\">Received:</div>\\r\\n                    <div class=\"wi-date\">20 May 2014</div>\\r\\n                </div>\\r\\n                <div class=\"history-entry at-history-entry\">\\r\\n                    <div class=\"wi-state\">Revision received:</div>\\r\\n                    <div class=\"wi-date\">21 October 2014</div>\\r\\n                </div>\\r\\n                <div class=\"history-entry at-history-entry\">\\r\\n                    <div class=\"wi-state\">Accepted:</div>\\r\\n                    <div class=\"wi-date\">05 November 2014</div>\\r\\n                </div>\\r\\n                <div class=\"history-entry at-history-entry\">\\r\\n                    <div class=\"wi-state\">Published:</div>\\r\\n                    <div class=\"wi-date\">13 November 2014</div>\\r\\n                </div>\\r\\n        </div>\\r\\n</div>\\r\\n    </div>\\r\\n</div>\\r\\n\\r\\n<script>\\r\\n    $(document).ready(function () {\\r\\n        $(\\'.article-top-widget\\').on(\\'click\\', \\'.ati-toggle-trigger\\', function () {\\r\\n            $(this).find(\\'.icon-general-add, .icon-minus\\').toggleClass(\\'icon-minus icon-general-add\\');\\r\\n            $(this).siblings(\\'.ati-toggle-content\\').toggleClass(\\'hide\\');\\r\\n        });\\r\\n\\r\\n        // In Chrome, an anchor tag with target=\"_blank\" and a \"mailto:\" href opens a new tab/window as well as the email client\\r\\n        // I suspect this behavior will be corrected in the future\\r\\n        // Remove the target=\"_blank\"\\r\\n        $(\\'ul.wi-affiliationList\\').find(\\'a[href^=\"mailto:\"]\\').each(function () {\\r\\n            $(this).removeAttr(\\'target\\');\\r\\n        });\\r\\n    });\\r\\n</script>\\r\\n\\r\\n \\r\\n    </div>\\r\\n    <div class=\"widget widget-ArticleLinks widget-instance-OUP_Article_Links_Widget\">\\r\\n         \\r\\n    </div>\\r\\n\\r\\n\\r\\n        <div class=\"article-body js-content-body\">\\r\\n            <div class=\"toolbar-wrap js-toolbar-wrap\">\\r\\n                <div class=\"toolbar-inner-wrap\">\\r\\n                    <ul id=\"Toolbar\" role=\"navigation\">\\r\\n    <li class=\"toolbar-item item-pdf js-item-pdf\">\\r\\n        <a class=\"al-link pdf article-pdfLink\" data-article-id=\"214968\" href=\"/bioinformatics/article-pdf/31/6/926/569379/btu739.pdf\">\\r\\n            <img src=//oup.silverchair-cdn.com/UI/app/svg/pdf.svg alt=\"pdf\" /><span class=\"pdf-link-text\">PDF</span>\\r\\n        </a>\\r\\n    </li>\\r\\n                                                    <li class=\"toolbar-item item-link item-split-view\">\\r\\n                                <a href=\"javascript:;\"\\r\\n                                   class=\"split-view js-split-view st-split-view at-split-view\"\\r\\n                                   target=\"\">\\r\\n                                    <i class=\"icon-menu-split\"></i>\\r\\n                                    Split View\\r\\n                                </a>\\r\\n                            </li>\\r\\n\\r\\n                        <li class=\"toolbar-item item-with-dropdown item-views\">\\r\\n                            <a class=\"at-views-dropdown drop-trigger\" href=\"javascript:;\" data-dropdown=\"FilterDrop\" aria-haspopup=\"true\">\\r\\n                                <i class=\"icon-menu_views\"></i>\\r\\n                                <div class=\"toolbar-label\">\\r\\n                                    <div class=\"toolbar-text\">Views</div>\\r\\n                                    <i class=\"icon-general-arrow-filled-down arrow-icon\"></i>\\r\\n                                </div>\\r\\n                            </a>\\r\\n                            <ul id=\"ViewsDrop\" class=\"f-dropdown\" data-dropdown-content aria-label=\"submenu\">\\r\\n                                <div class=\"arrow-up\"></div>\\r\\n                                <li class=\"article-content-filter js-article-content-filter\" data-content-filter=\"article-content\">\\r\\n                                    <a href=\"javascript:;\"><span>Article contents</span></a>\\r\\n                                </li>\\r\\n                                <li class=\"at-figures-tables article-content-filter js-article-content-filter\" data-content-filter=\"figures-tables\">\\r\\n                                    <a href=\"javascript:;\"><span>Figures &amp; tables</span></a>\\r\\n                                </li>\\r\\n                                <li class=\"article-content-filter js-article-content-filter\" data-content-filter=\"video\">\\r\\n                                    <a href=\"javascript:;\"><span>Video</span></a>\\r\\n                                </li>\\r\\n                                <li class=\"article-content-filter js-article-content-filter\" data-content-filter=\"audio\">\\r\\n                                    <a href=\"javascript:;\"><span>Audio</span></a>\\r\\n                                </li>\\r\\n                                <li class=\"article-content-filter js-article-content-filter\" data-content-filter=\"supplementary-data\">\\r\\n                                    <a href=\"javascript:;\"><span>Supplementary Data</span></a>\\r\\n                                </li>\\r\\n                            </ul>\\r\\n                        </li>\\r\\n\\r\\n\\r\\n                        <li class=\"toolbar-item item-cite js-item-cite\">\\r\\n    <div class=\"widget widget-ToolboxGetCitation widget-instance-OUP_Get_Citation\">\\r\\n        <a href=\"#\" class=\"js-cite-button at-CiteButton\" data-reveal-id=\"getCitation\" data-reveal>\\r\\n    <i class=\"icon-read-more\"></i>\\r\\n    <span>Cite</span>\\r\\n</a>\\r\\n\\r\\n<div id=\"getCitation\" class=\"reveal-modal js-citation-modal\" data-reveal>\\r\\n    <h3 class=\"modal-title\">Cite</h3>\\r\\n        <div class=\"oxford-citation-text\">\\r\\n            <p>Baris E. Suzek, Yuqi Wang, Hongzhan Huang, Peter B. McGarvey, Cathy H. Wu, the UniProt Consortium,  UniRef clusters: a comprehensive and scalable alternative for improving sequence similarity searches, <em>Bioinformatics</em>, Volume 31, Issue 6, 15 March 2015, Pages 926–932, <a href=\"https://doi.org/10.1093/bioinformatics/btu739\">https://doi.org/10.1093/bioinformatics/btu739</a></p>\\r\\n        </div>\\r\\n\\r\\n    <div class=\"citation-download-wrap\">\\r\\n        <form action=\"/Citation/Download\" method=\"get\" id=\"citationModal\">\\r\\n            <input type=\"hidden\" name=\"resourceId\" value=\"214968\" />\\r\\n            <input type=\"hidden\" name=\"resourceType\" value=\"3\" />\\r\\n            <label for=\"selectFormat\" class=\"hide js-citation-format-label\">Select Format</label>\\r\\n            <select required name=\"citationFormat\" class=\"citation-download-format js-citation-format\" id=\"selectFormat\">\\r\\n                <option selected disabled >Select format</option>\\r\\n                        <option value=\"0\" >.ris (Mendeley, Papers, Zotero)</option>\\r\\n                        <option value=\"1\" >.enw (EndNote)</option>\\r\\n                        <option value=\"2\" >.bibtex (BibTex)</option>\\r\\n                        <option value=\"3\" >.txt (Medlars, RefWorks)</option>\\r\\n\\r\\n            </select>\\r\\n            <button class=\"btn citation-download-link disabled\" type=\"submit\">Download citation</button>\\r\\n        </form>\\r\\n    </div>\\r\\n\\r\\n    <a class=\"close-reveal-modal\" href=\"javascript:;\"><i class=\"icon-general-close\"></i><span class=\"screenreader-text\">Close</span></a>\\r\\n</div>\\r\\n \\r\\n    </div>\\r\\n\\r\\n                        </li>\\r\\n                        <li class=\"toolbar-item item-tools\">\\r\\n    <div class=\"widget widget-ToolboxPermissions widget-instance-OUP_Get_Permissions\">\\r\\n            <div class=\"module-widget\">\\r\\n        <a href=\"https://s100.copyright.com/AppDispatchServlet?publisherName=OUP&amp;publication=1460-2059&amp;title=UniRef%20clusters%3A%20a%20comprehensive%20and%20scalable%20alternative%20for%20improving%20sequence%20similarity%20searches&amp;publicationDate=2014-11-13&amp;volumeNum=31&amp;issueNum=6&amp;author=Suzek%2C%20Baris%20E.%3B%20Wang%2C%20Yuqi&amp;startPage=926&amp;endPage=932&amp;contentId=10.1093%2Fbioinformatics%2Fbtu739&amp;oa=CC%20BY&amp;copyright=Oxford%20University%20Press&amp;orderBeanReset=True\" id=\"PermissionsLink\" class=\"\" target=\"_blank\">\\r\\n            <i class=\"icon-menu_permissions\">\\r\\n                <span class=\"screenreader-text\">Permissions Icon</span>\\r\\n            </i>\\r\\n            Permissions\\r\\n        </a>\\r\\n    </div>\\r\\n \\r\\n    </div>\\r\\n\\r\\n                        </li>\\r\\n                        <li class=\"toolbar-item item-with-dropdown item-share last\">\\r\\n                            <a class=\"drop-trigger at-ShareButton\" href=\"javascript:;\" data-dropdown=\"ShareDrop\" aria-haspopup=\"true\">\\r\\n                                <i class=\"icon-menu_share\"></i>\\r\\n                                <div class=\"toolbar-label\">\\r\\n                                    <div class=\"toolbar-text\">Share</div>\\r\\n                                    <i class=\"icon-general-arrow-filled-down arrow-icon\"></i>\\r\\n                                </div>\\r\\n                            </a>\\r\\n                            <ul id=\"ShareDrop\" class=\"addthis_toolbox addthis_default_style addthis_20x20_style f-dropdown\" data-dropdown-content aria-label=\"submenu\">\\r\\n                                <div class=\"arrow-up\"></div>\\r\\n                                <li><a class=\"addthis_button_email\"><span>Email</span></a></li>\\r\\n                                <li><a class=\"addthis_button_twitter\"><span>Twitter</span></a></li>\\r\\n                                <li><a class=\"addthis_button_facebook\"><span>Facebook</span></a></li>\\r\\n                                <li><a class=\"addthis_button_compact\"><span>More</span></a></li>\\r\\n                            </ul>\\r\\n                        </li>\\r\\n                    </ul>\\r\\n                    <div class=\"toolbar-search\">\\r\\n    <div class=\"widget widget-SitePageHeader widget-instance-OUP_ArticleToolbarSearchBox\">\\r\\n        \\r\\n\\r\\n\\r\\n\\r\\n<div class=\"dropdown-panel-wrap\">\\r\\n\\r\\n    \\r\\n    <div class=\"dropdown-panel mobile-search-dropdown\">\\r\\n        <div class=\"mobile-search-inner-wrap\">\\r\\n                <div class=\"navbar-search\">\\r\\n                    <div id=\"MobileMicrositeSearch\" class=\"mobile-microsite-search\">\\r\\n                        <label for=\"mobile-navbar-search-filter\" class=\"screenreader-text\">Navbar Search Filter</label>\\r\\n                        <select class=\"mobile-navbar-search-filter\" id=\"mobile-navbar-search-filter\">\\r\\n                                                            <optgroup label=\"Search within this journal\">\\r\\n<option class=\"header-search-bar-filters-item\" value=\"Issue\">This issue</option><option class=\"header-search-bar-filters-item\" value=\"\">All  Bioinformatics</option>\\r\\n                                </optgroup>\\r\\n                                <optgroup label=\"Search beyond this journal\">\\r\\n<option class=\"header-search-bar-filters-item\" value=\"Parent\">All  Bioinformatics Journals</option><option class=\"header-search-bar-filters-item\" value=\"Journals\">All  Journals</option>                                </optgroup>\\r\\n                        </select>\\r\\n\\r\\n\\r\\n\\r\\n\\r\\n\\r\\n                        <label for=\"MobileMicrositeSearchTerm\" class=\"screenreader-text\">Mobile Microsite Search Term</label>\\r\\n                        <input class=\"mobile-search-input mobile-microsite-search-term at-microsite-search-term\" type=\"text\" maxlength=\"255\" placeholder=\"Search\" id=\"MobileMicrositeSearchTerm\">\\r\\n\\r\\n                        <a href=\"javascript:;\" id=\"MobileMicrositeSearchIcon\" class=\"mobile-microsite-search-icon mobile-search-submit icon-menu_search\"><span class=\"screenreader-text\">Search</span></a>\\r\\n\\r\\n                    </div>\\r\\n                </div>        </div>\\r\\n    </div>\\r\\n    \\r\\n    <div class=\"dropdown-panel mobile-account-dropdown\">\\r\\n        <ul class=\"site-menu site-menu-lvl-0\">\\r\\n            <li class=\"site-menu-item site-menu-lvl-0\">\\r\\n                <a href=\"\" class=\"nav-link mobile-account-signin js-nav-dropdown js-header-account-info-user-fullname\" id=\"header-account-info-user-fullname-mobile\">\\r\\n                    \\r\\nSign In                    <i class=\"mobile-nav-arrow icon-general_arrow-down\"></i>\\r\\n                </a>\\r\\n                <ul class=\"site-menu site-menu-lvl-1 individual-menu\">\\r\\n                    <li class=\"dropdown-signin-form\">\\r\\n                        <div class=\"spinner\"></div>\\r\\n                    </li>\\r\\n                </ul>\\r\\n            </li>\\r\\n                <li class=\"site-menu-item site-menu-lvl-0\">\\r\\n                        <a href=\"javascript:;\" class=\"nav-link mobile-account-institution js-nav-dropdown\">\\r\\n                            Wellcome Genome Campus\\r\\n                        </a>\\r\\n\\r\\n                    <i class=\"mobile-nav-arrow icon-general_arrow-down\"></i>\\r\\n                    <ul class=\"site-menu site-menu-lvl-1\">\\r\\n                            <li class=\"dropdown-institution-item\">\\r\\n<a href=\"https://helix.wtgc.org/content/library-and-information-services\">\\r\\n                                    <img src=\"https://oup.silverchair-cdn.com/Images/InstLogo/10295687_inst_logo_4817.jpg\" alt=\"Wellcome Genome Campus\" />\\r\\n\\r\\n</a>                            </li>\\r\\n\\r\\n                        <li class=\"dropdown-institution-signout\">\\r\\n                        </li>\\r\\n                    </ul>\\r\\n                </li>\\r\\n                            <li class=\"site-menu-item\">\\r\\n                    <a href=\"/my-account/register?siteId=5139&amp;returnUrl=%2fbioinformatics%2farticle%2f31%2f6%2f926%2f214968\" class=\"register nav-link\">Register</a>\\r\\n                </li>\\r\\n        </ul>\\r\\n    </div>\\r\\n    \\r\\n    <div class=\"dropdown-panel mobile-nav-dropdown\">\\r\\n\\r\\n    </div>\\r\\n\\r\\n</div>\\r\\n\\r\\n\\r\\n<div class=\"navbar\">\\r\\n    <div class=\"center-inner-row\">\\r\\n        <nav class=\"navbar-menu\">\\r\\n\\r\\n        </nav>\\r\\n            <div class=\"navbar-search-container js-navbar-search-container\">\\r\\n                <a href=\"javascript:;\" class=\"navbar-search-close js_close-navsearch\">Close</a>\\r\\n                    <div class=\"navbar-search\">\\r\\n                        <div class=\"microsite-search\">\\r\\n                            <label for=\"navbar-search-filter\" class=\"screenreader-text\">search filter</label>\\r\\n                            <select class=\"navbar-search-filter at-navbar-search-filter\" id=\"navbar-search-filter\">\\r\\n                                                                    <optgroup label=\"Search within this journal\">\\r\\n                                                <option class=\"header-search-bar-filters-item\" value=\"Issue\" >This issue</option>\\r\\n                                                <option class=\"header-search-bar-filters-item\" value=\"\" selected=&quot;selected&quot;>All  Bioinformatics</option>\\r\\n\\r\\n                                    </optgroup>\\r\\n                                    <optgroup label=\"Search beyond this journal\">\\r\\n                                                <option class=\"header-search-bar-filters-item\" value=\"Parent\" >All  Bioinformatics Journals</option>\\r\\n                                                <option class=\"header-search-bar-filters-item\" value=\"Journals\" >All  Journals</option>\\r\\n                                    </optgroup>\\r\\n                            </select>\\r\\n\\r\\n                            <label for=\"MicrositeSearchTerm\" class=\"screenreader-text\">search input</label>\\r\\n                            <input class=\"navbar-search-input microsite-search-term at-microsite-search-term\" type=\"text\" maxlength=\"255\" id=\"MicrositeSearchTerm\" title=\"search input\">\\r\\n\\r\\n                            <a href=\"javascript:;\" id=\"MicrositeSearchIcon\" class=\"microsite-search-icon navbar-search-submit icon-menu_search\"><span class=\"screenreader-text\">Search</span></a>\\r\\n\\r\\n                        </div>\\r\\n                    </div>                <div class=\"navbar-search-advanced\"><a href=\"/bioinformatics/advanced-search\" class=\"advanced-search js-advanced-search\">Advanced Search</a></div>\\r\\n            </div>            <div class=\"navbar-search-collapsed\"><a href=\"javascript:;\" class=\"icon-menu_search js_expand-navsearch\"><span class=\"screenreader-text\">Search Menu</span></a></div>\\r\\n    </div>\\r\\n</div>\\r\\n<input id=\"hfEnableOupOnlineProductsFeatures\" name=\"hfEnableOupOnlineProductsFeatures\" type=\"hidden\" value=\"False\" />\\r\\n\\r\\n<input id=\"routename\" name=\"RouteName\" type=\"hidden\" value=\"bioinformatics\" /> \\r\\n    </div>\\r\\n\\r\\n                    </div>\\r\\n                </div>\\r\\n            </div>\\r\\n            <div id=\"ContentTab\" class=\"content active\">\\r\\n    <div class=\"widget widget-ArticleFulltext widget-instance-OUP_Article_FullText_Widget\">\\r\\n        <div class=\"module-widget\">\\r\\n    <div class=\"widget-items\" data-widgetname=\"ArticleFulltext\">\\r\\n\\r\\n\\r\\n\\r\\n\\r\\n\\r\\n                    <h2 scrollto-destination=2345093 id=\"2345093\" class=\"abstract-title js-splitscreen-abstract-title\" >Abstract</h2>\\r\\n<section class=\"abstract\"><p class=\"chapter-para\"><strong>Motivation</strong>: UniRef databases provide full-scale clustering of UniProtKB sequences and are utilized for a broad range of applications, particularly similarity-based functional annotation. Non-redundancy and intra-cluster homogeneity in UniRef were recently improved by adding a sequence length overlap threshold. Our hypothesis is that these improvements would enhance the speed and sensitivity of similarity searches and improve the consistency of annotation within clusters.</p><p class=\"chapter-para\"><strong>Results:</strong> Intra-cluster molecular function consistency was examined by analysis of Gene Ontology terms. Results show that UniRef clusters bring together proteins of identical molecular function in more than 97% of the clusters, implying that clusters are useful for annotation and can also be used to detect annotation inconsistencies. To examine coverage in similarity results, BLASTP searches against UniRef50 followed by expansion of the hit lists with cluster members demonstrated advantages compared with searches against UniProtKB sequences; the searches are concise (∼7 times shorter hit list before expansion), faster (∼6 times) and more sensitive in detection of remote similarities (&gt;96% recall at <em>e</em>-value &lt;0.0001). Our results support the use of UniRef clusters as a comprehensive and scalable alternative to native sequence databases for similarity searches and reinforces its reliability for use in functional annotation.</p><p class=\"chapter-para\"><strong>Availability and implementation:</strong> Web access and file download from UniProt website at <a class=\"link link-uri openInAnotherWindow\" href=\"http://www.uniprot.org/uniref\" target=\"_blank\">http://www.uniprot.org/uniref</a> and <a class=\"link\" href=\"ftp://ftp.uniprot.org/pub/databases/uniprot/uniref\" target=\"_blank\">ftp://ftp.uniprot.org/pub/databases/uniprot/uniref</a>. BLAST searches against UniRef are available at <a class=\"link link-uri openInAnotherWindow\" href=\"http://www.uniprot.org/blast/\" target=\"_blank\">http://www.uniprot.org/blast/</a></p><p class=\"chapter-para\"><strong>Contact:</strong><a href=\"mailto:huang@dbi.udel.edu\" target=\"_blank\">huang@dbi.udel.edu</a></p></section>                    <div class=\"article-metadata-panel clearfix at-ArticleMetadata\"></div>\\r\\n                    <h2 scrollto-destination=2345094 id=\"2345094\" class=\"section-title js-splitscreen-section-title\" >1 Introduction</h2>\\r\\n<p class=\"chapter-para\">The UniRef databases (UniProt Reference Clusters) provide clustered sets of sequences from the UniProt Knowledgebase and selected UniParc records to obtain complete coverage of sequence space at several resolutions (100%, 90% and 50% identity) while hiding redundant sequences (<span class=\"xrefLink\" id=\"jumplink-btu739-B28\"></span><a href=\"javascript:;\" reveal-id=\"btu739-B28\" data-open=\"btu739-B28\" class=\"link link-ref link-reveal xref-bibr\">Suzek <em>et al</em>., 2007</a>). The UniRef100 database combines identical sequences and subfragments from any source organism into a single UniRef entry (i.e. cluster). UniRef90 and UniRef50 are built by clustering UniRef100 sequences at the 90% or 50% sequence identity levels. UniRef entries contain summary cluster and membership information, including the sequence of a representative (best-annotated) protein, member count and common taxonomy of the cluster, the accession numbers of all the merged entries and links to rich functional annotation in UniProtKB to facilitate biological discovery.</p><p class=\"chapter-para\">The UniRef databases have been produced for 10 years and are used worldwide for a broad range of applications. Since first released in 2004, UniRef has been cited over 400 times based on Google Scholar and unique citations from PubMed Central. UniRef’s ability to reduce redundancy while preserving information on source and quality annotation has proven useful in many studies based on the citation analysis. The most common uses of UniRef databases continue to be in functional annotation, family classification, systems biology, structural genomics, phylogenetic analysis and mass spectrometry. Recent studies have also used UniRef for improving protein sequence alignments through homology extension (<span class=\"xrefLink\" id=\"jumplink-btu739-B7\"></span><a href=\"javascript:;\" reveal-id=\"btu739-B7\" data-open=\"btu739-B7\" class=\"link link-ref link-reveal xref-bibr\">Chang <em>et al</em>., 2012</a>), increasing sequence search sensitivity with transitive alignments (<span class=\"xrefLink\" id=\"jumplink-btu739-B21\"></span><a href=\"javascript:;\" reveal-id=\"btu739-B21\" data-open=\"btu739-B21\" class=\"link link-ref link-reveal xref-bibr\">Malde and Furmanek, 2013</a>), developing representative proteomes and proteome clusters (<span class=\"xrefLink\" id=\"jumplink-btu739-B8\"></span><a href=\"javascript:;\" reveal-id=\"btu739-B8\" data-open=\"btu739-B8\" class=\"link link-ref link-reveal xref-bibr\">Chen <em>et al.</em>, 2011</a>), predicting the functional effects of disease variants (<span class=\"xrefLink\" id=\"jumplink-btu739-B5\"></span><a href=\"javascript:;\" reveal-id=\"btu739-B5\" data-open=\"btu739-B5\" class=\"link link-ref link-reveal xref-bibr\">Capriotti and Altman, 2011a</a>, <span class=\"xrefLink\" id=\"jumplink-btu739-B6\"></span><a href=\"javascript:;\" reveal-id=\"btu739-B6\" data-open=\"btu739-B6\" class=\"link link-ref link-reveal xref-bibr\">b</a>; <span class=\"xrefLink\" id=\"jumplink-btu739-B27\"></span><a href=\"javascript:;\" reveal-id=\"btu739-B27\" data-open=\"btu739-B27\" class=\"link link-ref link-reveal xref-bibr\">Sim <em>et al.</em>, 2012</a>), performing functional screening of metagenomics data (<span class=\"xrefLink\" id=\"jumplink-btu739-B9\"></span><a href=\"javascript:;\" reveal-id=\"btu739-B9\" data-open=\"btu739-B9\" class=\"link link-ref link-reveal xref-bibr\">Foerstner <em>et al.</em>, 2008</a>; <span class=\"xrefLink\" id=\"jumplink-btu739-B30\"></span><a href=\"javascript:;\" reveal-id=\"btu739-B30\" data-open=\"btu739-B30\" class=\"link link-ref link-reveal xref-bibr\">Wommack <em>et al</em>., 2012</a>), developing large-scale hierarchical clustering algorithms (<span class=\"xrefLink\" id=\"jumplink-btu739-B18\"></span><a href=\"javascript:;\" reveal-id=\"btu739-B18\" data-open=\"btu739-B18\" class=\"link link-ref link-reveal xref-bibr\">Loewenstein <em>et al.</em>, 2008</a>), studying gene duplication (<span class=\"xrefLink\" id=\"jumplink-btu739-B25\"></span><a href=\"javascript:;\" reveal-id=\"btu739-B25\" data-open=\"btu739-B25\" class=\"link link-ref link-reveal xref-bibr\">Rivera <em>et al.</em>, 2010</a>) and conducting genomic studies of peptide and oligonucleotide frequencies (<span class=\"xrefLink\" id=\"jumplink-btu739-B4\"></span><a href=\"javascript:;\" reveal-id=\"btu739-B4\" data-open=\"btu739-B4\" class=\"link link-ref link-reveal xref-bibr\">Capone <em>et al</em>., 2010</a>). Based on the UniProt usage statistics, UniRef web pages receive approximately 200 000 hits per month. The UniRef file download has been increasing steadily since its inception with an annual growth rate of 20% in recent years, now reaching more than 3000 annual unique IP downloads.</p><p class=\"chapter-para\">In this article, we present analysis of two additional qualities of UniRef databases: That clusters bring together proteins with similar to identical functional annotation and that similarity searches are faster and as sensitive as searches on native sequence databases. We also provide an update on UniRef database production and coverage.</p>                    <h2 scrollto-destination=2345098 id=\"2345098\" class=\"section-title js-splitscreen-section-title\" >2 System and methods</h2>\\r\\n                    <h3 scrollto-destination=2345099 id=\"2345099\" class=\"section-title js-splitscreen-section-title\" >2.1 UniRef database production</h3>\\r\\n<p class=\"chapter-para\">The UniRef databases have been produced as a component of <span class=\"xrefLink\" id=\"jumplink-btu739-B29\"></span><a href=\"javascript:;\" reveal-id=\"btu739-B29\" data-open=\"btu739-B29\" class=\"link link-ref link-reveal xref-bibr\">UniProt (2013)</a> since its first release in January 5, 2004 and updated with each release of UniProtKB. Production details were previously described (<span class=\"xrefLink\" id=\"jumplink-btu739-B28\"></span><a href=\"javascript:;\" reveal-id=\"btu739-B28\" data-open=\"btu739-B28\" class=\"link link-ref link-reveal xref-bibr\">Suzek <em>et al</em>., 2007</a>). Briefly, the databases are generated in a hierarchical fashion; UniRef100 clusters are generated first using sequences from UniProtKB and UniParc, UniRef90 clusters are then generated using UniRef100 clusters and UniRef50 clusters are generated using UniRef90 clusters. The clusters are computed using a parallelized version of the CD-HIT algorithm (<span class=\"xrefLink\" id=\"jumplink-btu739-B16\"></span><a href=\"javascript:;\" reveal-id=\"btu739-B16\" data-open=\"btu739-B16\" class=\"link link-ref link-reveal xref-bibr\">Li <em>et al.</em>, 2001</a>; <span class=\"xrefLink\" id=\"jumplink-btu739-B15\"></span><a href=\"javascript:;\" reveal-id=\"btu739-B15\" data-open=\"btu739-B15\" class=\"link link-ref link-reveal xref-bibr\">Li and Godzik, 2006)</a>. Using a full update procedure, the clusters are computed <em>ab initio</em> at the end of year and are updated for the remaining year using an incremental procedure that favors clustering of new sequences under existing clusters. The representatives of clusters are selected based on the level of curation (reviewed versus unreviewed), protein name (e.g. names do not contain hypothetical or putative preferred), source organism (e.g. proteins from model organisms preferred) and length of protein. The UniRef identifiers are derived from the cluster ‘representatives’ identifiers and are preserved for approximately 98% of the clusters between releases. UniRef production has been continuously enhanced to improve the quality and information content of the databases, as well as the efficiency of cluster computation to cope with explosive growth in sequences being reported.</p><p class=\"chapter-para\">Starting in January, 2013 an 80% sequence length overlap threshold was introduced for the computation of UniRef90 and UniRef50 databases, that is each member of a given UniRef90 and UniRef50 cluster will have a minimum length overlap of 80% with the longest (seed) sequence. Computed in this manner UniRef is conceptually similar to the PIRSF ‘homeomorphic’ family classification (<span class=\"xrefLink\" id=\"jumplink-btu739-B31\"></span><a href=\"javascript:;\" reveal-id=\"btu739-B31\" data-open=\"btu739-B31\" class=\"link link-ref link-reveal xref-bibr\">Wu <em>et al</em>., 2004</a>). This overlap threshold prevents proteins sharing only partial sequences from being clustered together. For example, polyproteins and their component proteins, or clusters of domain families partially sharing domain architecture. The threshold also improves intra-cluster molecular function consistency. UniRef100 is computed without the overlap threshold in order to remove sequence redundancy resulting from subfragments. The parallel cluster computation algorithm (<span class=\"xrefLink\" id=\"jumplink-btu739-B28\"></span><a href=\"javascript:;\" reveal-id=\"btu739-B28\" data-open=\"btu739-B28\" class=\"link link-ref link-reveal xref-bibr\">Suzek <em>et al</em>., 2007</a>) has been revised to accommodate the new overlap threshold.</p>                    <h3 scrollto-destination=2345102 id=\"2345102\" class=\"section-title js-splitscreen-section-title\" >2.2 Characterization of UniRef clusters</h3>\\r\\n<div class=\"&#xA;            block-child-p&#xA;            \">To characterize functional properties of UniRef clusters, we assess the intra-cluster molecular function consistency by using Gene Ontology (GO) (<span class=\"xrefLink\" id=\"jumplink-btu739-B2\"></span><a href=\"javascript:;\" reveal-id=\"btu739-B2\" data-open=\"btu739-B2\" class=\"link link-ref link-reveal xref-bibr\">Ashburner <em>et al.</em>, 2000</a>) molecular function annotations of cluster members in UniProtKB. The consistency between these GO term assignments can be at different levels ranging from all members sharing identical GO terms to members with unrelated GO terms that can only be traced back to the ROOT term in GO hierarchy (i.e. GO:0003674 molecular function). In defining the levels of consistency, we used the GO term specificity (<em>P</em>) metric computed based on a term’s hierarchical level: <div class=\"formula-wrap\"><div class=\"disp-formula\" id=\"btu739-M1\" content-id=\"btu739-M1\"><span class=\"mathFormula\"></span><div class=\"math\"><math xmlns=\"http://www.w3.org/1998/Math/MathML\"><mtable xmlns=\"\"><mtr columnalign=\"left\"><mtd><mrow><mi>P</mi><mo>=</mo><mn>1</mn><mo>−</mo><mfrac><mrow><mrow><mtext>Number</mtext><mo>\\u2009</mo><mtext>of</mtext><mo>\\u2009</mo><mtext>Offspring</mtext></mrow></mrow><mrow><mrow><mtext>Number</mtext><mo>\\u2009</mo><mtext>of</mtext><mo>\\u2009</mo><mtext>Offspring</mtext><mo>\\u2009</mo><mo>+</mo><mtext>Number</mtext><mo>\\u2009</mo><mtext>of</mtext><mo>\\u2009</mo><mtext>Ancestors</mtext></mrow></mrow></mfrac></mrow></mtd></mtr></mtable></math></div></div><span class=\"label\">(1)</span></div> (<span class=\"xrefLink\" id=\"jumplink-btu739-B19\"></span><a href=\"javascript:;\" reveal-id=\"btu739-B19\" data-open=\"btu739-B19\" class=\"link link-ref link-reveal xref-bibr\">Louie <em>et al.</em>, 2010</a>)</div><p class=\"chapter-para\">where a GO term is more specific (has a larger specificity metric) if the number of ancestors is greater than the number of descendants. The <span class=\"inline-formula no-formula-id\"><span class=\"mathFormula\"></span><math xmlns=\"http://www.w3.org/1998/Math/MathML\"><mrow xmlns=\"\"><mi>P</mi><mo>=</mo><mn>1.0</mn></mrow></math></span> means a GO term has no descendants (the most specific) and <span class=\"inline-formula no-formula-id\"><span class=\"mathFormula\"></span><math xmlns=\"http://www.w3.org/1998/Math/MathML\"><mrow xmlns=\"\"><mi>P</mi><mo>=</mo><mn>0.0</mn></mrow></math></span> means the ROOT term (i.e. GO:0003674 molecular function) that has no ancestors (the least specific).</p><p class=\"chapter-para\">Accordingly, we categorized UniRef clusters based on their intra-cluster consistency at four levels as shown and described in <span class=\"xrefLink\" id=\"jumplink-btu739-F1\"></span><a href=\"javascript:;\" reveal-id=\"btu739-F1\" data-open=\"btu739-F1\" class=\"link link-reveal link-table xref-fig\">Figure 1</a>. </p>                    <a id=\"2345106\" scrollto-destination=\"2345106\"></a>\\r\\n<div data-id=\"btu739-F1\" class=\"fig fig-section js-fig-section\"><div class=\"label fig-label\">Fig. 1.</div><div class=\"graphic-wrap\"><img class=\"content-image\" src=\"https://oup.silverchair-cdn.com/oup/backfile/Content_public/Journal/bioinformatics/31/6/10.1093/bioinformatics/btu739/2/m_btu739f1p.jpeg?Expires=1645116291&amp;Signature=BE4tOWJZWqNCcXa6YgaqN3krifVlgAbsqzfP637-k0eHKpGpWTZsEyb7WiaF4Xn3ppfpnkXtu63UVlx-74TCqnlgUe2RlGRpqKaB4OUfSWSB2PKDK5MZD64ioMa1DFDGhaGjCVpjZ~7qfZmFePMGRHg8Ghz2~Fa7H~BdWgpEST7upKyGiBVSD1xSyy5m2iB5z9yrUZH9YMuIfiMVhgprTdu1vmUZuKXS2rP9M6GS38HZJq17rpj98r3Tw-xv7otNhb8NdpwuvoKZ5WCrsSa9g9J1UmGDFCbJ6q7GWFsdo8YWX1qC4gAvtslSiO2luc0lGlO0wZcFEn-tPyauTdSdQQ__&amp;Key-Pair-Id=APKAIE5G5CRDK6RD3PGA\" alt=\"The categories of UniRef clusters based on intra-cluster functional consistency. Upper left panel shows an example of GO term hierarchy used. Other panels illustrate the UniRef clusters in categories based on their intra-cluster consistency; I (All members have identical GO terms), II-1 (all members share common GO terms and some have additional less or equally specific GO terms, not children of the shared GO terms), II-2 (all members share common GO terms and some have additional more specific GO terms), III (only some members share common GO terms but all member’s GO terms can be traced to a common non-root parent GO term, is a child of one of the shared GO terms) and IV (members do not have any common GO term and the existing ones cannot be traced to a common non-root parent GO term)\" data-path-from-xml=\"btu739f1p.tif\" /><div class=\"fig-orig original-slide\"><a class=\"fig-view-orig js-view-large openInAnotherWindow\" href=\"/view-large/figure/2345106/btu739f1p.tif\" data-path-from-xml=\"btu739f1p.tif\" target=\"_blank\">Open in new tab</a><a data-section=\"2345106\" href=\"/DownloadFile/DownloadImage.aspx?image=https://oup.silverchair-cdn.com/oup/backfile/Content_public/Journal/bioinformatics/31/6/10.1093/bioinformatics/btu739/2/btu739f1p.jpeg?Expires=1645116291&Signature=ycxG74-AS8naQKoKTFEqAuCBvtLR0oiYiOWuD42gL7jbQSv44iVQsXwC8kEEut7cz5GyiuiBWy3BRJfzFTnexyGhre3CAv05KJStBt~JXz964cK6~3ZuO26OMS4Xcdr37QAebI9daw-isOdnajOqztpRvRG-9tveG02CQE4FJspkriHdI5sjjEo8T1uiCrJ3CyzZDfMu3aOW8VsM998B~qGCkCaaw7302KYeIqTWknJoecw38ViNEUDEMWWFhVSi0C5it934nNzAw4qgEMSejUjCde888fGQOmSzexSoAJ5DiVomuzju~192cyWEYyilwUQ0ZBo817W52Ahx2pvFKw__&Key-Pair-Id=APKAIE5G5CRDK6RD3PGA&sec=2345106&ar=214968&xsltPath=~/UI/app/XSLT&imagename=&siteId=5139\" class=\"download-slide\" data-path-from-xml=\"btu739f1p.tif\">Download slide</a></div></div><div class=\"caption fig-caption\"><p class=\"chapter-para\">The categories of UniRef clusters based on intra-cluster functional consistency. Upper left panel shows an example of GO term hierarchy used. Other panels illustrate the UniRef clusters in categories based on their intra-cluster consistency; I (All members have identical GO terms), II-1 (all members share common GO terms and some have additional less or equally specific GO terms, not children of the shared GO terms), II-2 (all members share common GO terms and some have additional more specific GO terms), III (only some members share common GO terms but all member’s GO terms can be traced to a common non-root parent GO term, is a child of one of the shared GO terms) and IV (members do not have any common GO term and the existing ones cannot be traced to a common non-root parent GO term)</p></div></div><div content-id=\"btu739-F1\" class=\"fig fig-modal reveal-modal\"><div class=\"label fig-label\">Fig. 1.</div><div class=\"graphic-wrap\"><img class=\"content-image\" src=\"https://oup.silverchair-cdn.com/oup/backfile/Content_public/Journal/bioinformatics/31/6/10.1093/bioinformatics/btu739/2/m_btu739f1p.jpeg?Expires=1645116291&amp;Signature=BE4tOWJZWqNCcXa6YgaqN3krifVlgAbsqzfP637-k0eHKpGpWTZsEyb7WiaF4Xn3ppfpnkXtu63UVlx-74TCqnlgUe2RlGRpqKaB4OUfSWSB2PKDK5MZD64ioMa1DFDGhaGjCVpjZ~7qfZmFePMGRHg8Ghz2~Fa7H~BdWgpEST7upKyGiBVSD1xSyy5m2iB5z9yrUZH9YMuIfiMVhgprTdu1vmUZuKXS2rP9M6GS38HZJq17rpj98r3Tw-xv7otNhb8NdpwuvoKZ5WCrsSa9g9J1UmGDFCbJ6q7GWFsdo8YWX1qC4gAvtslSiO2luc0lGlO0wZcFEn-tPyauTdSdQQ__&amp;Key-Pair-Id=APKAIE5G5CRDK6RD3PGA\" alt=\"The categories of UniRef clusters based on intra-cluster functional consistency. Upper left panel shows an example of GO term hierarchy used. Other panels illustrate the UniRef clusters in categories based on their intra-cluster consistency; I (All members have identical GO terms), II-1 (all members share common GO terms and some have additional less or equally specific GO terms, not children of the shared GO terms), II-2 (all members share common GO terms and some have additional more specific GO terms), III (only some members share common GO terms but all member’s GO terms can be traced to a common non-root parent GO term, is a child of one of the shared GO terms) and IV (members do not have any common GO term and the existing ones cannot be traced to a common non-root parent GO term)\" data-path-from-xml=\"btu739f1p.tif\" /><div class=\"fig-orig original-slide\"><a class=\"fig-view-orig js-view-large openInAnotherWindow\" href=\"/view-large/figure/2345106/btu739f1p.tif\" data-path-from-xml=\"btu739f1p.tif\" target=\"_blank\">Open in new tab</a><a data-section=\"2345106\" href=\"/DownloadFile/DownloadImage.aspx?image=https://oup.silverchair-cdn.com/oup/backfile/Content_public/Journal/bioinformatics/31/6/10.1093/bioinformatics/btu739/2/btu739f1p.jpeg?Expires=1645116291&Signature=ycxG74-AS8naQKoKTFEqAuCBvtLR0oiYiOWuD42gL7jbQSv44iVQsXwC8kEEut7cz5GyiuiBWy3BRJfzFTnexyGhre3CAv05KJStBt~JXz964cK6~3ZuO26OMS4Xcdr37QAebI9daw-isOdnajOqztpRvRG-9tveG02CQE4FJspkriHdI5sjjEo8T1uiCrJ3CyzZDfMu3aOW8VsM998B~qGCkCaaw7302KYeIqTWknJoecw38ViNEUDEMWWFhVSi0C5it934nNzAw4qgEMSejUjCde888fGQOmSzexSoAJ5DiVomuzju~192cyWEYyilwUQ0ZBo817W52Ahx2pvFKw__&Key-Pair-Id=APKAIE5G5CRDK6RD3PGA&sec=2345106&ar=214968&xsltPath=~/UI/app/XSLT&imagename=&siteId=5139\" class=\"download-slide\" data-path-from-xml=\"btu739f1p.tif\">Download slide</a></div></div><div class=\"caption fig-caption\"><p class=\"chapter-para\">The categories of UniRef clusters based on intra-cluster functional consistency. Upper left panel shows an example of GO term hierarchy used. Other panels illustrate the UniRef clusters in categories based on their intra-cluster consistency; I (All members have identical GO terms), II-1 (all members share common GO terms and some have additional less or equally specific GO terms, not children of the shared GO terms), II-2 (all members share common GO terms and some have additional more specific GO terms), III (only some members share common GO terms but all member’s GO terms can be traced to a common non-root parent GO term, is a child of one of the shared GO terms) and IV (members do not have any common GO term and the existing ones cannot be traced to a common non-root parent GO term)</p></div></div>                    <h3 scrollto-destination=2345107 id=\"2345107\" class=\"section-title js-splitscreen-section-title\" >2.3 UniRef databases for sequence similarity searches</h3>\\r\\n<p class=\"chapter-para\">Sequence similarity searches against UniRef database leverage its strength in removing sequencing bias and redundancy, while taking advantage of its power of clustering proteins of similar function (see Section 3.3). Users can avoid compiling and comparing hundreds of BLAST (<span class=\"xrefLink\" id=\"jumplink-btu739-B1\"></span><a href=\"javascript:;\" reveal-id=\"btu739-B1\" data-open=\"btu739-B1\" class=\"link link-ref link-reveal xref-bibr\">Altschul <em>et al</em>., 1990</a>) result pages containing highly similar, if not identical, sequences. Similarity searches against protein sequence clusters have been shown to be equally sensitive but return faster results (<span class=\"xrefLink\" id=\"jumplink-btu739-B22\"></span><a href=\"javascript:;\" reveal-id=\"btu739-B22\" data-open=\"btu739-B22\" class=\"link link-ref link-reveal xref-bibr\">Park <em>et al.</em>, 2000</a>; <span class=\"xrefLink\" id=\"jumplink-btu739-B17\"></span><a href=\"javascript:;\" reveal-id=\"btu739-B17\" data-open=\"btu739-B17\" class=\"link link-ref link-reveal xref-bibr\">Li <em>et al</em>., 2002</a>; <span class=\"xrefLink\" id=\"jumplink-btu739-B12\"></span><a href=\"javascript:;\" reveal-id=\"btu739-B12\" data-open=\"btu739-B12\" class=\"link link-ref link-reveal xref-bibr\">Itoh <em>et al</em>., 2004</a>; <span class=\"xrefLink\" id=\"jumplink-btu739-B3\"></span><a href=\"javascript:;\" reveal-id=\"btu739-B3\" data-open=\"btu739-B3\" class=\"link link-ref link-reveal xref-bibr\">Cameron <em>et al</em>., 2007</a>) when compared against native sequence databases of sizes ranging from approximately 400 000 to 2.6 million sequences—several fold smaller than current sequence set used to compute UniRef databases. We tested the effectiveness and performance of UniRef50 for sequence similarity searches as an ever-expanding and continuously updated database available to scientific community.</p><p class=\"chapter-para\">To do this, we compared results from two full-scale BLASTP searches using UniProtKB/Swiss-Prot query sequences against two separate target databases. UniProtKB/Swiss-Prot is a query set that contains sequences of different length, taxonomy and composition. The first BLASTP search used the UniRef50 cluster seed sequences as a target database and the search results were expanded using the members of the corresponding UniRef50 clusters upon completion of the run (referred to as ‘UniRef50-based searches’). The expanded results included all the subfragments computed at UniRef100 level. The second BLASTP search used all of the UniProtKB sequences as a target database (referred to as ‘UniProtKB-based searches’). In either BLASTP search, the same effective database size (computed based on target consisting of UniProtKB sequences), <em>e</em>-value threshold (10) and a large hit list size (10 million) are used as parameters.</p><div class=\"&#xA;            block-child-p&#xA;            \">The UniRef50-based and UniProtKB-based searches are compared using precision and recall, defined as: <div class=\"formula-wrap\"><div class=\"disp-formula\" id=\"btu739-M2\" content-id=\"btu739-M2\"><span class=\"mathFormula\"></span><div class=\"math\"><math xmlns=\"http://www.w3.org/1998/Math/MathML\"><mtable xmlns=\"\"><mtr><mtd><maligngroup></maligngroup><mtext>Precision</mtext><mo>\\u2009</mo><malignmark></malignmark><mtext>=</mtext><mo>\\u2009</mo><mfrac><mrow><mrow><mtext>True Positive</mtext></mrow></mrow><mrow><mrow><mtext>True Positive+False Negative</mtext></mrow></mrow></mfrac></mtd></mtr><mtr><mtd><maligngroup></maligngroup><malignmark></malignmark><mtext>=</mtext><mfrac><mrow><mrow><mtext> Numbers\\u2009of\\u2009hits\\u2009common\\u2009to\\u2009UniProtKB\\u2009and\\u2009UniRef50-based\\u2009searches</mtext></mrow></mrow><mrow><mrow><mtext>Numbers\\u2009of \\u2009hits\\u2009in\\u2009expanded \\u2009UniRef50-based\\u2009search</mtext></mrow></mrow></mfrac></mtd></mtr></mtable></math></div></div><span class=\"label\">(2)</span></div><div class=\"formula-wrap\"><div class=\"disp-formula\" id=\"btu739-M3\" content-id=\"btu739-M3\"><span class=\"mathFormula\"></span><div class=\"math\"><math xmlns=\"http://www.w3.org/1998/Math/MathML\"><mtable xmlns=\"\"><mtr><mtd><maligngroup></maligngroup><mtext>Recall</mtext><mo>\\u2009</mo><malignmark></malignmark><mtext>=</mtext><mo>\\u2009</mo><mfrac><mrow><mrow><mtext>True Positive</mtext></mrow></mrow><mrow><mrow><mtext>True Positive+False Negative</mtext></mrow></mrow></mfrac></mtd></mtr><mtr><mtd><maligngroup></maligngroup><malignmark></malignmark><mtext>=</mtext><mfrac><mrow><mrow><mtext>Numbers\\u2009of\\u2009hits\\u2009common \\u2009to\\u2009UniProtKB \\u2009and\\u2009UniRef50-based\\u2009searches</mtext></mrow></mrow><mrow><mrow><mtext>Numbers\\u2009of\\u2009hits\\u2009in\\u2009UniProtKB-based\\u2009search</mtext></mrow></mrow></mfrac><mtext>\\u2002</mtext></mtd></mtr></mtable></math></div></div><span class=\"label\">(3)</span></div> where ‘hits in expanded UniRef-50-based search’ consist of all underlying cluster members. These metrics assume the UniProtKB-based searches result in all true hits.</div><p class=\"chapter-para\"><span class=\"xrefLink\" id=\"jumplink-btu739-B21\"></span><a href=\"javascript:;\" reveal-id=\"btu739-B21\" data-open=\"btu739-B21\" class=\"link link-ref link-reveal xref-bibr\">Malde and Furmanek (2013)</a> showed that using UniRef50 as an intermediate database can increase sequence search sensitivity when compared with directly searching the target database. In our study, to compare the ability of UniRef50-based and UniProtKB-based searches to detect distant similarity by BLASTP, we constructed an evaluation dataset based on a different criterion. Pfam domains are detected by curated hidden Markov models, a sensitive means to detect distant similarities that can be expected to find even remotely similar domains. Our dataset contained query–target pairs of UniProtKB/Swiss-Prot Human (query) and UniProtKB (target) protein sequences where query and target share at least one Pfam (<span class=\"xrefLink\" id=\"jumplink-btu739-B23\"></span><a href=\"javascript:;\" reveal-id=\"btu739-B23\" data-open=\"btu739-B23\" class=\"link link-ref link-reveal xref-bibr\">Punta <em>et al</em>., 2012</a>) domain spanning more than 80% of the target protein. <span class=\"xrefLink\" id=\"jumplink-btu739-F2\"></span><a href=\"javascript:;\" reveal-id=\"btu739-F2\" data-open=\"btu739-F2\" class=\"link link-reveal link-table xref-fig\">Figure 2</a> shows an example for targets UniProtKB:A75004 and UniProtKB:Q8I288 that are paired with UniProtKB:P40123 using two domains Pfam:PF01213 and Pfam:PF08603. From a total of 20 247 UniProtKB/Swiss-Prot human sequences, 15 537 paired with at least one target protein meeting our criteria, resulting in 43 523 748 query–target pairs. We also used all InterPro (<span class=\"xrefLink\" id=\"jumplink-btu739-B11\"></span><a href=\"javascript:;\" reveal-id=\"btu739-B11\" data-open=\"btu739-B11\" class=\"link link-ref link-reveal xref-bibr\">Hunter <em>et al</em>., 2012</a>) domains to construct an alternative evaluation dataset with the same query set and criteria. This dataset contained 831 524 768 pairs for 18 049 queries. </p>                    <a id=\"2345112\" scrollto-destination=\"2345112\"></a>\\r\\n<div data-id=\"btu739-F2\" class=\"fig fig-section js-fig-section\"><div class=\"label fig-label\">Fig. 2.</div><div class=\"graphic-wrap\"><img class=\"content-image\" src=\"https://oup.silverchair-cdn.com/oup/backfile/Content_public/Journal/bioinformatics/31/6/10.1093/bioinformatics/btu739/2/m_btu739f2p.jpeg?Expires=1645116291&amp;Signature=NxNOmxc-dLRGHiQMJOsKVRWgJopLWKlyJUvLa-BVnVkghh6VS1xcadwcCVZo0om~WBzydkgDKzA0JU5eoQ9kNFgqxLI32-zYF1cOcl7pNIe6TaRtPdjLpRyzucFImb6~y6JXbbuO9p5Nqp7suQ15OrMarJrmlok5JVz2DtHqJOsn5rVbXHBq6IWdptAhZoNUkBqN5~dT83WBLpkXiqGlIw7wOjP1tChppB6Temv0o5m7feQ4vh54NH3S5LXgS0bnk8ZovJA-caPIRB79UBme5VnKqLrX2-VJOc5GZ4lbRJLbxDJl15OuHsEFUDd89FzDzrFhjb6TGJMBY5kWtQGfCA__&amp;Key-Pair-Id=APKAIE5G5CRDK6RD3PGA\" alt=\"Example UniProtKB/Swiss-Prot (query) and UniProtKB (target) pairs for distant similarity detection analysis, where Pfam domains common to query and targets span more than 80% of target protein sequences\" data-path-from-xml=\"btu739f2p.tif\" /><div class=\"fig-orig original-slide\"><a class=\"fig-view-orig js-view-large openInAnotherWindow\" href=\"/view-large/figure/2345112/btu739f2p.tif\" data-path-from-xml=\"btu739f2p.tif\" target=\"_blank\">Open in new tab</a><a data-section=\"2345112\" href=\"/DownloadFile/DownloadImage.aspx?image=https://oup.silverchair-cdn.com/oup/backfile/Content_public/Journal/bioinformatics/31/6/10.1093/bioinformatics/btu739/2/btu739f2p.jpeg?Expires=1645116291&Signature=sY2IJZKqQaR28wxt9EPZ1QhLlGv~i4lWGEtSYs9VjEC008Rvwqs2xVfKIiWJcBpYqeh4BOVDVz4qoSjviIu920NDuQCf-B4AusjsLXy~zE0nSmtTXW3SE6bAhIAk3eHpdAsuxIJOL4KqA1Xffn8WXJHsQ5sFXeXrXaLVhpRzlJN1A5BbE6fwCKqZWrs0lzTbLJbz2m63QC39EJ5WfizQcczkSX7mQ1MSkcER09SRgLgAdqh3DNsZSdXWu3nSjOTJ1tPt0HjxemlYEcPFbjIYZllamzII~eRfFN-TWk33F6cZiCH9x~5-i2sbRzCVUXMlRe4o3IK5lm5DXShIwYbYyw__&Key-Pair-Id=APKAIE5G5CRDK6RD3PGA&sec=2345112&ar=214968&xsltPath=~/UI/app/XSLT&imagename=&siteId=5139\" class=\"download-slide\" data-path-from-xml=\"btu739f2p.tif\">Download slide</a></div></div><div class=\"caption fig-caption\"><p class=\"chapter-para\">Example UniProtKB/Swiss-Prot (query) and UniProtKB (target) pairs for distant similarity detection analysis, where Pfam domains common to query and targets span more than 80% of target protein sequences</p></div></div><div content-id=\"btu739-F2\" class=\"fig fig-modal reveal-modal\"><div class=\"label fig-label\">Fig. 2.</div><div class=\"graphic-wrap\"><img class=\"content-image\" src=\"https://oup.silverchair-cdn.com/oup/backfile/Content_public/Journal/bioinformatics/31/6/10.1093/bioinformatics/btu739/2/m_btu739f2p.jpeg?Expires=1645116291&amp;Signature=NxNOmxc-dLRGHiQMJOsKVRWgJopLWKlyJUvLa-BVnVkghh6VS1xcadwcCVZo0om~WBzydkgDKzA0JU5eoQ9kNFgqxLI32-zYF1cOcl7pNIe6TaRtPdjLpRyzucFImb6~y6JXbbuO9p5Nqp7suQ15OrMarJrmlok5JVz2DtHqJOsn5rVbXHBq6IWdptAhZoNUkBqN5~dT83WBLpkXiqGlIw7wOjP1tChppB6Temv0o5m7feQ4vh54NH3S5LXgS0bnk8ZovJA-caPIRB79UBme5VnKqLrX2-VJOc5GZ4lbRJLbxDJl15OuHsEFUDd89FzDzrFhjb6TGJMBY5kWtQGfCA__&amp;Key-Pair-Id=APKAIE5G5CRDK6RD3PGA\" alt=\"Example UniProtKB/Swiss-Prot (query) and UniProtKB (target) pairs for distant similarity detection analysis, where Pfam domains common to query and targets span more than 80% of target protein sequences\" data-path-from-xml=\"btu739f2p.tif\" /><div class=\"fig-orig original-slide\"><a class=\"fig-view-orig js-view-large openInAnotherWindow\" href=\"/view-large/figure/2345112/btu739f2p.tif\" data-path-from-xml=\"btu739f2p.tif\" target=\"_blank\">Open in new tab</a><a data-section=\"2345112\" href=\"/DownloadFile/DownloadImage.aspx?image=https://oup.silverchair-cdn.com/oup/backfile/Content_public/Journal/bioinformatics/31/6/10.1093/bioinformatics/btu739/2/btu739f2p.jpeg?Expires=1645116291&Signature=sY2IJZKqQaR28wxt9EPZ1QhLlGv~i4lWGEtSYs9VjEC008Rvwqs2xVfKIiWJcBpYqeh4BOVDVz4qoSjviIu920NDuQCf-B4AusjsLXy~zE0nSmtTXW3SE6bAhIAk3eHpdAsuxIJOL4KqA1Xffn8WXJHsQ5sFXeXrXaLVhpRzlJN1A5BbE6fwCKqZWrs0lzTbLJbz2m63QC39EJ5WfizQcczkSX7mQ1MSkcER09SRgLgAdqh3DNsZSdXWu3nSjOTJ1tPt0HjxemlYEcPFbjIYZllamzII~eRfFN-TWk33F6cZiCH9x~5-i2sbRzCVUXMlRe4o3IK5lm5DXShIwYbYyw__&Key-Pair-Id=APKAIE5G5CRDK6RD3PGA&sec=2345112&ar=214968&xsltPath=~/UI/app/XSLT&imagename=&siteId=5139\" class=\"download-slide\" data-path-from-xml=\"btu739f2p.tif\">Download slide</a></div></div><div class=\"caption fig-caption\"><p class=\"chapter-para\">Example UniProtKB/Swiss-Prot (query) and UniProtKB (target) pairs for distant similarity detection analysis, where Pfam domains common to query and targets span more than 80% of target protein sequences</p></div></div><p class=\"chapter-para\">We then counted how many of these query–target pairs are detected by each search. For each human query sequence, we computed the percent difference in related sequences detected by UniRef50-based searches (expanded to all cluster members) versus UniProtKB-based searches. In essence, we try to identify distant similarities missed by UniProtKB- or UniRef50-based searches that are typically identified through domain families.</p>                    <h2 scrollto-destination=2345114 id=\"2345114\" class=\"section-title js-splitscreen-section-title\" >3 Results and discussion</h2>\\r\\n                    <h3 scrollto-destination=2345115 id=\"2345115\" class=\"section-title js-splitscreen-section-title\" >3.1 Database coverage, size reduction and cluster distribution</h3>\\r\\n<p class=\"chapter-para\">UniRef release 2014_08 (September 3, 2014) was computed from 96 055 068 sequences, including all UniProtKB sequences and isoforms (82 710 662) plus selected UniParc sequences (13 344 406) that were not represented in UniProtKB. It consists of 44 408 603 (UniRef100), 25 890 643 (UniRef90) and 11 862 245 (UniRef50) clusters, with a database size reduction of 54%, 73% and 88%, respectively. Although the sequence space has expanded over 80-fold since the first release in 2004, the parallel CD-HIT clustering algorithm modified for UniRef (<span class=\"xrefLink\" id=\"jumplink-btu739-B28\"></span><a href=\"javascript:;\" reveal-id=\"btu739-B28\" data-open=\"btu739-B28\" class=\"link link-ref link-reveal xref-bibr\">Suzek <em>et al.</em>, 2007</a>) has proven to be effective in coping with sequence growth. Furthermore, the introduction of the 80% sequence length overlap threshold to the computation of UniRef90 and UniRef50 reduced the compute time more than 5-fold, further improving the scalability of UniRef. Note that the new overlap threshold has little effect on UniRef50 cluster topologies, since it results in less than 5% increase in number of clusters and less than 2% change of representative sequences.</p><p class=\"chapter-para\">The number of protein sequences in UniProtKB continues to rise at an accelerated pace (<span class=\"xrefLink\" id=\"jumplink-btu739-F3\"></span><a href=\"javascript:;\" reveal-id=\"btu739-F3\" data-open=\"btu739-F3\" class=\"link link-reveal link-table xref-fig\">Fig. 3</a>). Comparing the growth of UniRef with UniProtKB shows a correspondingly improved relative reduction in database size by UniRef, particularly apparent in the last 3 years. The relative reduction in database size went from 5%/42%/70% in 2004 to 54%/73%/88% in 2014 for UniRef100, UniRef90 and UniRef50, respectively, illustrating the effectiveness of UniRef in minimizing sequence redundancy. </p>                    <a id=\"2345118\" scrollto-destination=\"2345118\"></a>\\r\\n<div data-id=\"btu739-F3\" class=\"fig fig-section js-fig-section\"><div class=\"label fig-label\">Fig. 3.</div><div class=\"graphic-wrap\"><img class=\"content-image\" src=\"https://oup.silverchair-cdn.com/oup/backfile/Content_public/Journal/bioinformatics/31/6/10.1093/bioinformatics/btu739/2/m_btu739f3p.jpeg?Expires=1645116291&amp;Signature=PK9bagDCWqUVYiPrTecr9AgwMqUcHdO4jKXFSVJwlCQ5HcoA1L0WHOhaD9oWugzskwujuA4bk60hXq2nvdMqmi9Mz1I2JbIAG4YxaF6EvgWKVZeRkx6JQNpC4NvFLmlZeRk62sZlMXup2QPWjrLONLBRs7jPenPIo86XegdCo8YKZyB0rK1X-bHi4GB6CyEwiEKFjGCLJ2tsiC3gBxgdeIb7LbThEDelhrBXBDSqwfOMzTr3jj9e6b-2OVQbOXw9Pivn4p7zpZ3RpEer8PC4ysEoiKdAbr7qOS6ujtMCKVprP91uE6V-HwybOwoULy2JZpYRrJp7ev-1l3mHLe~v-Q__&amp;Key-Pair-Id=APKAIE5G5CRDK6RD3PGA\" alt=\"Growth of UniRef databases and UniProt Knowledgebase\" data-path-from-xml=\"btu739f3p.tif\" /><div class=\"fig-orig original-slide\"><a class=\"fig-view-orig js-view-large openInAnotherWindow\" href=\"/view-large/figure/2345118/btu739f3p.tif\" data-path-from-xml=\"btu739f3p.tif\" target=\"_blank\">Open in new tab</a><a data-section=\"2345118\" href=\"/DownloadFile/DownloadImage.aspx?image=https://oup.silverchair-cdn.com/oup/backfile/Content_public/Journal/bioinformatics/31/6/10.1093/bioinformatics/btu739/2/btu739f3p.jpeg?Expires=1645116291&Signature=qke0K-0kNZee4y2A3rgnPF0OuNUn3YHvhuRcveWzv7iQtmncsB3dwyr7wnDAmmcyrPRZWmiO3ethZ610NCCF~T9hukN3-1mSa1eqqgN-45kvRcskTkG5soIsd5ZGk4Y9KhpXN5Pm9dOHvBCBCA~ih3OijgW3-GU8OtB5hAMboYn2lmgnG6~AdTBGkCKtg7O9AKxUachyI9bt7v-efX7vJU3sKsykXTYAhCOrAlGzZj9bXkhHB45YoHZyh0qSMj1bplwdlG8VW7j6Qg6TBYmfNMq4rQqUFLNRYksvXGmGUXN50qKa8E5hO121E-CirceLsINx3qWh8PzxMivT-u1ClA__&Key-Pair-Id=APKAIE5G5CRDK6RD3PGA&sec=2345118&ar=214968&xsltPath=~/UI/app/XSLT&imagename=&siteId=5139\" class=\"download-slide\" data-path-from-xml=\"btu739f3p.tif\">Download slide</a></div></div><div class=\"caption fig-caption\"><p class=\"chapter-para\">Growth of UniRef databases and UniProt Knowledgebase</p></div></div><div content-id=\"btu739-F3\" class=\"fig fig-modal reveal-modal\"><div class=\"label fig-label\">Fig. 3.</div><div class=\"graphic-wrap\"><img class=\"content-image\" src=\"https://oup.silverchair-cdn.com/oup/backfile/Content_public/Journal/bioinformatics/31/6/10.1093/bioinformatics/btu739/2/m_btu739f3p.jpeg?Expires=1645116291&amp;Signature=PK9bagDCWqUVYiPrTecr9AgwMqUcHdO4jKXFSVJwlCQ5HcoA1L0WHOhaD9oWugzskwujuA4bk60hXq2nvdMqmi9Mz1I2JbIAG4YxaF6EvgWKVZeRkx6JQNpC4NvFLmlZeRk62sZlMXup2QPWjrLONLBRs7jPenPIo86XegdCo8YKZyB0rK1X-bHi4GB6CyEwiEKFjGCLJ2tsiC3gBxgdeIb7LbThEDelhrBXBDSqwfOMzTr3jj9e6b-2OVQbOXw9Pivn4p7zpZ3RpEer8PC4ysEoiKdAbr7qOS6ujtMCKVprP91uE6V-HwybOwoULy2JZpYRrJp7ev-1l3mHLe~v-Q__&amp;Key-Pair-Id=APKAIE5G5CRDK6RD3PGA\" alt=\"Growth of UniRef databases and UniProt Knowledgebase\" data-path-from-xml=\"btu739f3p.tif\" /><div class=\"fig-orig original-slide\"><a class=\"fig-view-orig js-view-large openInAnotherWindow\" href=\"/view-large/figure/2345118/btu739f3p.tif\" data-path-from-xml=\"btu739f3p.tif\" target=\"_blank\">Open in new tab</a><a data-section=\"2345118\" href=\"/DownloadFile/DownloadImage.aspx?image=https://oup.silverchair-cdn.com/oup/backfile/Content_public/Journal/bioinformatics/31/6/10.1093/bioinformatics/btu739/2/btu739f3p.jpeg?Expires=1645116291&Signature=qke0K-0kNZee4y2A3rgnPF0OuNUn3YHvhuRcveWzv7iQtmncsB3dwyr7wnDAmmcyrPRZWmiO3ethZ610NCCF~T9hukN3-1mSa1eqqgN-45kvRcskTkG5soIsd5ZGk4Y9KhpXN5Pm9dOHvBCBCA~ih3OijgW3-GU8OtB5hAMboYn2lmgnG6~AdTBGkCKtg7O9AKxUachyI9bt7v-efX7vJU3sKsykXTYAhCOrAlGzZj9bXkhHB45YoHZyh0qSMj1bplwdlG8VW7j6Qg6TBYmfNMq4rQqUFLNRYksvXGmGUXN50qKa8E5hO121E-CirceLsINx3qWh8PzxMivT-u1ClA__&Key-Pair-Id=APKAIE5G5CRDK6RD3PGA&sec=2345118&ar=214968&xsltPath=~/UI/app/XSLT&imagename=&siteId=5139\" class=\"download-slide\" data-path-from-xml=\"btu739f3p.tif\">Download slide</a></div></div><div class=\"caption fig-caption\"><p class=\"chapter-para\">Growth of UniRef databases and UniProt Knowledgebase</p></div></div><p class=\"chapter-para\">The size distribution of UniRef clusters continues to follow a logarithmic curve (<span class=\"xrefLink\" id=\"jumplink-btu739-F4\"></span><a href=\"javascript:;\" reveal-id=\"btu739-F4\" data-open=\"btu739-F4\" class=\"link link-reveal link-table xref-fig\">Fig. 4</a>), consistent with the power law distributions observed in a variety of bioinformatics measures (<span class=\"xrefLink\" id=\"jumplink-btu739-B20\"></span><a href=\"javascript:;\" reveal-id=\"btu739-B20\" data-open=\"btu739-B20\" class=\"link link-ref link-reveal xref-bibr\">Luscombe <em>et al</em>., 2002</a>; <span class=\"xrefLink\" id=\"jumplink-btu739-B13\"></span><a href=\"javascript:;\" reveal-id=\"btu739-B13\" data-open=\"btu739-B13\" class=\"link link-ref link-reveal xref-bibr\">Kunin <em>et al</em>., 2005</a>; <span class=\"xrefLink\" id=\"jumplink-btu739-B14\"></span><a href=\"javascript:;\" reveal-id=\"btu739-B14\" data-open=\"btu739-B14\" class=\"link link-ref link-reveal xref-bibr\">Lee <em>et al</em>., 2005</a>). Single-member clusters constitute a majority of UniRef clusters at all levels; 67% of UniRef50 clusters, 78% of UniRef90 clusters and 89% of UniRef100 clusters have only one member. The largest UniRef100 cluster in the current release 2014_01 contains 9215 highly conserved ‘Histone H3.2’ proteins from eukaryotes, the largest UniRef90 cluster contains 43 060 ‘Ribulose bisphosphate carboxylase large chain’ proteins mainly from eukaryotes and a few unknown organisms (environmental samples), and the largest UniRef50 cluster contains 76 446 ‘Cytochrome c oxidase subunit 1’ proteins from eukaryotes. </p>                    <a id=\"2345120\" scrollto-destination=\"2345120\"></a>\\r\\n<div data-id=\"btu739-F4\" class=\"fig fig-section js-fig-section\"><div class=\"label fig-label\">Fig. 4.</div><div class=\"graphic-wrap\"><img class=\"content-image\" src=\"https://oup.silverchair-cdn.com/oup/backfile/Content_public/Journal/bioinformatics/31/6/10.1093/bioinformatics/btu739/2/m_btu739f4p.jpeg?Expires=1645116291&amp;Signature=21ThF0dRvE9yYhVODnK31iz5CFS1oC0CRGCWGsni~2tJS2HknmwAthRUh~yROEggiFo8-on~8B~AY8lJ43ESLmTd-FF-EnLzghL7r4JFFJCFSIufHT9OCUL5xst8idYrEG2ZWsxqxV4UW8LIfUUxmbqAMYoXoFNfSm2aLYzo4MqaFq~xtblynXYNCr0HwPuiLgjyCnUmzRUqCB0Wr9u4cPliDxB7fRc~0n3-~6mr62RSpvQlNK~u7WwGU4zLeZS-9BllF9M7mYeLQ~l2YzZZpukcvG01zTN6wCRH2TwvGyis0R2nSePYwblMyNyHtikGRlKcC~Crd8QLQS1~951~nw__&amp;Key-Pair-Id=APKAIE5G5CRDK6RD3PGA\" alt=\"The size distribution of UniRef clusters follows a power law distribution\" data-path-from-xml=\"btu739f4p.tif\" /><div class=\"fig-orig original-slide\"><a class=\"fig-view-orig js-view-large openInAnotherWindow\" href=\"/view-large/figure/2345120/btu739f4p.tif\" data-path-from-xml=\"btu739f4p.tif\" target=\"_blank\">Open in new tab</a><a data-section=\"2345120\" href=\"/DownloadFile/DownloadImage.aspx?image=https://oup.silverchair-cdn.com/oup/backfile/Content_public/Journal/bioinformatics/31/6/10.1093/bioinformatics/btu739/2/btu739f4p.jpeg?Expires=1645116291&Signature=IoRDCoZiJteG~pp1LRK~CNr4PqanR9YgYJbjzfoOJvPeanls4xWYQNpjimhuvnRNS-shefWZjqHYyPOaZu5FC0~z3G9ExYmnmavtT2k-SAydFL-cPtrCS4icbz0KU3gdYfK7g~3oVwsKSorpykyHGwdFS-kRiSvEZEAam9-MaC~bHS75rS2GOGtl9OsMEwpBEF961U5bNexgC61yoi~R7ugNsQSuDiBwbra6TYfjibBUMKDQzj-NY00hqYX3Bl~FE6lqT9ea2gLuLA7hlUnlVEK460UEr-zUqj15laXt9m-JaNJlD75Rcv8srqTrnIcQZmO0AxT-qgroGI33arG1PA__&Key-Pair-Id=APKAIE5G5CRDK6RD3PGA&sec=2345120&ar=214968&xsltPath=~/UI/app/XSLT&imagename=&siteId=5139\" class=\"download-slide\" data-path-from-xml=\"btu739f4p.tif\">Download slide</a></div></div><div class=\"caption fig-caption\"><p class=\"chapter-para\">The size distribution of UniRef clusters follows a power law distribution</p></div></div><div content-id=\"btu739-F4\" class=\"fig fig-modal reveal-modal\"><div class=\"label fig-label\">Fig. 4.</div><div class=\"graphic-wrap\"><img class=\"content-image\" src=\"https://oup.silverchair-cdn.com/oup/backfile/Content_public/Journal/bioinformatics/31/6/10.1093/bioinformatics/btu739/2/m_btu739f4p.jpeg?Expires=1645116291&amp;Signature=21ThF0dRvE9yYhVODnK31iz5CFS1oC0CRGCWGsni~2tJS2HknmwAthRUh~yROEggiFo8-on~8B~AY8lJ43ESLmTd-FF-EnLzghL7r4JFFJCFSIufHT9OCUL5xst8idYrEG2ZWsxqxV4UW8LIfUUxmbqAMYoXoFNfSm2aLYzo4MqaFq~xtblynXYNCr0HwPuiLgjyCnUmzRUqCB0Wr9u4cPliDxB7fRc~0n3-~6mr62RSpvQlNK~u7WwGU4zLeZS-9BllF9M7mYeLQ~l2YzZZpukcvG01zTN6wCRH2TwvGyis0R2nSePYwblMyNyHtikGRlKcC~Crd8QLQS1~951~nw__&amp;Key-Pair-Id=APKAIE5G5CRDK6RD3PGA\" alt=\"The size distribution of UniRef clusters follows a power law distribution\" data-path-from-xml=\"btu739f4p.tif\" /><div class=\"fig-orig original-slide\"><a class=\"fig-view-orig js-view-large openInAnotherWindow\" href=\"/view-large/figure/2345120/btu739f4p.tif\" data-path-from-xml=\"btu739f4p.tif\" target=\"_blank\">Open in new tab</a><a data-section=\"2345120\" href=\"/DownloadFile/DownloadImage.aspx?image=https://oup.silverchair-cdn.com/oup/backfile/Content_public/Journal/bioinformatics/31/6/10.1093/bioinformatics/btu739/2/btu739f4p.jpeg?Expires=1645116291&Signature=IoRDCoZiJteG~pp1LRK~CNr4PqanR9YgYJbjzfoOJvPeanls4xWYQNpjimhuvnRNS-shefWZjqHYyPOaZu5FC0~z3G9ExYmnmavtT2k-SAydFL-cPtrCS4icbz0KU3gdYfK7g~3oVwsKSorpykyHGwdFS-kRiSvEZEAam9-MaC~bHS75rS2GOGtl9OsMEwpBEF961U5bNexgC61yoi~R7ugNsQSuDiBwbra6TYfjibBUMKDQzj-NY00hqYX3Bl~FE6lqT9ea2gLuLA7hlUnlVEK460UEr-zUqj15laXt9m-JaNJlD75Rcv8srqTrnIcQZmO0AxT-qgroGI33arG1PA__&Key-Pair-Id=APKAIE5G5CRDK6RD3PGA&sec=2345120&ar=214968&xsltPath=~/UI/app/XSLT&imagename=&siteId=5139\" class=\"download-slide\" data-path-from-xml=\"btu739f4p.tif\">Download slide</a></div></div><div class=\"caption fig-caption\"><p class=\"chapter-para\">The size distribution of UniRef clusters follows a power law distribution</p></div></div>                    <h3 scrollto-destination=2345121 id=\"2345121\" class=\"section-title js-splitscreen-section-title\" >3.2 Preservation of GO molecular function in UniRef clusters</h3>\\r\\n<p class=\"chapter-para\">The evaluation of UniRef clusters and the evaluation of UniRef50-based sequence similarity search (Section 3.3) was conducted using UniRef release 2013_02 (February 6, 2013) following the introduction of the 80% overlap threshold. We used GO molecular function terms for consistency analysis as described in Section 2.2. Only clusters with at least two UniProtKB members annotated with GO molecular function terms, regardless of their evidence codes, were included in the analysis. 1 449 352 UniRef90 clusters and 888 751 UniRef50 clusters met the criteria, account for 50.32% and 41.28% of the multi-member UniRef90 and UniRef50 clusters, respectively. Clusters used in the analysis were categorized based on intra-cluster consistency into four levels (<span class=\"xrefLink\" id=\"jumplink-btu739-T1\"></span><a href=\"javascript:;\" reveal-id=\"btu739-T1\" data-open=\"btu739-T1\" class=\"link link-reveal link-table xref-fig\">Table 1</a>). </p>                    <a id=\"2345123\" scrollto-destination=\"2345123\"></a>\\r\\n<div content-id=\"btu739-T1\" class=\"table-modal table-full-width-wrap\"><div class=\"table-wrap table-wide\"><div class=\"table-wrap-title\" id=\"btu739-T1\" data-id=\"btu739-T1\"><span class=\"label\">Table 1.</span><div class=\"caption\"><p class=\"chapter-para\">Categorization of UniRef90/50 clusters based on intra-cluster GO molecular function consistency</p></div> </div><div class=\"table-overflow\"><table><thead><tr><th>Category<span aria-hidden=\"true\" style=\"display: none;\">\\r\\n            .\\xa0</span></th><th>Number of UniRef90 cluster (%)<span aria-hidden=\"true\" style=\"display: none;\">\\r\\n            .\\xa0</span></th><th>Number of UniRef50 clusters (%)<span aria-hidden=\"true\" style=\"display: none;\">\\r\\n            .\\xa0</span></th></tr></thead><tbody><tr><td>I. Identical GO terms\\xa0</td><td>1 095 580 (75.59)\\xa0</td><td>586 535 (66.00)\\xa0</td></tr><tr><td>II. Common GO terms\\xa0</td><td>336 821 (23.24)\\xa0</td><td>275 623 (31.01)\\xa0</td></tr><tr><td>III. Common Parent GO terms\\xa0</td><td>13 699 (0.95)\\xa0</td><td>21 113 (2.38)\\xa0</td></tr><tr><td>IV. Inconsistent GO terms\\xa0</td><td>3252 (0.22)\\xa0</td><td>5480 (0.62)\\xa0</td></tr><tr><td>Total number analyzed\\xa0</td><td>1 449 352\\xa0</td><td>888 751\\xa0</td></tr></tbody></table></div><div class=\"table-modal\"><table><thead><tr><th>Category<span aria-hidden=\"true\" style=\"display: none;\">\\r\\n            .\\xa0</span></th><th>Number of UniRef90 cluster (%)<span aria-hidden=\"true\" style=\"display: none;\">\\r\\n            .\\xa0</span></th><th>Number of UniRef50 clusters (%)<span aria-hidden=\"true\" style=\"display: none;\">\\r\\n            .\\xa0</span></th></tr></thead><tbody><tr><td>I. Identical GO terms\\xa0</td><td>1 095 580 (75.59)\\xa0</td><td>586 535 (66.00)\\xa0</td></tr><tr><td>II. Common GO terms\\xa0</td><td>336 821 (23.24)\\xa0</td><td>275 623 (31.01)\\xa0</td></tr><tr><td>III. Common Parent GO terms\\xa0</td><td>13 699 (0.95)\\xa0</td><td>21 113 (2.38)\\xa0</td></tr><tr><td>IV. Inconsistent GO terms\\xa0</td><td>3252 (0.22)\\xa0</td><td>5480 (0.62)\\xa0</td></tr><tr><td>Total number analyzed\\xa0</td><td>1 449 352\\xa0</td><td>888 751\\xa0</td></tr></tbody></table></div><div class=\"&#xA;          graphic-wrap&#xA;          \"><a class=\"fig-view-orig openInAnotherWindow btn js-view-large\" target=\"_blank\" href=\"/view-large/2345123\">\\r\\n          Open in new tab\\r\\n        </a></div></div></div><div class=\"table-full-width-wrap\"><div class=\"table-wrap table-wide\"><div class=\"table-wrap-title\" id=\"btu739-T1\" data-id=\"btu739-T1\"><span class=\"label\">Table 1.</span><div class=\"caption\"><p class=\"chapter-para\">Categorization of UniRef90/50 clusters based on intra-cluster GO molecular function consistency</p></div> </div><div class=\"table-overflow\"><table><thead><tr><th>Category<span aria-hidden=\"true\" style=\"display: none;\">\\r\\n            .\\xa0</span></th><th>Number of UniRef90 cluster (%)<span aria-hidden=\"true\" style=\"display: none;\">\\r\\n            .\\xa0</span></th><th>Number of UniRef50 clusters (%)<span aria-hidden=\"true\" style=\"display: none;\">\\r\\n            .\\xa0</span></th></tr></thead><tbody><tr><td>I. Identical GO terms\\xa0</td><td>1 095 580 (75.59)\\xa0</td><td>586 535 (66.00)\\xa0</td></tr><tr><td>II. Common GO terms\\xa0</td><td>336 821 (23.24)\\xa0</td><td>275 623 (31.01)\\xa0</td></tr><tr><td>III. Common Parent GO terms\\xa0</td><td>13 699 (0.95)\\xa0</td><td>21 113 (2.38)\\xa0</td></tr><tr><td>IV. Inconsistent GO terms\\xa0</td><td>3252 (0.22)\\xa0</td><td>5480 (0.62)\\xa0</td></tr><tr><td>Total number analyzed\\xa0</td><td>1 449 352\\xa0</td><td>888 751\\xa0</td></tr></tbody></table></div><div class=\"table-modal\"><table><thead><tr><th>Category<span aria-hidden=\"true\" style=\"display: none;\">\\r\\n            .\\xa0</span></th><th>Number of UniRef90 cluster (%)<span aria-hidden=\"true\" style=\"display: none;\">\\r\\n            .\\xa0</span></th><th>Number of UniRef50 clusters (%)<span aria-hidden=\"true\" style=\"display: none;\">\\r\\n            .\\xa0</span></th></tr></thead><tbody><tr><td>I. Identical GO terms\\xa0</td><td>1 095 580 (75.59)\\xa0</td><td>586 535 (66.00)\\xa0</td></tr><tr><td>II. Common GO terms\\xa0</td><td>336 821 (23.24)\\xa0</td><td>275 623 (31.01)\\xa0</td></tr><tr><td>III. Common Parent GO terms\\xa0</td><td>13 699 (0.95)\\xa0</td><td>21 113 (2.38)\\xa0</td></tr><tr><td>IV. Inconsistent GO terms\\xa0</td><td>3252 (0.22)\\xa0</td><td>5480 (0.62)\\xa0</td></tr><tr><td>Total number analyzed\\xa0</td><td>1 449 352\\xa0</td><td>888 751\\xa0</td></tr></tbody></table></div><div class=\"&#xA;          graphic-wrap&#xA;          \"><a class=\"fig-view-orig openInAnotherWindow btn js-view-large\" target=\"_blank\" href=\"/view-large/2345123\">\\r\\n          Open in new tab\\r\\n        </a></div></div></div><p class=\"chapter-para\">Categories I and II, which represent clusters bringing together proteins of identical and common function, account for 98.83% of UniRef90 and 97.01% of UniRef50 clusters analyzed. In the analyzed set only 0.22% of UniRef90 and 0.62% of UniRef50 clusters were considered inconsistent (Category IV), by the criterion that the lowest shared parent annotated GO term was the ROOT node.</p><p class=\"chapter-para\">We computed the specificity of a UniRef cluster as the maximum specificity <em>P</em> (<span class=\"xrefLink\" id=\"jumplink-btu739-M1\"></span><a href=\"#btu739-M1\" class=\"sectionLink xref-sec js-xref-sec\">Equation (1)</a>) for all GO molecular function terms from cluster’s members. <span class=\"xrefLink\" id=\"jumplink-btu739-F5\"></span><a href=\"javascript:;\" reveal-id=\"btu739-F5\" data-open=\"btu739-F5\" class=\"link link-reveal link-table xref-fig\">Figure 5</a> shows the distribution of UniRef90 clusters’ specificities where 92% of clusters with specificity 1.0 belong to Categories I and II-1. The common GO terms for these clusters at specificity 1.0 also reach <em>P</em>\\u2009=\\u20091.0. This shows the clusters’ members are consistent on their most specific GO term assignments. At lower cluster specificity levels, Category I still constitutes the majority. Categories III and IV are too small to be compared meaningfully. UniRef50 clusters’ have a category distribution similar to UniRef90. </p>                    <a id=\"2345126\" scrollto-destination=\"2345126\"></a>\\r\\n<div data-id=\"btu739-F5\" class=\"fig fig-section js-fig-section\"><div class=\"label fig-label\">Fig. 5.</div><div class=\"graphic-wrap\"><img class=\"content-image\" src=\"https://oup.silverchair-cdn.com/oup/backfile/Content_public/Journal/bioinformatics/31/6/10.1093/bioinformatics/btu739/2/m_btu739f5p.jpeg?Expires=1645116291&amp;Signature=ffvq6NuPwrvST2OsB9-Em7yJ7Mz7JxpJg2Lbu0YEkpaCZjoGXtxt8rvjTje-DF9hdePuhLLUen12p5t9f-SL6-WciTR9qjIGCxzx0mTTd-Oj9gbnWzwmMzSJtLrBqQe1ocoiPf-UIJgHxfIfy9p5s5xXRR73uDjCHf5w-02t3a5IGmGdrIVE-F5BWUAR3Tuc8e90k6p6GlfuNleZjCPQZbApcHsEJW~yfgo8pi1A6o5TryxVilhbVLiR0-1q~KorRk2LSamasts517YXcpwyNrL2dIX3~9B9yB0gfn4zDbjfwbWPS6-VTMYYV9NPXJnZgjI3j7XoWXTjIOuvznUDfQ__&amp;Key-Pair-Id=APKAIE5G5CRDK6RD3PGA\" alt=\"Distribution of UniRef90 clusters specificity for complete set of clusters (top bars) and those containing only model organisms (bottom bars). UniRef50 clusters follow similar distribution\" data-path-from-xml=\"btu739f5p.tif\" /><div class=\"fig-orig original-slide\"><a class=\"fig-view-orig js-view-large openInAnotherWindow\" href=\"/view-large/figure/2345126/btu739f5p.tif\" data-path-from-xml=\"btu739f5p.tif\" target=\"_blank\">Open in new tab</a><a data-section=\"2345126\" href=\"/DownloadFile/DownloadImage.aspx?image=https://oup.silverchair-cdn.com/oup/backfile/Content_public/Journal/bioinformatics/31/6/10.1093/bioinformatics/btu739/2/btu739f5p.jpeg?Expires=1645116291&Signature=hEMYcCDCpRBWoJ4KMREap4C0bqANTHEUGyfw1z288Huvf3rDuQX9MSZNkMiNh-ghpr3Ur3GekecirGB0H0zZZuVNUbZ36Paju7tPU1P~LKWLDIvr-VjS3mUgXYlmz6kH8fFuoCpL17RO0UMzF0n4XgGadr9o-qQzRQ1m9fNLnaU~Bdx80k2~OvDORitON7n6cn0aJIqAiOgvOyRTqXnPcaoruoghF2ueN2QY37jd1D~TVAr-KiBD4cvOdpW8Xo0svxyfPA2xPEFMLm-ukTJiA-jrbcxqvsQz2LZJwRAiTSqzjzISTWx8vfoTyATqk6oEbvdYFC06H67KNsW2OvgqoQ__&Key-Pair-Id=APKAIE5G5CRDK6RD3PGA&sec=2345126&ar=214968&xsltPath=~/UI/app/XSLT&imagename=&siteId=5139\" class=\"download-slide\" data-path-from-xml=\"btu739f5p.tif\">Download slide</a></div></div><div class=\"caption fig-caption\"><p class=\"chapter-para\">Distribution of UniRef90 clusters specificity for complete set of clusters (top bars) and those containing only model organisms (bottom bars). UniRef50 clusters follow similar distribution</p></div></div><div content-id=\"btu739-F5\" class=\"fig fig-modal reveal-modal\"><div class=\"label fig-label\">Fig. 5.</div><div class=\"graphic-wrap\"><img class=\"content-image\" src=\"https://oup.silverchair-cdn.com/oup/backfile/Content_public/Journal/bioinformatics/31/6/10.1093/bioinformatics/btu739/2/m_btu739f5p.jpeg?Expires=1645116291&amp;Signature=ffvq6NuPwrvST2OsB9-Em7yJ7Mz7JxpJg2Lbu0YEkpaCZjoGXtxt8rvjTje-DF9hdePuhLLUen12p5t9f-SL6-WciTR9qjIGCxzx0mTTd-Oj9gbnWzwmMzSJtLrBqQe1ocoiPf-UIJgHxfIfy9p5s5xXRR73uDjCHf5w-02t3a5IGmGdrIVE-F5BWUAR3Tuc8e90k6p6GlfuNleZjCPQZbApcHsEJW~yfgo8pi1A6o5TryxVilhbVLiR0-1q~KorRk2LSamasts517YXcpwyNrL2dIX3~9B9yB0gfn4zDbjfwbWPS6-VTMYYV9NPXJnZgjI3j7XoWXTjIOuvznUDfQ__&amp;Key-Pair-Id=APKAIE5G5CRDK6RD3PGA\" alt=\"Distribution of UniRef90 clusters specificity for complete set of clusters (top bars) and those containing only model organisms (bottom bars). UniRef50 clusters follow similar distribution\" data-path-from-xml=\"btu739f5p.tif\" /><div class=\"fig-orig original-slide\"><a class=\"fig-view-orig js-view-large openInAnotherWindow\" href=\"/view-large/figure/2345126/btu739f5p.tif\" data-path-from-xml=\"btu739f5p.tif\" target=\"_blank\">Open in new tab</a><a data-section=\"2345126\" href=\"/DownloadFile/DownloadImage.aspx?image=https://oup.silverchair-cdn.com/oup/backfile/Content_public/Journal/bioinformatics/31/6/10.1093/bioinformatics/btu739/2/btu739f5p.jpeg?Expires=1645116291&Signature=hEMYcCDCpRBWoJ4KMREap4C0bqANTHEUGyfw1z288Huvf3rDuQX9MSZNkMiNh-ghpr3Ur3GekecirGB0H0zZZuVNUbZ36Paju7tPU1P~LKWLDIvr-VjS3mUgXYlmz6kH8fFuoCpL17RO0UMzF0n4XgGadr9o-qQzRQ1m9fNLnaU~Bdx80k2~OvDORitON7n6cn0aJIqAiOgvOyRTqXnPcaoruoghF2ueN2QY37jd1D~TVAr-KiBD4cvOdpW8Xo0svxyfPA2xPEFMLm-ukTJiA-jrbcxqvsQz2LZJwRAiTSqzjzISTWx8vfoTyATqk6oEbvdYFC06H67KNsW2OvgqoQ__&Key-Pair-Id=APKAIE5G5CRDK6RD3PGA&sec=2345126&ar=214968&xsltPath=~/UI/app/XSLT&imagename=&siteId=5139\" class=\"download-slide\" data-path-from-xml=\"btu739f5p.tif\">Download slide</a></div></div><div class=\"caption fig-caption\"><p class=\"chapter-para\">Distribution of UniRef90 clusters specificity for complete set of clusters (top bars) and those containing only model organisms (bottom bars). UniRef50 clusters follow similar distribution</p></div></div><p class=\"chapter-para\">A more detailed analysis of individual clusters in different categories reveals different functional properties of these categories. Category I clusters constitute the ideal where all members of a cluster are consistently annotated with the same GO terms. For example in release 2013_02, all members of the cluster UniRef90_G1UIH8 are annotated with the same GO terms: ‘GO:0003824 catalytic activity,’ ‘GO:0030170 pyridoxal phosphate binding,’ ‘GO:0008483 transaminase activity’ and ‘GO:0016740 transferase activity.’ The exhibited GO term consistency in annotations, supported with sequence similarity and overlap, could be used to make cluster level GO term assignments.</p><p class=\"chapter-para\">Category II-1 clusters consist of members annotated with common GO terms and additional GO terms that are no more specific, many of which are parents of common ones. For example in release 2013_02, all the members (when fragments are excluded from UniRef100) of the cluster UniRef50_Q9P225 are annotated with the same GO terms; ‘GO:0005524 ATP binding’, ‘GO:0017111 nucleoside-triphosphatase activity’, ‘GO:0016887 ATPase activity’, ‘GO:0000166 nucleotide binding’ and ‘GO:0003777 microtubule motor activity’. However, only some members of this cluster such as UniProtKB entries P0C6F1 and Q9P225 are also annotated with ‘GO:0003774 motor activity’ that is a parent to ‘GO:0003777 microtubule motor activity’. Such annotation discrepancies are generally corrected in UniProtKB updates. In the case of UniRef50_Q9P225, starting release 2013_10, the members no longer list ‘GO:0003774 motor activity’.</p><p class=\"chapter-para\">The cases of Category II-2 could be indicative of missing or less specific (under-annotated) GO terms. For example in release 2013_02, cluster UniRef50_I8GP88 consists of ‘<span class=\"small-caps\">d</span>-alanine-poly(phosphoribitol) ligase, subunit 1’ proteins from several Mycobacterium species. All of these proteins are annotated with the corresponding GO term ‘GO:0047473 <span class=\"small-caps\">d</span>-alanine-poly(phosphoribitol) ligase activity’ with the exception of UniProtKB:B1MLB4. This UniProtKB entry is annotated only with the term ‘GO:0003824 catalytic activity’ even if it has the identical sequence (sharing the same UniRef100) with other members of the UniRef50_I8GP88.</p><p class=\"chapter-para\">Considering GO molecular function annotations in UniProtKB are predominantly assigned using sequence similarity-based methods (e.g. InterPro), we also tested whether our results are biased by a data circularity problem and replicated our consistency analysis on UniRef clusters containing members from 12 model organisms with comprehensive and reliable GO annotation: nine are part of the GO Reference set (<span class=\"xrefLink\" id=\"jumplink-btu739-B24\"></span><a href=\"javascript:;\" reveal-id=\"btu739-B24\" data-open=\"btu739-B24\" class=\"link link-ref link-reveal xref-bibr\">Reference Genome Group of the Gene Ontology Consortium, 2009</a>), including <em>Arabidopsis thaliana</em>, <em>Caenorhabditis elegans</em>, <em>Danio rerio</em>, <em>Drosophila melanogaster</em>, <em>Gallus</em>, <em>Homo sapiens</em>, <em>Mus musculus</em>, <em>Rattus norvegicus</em> and <em>Saccharomyces cerevisiae</em>; the remaining three are <em>Bos Taurus</em>, <em>Canis familiaris</em> and <em>Sus scrofa</em>. 55 231 UniRef90 clusters and 44 281 UniRef50 clusters met the criteria. Similar to the analysis on all clusters, in this analysis Categories I and II account for 97.41% of UniRef90 and 94.94% of UniRef50 clusters analyzed. The distribution of clusters at different levels of specificities shared the similar pattern with the analysis conducted using all clusters.</p>                    <h3 scrollto-destination=2345131 id=\"2345131\" class=\"section-title js-splitscreen-section-title\" >3.3 Speed and sensitivity of UniRef50-based sequence similarity searches</h3>\\r\\n<p class=\"chapter-para\">To evaluate the speed and sensitivity of UniRef-based sequence similarity searches we compared BLASTP searches using 539 165 UniProtKB/Swiss-Prot entries as query sequences against two target databases—UniRef50 (totaling 6 551 126 seed sequences for all UniRef50 clusters) and UniProtKB (totaling 30 309 136 source sequences used to compute UniRef)—using the same effective database size and identical parameter settings.</p><p class=\"chapter-para\">For an <em>e</em>-value threshold of 10, UniProtKB-based searches returned at least one hit for 535 852 query sequences. Using these results as the ‘gold standard,’ only 183 of them (0.03% of query sequences) do not return any hits in UniRef50-based searches. Among these negative results, 139 are sperm protamine proteins with long stretches of repeating residues (e.g. UniProtKB:P04553), and the remaining are short peptides (&lt;40 residues, e.g. UniProtKB:P84925) or contain repeat or compositionally biased regions (e.g. UniProtKB entries P04368 or P86797) that adversely affect BLASTP searches. On the other hand, 1295 query sequences returned hits on UniRef50-based searches, but not UniProtKB-based searches, all of which are short peptides (&lt;40 residues, e.g. UniProtKB:P83010) except an uncharacterized protein with a poly-asparagine repeat region (UniProtKB:Q54B23).</p><p class=\"chapter-para\">The average hit list for UniProtKB-based searches is approximately 10 100 entries, while for UniRef50-based searches it is only approximately 1400 entries. When presented in tabular format, the full-scale BLASTP results from UniProtKB-based searches occupy about eight times more space than UniRef50-based searches (450GB versus 38GB). The total computation time is directly proportional to the size of the target database, accordingly UniProtKB-based searches took about 6× more time than UniRef50-based searches (on a 121 core Intel Xeon 2.80\\u2009GHz Linux cluster). The precision and recall of UniRef50-based searches, defined assuming all UniProtKB-based search results as correct (<span class=\"xrefLink\" id=\"jumplink-btu739-M2\"></span><a href=\"#btu739-M2\" class=\"sectionLink xref-sec js-xref-sec\">Equations (2)</a> and <span class=\"xrefLink\" id=\"jumplink-btu739-M3\"></span><a href=\"#btu739-M3\" class=\"sectionLink xref-sec js-xref-sec\">(3)</a>), are shown in <span class=\"xrefLink\" id=\"jumplink-btu739-F6\"></span><a href=\"javascript:;\" reveal-id=\"btu739-F6\" data-open=\"btu739-F6\" class=\"link link-reveal link-table xref-fig\">Figure 6</a>. The results were evaluated at different <em>e</em>-value thresholds ranging 10 to 10e−10 using expanded UniRef50-based BLASTP hits covering all underlying cluster members. The best results plateaued at <em>e</em>-value &lt;0.0001, achieving a precision of more than 91% and a recall of more than 96%, respectively. </p>                    <a id=\"2345135\" scrollto-destination=\"2345135\"></a>\\r\\n<div data-id=\"btu739-F6\" class=\"fig fig-section js-fig-section\"><div class=\"label fig-label\">Fig. 6.</div><div class=\"graphic-wrap\"><img class=\"content-image\" src=\"https://oup.silverchair-cdn.com/oup/backfile/Content_public/Journal/bioinformatics/31/6/10.1093/bioinformatics/btu739/2/m_btu739f6p.jpeg?Expires=1645116291&amp;Signature=vg~6R2VEQ2MUpB71QCcYbXBCLg0942HyLm5k7YmmC3hq8nsEedKOla2Bwu14LW1PvahYSjV2qF08VV-AhiMeDkazA8LaEieJrGBu52DeHJkBsBH3GufrWlSOBqsZ78h-wUCy9k0dwce~GJXPMwi~DEU9-MveqYcfsmB~OzZhwXF9v6NVkXErUI3IiX11B82aQ747ghGRQsLt-2CNV37RuE9e8A7V5DDzMuDCFdAU18vcPMwWi8OsKKi66w3~T3W9SJDx1Wk3vHOxSum7JFVEFIqBBN95rbk7UAQH2B45ZlB~C~JYT-~i~0Dr2huydPVegKFFyIh0FDEAFe4C8Gxgjg__&amp;Key-Pair-Id=APKAIE5G5CRDK6RD3PGA\" alt=\"Precision and recall (Equations (2) and (3)) of UniRef50-based BLASTP searches expanded using cluster memberships at different e-value thresholds\" data-path-from-xml=\"btu739f6p.tif\" /><div class=\"fig-orig original-slide\"><a class=\"fig-view-orig js-view-large openInAnotherWindow\" href=\"/view-large/figure/2345135/btu739f6p.tif\" data-path-from-xml=\"btu739f6p.tif\" target=\"_blank\">Open in new tab</a><a data-section=\"2345135\" href=\"/DownloadFile/DownloadImage.aspx?image=https://oup.silverchair-cdn.com/oup/backfile/Content_public/Journal/bioinformatics/31/6/10.1093/bioinformatics/btu739/2/btu739f6p.jpeg?Expires=1645116291&Signature=pTFMU~AYAFRo7hkKS~k0rGfIMLgtxS5E~hGlBnBbi75bHh4mSxQfslMY54dNN~2ZPveCwLXzicg3j9nXEnLvUmnHjQbk~990HG-RuSjm204K4VtISxMz2ONZEP9osKjuHmFMY0oYjMl7aO56wiR-hYo8YlaNV1p2rglNkVJvy6hynUz1DxJ2nbitwiMM4v2dlaDJAfP5Yr56STWORJ-WAMhoK56YSpgZ6qpgH3QHzLnvkaTHKcTSGLB7k1azNcU64I0tVk9iwhSZux1qT-uwuVBj8rmCvDW~eisYRvfePq3dyWwgzGo4gQfrTCfu55Xta2r0m3dVwg4oMAE6D76FWg__&Key-Pair-Id=APKAIE5G5CRDK6RD3PGA&sec=2345135&ar=214968&xsltPath=~/UI/app/XSLT&imagename=&siteId=5139\" class=\"download-slide\" data-path-from-xml=\"btu739f6p.tif\">Download slide</a></div></div><div class=\"caption fig-caption\"><p class=\"chapter-para\">Precision and recall (<span class=\"xrefLink\" id=\"jumplink-btu739-M2\"></span><a href=\"#btu739-M2\" class=\"sectionLink xref-sec js-xref-sec\">Equations (2)</a> and <span class=\"xrefLink\" id=\"jumplink-btu739-M3\"></span><a href=\"#btu739-M3\" class=\"sectionLink xref-sec js-xref-sec\">(3)</a>) of UniRef50-based BLASTP searches expanded using cluster memberships at different <em>e</em>-value thresholds</p></div></div><div content-id=\"btu739-F6\" class=\"fig fig-modal reveal-modal\"><div class=\"label fig-label\">Fig. 6.</div><div class=\"graphic-wrap\"><img class=\"content-image\" src=\"https://oup.silverchair-cdn.com/oup/backfile/Content_public/Journal/bioinformatics/31/6/10.1093/bioinformatics/btu739/2/m_btu739f6p.jpeg?Expires=1645116291&amp;Signature=vg~6R2VEQ2MUpB71QCcYbXBCLg0942HyLm5k7YmmC3hq8nsEedKOla2Bwu14LW1PvahYSjV2qF08VV-AhiMeDkazA8LaEieJrGBu52DeHJkBsBH3GufrWlSOBqsZ78h-wUCy9k0dwce~GJXPMwi~DEU9-MveqYcfsmB~OzZhwXF9v6NVkXErUI3IiX11B82aQ747ghGRQsLt-2CNV37RuE9e8A7V5DDzMuDCFdAU18vcPMwWi8OsKKi66w3~T3W9SJDx1Wk3vHOxSum7JFVEFIqBBN95rbk7UAQH2B45ZlB~C~JYT-~i~0Dr2huydPVegKFFyIh0FDEAFe4C8Gxgjg__&amp;Key-Pair-Id=APKAIE5G5CRDK6RD3PGA\" alt=\"Precision and recall (Equations (2) and (3)) of UniRef50-based BLASTP searches expanded using cluster memberships at different e-value thresholds\" data-path-from-xml=\"btu739f6p.tif\" /><div class=\"fig-orig original-slide\"><a class=\"fig-view-orig js-view-large openInAnotherWindow\" href=\"/view-large/figure/2345135/btu739f6p.tif\" data-path-from-xml=\"btu739f6p.tif\" target=\"_blank\">Open in new tab</a><a data-section=\"2345135\" href=\"/DownloadFile/DownloadImage.aspx?image=https://oup.silverchair-cdn.com/oup/backfile/Content_public/Journal/bioinformatics/31/6/10.1093/bioinformatics/btu739/2/btu739f6p.jpeg?Expires=1645116291&Signature=pTFMU~AYAFRo7hkKS~k0rGfIMLgtxS5E~hGlBnBbi75bHh4mSxQfslMY54dNN~2ZPveCwLXzicg3j9nXEnLvUmnHjQbk~990HG-RuSjm204K4VtISxMz2ONZEP9osKjuHmFMY0oYjMl7aO56wiR-hYo8YlaNV1p2rglNkVJvy6hynUz1DxJ2nbitwiMM4v2dlaDJAfP5Yr56STWORJ-WAMhoK56YSpgZ6qpgH3QHzLnvkaTHKcTSGLB7k1azNcU64I0tVk9iwhSZux1qT-uwuVBj8rmCvDW~eisYRvfePq3dyWwgzGo4gQfrTCfu55Xta2r0m3dVwg4oMAE6D76FWg__&Key-Pair-Id=APKAIE5G5CRDK6RD3PGA&sec=2345135&ar=214968&xsltPath=~/UI/app/XSLT&imagename=&siteId=5139\" class=\"download-slide\" data-path-from-xml=\"btu739f6p.tif\">Download slide</a></div></div><div class=\"caption fig-caption\"><p class=\"chapter-para\">Precision and recall (<span class=\"xrefLink\" id=\"jumplink-btu739-M2\"></span><a href=\"#btu739-M2\" class=\"sectionLink xref-sec js-xref-sec\">Equations (2)</a> and <span class=\"xrefLink\" id=\"jumplink-btu739-M3\"></span><a href=\"#btu739-M3\" class=\"sectionLink xref-sec js-xref-sec\">(3)</a>) of UniRef50-based BLASTP searches expanded using cluster memberships at different <em>e</em>-value thresholds</p></div></div><p class=\"chapter-para\">To determine how the use of UniRef affects sensitivity in sequence searches, the ability of UniRef50-based searches to detect distant similarity was evaluated using a dataset of query–target pairs constructed using Pfam domains (see Section 2.3). From the total of 43 523 748 query–target pairs, UniRef50-based searches detected a total of 24 602 566 (56.53%) target sequences, whereas UniProtKB-based searches detected 22 955 753(52.74%) targets. <span class=\"xrefLink\" id=\"jumplink-btu739-F7\"></span><a href=\"javascript:;\" reveal-id=\"btu739-F7\" data-open=\"btu739-F7\" class=\"link link-reveal link-table xref-fig\">Figure 7</a> illustrates the percentage difference in distant similarities detected by UniRef50-based versus UniProtKB-based searches for 15 537 query sequences where the search detected at least one target with a Pfam domain meeting the 80% overlap criterion. UniRef50-based searches improved detection of distant similarities in 72.50% of the cases at various levels (&gt;0–250%), with a large improvement (&gt;100% increase) in 9.17% of the cases and a moderate improvement (50–100% increase) in 6.98% of cases. On the other hand, in 6.71% of cases (total of 1042), UniProtKB-based searches detected more distant similarities. The InterPro-based analysis has a similar distribution for the percentage differences in detected distant similarities (not shown). </p>                    <a id=\"2345137\" scrollto-destination=\"2345137\"></a>\\r\\n<div data-id=\"btu739-F7\" class=\"fig fig-section js-fig-section\"><div class=\"label fig-label\">Fig. 7.</div><div class=\"graphic-wrap\"><img class=\"content-image\" src=\"https://oup.silverchair-cdn.com/oup/backfile/Content_public/Journal/bioinformatics/31/6/10.1093/bioinformatics/btu739/2/m_btu739f7p.jpeg?Expires=1645116291&amp;Signature=eCa~3WAkXEaD2aGz4MZs8KaJUCvE1LIq3pECNuuyQEkVstdODfB6NFz8qJ5Q6G1qI3q~qQ-MO1vAy-zZgJQdEok1XZXr3JKyX6l057OOd2sBrGE8~NfHkutN6H-i7SjaoN3KgkbhtJsJ62-OkIPkFZuPBQkHvUQTMuW5YLaioI058sbD1uEWVgjt2M4gFVDaNVWAOHt8oOLX~8QFQwhXHDj98Akt728ISDFn6PAntbHdYK5SLqK8BJj1di4GDQ2Tc7KSy-58uUV5OHNYTTvXliKzdZrb4u5hVjLEx2DSe7JrYjVm5eus15wpemIK24qt1Gi~JxWRgRO~FH37BCl76g__&amp;Key-Pair-Id=APKAIE5G5CRDK6RD3PGA\" alt=\"The percentage difference in distant similarities detected by UniRef50- versus UniProtKB-based searches based on the dataset constructed using Pfam domains\" data-path-from-xml=\"btu739f7p.tif\" /><div class=\"fig-orig original-slide\"><a class=\"fig-view-orig js-view-large openInAnotherWindow\" href=\"/view-large/figure/2345137/btu739f7p.tif\" data-path-from-xml=\"btu739f7p.tif\" target=\"_blank\">Open in new tab</a><a data-section=\"2345137\" href=\"/DownloadFile/DownloadImage.aspx?image=https://oup.silverchair-cdn.com/oup/backfile/Content_public/Journal/bioinformatics/31/6/10.1093/bioinformatics/btu739/2/btu739f7p.jpeg?Expires=1645116291&Signature=IuLXx42Z6JGZSZasryYF88NkSqL7~rWLbJ9YPruJfk5mhQkYjyuh9g-WTj6nr0IUW4dGWSlC7AaKNfyIq0ZDmGYJCbhD~1t6K09ej1rs3zWoT3O-Ph3kow4Lu1MT6SiY8FOxYVtJ8C7rDX3wze8X6Fp8MZ3A0qkTKYWqjQsjXinJq-cMxCgn5C9E6gqIwGZiETU3YqZIAraqeuGZoZ8iqUQlO27s9PQ8h8cfKEymiWc0RBwt5d10fJ3QS070fluUJ2sMpZInEOLbRdvbKlG6yr4OG89E6P1ZEzgx9QQ~NyD3X33AUfKeVVEGxohwGsOfZXtdqkzGoOjDx3WRX6Ii1g__&Key-Pair-Id=APKAIE5G5CRDK6RD3PGA&sec=2345137&ar=214968&xsltPath=~/UI/app/XSLT&imagename=&siteId=5139\" class=\"download-slide\" data-path-from-xml=\"btu739f7p.tif\">Download slide</a></div></div><div class=\"caption fig-caption\"><p class=\"chapter-para\">The percentage difference in distant similarities detected by UniRef50- versus UniProtKB-based searches based on the dataset constructed using Pfam domains</p></div></div><div content-id=\"btu739-F7\" class=\"fig fig-modal reveal-modal\"><div class=\"label fig-label\">Fig. 7.</div><div class=\"graphic-wrap\"><img class=\"content-image\" src=\"https://oup.silverchair-cdn.com/oup/backfile/Content_public/Journal/bioinformatics/31/6/10.1093/bioinformatics/btu739/2/m_btu739f7p.jpeg?Expires=1645116291&amp;Signature=eCa~3WAkXEaD2aGz4MZs8KaJUCvE1LIq3pECNuuyQEkVstdODfB6NFz8qJ5Q6G1qI3q~qQ-MO1vAy-zZgJQdEok1XZXr3JKyX6l057OOd2sBrGE8~NfHkutN6H-i7SjaoN3KgkbhtJsJ62-OkIPkFZuPBQkHvUQTMuW5YLaioI058sbD1uEWVgjt2M4gFVDaNVWAOHt8oOLX~8QFQwhXHDj98Akt728ISDFn6PAntbHdYK5SLqK8BJj1di4GDQ2Tc7KSy-58uUV5OHNYTTvXliKzdZrb4u5hVjLEx2DSe7JrYjVm5eus15wpemIK24qt1Gi~JxWRgRO~FH37BCl76g__&amp;Key-Pair-Id=APKAIE5G5CRDK6RD3PGA\" alt=\"The percentage difference in distant similarities detected by UniRef50- versus UniProtKB-based searches based on the dataset constructed using Pfam domains\" data-path-from-xml=\"btu739f7p.tif\" /><div class=\"fig-orig original-slide\"><a class=\"fig-view-orig js-view-large openInAnotherWindow\" href=\"/view-large/figure/2345137/btu739f7p.tif\" data-path-from-xml=\"btu739f7p.tif\" target=\"_blank\">Open in new tab</a><a data-section=\"2345137\" href=\"/DownloadFile/DownloadImage.aspx?image=https://oup.silverchair-cdn.com/oup/backfile/Content_public/Journal/bioinformatics/31/6/10.1093/bioinformatics/btu739/2/btu739f7p.jpeg?Expires=1645116291&Signature=IuLXx42Z6JGZSZasryYF88NkSqL7~rWLbJ9YPruJfk5mhQkYjyuh9g-WTj6nr0IUW4dGWSlC7AaKNfyIq0ZDmGYJCbhD~1t6K09ej1rs3zWoT3O-Ph3kow4Lu1MT6SiY8FOxYVtJ8C7rDX3wze8X6Fp8MZ3A0qkTKYWqjQsjXinJq-cMxCgn5C9E6gqIwGZiETU3YqZIAraqeuGZoZ8iqUQlO27s9PQ8h8cfKEymiWc0RBwt5d10fJ3QS070fluUJ2sMpZInEOLbRdvbKlG6yr4OG89E6P1ZEzgx9QQ~NyD3X33AUfKeVVEGxohwGsOfZXtdqkzGoOjDx3WRX6Ii1g__&Key-Pair-Id=APKAIE5G5CRDK6RD3PGA&sec=2345137&ar=214968&xsltPath=~/UI/app/XSLT&imagename=&siteId=5139\" class=\"download-slide\" data-path-from-xml=\"btu739f7p.tif\">Download slide</a></div></div><div class=\"caption fig-caption\"><p class=\"chapter-para\">The percentage difference in distant similarities detected by UniRef50- versus UniProtKB-based searches based on the dataset constructed using Pfam domains</p></div></div><p class=\"chapter-para\">We further examined multiple cases where UniRef50-based searches out-performed or under-performed in comparison with UniProtKB-based searches. Many of the UniRef50 outperforming cases involved clusters where the seed sequence was significantly longer than some of other member sequences. This can happen because there is no overlap restriction on UniRef100 allowing identical and fragment sequences to cluster. For extreme cases where BLASTP queries on UniRef50 found more than 250% more similar proteins than queries on UniProtKB, the majority of the additional sequences found were all marked as fragment sequences. One example in this group is the UniRef50-based search using a 273-aa long query protein ‘Voltage-gated hydrogen channels 1 protein’ (UniProtKB:Q96D96) containing an ‘Ion transport protein’ (Pfam:PF00520), which resulted in the largest percentage increase in detected similarities when compared with UniProtKB-based searches. In this case, the UniProtKB-based search detected only one protein (UniProtKB:C3Z7Z7), a 78-aa fragment sequence, whereas UniRef50-based search detected an additional 217-related proteins from 19 UniRef50 clusters. Among these UniRef clusters, all of their seed sequences were longer than the 273-aa query sequence, ranging from 417-aa to 2745-aa, with 16 seeds being more than 1000-aa and containing multiple copies of the PF00520 domain. In this case all the additional 217 proteins found using UniRef were marked as fragment sequences in UniProtKB ranging in size from 18-aa to 225-aa.</p><p class=\"chapter-para\">An example where UniRef detected many more remotely similar non-fragment proteins is a query using ‘RNA demethylase ALKBH5’ (UniProtKB:Q6P6C2), a 394-aa human protein involved in RNA demethylation affecting mRNA processing and export and required for spermatogenesis. Q6P6C2 contains a 2OG-Fe(II) oxygenase domain (Pfam:PF13532). The test set contained 2057 query–target pairs. BLASTP against UniProtKB detected only 11 pairs while BLASTP with expansion against UniRef50 detected 821 including all 11 detected using UniProtKB. Only 13 of the additional 810 pairs detected using UniRef50 were marked as fragments. The additional sequences detected by UniRef50 were found in clusters UniRef50_K6KEE3 with 3 members and UniRef50_P05050 with 2312 members. Although BLASTP against UniProtKB did detect a few of the members of UniRef50_P05050 including the seed sequence A6SZ37, it did not detect most of the remotely similar Pfam:PF13532 containing ‘Alpha-ketoglutarate-dependent dioxygenase AlkB’ bacterial proteins involved in DNA repair making up the majority of sequences in this cluster. Alignment of 154 cluster members, 1 for each species contained and ranging in length from 127 to 266 aa, with Clustal Omega (<span class=\"xrefLink\" id=\"jumplink-btu739-B26\"></span><a href=\"javascript:;\" reveal-id=\"btu739-B26\" data-open=\"btu739-B26\" class=\"link link-ref link-reveal xref-bibr\">Sievers <em>et al.</em>, 2011</a>) showed good alignment throughout the length of the sequences with 28 identical and 27 similar positions distributed throughout the alignment with 9.69% overall identity (data not shown).</p><p class=\"chapter-para\">In cases where UniProtKB searches out-performed UniRef50, many of the missing proteins had a low degree of similarity to the query and were contained in clusters where the seed sequence was not detected by BLASTP using UniProtKB or UniRef50, effectively masking them from detection. In one example using a 304-aa Human ‘DTW domain-containing protein 1’ (UniProtKB:Q8N5C7) of unknown function containing a DTW domain (Pfam:PF03942, unknown function) as query, we obtained 1589 possible query–target pairs. BLASTP against UniProtKB found 285 of these and against UniRef50 with expansion found 208. There were 102 pairs unique to the UniProtKB results and 8 unique to UniRef50. All of the 102 proteins unique to UniProtKB were 200-aa ‘DTW domain proteins’ from different strains of <em>Vibrio cholera</em> and shared a single cluster UniRef50_A7K659 with 270 member sequences. The seed sequence (A7K659) was not detected by BLASTP (&lt;14% sequence identity with Q8N5C7), but 102 slightly more similar cluster members (e.g. D7HA32) were detected using UniProtKB that were hidden when using UniRef50. The eight sequences unique to the UniRef50 search were from four UniRef50 clusters containing members from multiple bacterial species and varying in length from 150 to 208 aa.</p><p class=\"chapter-para\">We also compared UniRef50- and UniProtKB-based searches using ROC<sub>50</sub> score (<span class=\"xrefLink\" id=\"jumplink-btu739-B10\"></span><a href=\"javascript:;\" reveal-id=\"btu739-B10\" data-open=\"btu739-B10\" class=\"link link-ref link-reveal xref-bibr\">Gribskov and Robinson, 1996</a>), which is the area under the receiver operating characteristic (ROC) curve up to the first 50 false positives. As shown in <span class=\"xrefLink\" id=\"jumplink-btu739-F8\"></span><a href=\"javascript:;\" reveal-id=\"btu739-F8\" data-open=\"btu739-F8\" class=\"link link-reveal link-table xref-fig\">Figure 8</a>, the ROC<sub>50</sub> scores for UniRef50-based searches are higher in general when compared with corresponding UniProtKB-based ones (73.4% above diagonal) signifying better sensitivity and specificity. </p>                    <a id=\"2345142\" scrollto-destination=\"2345142\"></a>\\r\\n<div data-id=\"btu739-F8\" class=\"fig fig-section js-fig-section\"><div class=\"label fig-label\">Fig. 8.</div><div class=\"graphic-wrap\"><img class=\"content-image\" src=\"https://oup.silverchair-cdn.com/oup/backfile/Content_public/Journal/bioinformatics/31/6/10.1093/bioinformatics/btu739/2/m_btu739f8p.jpeg?Expires=1645116291&amp;Signature=4nNvtgZxB8bPhLc7xlZBn5Q4VSiFyF~yrQRLBCbLKpUbFHMKgPGPk-ld95yJyDprpgmodlC9b4bacceIlTwf1Fs-NqeSWEl67dkRov4OZAFNuBzK6lej23htH36d8o56xPKKW8QJZJIsLa~u2x7sjHFLlBngETrW~F8v6Df~yRGyFGLwOVPWhoFuNRkXv1aZgmkzBJw2GR-nIEtOhPw7gfZYEjSMETSr8aGRuod0EtXEoSpxFtVt9MC8QhRk7oo8sOT4kiY0I-a2WMsC~ueYv0EYVIZRK4EsmhoJjX7WyVHjWExwClbFtcRGs64aGkudVBptbQNrmWeKMO03fzLqYA__&amp;Key-Pair-Id=APKAIE5G5CRDK6RD3PGA\" alt=\"ROC50 values for UniRef50- versus UniProtKB-based searches based on the dataset constructed using Pfam domains\" data-path-from-xml=\"btu739f8p.tif\" /><div class=\"fig-orig original-slide\"><a class=\"fig-view-orig js-view-large openInAnotherWindow\" href=\"/view-large/figure/2345142/btu739f8p.tif\" data-path-from-xml=\"btu739f8p.tif\" target=\"_blank\">Open in new tab</a><a data-section=\"2345142\" href=\"/DownloadFile/DownloadImage.aspx?image=https://oup.silverchair-cdn.com/oup/backfile/Content_public/Journal/bioinformatics/31/6/10.1093/bioinformatics/btu739/2/btu739f8p.jpeg?Expires=1645116291&Signature=whK10FBlM7g5hVaR4dSG53dFBA-o0E~1Klcb0sDxXSWqoYtUY2wSfLONKlrFByJplweqoPlgRq07Sng2a1BFPJ8a2o~dRJ9jGwtfOsCTYCXX2HOfTgvinAa2nz4VP6~RWTcLIuHPuLwzggnMBnWr7wEiETH8Teddls~XWEeIYiBFo5qG2Qlcfn6erFLsQ-ncuJRFgBbZvAa3pTc7V088V2h1GNZDrYU5PNEAQfyxRKWrpPNdzSOvi8jNXL--Qj4HqFYmedHJNmkJFWjATBE4eCZOxRZ4YWk0-QCkJji5L-oNoIdi8L2isogNAdtR0dCuRI4jESdzJ0vtrWClYneYMg__&Key-Pair-Id=APKAIE5G5CRDK6RD3PGA&sec=2345142&ar=214968&xsltPath=~/UI/app/XSLT&imagename=&siteId=5139\" class=\"download-slide\" data-path-from-xml=\"btu739f8p.tif\">Download slide</a></div></div><div class=\"caption fig-caption\"><p class=\"chapter-para\">ROC<sub>50</sub> values for UniRef50- versus UniProtKB-based searches based on the dataset constructed using Pfam domains</p></div></div><div content-id=\"btu739-F8\" class=\"fig fig-modal reveal-modal\"><div class=\"label fig-label\">Fig. 8.</div><div class=\"graphic-wrap\"><img class=\"content-image\" src=\"https://oup.silverchair-cdn.com/oup/backfile/Content_public/Journal/bioinformatics/31/6/10.1093/bioinformatics/btu739/2/m_btu739f8p.jpeg?Expires=1645116291&amp;Signature=4nNvtgZxB8bPhLc7xlZBn5Q4VSiFyF~yrQRLBCbLKpUbFHMKgPGPk-ld95yJyDprpgmodlC9b4bacceIlTwf1Fs-NqeSWEl67dkRov4OZAFNuBzK6lej23htH36d8o56xPKKW8QJZJIsLa~u2x7sjHFLlBngETrW~F8v6Df~yRGyFGLwOVPWhoFuNRkXv1aZgmkzBJw2GR-nIEtOhPw7gfZYEjSMETSr8aGRuod0EtXEoSpxFtVt9MC8QhRk7oo8sOT4kiY0I-a2WMsC~ueYv0EYVIZRK4EsmhoJjX7WyVHjWExwClbFtcRGs64aGkudVBptbQNrmWeKMO03fzLqYA__&amp;Key-Pair-Id=APKAIE5G5CRDK6RD3PGA\" alt=\"ROC50 values for UniRef50- versus UniProtKB-based searches based on the dataset constructed using Pfam domains\" data-path-from-xml=\"btu739f8p.tif\" /><div class=\"fig-orig original-slide\"><a class=\"fig-view-orig js-view-large openInAnotherWindow\" href=\"/view-large/figure/2345142/btu739f8p.tif\" data-path-from-xml=\"btu739f8p.tif\" target=\"_blank\">Open in new tab</a><a data-section=\"2345142\" href=\"/DownloadFile/DownloadImage.aspx?image=https://oup.silverchair-cdn.com/oup/backfile/Content_public/Journal/bioinformatics/31/6/10.1093/bioinformatics/btu739/2/btu739f8p.jpeg?Expires=1645116291&Signature=whK10FBlM7g5hVaR4dSG53dFBA-o0E~1Klcb0sDxXSWqoYtUY2wSfLONKlrFByJplweqoPlgRq07Sng2a1BFPJ8a2o~dRJ9jGwtfOsCTYCXX2HOfTgvinAa2nz4VP6~RWTcLIuHPuLwzggnMBnWr7wEiETH8Teddls~XWEeIYiBFo5qG2Qlcfn6erFLsQ-ncuJRFgBbZvAa3pTc7V088V2h1GNZDrYU5PNEAQfyxRKWrpPNdzSOvi8jNXL--Qj4HqFYmedHJNmkJFWjATBE4eCZOxRZ4YWk0-QCkJji5L-oNoIdi8L2isogNAdtR0dCuRI4jESdzJ0vtrWClYneYMg__&Key-Pair-Id=APKAIE5G5CRDK6RD3PGA&sec=2345142&ar=214968&xsltPath=~/UI/app/XSLT&imagename=&siteId=5139\" class=\"download-slide\" data-path-from-xml=\"btu739f8p.tif\">Download slide</a></div></div><div class=\"caption fig-caption\"><p class=\"chapter-para\">ROC<sub>50</sub> values for UniRef50- versus UniProtKB-based searches based on the dataset constructed using Pfam domains</p></div></div>                    <h2 scrollto-destination=2345143 id=\"2345143\" class=\"section-title js-splitscreen-section-title\" >4 Conclusions</h2>\\r\\n<p class=\"chapter-para\">In this article, we provide a detailed analysis of intra-cluster molecular function consistency, and assess the suitability of UniRef databases as the target databases in making functional annotation, taking advantage of their low sequence redundancy and bias, especially in the case of UniRef50.</p><p class=\"chapter-para\">More than 97% of the UniRef90 and UniRef50 clusters were shown to bring together proteins of identical or common molecular function (as captured by GO terms). This outcome reflects the fact that many GO terms are assigned on the basis of sequence similarity-based methods such as InterPro, and further reinforces their use in sequence similarity-based functional annotations. The strong intra-cluster molecular function consistency lends itself to development of new UniRef features such as cluster-level GO annotations whereas the annotation inconsistencies observed in approximately 3% of the clusters is an indicative for a potential use of UniRef databases in detection of annotation errors.</p><p class=\"chapter-para\">UniRef50-based BLASTP searches are faster (∼6 times), more concise (lists 7 times shorter), and overall more sensitive in detection of remote similarities, while close to complete recall (&gt;96% at <em>e</em>-value &lt;0.0001) when compared with UniProtKB-based searches. The hit list consisting of the UniRef50 seed sequences not only reduces the redundancy, but also provides access to information from the corresponding UniRef50 clusters, such as the GO annotations from individual members. In addition, the hit lists when expanded using corresponding UniRef50 cluster members provide an effective way to locate the similar sequences that are already identified by UniRef50 and detect more remote similarities for the query sequence. UniRef50-based searches when compared with UniProtKB-based searches provide the means necessary to identify more easily a shorter list of clusters representing similar proteins from diverse taxa.</p><p class=\"chapter-para\">In conclusion, our analysis supports the efficiency of using UniRef databases as a powerful alternative to native sequence databases for similarity searches and in using those searches in functional annotation. Our analysis also revealed new uses for UniRef cluster such as correction of GO term annotations through detection of the intra-cluster molecular function incoherencies. UniRef clusters for any UniProtKB entry can be viewed under the ‘similar protein’ section of every entry on the UniProt website.</p>                    <h2 scrollto-destination=2345148 id=\"2345148\" class=\"backacknowledgements-title js-splitscreen-backacknowledgements-title\" >Acknowledgements</h2>\\r\\n<p class=\"chapter-para\">The authors are grateful to our UniProt Consortium collaborators at the Swiss Institute of Bioinformatics and European Bioinformatics Institute for their fruitful discussions. Authors would like to thank Drs Darren A. Natale, Shawn Polson, and John S. Garavelli for reviewing the manuscript prior to submission.</p>                    <h2 scrollto-destination=2345150 id=\"2345150\" class=\"backsection-title js-splitscreen-backsection-title\" >Funding</h2>\\r\\n<p class=\"chapter-para\">This project is supported by the UniProt grant U41HG006104 from the National Institutes of Health.</p><p class=\"chapter-para\"><em>Conflict of interest</em>: none declared.</p>                    <h2 scrollto-destination=2345153 id=\"2345153\" class=\"backreferences-title js-splitscreen-backreferences-title\" >References</h2>\\r\\n<div class=\"ref-list js-splitview-ref-list\"><div content-id=\"btu739-B1\" class=\"js-splitview-ref-item\" data-legacy-id=\"btu739-B1\"><div class=\"refLink-parent\"><span class=\"refLink\"><a name=\"jumplink-btu739-B1\" href=\"javascript:;\" aria-label=\"jumplink-btu739-B1\" data-id=\"\"></a></span></div><div class=\"ref false\"><div id=\"ref-auto-btu739-B1\" class=\"ref-content \" data-id=\"btu739-B1\"><div class=\"mixed-citation citation\"><p class=\"mixed-citation-compatibility\"><span class=\"person-group\"><div class=\"name\"><div class=\"surname\">Altschul</div> <div class=\"given-names\">S.F.</div></div>et al.\\xa0</span>. (<div class=\"year\">1990</div>) <div class=\"article-title\">Basic local alignment search tool</div>. <div class=\"source \">J. Mol. Biol.</div>, <div class=\"volume\">215</div>, <div class=\"fpage\">403</div>–<div class=\"lpage\">410</div>.</p><!--citationLinks: case 1--><div class=\"citation-links\"></div><div class=\"citation-links\"><p class=\"citation-links-compatibility\"><span class=\"google-scholar-ref-link\"><a class=\"openInAnotherWindow\" href=\"https://scholar.google.com/scholar_lookup?title=Basic%20local%20alignment%20search%20tool&amp;author=S.F.%20Altschul&amp;publication_year=1990&amp;journal=J.%20Mol.%20Biol.&amp;volume=215&amp;pages=403-410\" target=\"_blank\">Google Scholar</a></span></p><div class=\"crossref-doi js-ref-link\"><a class=\"openInAnotherWindow\" href=\"http://dx.doi.org/10.1016/S0022-2836(05)80360-2\" target=\"_blank\">Crossref</a></div><div class=\"adsDoiReference hide\"><a class=\"openInAnotherWindow\" href=\"http://adsabs.harvard.edu/cgi-bin/basic_connect?qsearch=10.1016%2FS0022-2836(05)80360-2\" target=\"_blank\">Search ADS</a></div><div class=\"xslopenurl empty-target\"><span class=\"inst-open-url-holders\" data-targetId=\"10.1016%2FS0022-2836(05)80360-2\"> </span></div><div class=\"pub-id\"><a href=\"http://www.ncbi.nlm.nih.gov/pubmed/2231712\" class=\"link link-pub-id openInAnotherWindow\" target=\"_blank\">PubMed</a></div><p class=\"citation-links-compatibility\"><span class=\"worldcat-reference-ref-link js-worldcat-preview-ref-link\" style=\"display:none\"><a class=\"openInAnotherWindow\" href=\"https://www.worldcat.org/search?q=ti:Basic%20local%20alignment%20search%20tool&amp;qt=advanced&amp;dblist=638\" target=\"_blank\">WorldCat</a></span></p>\\xa0</div></div></div></div></div><div content-id=\"btu739-B2\" class=\"js-splitview-ref-item\" data-legacy-id=\"btu739-B2\"><div class=\"refLink-parent\"><span class=\"refLink\"><a name=\"jumplink-btu739-B2\" href=\"javascript:;\" aria-label=\"jumplink-btu739-B2\" data-id=\"\"></a></span></div><div class=\"ref false\"><div id=\"ref-auto-btu739-B2\" class=\"ref-content \" data-id=\"btu739-B2\"><div class=\"mixed-citation citation\"><p class=\"mixed-citation-compatibility\"><span class=\"person-group\"><div class=\"name\"><div class=\"surname\">Ashburner</div> <div class=\"given-names\">M.</div></div>et al.\\xa0</span>. (<div class=\"year\">2000</div>) <div class=\"article-title\">Gene ontology: tool for the unification of biology. The Gene Ontology Consortium</div>. <div class=\"source \">Nat. Genet.</div>, <div class=\"volume\">25</div>, <div class=\"fpage\">25</div>–<div class=\"lpage\">29</div>.</p><!--citationLinks: case 1--><div class=\"citation-links\"></div><div class=\"citation-links\"><p class=\"citation-links-compatibility\"><span class=\"google-scholar-ref-link\"><a class=\"openInAnotherWindow\" href=\"https://scholar.google.com/scholar_lookup?title=Gene%20ontology%3A%20tool%20for%20the%20unification%20of%20biology.%20The%20Gene%20Ontology%20Consortium&amp;author=M.%20Ashburner&amp;publication_year=2000&amp;journal=Nat.%20Genet.&amp;volume=25&amp;pages=25-29\" target=\"_blank\">Google Scholar</a></span></p><div class=\"crossref-doi js-ref-link\"><a class=\"openInAnotherWindow\" href=\"http://dx.doi.org/10.1038/75556\" target=\"_blank\">Crossref</a></div><div class=\"adsDoiReference hide\"><a class=\"openInAnotherWindow\" href=\"http://adsabs.harvard.edu/cgi-bin/basic_connect?qsearch=10.1038%2F75556\" target=\"_blank\">Search ADS</a></div><div class=\"xslopenurl empty-target\"><span class=\"inst-open-url-holders\" data-targetId=\"10.1038%2F75556\"> </span></div><div class=\"pub-id\"><a href=\"http://www.ncbi.nlm.nih.gov/pubmed/10802651\" class=\"link link-pub-id openInAnotherWindow\" target=\"_blank\">PubMed</a></div><p class=\"citation-links-compatibility\"><span class=\"worldcat-reference-ref-link js-worldcat-preview-ref-link\" style=\"display:none\"><a class=\"openInAnotherWindow\" href=\"https://www.worldcat.org/search?q=ti:Gene%20ontology%3A%20tool%20for%20the%20unification%20of%20biology.%20The%20Gene%20Ontology%20Consortium&amp;qt=advanced&amp;dblist=638\" target=\"_blank\">WorldCat</a></span></p>\\xa0</div></div></div></div></div><div content-id=\"btu739-B3\" class=\"js-splitview-ref-item\" data-legacy-id=\"btu739-B3\"><div class=\"refLink-parent\"><span class=\"refLink\"><a name=\"jumplink-btu739-B3\" href=\"javascript:;\" aria-label=\"jumplink-btu739-B3\" data-id=\"\"></a></span></div><div class=\"ref false\"><div id=\"ref-auto-btu739-B3\" class=\"ref-content \" data-id=\"btu739-B3\"><div class=\"mixed-citation citation\"><p class=\"mixed-citation-compatibility\"><span class=\"person-group\"><div class=\"name\"><div class=\"surname\">Cameron</div> <div class=\"given-names\">M.</div></div>et al.\\xa0</span>. (<div class=\"year\">2007</div>) <div class=\"article-title\">Clustered sequence representation for fast homology search</div>. <div class=\"source \">J. Comput. Biol.</div>, <div class=\"volume\">14</div>, <div class=\"fpage\">594</div>–<div class=\"lpage\">614</div>.</p><!--citationLinks: case 1--><div class=\"citation-links\"></div><div class=\"citation-links\"><p class=\"citation-links-compatibility\"><span class=\"google-scholar-ref-link\"><a class=\"openInAnotherWindow\" href=\"https://scholar.google.com/scholar_lookup?title=Clustered%20sequence%20representation%20for%20fast%20homology%20search&amp;author=M.%20Cameron&amp;publication_year=2007&amp;journal=J.%20Comput.%20Biol.&amp;volume=14&amp;pages=594-614\" target=\"_blank\">Google Scholar</a></span></p><div class=\"crossref-doi js-ref-link\"><a class=\"openInAnotherWindow\" href=\"http://dx.doi.org/10.1089/cmb.2007.R005\" target=\"_blank\">Crossref</a></div><div class=\"adsDoiReference hide\"><a class=\"openInAnotherWindow\" href=\"http://adsabs.harvard.edu/cgi-bin/basic_connect?qsearch=10.1089%2Fcmb.2007.R005\" target=\"_blank\">Search ADS</a></div><div class=\"xslopenurl empty-target\"><span class=\"inst-open-url-holders\" data-targetId=\"10.1089%2Fcmb.2007.R005\"> </span></div><div class=\"pub-id\"><a href=\"http://www.ncbi.nlm.nih.gov/pubmed/17683263\" class=\"link link-pub-id openInAnotherWindow\" target=\"_blank\">PubMed</a></div><p class=\"citation-links-compatibility\"><span class=\"worldcat-reference-ref-link js-worldcat-preview-ref-link\" style=\"display:none\"><a class=\"openInAnotherWindow\" href=\"https://www.worldcat.org/search?q=ti:Clustered%20sequence%20representation%20for%20fast%20homology%20search&amp;qt=advanced&amp;dblist=638\" target=\"_blank\">WorldCat</a></span></p>\\xa0</div></div></div></div></div><div content-id=\"btu739-B4\" class=\"js-splitview-ref-item\" data-legacy-id=\"btu739-B4\"><div class=\"refLink-parent\"><span class=\"refLink\"><a name=\"jumplink-btu739-B4\" href=\"javascript:;\" aria-label=\"jumplink-btu739-B4\" data-id=\"\"></a></span></div><div class=\"ref false\"><div id=\"ref-auto-btu739-B4\" class=\"ref-content \" data-id=\"btu739-B4\"><div class=\"mixed-citation citation\"><p class=\"mixed-citation-compatibility\"><span class=\"person-group\"><div class=\"name\"><div class=\"surname\">Capone</div> <div class=\"given-names\">G.</div></div>et al.\\xa0</span><em>.</em> (<div class=\"year\">2010</div>) <div class=\"article-title\">The oligodeoxynucleotide sequences corresponding to never-expressed peptide motifs are mainly located in the non-coding strand</div>. <div class=\"source \">BMC Bioinformatics</div>, <div class=\"volume\">11</div>, <div class=\"fpage\">383</div>.</p><!--citationLinks: case 1--><div class=\"citation-links\"></div><div class=\"citation-links\"><p class=\"citation-links-compatibility\"><span class=\"google-scholar-ref-link\"><a class=\"openInAnotherWindow\" href=\"https://scholar.google.com/scholar_lookup?title=The%20oligodeoxynucleotide%20sequences%20corresponding%20to%20never-expressed%20peptide%20motifs%20are%20mainly%20located%20in%20the%20non-coding%20strand&amp;author=G.%20Capone&amp;publication_year=2010&amp;journal=BMC%20Bioinformatics&amp;volume=11&amp;pages=383\" target=\"_blank\">Google Scholar</a></span></p><div class=\"crossref-doi js-ref-link\"><a class=\"openInAnotherWindow\" href=\"http://dx.doi.org/10.1186/1471-2105-11-383\" target=\"_blank\">Crossref</a></div><div class=\"adsDoiReference hide\"><a class=\"openInAnotherWindow\" href=\"http://adsabs.harvard.edu/cgi-bin/basic_connect?qsearch=10.1186%2F1471-2105-11-383\" target=\"_blank\">Search ADS</a></div><div class=\"xslopenurl empty-target\"><span class=\"inst-open-url-holders\" data-targetId=\"10.1186%2F1471-2105-11-383\"> </span></div><div class=\"pub-id\"><a href=\"http://www.ncbi.nlm.nih.gov/pubmed/20646284\" class=\"link link-pub-id openInAnotherWindow\" target=\"_blank\">PubMed</a></div><p class=\"citation-links-compatibility\"><span class=\"worldcat-reference-ref-link js-worldcat-preview-ref-link\" style=\"display:none\"><a class=\"openInAnotherWindow\" href=\"https://www.worldcat.org/search?q=ti:The%20oligodeoxynucleotide%20sequences%20corresponding%20to%20never-expressed%20peptide%20motifs%20are%20mainly%20located%20in%20the%20non-coding%20strand&amp;qt=advanced&amp;dblist=638\" target=\"_blank\">WorldCat</a></span></p>\\xa0</div></div></div></div></div><div content-id=\"btu739-B5\" class=\"js-splitview-ref-item\" data-legacy-id=\"btu739-B5\"><div class=\"refLink-parent\"><span class=\"refLink\"><a name=\"jumplink-btu739-B5\" href=\"javascript:;\" aria-label=\"jumplink-btu739-B5\" data-id=\"\"></a></span></div><div class=\"ref false\"><div id=\"ref-auto-btu739-B5\" class=\"ref-content \" data-id=\"btu739-B5\"><div class=\"mixed-citation citation\"><p class=\"mixed-citation-compatibility\"><span class=\"person-group\"><div class=\"name\"><div class=\"surname\">Capriotti</div> <div class=\"given-names\">E.</div></div> <div class=\"name\"><div class=\"surname\">Altman</div> <div class=\"given-names\">R.B.</div></div></span> (<div class=\"year\">2011a</div>) <div class=\"article-title\">Improving the prediction of disease-related variants using protein three-dimensional structure</div>. <div class=\"source \">BMC Bioinformatics</div>, <div class=\"volume\">12</div>(<div class=\"supplement\">Suppl. 4</div>), <div class=\"fpage\">S3</div>.</p><!--citationLinks: case 1--><div class=\"citation-links\"></div><div class=\"citation-links\"><p class=\"citation-links-compatibility\"><span class=\"google-scholar-ref-link\"><a class=\"openInAnotherWindow\" href=\"https://scholar.google.com/scholar_lookup?title=Improving%20the%20prediction%20of%20disease-related%20variants%20using%20protein%20three-dimensional%20structure&amp;author=E.%20Capriotti&amp;author=R.B.%20Altman&amp;publication_year=2011a&amp;journal=BMC%20Bioinformatics&amp;volume=12&amp;pages=S3\" target=\"_blank\">Google Scholar</a></span></p><div class=\"crossref-doi js-ref-link\"><a class=\"openInAnotherWindow\" href=\"http://dx.doi.org/10.1186/1471-2105-12-S4-S3\" target=\"_blank\">Crossref</a></div><div class=\"adsDoiReference hide\"><a class=\"openInAnotherWindow\" href=\"http://adsabs.harvard.edu/cgi-bin/basic_connect?qsearch=10.1186%2F1471-2105-12-S4-S3\" target=\"_blank\">Search ADS</a></div><div class=\"xslopenurl empty-target\"><span class=\"inst-open-url-holders\" data-targetId=\"10.1186%2F1471-2105-12-S4-S3\"> </span></div><p class=\"citation-links-compatibility\"><span class=\"worldcat-reference-ref-link js-worldcat-preview-ref-link\" style=\"display:none\"><a class=\"openInAnotherWindow\" href=\"https://www.worldcat.org/search?q=ti:Improving%20the%20prediction%20of%20disease-related%20variants%20using%20protein%20three-dimensional%20structure&amp;qt=advanced&amp;dblist=638\" target=\"_blank\">WorldCat</a></span></p>\\xa0</div></div></div></div></div><div content-id=\"btu739-B6\" class=\"js-splitview-ref-item\" data-legacy-id=\"btu739-B6\"><div class=\"refLink-parent\"><span class=\"refLink\"><a name=\"jumplink-btu739-B6\" href=\"javascript:;\" aria-label=\"jumplink-btu739-B6\" data-id=\"\"></a></span></div><div class=\"ref false\"><div id=\"ref-auto-btu739-B6\" class=\"ref-content \" data-id=\"btu739-B6\"><div class=\"mixed-citation citation\"><p class=\"mixed-citation-compatibility\"><span class=\"person-group\"><div class=\"name\"><div class=\"surname\">Capriotti</div> <div class=\"given-names\">E.</div></div> <div class=\"name\"><div class=\"surname\">Altman</div> <div class=\"given-names\">R.B.</div></div></span> (<div class=\"year\">2011b</div>) <div class=\"article-title\">A new disease-specific machine learning approach for the prediction of cancer-causing missense variants</div>. <div class=\"source \">Genomics</div>, <div class=\"volume\">98</div>, <div class=\"fpage\">310</div>–<div class=\"lpage\">317</div>.</p><!--citationLinks: case 1--><div class=\"citation-links\"></div><div class=\"citation-links\"><p class=\"citation-links-compatibility\"><span class=\"google-scholar-ref-link\"><a class=\"openInAnotherWindow\" href=\"https://scholar.google.com/scholar_lookup?title=A%20new%20disease-specific%20machine%20learning%20approach%20for%20the%20prediction%20of%20cancer-causing%20missense%20variants&amp;author=E.%20Capriotti&amp;author=R.B.%20Altman&amp;publication_year=2011b&amp;journal=Genomics&amp;volume=98&amp;pages=310-317\" target=\"_blank\">Google Scholar</a></span></p><div class=\"crossref-doi js-ref-link\"><a class=\"openInAnotherWindow\" href=\"http://dx.doi.org/10.1016/j.ygeno.2011.06.010\" target=\"_blank\">Crossref</a></div><div class=\"adsDoiReference hide\"><a class=\"openInAnotherWindow\" href=\"http://adsabs.harvard.edu/cgi-bin/basic_connect?qsearch=10.1016%2Fj.ygeno.2011.06.010\" target=\"_blank\">Search ADS</a></div><div class=\"xslopenurl empty-target\"><span class=\"inst-open-url-holders\" data-targetId=\"10.1016%2Fj.ygeno.2011.06.010\"> </span></div><p class=\"citation-links-compatibility\"><span class=\"worldcat-reference-ref-link js-worldcat-preview-ref-link\" style=\"display:none\"><a class=\"openInAnotherWindow\" href=\"https://www.worldcat.org/search?q=ti:A%20new%20disease-specific%20machine%20learning%20approach%20for%20the%20prediction%20of%20cancer-causing%20missense%20variants&amp;qt=advanced&amp;dblist=638\" target=\"_blank\">WorldCat</a></span></p>\\xa0</div></div></div></div></div><div content-id=\"btu739-B7\" class=\"js-splitview-ref-item\" data-legacy-id=\"btu739-B7\"><div class=\"refLink-parent\"><span class=\"refLink\"><a name=\"jumplink-btu739-B7\" href=\"javascript:;\" aria-label=\"jumplink-btu739-B7\" data-id=\"\"></a></span></div><div class=\"ref false\"><div id=\"ref-auto-btu739-B7\" class=\"ref-content \" data-id=\"btu739-B7\"><div class=\"mixed-citation citation\"><p class=\"mixed-citation-compatibility\"><span class=\"person-group\"><div class=\"name\"><div class=\"surname\">Chang</div> <div class=\"given-names\">J.M.</div></div>et al.\\xa0</span>. (<div class=\"year\">2012</div>) <div class=\"article-title\">Accurate multiple sequence alignment of transmembrane proteins with PSI-Coffee</div>. <div class=\"source \">BMC Bioinformatics</div>, <div class=\"volume\">13</div>(<div class=\"supplement\">Suppl. 4</div>), <div class=\"fpage\">S1</div>.</p><!--citationLinks: case 1--><div class=\"citation-links\"></div><div class=\"citation-links\"><p class=\"citation-links-compatibility\"><span class=\"google-scholar-ref-link\"><a class=\"openInAnotherWindow\" href=\"https://scholar.google.com/scholar_lookup?title=Accurate%20multiple%20sequence%20alignment%20of%20transmembrane%20proteins%20with%20PSI-Coffee&amp;author=J.M.%20Chang&amp;publication_year=2012&amp;journal=BMC%20Bioinformatics&amp;volume=13&amp;pages=S1\" target=\"_blank\">Google Scholar</a></span></p><div class=\"crossref-doi js-ref-link\"><a class=\"openInAnotherWindow\" href=\"http://dx.doi.org/10.1186/1471-2105-13-S4-S1\" target=\"_blank\">Crossref</a></div><div class=\"adsDoiReference hide\"><a class=\"openInAnotherWindow\" href=\"http://adsabs.harvard.edu/cgi-bin/basic_connect?qsearch=10.1186%2F1471-2105-13-S4-S1\" target=\"_blank\">Search ADS</a></div><div class=\"xslopenurl empty-target\"><span class=\"inst-open-url-holders\" data-targetId=\"10.1186%2F1471-2105-13-S4-S1\"> </span></div><div class=\"pub-id\"><a href=\"http://www.ncbi.nlm.nih.gov/pubmed/22536955\" class=\"link link-pub-id openInAnotherWindow\" target=\"_blank\">PubMed</a></div><p class=\"citation-links-compatibility\"><span class=\"worldcat-reference-ref-link js-worldcat-preview-ref-link\" style=\"display:none\"><a class=\"openInAnotherWindow\" href=\"https://www.worldcat.org/search?q=ti:Accurate%20multiple%20sequence%20alignment%20of%20transmembrane%20proteins%20with%20PSI-Coffee&amp;qt=advanced&amp;dblist=638\" target=\"_blank\">WorldCat</a></span></p>\\xa0</div></div></div></div></div><div content-id=\"btu739-B8\" class=\"js-splitview-ref-item\" data-legacy-id=\"btu739-B8\"><div class=\"refLink-parent\"><span class=\"refLink\"><a name=\"jumplink-btu739-B8\" href=\"javascript:;\" aria-label=\"jumplink-btu739-B8\" data-id=\"\"></a></span></div><div class=\"ref false\"><div id=\"ref-auto-btu739-B8\" class=\"ref-content \" data-id=\"btu739-B8\"><div class=\"mixed-citation citation\"><p class=\"mixed-citation-compatibility\"><span class=\"person-group\"><div class=\"name\"><div class=\"surname\">Chen</div> <div class=\"given-names\">C.</div></div>et al.\\xa0</span><em>.</em> (<div class=\"year\">2011</div>) <div class=\"article-title\">Representative proteomes: a stable, scalable and unbiased proteome set for sequence analysis and functional annotation</div>. <div class=\"source \">PLoS One</div>, <div class=\"volume\">6</div>, <div class=\"fpage\">e18910</div>.</p><!--citationLinks: case 1--><div class=\"citation-links\"></div><div class=\"citation-links\"><p class=\"citation-links-compatibility\"><span class=\"google-scholar-ref-link\"><a class=\"openInAnotherWindow\" href=\"https://scholar.google.com/scholar_lookup?title=Representative%20proteomes%3A%20a%20stable%2C%20scalable%20and%20unbiased%20proteome%20set%20for%20sequence%20analysis%20and%20functional%20annotation&amp;author=C.%20Chen&amp;publication_year=2011&amp;journal=PLoS%20One&amp;volume=6&amp;pages=e18910\" target=\"_blank\">Google Scholar</a></span></p><div class=\"crossref-doi js-ref-link\"><a class=\"openInAnotherWindow\" href=\"http://dx.doi.org/10.1371/journal.pone.0018910\" target=\"_blank\">Crossref</a></div><div class=\"adsDoiReference hide\"><a class=\"openInAnotherWindow\" href=\"http://adsabs.harvard.edu/cgi-bin/basic_connect?qsearch=10.1371%2Fjournal.pone.0018910\" target=\"_blank\">Search ADS</a></div><div class=\"xslopenurl empty-target\"><span class=\"inst-open-url-holders\" data-targetId=\"10.1371%2Fjournal.pone.0018910\"> </span></div><div class=\"pub-id\"><a href=\"http://www.ncbi.nlm.nih.gov/pubmed/21556138\" class=\"link link-pub-id openInAnotherWindow\" target=\"_blank\">PubMed</a></div><p class=\"citation-links-compatibility\"><span class=\"worldcat-reference-ref-link js-worldcat-preview-ref-link\" style=\"display:none\"><a class=\"openInAnotherWindow\" href=\"https://www.worldcat.org/search?q=ti:Representative%20proteomes%3A%20a%20stable%2C%20scalable%20and%20unbiased%20proteome%20set%20for%20sequence%20analysis%20and%20functional%20annotation&amp;qt=advanced&amp;dblist=638\" target=\"_blank\">WorldCat</a></span></p>\\xa0</div></div></div></div></div><div content-id=\"btu739-B9\" class=\"js-splitview-ref-item\" data-legacy-id=\"btu739-B9\"><div class=\"refLink-parent\"><span class=\"refLink\"><a name=\"jumplink-btu739-B9\" href=\"javascript:;\" aria-label=\"jumplink-btu739-B9\" data-id=\"\"></a></span></div><div class=\"ref false\"><div id=\"ref-auto-btu739-B9\" class=\"ref-content \" data-id=\"btu739-B9\"><div class=\"mixed-citation citation\"><p class=\"mixed-citation-compatibility\"><span class=\"person-group\"><div class=\"name\"><div class=\"surname\">Foerstner</div> <div class=\"given-names\">K.U.</div></div>et al.\\xa0</span>. (<div class=\"year\">2008</div>) <div class=\"article-title\">A computational screen for type I polyketide synthases in metagenomics shotgun data</div>. <div class=\"source \">PLoS One</div>, <div class=\"volume\">3</div>, <div class=\"fpage\">e3515</div>.</p><!--citationLinks: case 1--><div class=\"citation-links\"></div><div class=\"citation-links\"><p class=\"citation-links-compatibility\"><span class=\"google-scholar-ref-link\"><a class=\"openInAnotherWindow\" href=\"https://scholar.google.com/scholar_lookup?title=A%20computational%20screen%20for%20type%20I%20polyketide%20synthases%20in%20metagenomics%20shotgun%20data&amp;author=K.U.%20Foerstner&amp;publication_year=2008&amp;journal=PLoS%20One&amp;volume=3&amp;pages=e3515\" target=\"_blank\">Google Scholar</a></span></p><div class=\"crossref-doi js-ref-link\"><a class=\"openInAnotherWindow\" href=\"http://dx.doi.org/10.1371/journal.pone.0003515\" target=\"_blank\">Crossref</a></div><div class=\"adsDoiReference hide\"><a class=\"openInAnotherWindow\" href=\"http://adsabs.harvard.edu/cgi-bin/basic_connect?qsearch=10.1371%2Fjournal.pone.0003515\" target=\"_blank\">Search ADS</a></div><div class=\"xslopenurl empty-target\"><span class=\"inst-open-url-holders\" data-targetId=\"10.1371%2Fjournal.pone.0003515\"> </span></div><div class=\"pub-id\"><a href=\"http://www.ncbi.nlm.nih.gov/pubmed/18953415\" class=\"link link-pub-id openInAnotherWindow\" target=\"_blank\">PubMed</a></div><p class=\"citation-links-compatibility\"><span class=\"worldcat-reference-ref-link js-worldcat-preview-ref-link\" style=\"display:none\"><a class=\"openInAnotherWindow\" href=\"https://www.worldcat.org/search?q=ti:A%20computational%20screen%20for%20type%20I%20polyketide%20synthases%20in%20metagenomics%20shotgun%20data&amp;qt=advanced&amp;dblist=638\" target=\"_blank\">WorldCat</a></span></p>\\xa0</div></div></div></div></div><div content-id=\"btu739-B10\" class=\"js-splitview-ref-item\" data-legacy-id=\"btu739-B10\"><div class=\"refLink-parent\"><span class=\"refLink\"><a name=\"jumplink-btu739-B10\" href=\"javascript:;\" aria-label=\"jumplink-btu739-B10\" data-id=\"\"></a></span></div><div class=\"ref false\"><div id=\"ref-auto-btu739-B10\" class=\"ref-content \" data-id=\"btu739-B10\"><div class=\"mixed-citation citation\"><p class=\"mixed-citation-compatibility\"><span class=\"person-group\"><div class=\"name\"><div class=\"surname\">Gribskov</div> <div class=\"given-names\">M.</div></div> <div class=\"name\"><div class=\"surname\">Robinson</div> <div class=\"given-names\">N.L.</div></div></span> (<div class=\"year\">1996</div>) <div class=\"article-title\">Use of receiver operating characteristic (ROC) analysis to evaluate sequence matching</div>. <div class=\"source \">Comput. Chem.</div>, <div class=\"volume\">20</div>, <div class=\"fpage\">25</div>–<div class=\"lpage\">33</div>.</p><!--citationLinks: case 1--><div class=\"citation-links\"></div><div class=\"citation-links\"><p class=\"citation-links-compatibility\"><span class=\"google-scholar-ref-link\"><a class=\"openInAnotherWindow\" href=\"https://scholar.google.com/scholar_lookup?title=Use%20of%20receiver%20operating%20characteristic%20%28ROC%29%20analysis%20to%20evaluate%20sequence%20matching&amp;author=M.%20Gribskov&amp;author=N.L.%20Robinson&amp;publication_year=1996&amp;journal=Comput.%20Chem.&amp;volume=20&amp;pages=25-33\" target=\"_blank\">Google Scholar</a></span></p><div class=\"crossref-doi js-ref-link\"><a class=\"openInAnotherWindow\" href=\"http://dx.doi.org/10.1016/S0097-8485(96)80004-0\" target=\"_blank\">Crossref</a></div><div class=\"adsDoiReference hide\"><a class=\"openInAnotherWindow\" href=\"http://adsabs.harvard.edu/cgi-bin/basic_connect?qsearch=10.1016%2FS0097-8485(96)80004-0\" target=\"_blank\">Search ADS</a></div><div class=\"xslopenurl empty-target\"><span class=\"inst-open-url-holders\" data-targetId=\"10.1016%2FS0097-8485(96)80004-0\"> </span></div><div class=\"pub-id\"><a href=\"http://www.ncbi.nlm.nih.gov/pubmed/16718863\" class=\"link link-pub-id openInAnotherWindow\" target=\"_blank\">PubMed</a></div><p class=\"citation-links-compatibility\"><span class=\"worldcat-reference-ref-link js-worldcat-preview-ref-link\" style=\"display:none\"><a class=\"openInAnotherWindow\" href=\"https://www.worldcat.org/search?q=ti:Use%20of%20receiver%20operating%20characteristic%20%28ROC%29%20analysis%20to%20evaluate%20sequence%20matching&amp;qt=advanced&amp;dblist=638\" target=\"_blank\">WorldCat</a></span></p>\\xa0</div></div></div></div></div><div content-id=\"btu739-B11\" class=\"js-splitview-ref-item\" data-legacy-id=\"btu739-B11\"><div class=\"refLink-parent\"><span class=\"refLink\"><a name=\"jumplink-btu739-B11\" href=\"javascript:;\" aria-label=\"jumplink-btu739-B11\" data-id=\"\"></a></span></div><div class=\"ref false\"><div id=\"ref-auto-btu739-B11\" class=\"ref-content \" data-id=\"btu739-B11\"><div class=\"mixed-citation citation\"><p class=\"mixed-citation-compatibility\"><span class=\"person-group\"><div class=\"name\"><div class=\"surname\">Hunter</div> <div class=\"given-names\">S.</div></div>et al.\\xa0</span><em>.</em> (<div class=\"year\">2012</div>) <div class=\"article-title\">InterPro in 2011: new developments in the family and domain prediction database</div>. <div class=\"source \">Nucleic Acids Res.</div>, <div class=\"volume\">40</div>(<div class=\"supplement\">Database issue</div>), <div class=\"fpage\">D306</div>–<div class=\"lpage\">D312</div>.</p><!--citationLinks: case 1--><div class=\"citation-links\"></div><div class=\"citation-links\"><p class=\"citation-links-compatibility\"><span class=\"google-scholar-ref-link\"><a class=\"openInAnotherWindow\" href=\"https://scholar.google.com/scholar_lookup?title=InterPro%20in%202011%3A%20new%20developments%20in%20the%20family%20and%20domain%20prediction%20database&amp;author=S.%20Hunter&amp;publication_year=2012&amp;journal=Nucleic%20Acids%20Res.&amp;volume=40&amp;pages=D306-D312\" target=\"_blank\">Google Scholar</a></span></p><div class=\"crossref-doi js-ref-link\"><a class=\"openInAnotherWindow\" href=\"http://dx.doi.org/10.1093/nar/gkr948\" target=\"_blank\">Crossref</a></div><div class=\"adsDoiReference hide\"><a class=\"openInAnotherWindow\" href=\"http://adsabs.harvard.edu/cgi-bin/basic_connect?qsearch=10.1093%2Fnar%2Fgkr948\" target=\"_blank\">Search ADS</a></div><div class=\"xslopenurl empty-target\"><span class=\"inst-open-url-holders\" data-targetId=\"10.1093%2Fnar%2Fgkr948\"> </span></div><div class=\"pub-id\"><a href=\"http://www.ncbi.nlm.nih.gov/pubmed/22096229\" class=\"link link-pub-id openInAnotherWindow\" target=\"_blank\">PubMed</a></div><p class=\"citation-links-compatibility\"><span class=\"worldcat-reference-ref-link js-worldcat-preview-ref-link\" style=\"display:none\"><a class=\"openInAnotherWindow\" href=\"https://www.worldcat.org/search?q=ti:InterPro%20in%202011%3A%20new%20developments%20in%20the%20family%20and%20domain%20prediction%20database&amp;qt=advanced&amp;dblist=638\" target=\"_blank\">WorldCat</a></span></p>\\xa0</div></div></div></div></div><div content-id=\"btu739-B12\" class=\"js-splitview-ref-item\" data-legacy-id=\"btu739-B12\"><div class=\"refLink-parent\"><span class=\"refLink\"><a name=\"jumplink-btu739-B12\" href=\"javascript:;\" aria-label=\"jumplink-btu739-B12\" data-id=\"\"></a></span></div><div class=\"ref false\"><div id=\"ref-auto-btu739-B12\" class=\"ref-content \" data-id=\"btu739-B12\"><div class=\"mixed-citation citation\"><p class=\"mixed-citation-compatibility\"><span class=\"person-group\"><div class=\"name\"><div class=\"surname\">Itoh</div> <div class=\"given-names\">M.</div></div>et al.\\xa0</span>. (<div class=\"year\">2004</div>) <div class=\"article-title\">Clustering of database sequences for fast homology search using upper bounds on alignment score</div>. <div class=\"source \">Genome Informatics</div>, <div class=\"volume\">15</div>, <div class=\"fpage\">93</div>–<div class=\"lpage\">104</div>.</p><!--citationLinks: case 1--><div class=\"citation-links\"></div><div class=\"citation-links\"><p class=\"citation-links-compatibility\"><span class=\"google-scholar-ref-link\"><a class=\"openInAnotherWindow\" href=\"https://scholar.google.com/scholar_lookup?title=Clustering%20of%20database%20sequences%20for%20fast%20homology%20search%20using%20upper%20bounds%20on%20alignment%20score&amp;author=M.%20Itoh&amp;publication_year=2004&amp;journal=Genome%20Informatics&amp;volume=15&amp;pages=93-104\" target=\"_blank\">Google Scholar</a></span></p><div class=\"pub-id\"><a href=\"http://www.ncbi.nlm.nih.gov/pubmed/15712113\" class=\"link link-pub-id openInAnotherWindow\" target=\"_blank\">PubMed</a></div><div class=\"xslopenurl empty-target\"><span class=\"js-inst-open-url-holders-nodoi\"><a class=\"js-open-url-link\" data-href-template=\"{targetURL}?sid=oup:orr&amp;genre=article&amp;atitle=Clustering+of+database+sequences+for+fast+homology+search+using+upper+bounds+on+alignment+score&amp;aulast=Itoh&amp;title=Genome+Informatics&amp;date=2004&amp;spage=93&amp;epage=104&amp;volume=15\" href=\"javascript:;\"><span class=\"screenreader-text\">OpenURL Placeholder Text</span></a></span></div><p class=\"citation-links-compatibility\"><span class=\"worldcat-reference-ref-link js-worldcat-preview-ref-link\" style=\"display:none\"><a class=\"openInAnotherWindow\" href=\"https://www.worldcat.org/search?q=ti:Clustering%20of%20database%20sequences%20for%20fast%20homology%20search%20using%20upper%20bounds%20on%20alignment%20score&amp;qt=advanced&amp;dblist=638\" target=\"_blank\">WorldCat</a></span></p>\\xa0</div></div></div></div></div><div content-id=\"btu739-B13\" class=\"js-splitview-ref-item\" data-legacy-id=\"btu739-B13\"><div class=\"refLink-parent\"><span class=\"refLink\"><a name=\"jumplink-btu739-B13\" href=\"javascript:;\" aria-label=\"jumplink-btu739-B13\" data-id=\"\"></a></span></div><div class=\"ref false\"><div id=\"ref-auto-btu739-B13\" class=\"ref-content \" data-id=\"btu739-B13\"><div class=\"mixed-citation citation\"><p class=\"mixed-citation-compatibility\"><span class=\"person-group\"><div class=\"name\"><div class=\"surname\">Kunin</div> <div class=\"given-names\">V.</div></div>et al.\\xa0</span><em>.</em> (<div class=\"year\">2005</div>) <div class=\"article-title\">The properties of protein family space depend on experimental design</div>. <div class=\"source \">Bioinformatics</div>, <div class=\"volume\">21</div>, <div class=\"fpage\">2618</div>–<div class=\"lpage\">2622</div>.</p><!--citationLinks: case 1--><div class=\"citation-links\"></div><div class=\"citation-links\"><p class=\"citation-links-compatibility\"><span class=\"google-scholar-ref-link\"><a class=\"openInAnotherWindow\" href=\"https://scholar.google.com/scholar_lookup?title=The%20properties%20of%20protein%20family%20space%20depend%20on%20experimental%20design&amp;author=V.%20Kunin&amp;publication_year=2005&amp;journal=Bioinformatics&amp;volume=21&amp;pages=2618-2622\" target=\"_blank\">Google Scholar</a></span></p><div class=\"crossref-doi js-ref-link\"><a class=\"openInAnotherWindow\" href=\"http://dx.doi.org/10.1093/bioinformatics/bti386\" target=\"_blank\">Crossref</a></div><div class=\"adsDoiReference hide\"><a class=\"openInAnotherWindow\" href=\"http://adsabs.harvard.edu/cgi-bin/basic_connect?qsearch=10.1093%2Fbioinformatics%2Fbti386\" target=\"_blank\">Search ADS</a></div><div class=\"xslopenurl empty-target\"><span class=\"inst-open-url-holders\" data-targetId=\"10.1093%2Fbioinformatics%2Fbti386\"> </span></div><div class=\"pub-id\"><a href=\"http://www.ncbi.nlm.nih.gov/pubmed/15769834\" class=\"link link-pub-id openInAnotherWindow\" target=\"_blank\">PubMed</a></div><p class=\"citation-links-compatibility\"><span class=\"worldcat-reference-ref-link js-worldcat-preview-ref-link\" style=\"display:none\"><a class=\"openInAnotherWindow\" href=\"https://www.worldcat.org/search?q=ti:The%20properties%20of%20protein%20family%20space%20depend%20on%20experimental%20design&amp;qt=advanced&amp;dblist=638\" target=\"_blank\">WorldCat</a></span></p>\\xa0</div></div></div></div></div><div content-id=\"btu739-B14\" class=\"js-splitview-ref-item\" data-legacy-id=\"btu739-B14\"><div class=\"refLink-parent\"><span class=\"refLink\"><a name=\"jumplink-btu739-B14\" href=\"javascript:;\" aria-label=\"jumplink-btu739-B14\" data-id=\"\"></a></span></div><div class=\"ref false\"><div id=\"ref-auto-btu739-B14\" class=\"ref-content \" data-id=\"btu739-B14\"><div class=\"mixed-citation citation\"><p class=\"mixed-citation-compatibility\"><span class=\"person-group\"><div class=\"name\"><div class=\"surname\">Lee</div> <div class=\"given-names\">D.</div></div>et al.\\xa0</span><em>.</em> (<div class=\"year\">2005</div>) <div class=\"article-title\">Identification and distribution of protein families in 120 completed genomes using Gene 3D</div>. <div class=\"source \">Proteins</div>, <div class=\"volume\">59</div>, <div class=\"fpage\">603</div>–<div class=\"lpage\">615</div>.</p><!--citationLinks: case 1--><div class=\"citation-links\"></div><div class=\"citation-links\"><p class=\"citation-links-compatibility\"><span class=\"google-scholar-ref-link\"><a class=\"openInAnotherWindow\" href=\"https://scholar.google.com/scholar_lookup?title=Identification%20and%20distribution%20of%20protein%20families%20in%20120%20completed%20genomes%20using%20Gene%203D&amp;author=D.%20Lee&amp;publication_year=2005&amp;journal=Proteins&amp;volume=59&amp;pages=603-615\" target=\"_blank\">Google Scholar</a></span></p><div class=\"crossref-doi js-ref-link\"><a class=\"openInAnotherWindow\" href=\"http://dx.doi.org/10.1002/prot.20409\" target=\"_blank\">Crossref</a></div><div class=\"adsDoiReference hide\"><a class=\"openInAnotherWindow\" href=\"http://adsabs.harvard.edu/cgi-bin/basic_connect?qsearch=10.1002%2Fprot.20409\" target=\"_blank\">Search ADS</a></div><div class=\"xslopenurl empty-target\"><span class=\"inst-open-url-holders\" data-targetId=\"10.1002%2Fprot.20409\"> </span></div><div class=\"pub-id\"><a href=\"http://www.ncbi.nlm.nih.gov/pubmed/15768405\" class=\"link link-pub-id openInAnotherWindow\" target=\"_blank\">PubMed</a></div><p class=\"citation-links-compatibility\"><span class=\"worldcat-reference-ref-link js-worldcat-preview-ref-link\" style=\"display:none\"><a class=\"openInAnotherWindow\" href=\"https://www.worldcat.org/search?q=ti:Identification%20and%20distribution%20of%20protein%20families%20in%20120%20completed%20genomes%20using%20Gene%203D&amp;qt=advanced&amp;dblist=638\" target=\"_blank\">WorldCat</a></span></p>\\xa0</div></div></div></div></div><div content-id=\"btu739-B15\" class=\"js-splitview-ref-item\" data-legacy-id=\"btu739-B15\"><div class=\"refLink-parent\"><span class=\"refLink\"><a name=\"jumplink-btu739-B15\" href=\"javascript:;\" aria-label=\"jumplink-btu739-B15\" data-id=\"\"></a></span></div><div class=\"ref false\"><div id=\"ref-auto-btu739-B15\" class=\"ref-content \" data-id=\"btu739-B15\"><div class=\"mixed-citation citation\"><p class=\"mixed-citation-compatibility\"><span class=\"person-group\"><div class=\"name\"><div class=\"surname\">Li</div> <div class=\"given-names\">W.</div></div> <div class=\"name\"><div class=\"surname\">Godzik</div> <div class=\"given-names\">A.</div></div></span> (<div class=\"year\">2006</div>) <div class=\"article-title\">Cd-hit: a fast program for clustering and comparing large sets of protein or nucleotide sequences</div>. <div class=\"source \">Bioinformatics</div><em>,</em> <div class=\"volume\">22</div>, <div class=\"fpage\">1658</div>–<div class=\"lpage\">1659</div>.</p><!--citationLinks: case 1--><div class=\"citation-links\"></div><div class=\"citation-links\"><p class=\"citation-links-compatibility\"><span class=\"google-scholar-ref-link\"><a class=\"openInAnotherWindow\" href=\"https://scholar.google.com/scholar_lookup?title=Cd-hit%3A%20a%20fast%20program%20for%20clustering%20and%20comparing%20large%20sets%20of%20protein%20or%20nucleotide%20sequences&amp;author=W.%20Li&amp;author=A.%20Godzik&amp;publication_year=2006&amp;journal=Bioinformatics&amp;volume=22&amp;pages=1658-1659\" target=\"_blank\">Google Scholar</a></span></p><div class=\"crossref-doi js-ref-link\"><a class=\"openInAnotherWindow\" href=\"http://dx.doi.org/10.1093/bioinformatics/btl158\" target=\"_blank\">Crossref</a></div><div class=\"adsDoiReference hide\"><a class=\"openInAnotherWindow\" href=\"http://adsabs.harvard.edu/cgi-bin/basic_connect?qsearch=10.1093%2Fbioinformatics%2Fbtl158\" target=\"_blank\">Search ADS</a></div><div class=\"xslopenurl empty-target\"><span class=\"inst-open-url-holders\" data-targetId=\"10.1093%2Fbioinformatics%2Fbtl158\"> </span></div><div class=\"pub-id\"><a href=\"http://www.ncbi.nlm.nih.gov/pubmed/16731699\" class=\"link link-pub-id openInAnotherWindow\" target=\"_blank\">PubMed</a></div><p class=\"citation-links-compatibility\"><span class=\"worldcat-reference-ref-link js-worldcat-preview-ref-link\" style=\"display:none\"><a class=\"openInAnotherWindow\" href=\"https://www.worldcat.org/search?q=ti:Cd-hit%3A%20a%20fast%20program%20for%20clustering%20and%20comparing%20large%20sets%20of%20protein%20or%20nucleotide%20sequences&amp;qt=advanced&amp;dblist=638\" target=\"_blank\">WorldCat</a></span></p>\\xa0</div></div></div></div></div><div content-id=\"btu739-B16\" class=\"js-splitview-ref-item\" data-legacy-id=\"btu739-B16\"><div class=\"refLink-parent\"><span class=\"refLink\"><a name=\"jumplink-btu739-B16\" href=\"javascript:;\" aria-label=\"jumplink-btu739-B16\" data-id=\"\"></a></span></div><div class=\"ref false\"><div id=\"ref-auto-btu739-B16\" class=\"ref-content \" data-id=\"btu739-B16\"><div class=\"mixed-citation citation\"><p class=\"mixed-citation-compatibility\"><span class=\"person-group\"><div class=\"name\"><div class=\"surname\">Li</div> <div class=\"given-names\">W.</div></div>et al.\\xa0</span>. (<div class=\"year\">2001</div>) <div class=\"article-title\">Clustering of highly homologous sequences to reduce the size of large protein databases</div>. <div class=\"source \">Bioinformatics</div>, <div class=\"volume\">17</div>, <div class=\"fpage\">282</div>–<div class=\"lpage\">283</div>.</p><!--citationLinks: case 1--><div class=\"citation-links\"></div><div class=\"citation-links\"><p class=\"citation-links-compatibility\"><span class=\"google-scholar-ref-link\"><a class=\"openInAnotherWindow\" href=\"https://scholar.google.com/scholar_lookup?title=Clustering%20of%20highly%20homologous%20sequences%20to%20reduce%20the%20size%20of%20large%20protein%20databases&amp;author=W.%20Li&amp;publication_year=2001&amp;journal=Bioinformatics&amp;volume=17&amp;pages=282-283\" target=\"_blank\">Google Scholar</a></span></p><div class=\"crossref-doi js-ref-link\"><a class=\"openInAnotherWindow\" href=\"http://dx.doi.org/10.1093/bioinformatics/17.3.282\" target=\"_blank\">Crossref</a></div><div class=\"adsDoiReference hide\"><a class=\"openInAnotherWindow\" href=\"http://adsabs.harvard.edu/cgi-bin/basic_connect?qsearch=10.1093%2Fbioinformatics%2F17.3.282\" target=\"_blank\">Search ADS</a></div><div class=\"xslopenurl empty-target\"><span class=\"inst-open-url-holders\" data-targetId=\"10.1093%2Fbioinformatics%2F17.3.282\"> </span></div><div class=\"pub-id\"><a href=\"http://www.ncbi.nlm.nih.gov/pubmed/11294794\" class=\"link link-pub-id openInAnotherWindow\" target=\"_blank\">PubMed</a></div><p class=\"citation-links-compatibility\"><span class=\"worldcat-reference-ref-link js-worldcat-preview-ref-link\" style=\"display:none\"><a class=\"openInAnotherWindow\" href=\"https://www.worldcat.org/search?q=ti:Clustering%20of%20highly%20homologous%20sequences%20to%20reduce%20the%20size%20of%20large%20protein%20databases&amp;qt=advanced&amp;dblist=638\" target=\"_blank\">WorldCat</a></span></p>\\xa0</div></div></div></div></div><div content-id=\"btu739-B17\" class=\"js-splitview-ref-item\" data-legacy-id=\"btu739-B17\"><div class=\"refLink-parent\"><span class=\"refLink\"><a name=\"jumplink-btu739-B17\" href=\"javascript:;\" aria-label=\"jumplink-btu739-B17\" data-id=\"\"></a></span></div><div class=\"ref false\"><div id=\"ref-auto-btu739-B17\" class=\"ref-content \" data-id=\"btu739-B17\"><div class=\"mixed-citation citation\"><p class=\"mixed-citation-compatibility\"><span class=\"person-group\"><div class=\"name\"><div class=\"surname\">Li</div> <div class=\"given-names\">W.</div></div>et al.\\xa0</span>. (<div class=\"year\">2002</div>) <div class=\"article-title\">Sequence clustering strategies improve remote homology recognitions while reducing search times</div>. <div class=\"source \">Protein Eng.</div>, <div class=\"volume\">15</div>, <div class=\"fpage\">643</div>–<div class=\"lpage\">649</div>.</p><!--citationLinks: case 1--><div class=\"citation-links\"></div><div class=\"citation-links\"><p class=\"citation-links-compatibility\"><span class=\"google-scholar-ref-link\"><a class=\"openInAnotherWindow\" href=\"https://scholar.google.com/scholar_lookup?title=Sequence%20clustering%20strategies%20improve%20remote%20homology%20recognitions%20while%20reducing%20search%20times&amp;author=W.%20Li&amp;publication_year=2002&amp;journal=Protein%20Eng.&amp;volume=15&amp;pages=643-649\" target=\"_blank\">Google Scholar</a></span></p><div class=\"crossref-doi js-ref-link\"><a class=\"openInAnotherWindow\" href=\"http://dx.doi.org/10.1093/protein/15.8.643\" target=\"_blank\">Crossref</a></div><div class=\"adsDoiReference hide\"><a class=\"openInAnotherWindow\" href=\"http://adsabs.harvard.edu/cgi-bin/basic_connect?qsearch=10.1093%2Fprotein%2F15.8.643\" target=\"_blank\">Search ADS</a></div><div class=\"xslopenurl empty-target\"><span class=\"inst-open-url-holders\" data-targetId=\"10.1093%2Fprotein%2F15.8.643\"> </span></div><div class=\"pub-id\"><a href=\"http://www.ncbi.nlm.nih.gov/pubmed/12364578\" class=\"link link-pub-id openInAnotherWindow\" target=\"_blank\">PubMed</a></div><p class=\"citation-links-compatibility\"><span class=\"worldcat-reference-ref-link js-worldcat-preview-ref-link\" style=\"display:none\"><a class=\"openInAnotherWindow\" href=\"https://www.worldcat.org/search?q=ti:Sequence%20clustering%20strategies%20improve%20remote%20homology%20recognitions%20while%20reducing%20search%20times&amp;qt=advanced&amp;dblist=638\" target=\"_blank\">WorldCat</a></span></p>\\xa0</div></div></div></div></div><div content-id=\"btu739-B18\" class=\"js-splitview-ref-item\" data-legacy-id=\"btu739-B18\"><div class=\"refLink-parent\"><span class=\"refLink\"><a name=\"jumplink-btu739-B18\" href=\"javascript:;\" aria-label=\"jumplink-btu739-B18\" data-id=\"\"></a></span></div><div class=\"ref false\"><div id=\"ref-auto-btu739-B18\" class=\"ref-content \" data-id=\"btu739-B18\"><div class=\"mixed-citation citation\"><p class=\"mixed-citation-compatibility\"><span class=\"person-group\"><div class=\"name\"><div class=\"surname\">Loewenstein</div> <div class=\"given-names\">Y.</div></div>et al.\\xa0</span>. (<div class=\"year\">2008</div>) <div class=\"article-title\">Efficient algorithms for accurate hierarchical clustering of huge datasets: tackling the entire protein space</div>. <div class=\"source \">Bioinformatics</div>, <div class=\"volume\">24</div>, <div class=\"fpage\">i41</div>–<div class=\"lpage\">49</div>.</p><!--citationLinks: case 1--><div class=\"citation-links\"></div><div class=\"citation-links\"><p class=\"citation-links-compatibility\"><span class=\"google-scholar-ref-link\"><a class=\"openInAnotherWindow\" href=\"https://scholar.google.com/scholar_lookup?title=Efficient%20algorithms%20for%20accurate%20hierarchical%20clustering%20of%20huge%20datasets%3A%20tackling%20the%20entire%20protein%20space&amp;author=Y.%20Loewenstein&amp;publication_year=2008&amp;journal=Bioinformatics&amp;volume=24&amp;pages=i41-49\" target=\"_blank\">Google Scholar</a></span></p><div class=\"crossref-doi js-ref-link\"><a class=\"openInAnotherWindow\" href=\"http://dx.doi.org/10.1093/bioinformatics/btn174\" target=\"_blank\">Crossref</a></div><div class=\"adsDoiReference hide\"><a class=\"openInAnotherWindow\" href=\"http://adsabs.harvard.edu/cgi-bin/basic_connect?qsearch=10.1093%2Fbioinformatics%2Fbtn174\" target=\"_blank\">Search ADS</a></div><div class=\"xslopenurl empty-target\"><span class=\"inst-open-url-holders\" data-targetId=\"10.1093%2Fbioinformatics%2Fbtn174\"> </span></div><div class=\"pub-id\"><a href=\"http://www.ncbi.nlm.nih.gov/pubmed/18586742\" class=\"link link-pub-id openInAnotherWindow\" target=\"_blank\">PubMed</a></div><p class=\"citation-links-compatibility\"><span class=\"worldcat-reference-ref-link js-worldcat-preview-ref-link\" style=\"display:none\"><a class=\"openInAnotherWindow\" href=\"https://www.worldcat.org/search?q=ti:Efficient%20algorithms%20for%20accurate%20hierarchical%20clustering%20of%20huge%20datasets%3A%20tackling%20the%20entire%20protein%20space&amp;qt=advanced&amp;dblist=638\" target=\"_blank\">WorldCat</a></span></p>\\xa0</div></div></div></div></div><div content-id=\"btu739-B19\" class=\"js-splitview-ref-item\" data-legacy-id=\"btu739-B19\"><div class=\"refLink-parent\"><span class=\"refLink\"><a name=\"jumplink-btu739-B19\" href=\"javascript:;\" aria-label=\"jumplink-btu739-B19\" data-id=\"\"></a></span></div><div class=\"ref false\"><div id=\"ref-auto-btu739-B19\" class=\"ref-content \" data-id=\"btu739-B19\"><div class=\"mixed-citation citation\"><p class=\"mixed-citation-compatibility\"><span class=\"person-group\"><div class=\"name\"><div class=\"surname\">Louie</div> <div class=\"given-names\">B.</div></div>et al.\\xa0</span><em>.</em> (<div class=\"year\">2010</div>) <div class=\"article-title\">Quantifying protein function specificity in the gene ontology</div>. <div class=\"source \">Stand. Genomic Sci.</div>, <div class=\"volume\">2</div>, <div class=\"fpage\">238</div>–<div class=\"lpage\">244</div>.</p><!--citationLinks: case 1--><div class=\"citation-links\"></div><div class=\"citation-links\"><p class=\"citation-links-compatibility\"><span class=\"google-scholar-ref-link\"><a class=\"openInAnotherWindow\" href=\"https://scholar.google.com/scholar_lookup?title=Quantifying%20protein%20function%20specificity%20in%20the%20gene%20ontology&amp;author=B.%20Louie&amp;publication_year=2010&amp;journal=Stand.%20Genomic%20Sci.&amp;volume=2&amp;pages=238-244\" target=\"_blank\">Google Scholar</a></span></p><div class=\"crossref-doi js-ref-link\"><a class=\"openInAnotherWindow\" href=\"http://dx.doi.org/10.4056/sigs.561626\" target=\"_blank\">Crossref</a></div><div class=\"adsDoiReference hide\"><a class=\"openInAnotherWindow\" href=\"http://adsabs.harvard.edu/cgi-bin/basic_connect?qsearch=10.4056%2Fsigs.561626\" target=\"_blank\">Search ADS</a></div><div class=\"xslopenurl empty-target\"><span class=\"inst-open-url-holders\" data-targetId=\"10.4056%2Fsigs.561626\"> </span></div><div class=\"pub-id\"><a href=\"http://www.ncbi.nlm.nih.gov/pubmed/21304708\" class=\"link link-pub-id openInAnotherWindow\" target=\"_blank\">PubMed</a></div><p class=\"citation-links-compatibility\"><span class=\"worldcat-reference-ref-link js-worldcat-preview-ref-link\" style=\"display:none\"><a class=\"openInAnotherWindow\" href=\"https://www.worldcat.org/search?q=ti:Quantifying%20protein%20function%20specificity%20in%20the%20gene%20ontology&amp;qt=advanced&amp;dblist=638\" target=\"_blank\">WorldCat</a></span></p>\\xa0</div></div></div></div></div><div content-id=\"btu739-B20\" class=\"js-splitview-ref-item\" data-legacy-id=\"btu739-B20\"><div class=\"refLink-parent\"><span class=\"refLink\"><a name=\"jumplink-btu739-B20\" href=\"javascript:;\" aria-label=\"jumplink-btu739-B20\" data-id=\"\"></a></span></div><div class=\"ref false\"><div id=\"ref-auto-btu739-B20\" class=\"ref-content \" data-id=\"btu739-B20\"><div class=\"mixed-citation citation\"><p class=\"mixed-citation-compatibility\"><span class=\"person-group\"><div class=\"name\"><div class=\"surname\">Luscombe</div> <div class=\"given-names\">N.M.</div></div>et al.\\xa0</span><em>.</em> (<div class=\"year\">2002</div>) <div class=\"article-title\">The dominance of the population by a selected few: power-law behaviour applies to a wide variety of genomic properties</div>. <div class=\"source \">Genome Biol.</div>, <div class=\"volume\">3</div>, <div class=\"fpage\">RESEARCH0040</div>.</p><!--citationLinks: case 1--><div class=\"citation-links\"></div><div class=\"citation-links\"><p class=\"citation-links-compatibility\"><span class=\"google-scholar-ref-link\"><a class=\"openInAnotherWindow\" href=\"https://scholar.google.com/scholar_lookup?title=The%20dominance%20of%20the%20population%20by%20a%20selected%20few%3A%20power-law%20behaviour%20applies%20to%20a%20wide%20variety%20of%20genomic%20properties&amp;author=N.M.%20Luscombe&amp;publication_year=2002&amp;journal=Genome%20Biol.&amp;volume=3&amp;pages=RESEARCH0040\" target=\"_blank\">Google Scholar</a></span></p><div class=\"crossref-doi js-ref-link\"><a class=\"openInAnotherWindow\" href=\"http://dx.doi.org/10.1186/gb-2002-3-8-research0040\" target=\"_blank\">Crossref</a></div><div class=\"adsDoiReference hide\"><a class=\"openInAnotherWindow\" href=\"http://adsabs.harvard.edu/cgi-bin/basic_connect?qsearch=10.1186%2Fgb-2002-3-8-research0040\" target=\"_blank\">Search ADS</a></div><div class=\"xslopenurl empty-target\"><span class=\"inst-open-url-holders\" data-targetId=\"10.1186%2Fgb-2002-3-8-research0040\"> </span></div><div class=\"pub-id\"><a href=\"http://www.ncbi.nlm.nih.gov/pubmed/12186647\" class=\"link link-pub-id openInAnotherWindow\" target=\"_blank\">PubMed</a></div><p class=\"citation-links-compatibility\"><span class=\"worldcat-reference-ref-link js-worldcat-preview-ref-link\" style=\"display:none\"><a class=\"openInAnotherWindow\" href=\"https://www.worldcat.org/search?q=ti:The%20dominance%20of%20the%20population%20by%20a%20selected%20few%3A%20power-law%20behaviour%20applies%20to%20a%20wide%20variety%20of%20genomic%20properties&amp;qt=advanced&amp;dblist=638\" target=\"_blank\">WorldCat</a></span></p>\\xa0</div></div></div></div></div><div content-id=\"btu739-B21\" class=\"js-splitview-ref-item\" data-legacy-id=\"btu739-B21\"><div class=\"refLink-parent\"><span class=\"refLink\"><a name=\"jumplink-btu739-B21\" href=\"javascript:;\" aria-label=\"jumplink-btu739-B21\" data-id=\"\"></a></span></div><div class=\"ref false\"><div id=\"ref-auto-btu739-B21\" class=\"ref-content \" data-id=\"btu739-B21\"><div class=\"mixed-citation citation\"><p class=\"mixed-citation-compatibility\"><span class=\"person-group\"><div class=\"name\"><div class=\"surname\">Malde</div> <div class=\"given-names\">K.</div></div> <div class=\"name\"><div class=\"surname\">Furmanek</div> <div class=\"given-names\">T.</div></div></span> (<div class=\"year\">2013</div>) <div class=\"article-title\">Increasing sequence search sensitivity with transitive alignments</div>. <div class=\"source \">PLoS One</div>, <div class=\"volume\">8</div>, <div class=\"fpage\">e54422</div>.</p><!--citationLinks: case 1--><div class=\"citation-links\"></div><div class=\"citation-links\"><p class=\"citation-links-compatibility\"><span class=\"google-scholar-ref-link\"><a class=\"openInAnotherWindow\" href=\"https://scholar.google.com/scholar_lookup?title=Increasing%20sequence%20search%20sensitivity%20with%20transitive%20alignments&amp;author=K.%20Malde&amp;author=T.%20Furmanek&amp;publication_year=2013&amp;journal=PLoS%20One&amp;volume=8&amp;pages=e54422\" target=\"_blank\">Google Scholar</a></span></p><div class=\"crossref-doi js-ref-link\"><a class=\"openInAnotherWindow\" href=\"http://dx.doi.org/10.1371/journal.pone.0054422\" target=\"_blank\">Crossref</a></div><div class=\"adsDoiReference hide\"><a class=\"openInAnotherWindow\" href=\"http://adsabs.harvard.edu/cgi-bin/basic_connect?qsearch=10.1371%2Fjournal.pone.0054422\" target=\"_blank\">Search ADS</a></div><div class=\"xslopenurl empty-target\"><span class=\"inst-open-url-holders\" data-targetId=\"10.1371%2Fjournal.pone.0054422\"> </span></div><div class=\"pub-id\"><a href=\"http://www.ncbi.nlm.nih.gov/pubmed/23457449\" class=\"link link-pub-id openInAnotherWindow\" target=\"_blank\">PubMed</a></div><p class=\"citation-links-compatibility\"><span class=\"worldcat-reference-ref-link js-worldcat-preview-ref-link\" style=\"display:none\"><a class=\"openInAnotherWindow\" href=\"https://www.worldcat.org/search?q=ti:Increasing%20sequence%20search%20sensitivity%20with%20transitive%20alignments&amp;qt=advanced&amp;dblist=638\" target=\"_blank\">WorldCat</a></span></p>\\xa0</div></div></div></div></div><div content-id=\"btu739-B22\" class=\"js-splitview-ref-item\" data-legacy-id=\"btu739-B22\"><div class=\"refLink-parent\"><span class=\"refLink\"><a name=\"jumplink-btu739-B22\" href=\"javascript:;\" aria-label=\"jumplink-btu739-B22\" data-id=\"\"></a></span></div><div class=\"ref false\"><div id=\"ref-auto-btu739-B22\" class=\"ref-content \" data-id=\"btu739-B22\"><div class=\"mixed-citation citation\"><p class=\"mixed-citation-compatibility\"><span class=\"person-group\"><div class=\"name\"><div class=\"surname\">Park</div> <div class=\"given-names\">J.</div></div>et al.\\xa0</span>. (<div class=\"year\">2000</div>) <div class=\"article-title\">RSDB: representative protein sequence databases have high information content</div>. <div class=\"source \">Bioinformatics</div>, <div class=\"volume\">16</div>, <div class=\"fpage\">458</div>–<div class=\"lpage\">464</div>.</p><!--citationLinks: case 1--><div class=\"citation-links\"></div><div class=\"citation-links\"><p class=\"citation-links-compatibility\"><span class=\"google-scholar-ref-link\"><a class=\"openInAnotherWindow\" href=\"https://scholar.google.com/scholar_lookup?title=RSDB%3A%20representative%20protein%20sequence%20databases%20have%20high%20information%20content&amp;author=J.%20Park&amp;publication_year=2000&amp;journal=Bioinformatics&amp;volume=16&amp;pages=458-464\" target=\"_blank\">Google Scholar</a></span></p><div class=\"crossref-doi js-ref-link\"><a class=\"openInAnotherWindow\" href=\"http://dx.doi.org/10.1093/bioinformatics/16.5.458\" target=\"_blank\">Crossref</a></div><div class=\"adsDoiReference hide\"><a class=\"openInAnotherWindow\" href=\"http://adsabs.harvard.edu/cgi-bin/basic_connect?qsearch=10.1093%2Fbioinformatics%2F16.5.458\" target=\"_blank\">Search ADS</a></div><div class=\"xslopenurl empty-target\"><span class=\"inst-open-url-holders\" data-targetId=\"10.1093%2Fbioinformatics%2F16.5.458\"> </span></div><div class=\"pub-id\"><a href=\"http://www.ncbi.nlm.nih.gov/pubmed/10871268\" class=\"link link-pub-id openInAnotherWindow\" target=\"_blank\">PubMed</a></div><p class=\"citation-links-compatibility\"><span class=\"worldcat-reference-ref-link js-worldcat-preview-ref-link\" style=\"display:none\"><a class=\"openInAnotherWindow\" href=\"https://www.worldcat.org/search?q=ti:RSDB%3A%20representative%20protein%20sequence%20databases%20have%20high%20information%20content&amp;qt=advanced&amp;dblist=638\" target=\"_blank\">WorldCat</a></span></p>\\xa0</div></div></div></div></div><div content-id=\"btu739-B23\" class=\"js-splitview-ref-item\" data-legacy-id=\"btu739-B23\"><div class=\"refLink-parent\"><span class=\"refLink\"><a name=\"jumplink-btu739-B23\" href=\"javascript:;\" aria-label=\"jumplink-btu739-B23\" data-id=\"\"></a></span></div><div class=\"ref false\"><div id=\"ref-auto-btu739-B23\" class=\"ref-content \" data-id=\"btu739-B23\"><div class=\"mixed-citation citation\"><p class=\"mixed-citation-compatibility\"><span class=\"person-group\"><div class=\"name\"><div class=\"surname\">Punta</div> <div class=\"given-names\">M.</div></div>et al.\\xa0</span><em>.</em> (<div class=\"year\">2012</div>) <div class=\"article-title\">The Pfam protein families database</div>. <div class=\"source \">Nucleic Acids Res.</div>, <div class=\"volume\">40</div>(<div class=\"supplement\">Database issue</div>), <div class=\"fpage\">D290</div>–<div class=\"lpage\">D301</div>.</p><!--citationLinks: case 1--><div class=\"citation-links\"></div><div class=\"citation-links\"><p class=\"citation-links-compatibility\"><span class=\"google-scholar-ref-link\"><a class=\"openInAnotherWindow\" href=\"https://scholar.google.com/scholar_lookup?title=The%20Pfam%20protein%20families%20database&amp;author=M.%20Punta&amp;publication_year=2012&amp;journal=Nucleic%20Acids%20Res.&amp;volume=40&amp;pages=D290-D301\" target=\"_blank\">Google Scholar</a></span></p><div class=\"crossref-doi js-ref-link\"><a class=\"openInAnotherWindow\" href=\"http://dx.doi.org/10.1093/nar/gkr1065\" target=\"_blank\">Crossref</a></div><div class=\"adsDoiReference hide\"><a class=\"openInAnotherWindow\" href=\"http://adsabs.harvard.edu/cgi-bin/basic_connect?qsearch=10.1093%2Fnar%2Fgkr1065\" target=\"_blank\">Search ADS</a></div><div class=\"xslopenurl empty-target\"><span class=\"inst-open-url-holders\" data-targetId=\"10.1093%2Fnar%2Fgkr1065\"> </span></div><div class=\"pub-id\"><a href=\"http://www.ncbi.nlm.nih.gov/pubmed/22127870\" class=\"link link-pub-id openInAnotherWindow\" target=\"_blank\">PubMed</a></div><p class=\"citation-links-compatibility\"><span class=\"worldcat-reference-ref-link js-worldcat-preview-ref-link\" style=\"display:none\"><a class=\"openInAnotherWindow\" href=\"https://www.worldcat.org/search?q=ti:The%20Pfam%20protein%20families%20database&amp;qt=advanced&amp;dblist=638\" target=\"_blank\">WorldCat</a></span></p>\\xa0</div></div></div></div></div><div content-id=\"btu739-B24\" class=\"js-splitview-ref-item\" data-legacy-id=\"btu739-B24\"><div class=\"refLink-parent\"><span class=\"refLink\"><a name=\"jumplink-btu739-B24\" href=\"javascript:;\" aria-label=\"jumplink-btu739-B24\" data-id=\"\"></a></span></div><div class=\"ref false\"><div id=\"ref-auto-btu739-B24\" class=\"ref-content \" data-id=\"btu739-B24\"><div class=\"mixed-citation citation\"><p class=\"mixed-citation-compatibility\"><div class=\"collab\">Reference Genome Group of the Gene Ontology Consortium</div> (<div class=\"year\">2009</div>) <div class=\"article-title\">The Gene Ontology’s Reference Genome Project: a unified framework for functional annotation across species</div>. <div class=\"source \">PLoS Comput. Biol.</div>, <div class=\"volume\">5</div>, <div class=\"fpage\">e1000431</div>.</p><!--citationLinks: case 1--><div class=\"citation-links\"></div><div class=\"citation-links\"><p class=\"citation-links-compatibility\"><span class=\"google-scholar-ref-link\"><a class=\"openInAnotherWindow\" href=\"https://scholar.google.com/scholar?q=Reference+Genome+Group+of+the+Gene+Ontology+Consortium+(2009)+The+Gene+Ontology’s+Reference+Genome+Project:+a+unified+framework+for+functional+annotation+across+species.+PLoS+Comput.+Biol.,+5,+e1000431.\" target=\"_blank\">Google Scholar</a></span></p><div class=\"crossref-doi js-ref-link\"><a class=\"openInAnotherWindow\" href=\"http://dx.doi.org/10.1371/journal.pcbi.1000431\" target=\"_blank\">Crossref</a></div><div class=\"adsDoiReference hide\"><a class=\"openInAnotherWindow\" href=\"http://adsabs.harvard.edu/cgi-bin/basic_connect?qsearch=10.1371%2Fjournal.pcbi.1000431\" target=\"_blank\">Search ADS</a></div><div class=\"xslopenurl empty-target\"><span class=\"inst-open-url-holders\" data-targetId=\"10.1371%2Fjournal.pcbi.1000431\"> </span></div><div class=\"pub-id\"><a href=\"http://www.ncbi.nlm.nih.gov/pubmed/19578431\" class=\"link link-pub-id openInAnotherWindow\" target=\"_blank\">PubMed</a></div><p class=\"citation-links-compatibility\"><span class=\"worldcat-reference-ref-link js-worldcat-preview-ref-link\" style=\"display:none\"><a class=\"openInAnotherWindow\" href=\"https://www.worldcat.org/search?q=ti:The%20Gene%20Ontology%E2%80%99s%20Reference%20Genome%20Project%3A%20a%20unified%20framework%20for%20functional%20annotation%20across%20species&amp;qt=advanced&amp;dblist=638\" target=\"_blank\">WorldCat</a></span></p>\\xa0</div></div></div></div></div><div content-id=\"btu739-B25\" class=\"js-splitview-ref-item\" data-legacy-id=\"btu739-B25\"><div class=\"refLink-parent\"><span class=\"refLink\"><a name=\"jumplink-btu739-B25\" href=\"javascript:;\" aria-label=\"jumplink-btu739-B25\" data-id=\"\"></a></span></div><div class=\"ref false\"><div id=\"ref-auto-btu739-B25\" class=\"ref-content \" data-id=\"btu739-B25\"><div class=\"mixed-citation citation\"><p class=\"mixed-citation-compatibility\"><span class=\"person-group\"><div class=\"name\"><div class=\"surname\">Rivera</div> <div class=\"given-names\">A.S.</div></div>et al.\\xa0</span>. (<div class=\"year\">2010</div>) <div class=\"article-title\">Gene duplication and the origins of morphological complexity in pancrustacean eyes, a genomic approach</div>. <div class=\"source \">BMC Evol. Biol.</div>, <div class=\"volume\">10</div>, <div class=\"fpage\">123</div>.</p><!--citationLinks: case 1--><div class=\"citation-links\"></div><div class=\"citation-links\"><p class=\"citation-links-compatibility\"><span class=\"google-scholar-ref-link\"><a class=\"openInAnotherWindow\" href=\"https://scholar.google.com/scholar_lookup?title=Gene%20duplication%20and%20the%20origins%20of%20morphological%20complexity%20in%20pancrustacean%20eyes%2C%20a%20genomic%20approach&amp;author=A.S.%20Rivera&amp;publication_year=2010&amp;journal=BMC%20Evol.%20Biol.&amp;volume=10&amp;pages=123\" target=\"_blank\">Google Scholar</a></span></p><div class=\"crossref-doi js-ref-link\"><a class=\"openInAnotherWindow\" href=\"http://dx.doi.org/10.1186/1471-2148-10-123\" target=\"_blank\">Crossref</a></div><div class=\"adsDoiReference hide\"><a class=\"openInAnotherWindow\" href=\"http://adsabs.harvard.edu/cgi-bin/basic_connect?qsearch=10.1186%2F1471-2148-10-123\" target=\"_blank\">Search ADS</a></div><div class=\"xslopenurl empty-target\"><span class=\"inst-open-url-holders\" data-targetId=\"10.1186%2F1471-2148-10-123\"> </span></div><div class=\"pub-id\"><a href=\"http://www.ncbi.nlm.nih.gov/pubmed/20433736\" class=\"link link-pub-id openInAnotherWindow\" target=\"_blank\">PubMed</a></div><p class=\"citation-links-compatibility\"><span class=\"worldcat-reference-ref-link js-worldcat-preview-ref-link\" style=\"display:none\"><a class=\"openInAnotherWindow\" href=\"https://www.worldcat.org/search?q=ti:Gene%20duplication%20and%20the%20origins%20of%20morphological%20complexity%20in%20pancrustacean%20eyes%2C%20a%20genomic%20approach&amp;qt=advanced&amp;dblist=638\" target=\"_blank\">WorldCat</a></span></p>\\xa0</div></div></div></div></div><div content-id=\"btu739-B26\" class=\"js-splitview-ref-item\" data-legacy-id=\"btu739-B26\"><div class=\"refLink-parent\"><span class=\"refLink\"><a name=\"jumplink-btu739-B26\" href=\"javascript:;\" aria-label=\"jumplink-btu739-B26\" data-id=\"\"></a></span></div><div class=\"ref false\"><div id=\"ref-auto-btu739-B26\" class=\"ref-content \" data-id=\"btu739-B26\"><div class=\"mixed-citation citation\"><p class=\"mixed-citation-compatibility\"><span class=\"person-group\"><div class=\"name\"><div class=\"surname\">Sievers</div> <div class=\"given-names\">F.</div></div>et al.\\xa0</span><em>.</em> (<div class=\"year\">2011</div>) <div class=\"article-title\">Fast, scalable generation of high-quality protein multiple sequence alignments using Clustal Omega</div>. <div class=\"source \">Mol. Syst. Biol.</div>, <div class=\"volume\">7</div>, <div class=\"fpage\">539</div>.</p><!--citationLinks: case 1--><div class=\"citation-links\"></div><div class=\"citation-links\"><p class=\"citation-links-compatibility\"><span class=\"google-scholar-ref-link\"><a class=\"openInAnotherWindow\" href=\"https://scholar.google.com/scholar_lookup?title=Fast%2C%20scalable%20generation%20of%20high-quality%20protein%20multiple%20sequence%20alignments%20using%20Clustal%20Omega&amp;author=F.%20Sievers&amp;publication_year=2011&amp;journal=Mol.%20Syst.%20Biol.&amp;volume=7&amp;pages=539\" target=\"_blank\">Google Scholar</a></span></p><div class=\"crossref-doi js-ref-link\"><a class=\"openInAnotherWindow\" href=\"http://dx.doi.org/10.1038/msb.2011.75\" target=\"_blank\">Crossref</a></div><div class=\"adsDoiReference hide\"><a class=\"openInAnotherWindow\" href=\"http://adsabs.harvard.edu/cgi-bin/basic_connect?qsearch=10.1038%2Fmsb.2011.75\" target=\"_blank\">Search ADS</a></div><div class=\"xslopenurl empty-target\"><span class=\"inst-open-url-holders\" data-targetId=\"10.1038%2Fmsb.2011.75\"> </span></div><div class=\"pub-id\"><a href=\"http://www.ncbi.nlm.nih.gov/pubmed/21988835\" class=\"link link-pub-id openInAnotherWindow\" target=\"_blank\">PubMed</a></div><p class=\"citation-links-compatibility\"><span class=\"worldcat-reference-ref-link js-worldcat-preview-ref-link\" style=\"display:none\"><a class=\"openInAnotherWindow\" href=\"https://www.worldcat.org/search?q=ti:Fast%2C%20scalable%20generation%20of%20high-quality%20protein%20multiple%20sequence%20alignments%20using%20Clustal%20Omega&amp;qt=advanced&amp;dblist=638\" target=\"_blank\">WorldCat</a></span></p>\\xa0</div></div></div></div></div><div content-id=\"btu739-B27\" class=\"js-splitview-ref-item\" data-legacy-id=\"btu739-B27\"><div class=\"refLink-parent\"><span class=\"refLink\"><a name=\"jumplink-btu739-B27\" href=\"javascript:;\" aria-label=\"jumplink-btu739-B27\" data-id=\"\"></a></span></div><div class=\"ref false\"><div id=\"ref-auto-btu739-B27\" class=\"ref-content \" data-id=\"btu739-B27\"><div class=\"mixed-citation citation\"><p class=\"mixed-citation-compatibility\"><span class=\"person-group\"><div class=\"name\"><div class=\"surname\">Sim</div> <div class=\"given-names\">N.L.</div></div>et al.\\xa0</span>. (<div class=\"year\">2012</div>) <div class=\"article-title\">SIFT web server: predicting effects of amino acid substitutions on proteins</div>. <div class=\"source \">Nucleic Acids Res.</div>, <div class=\"volume\">40</div>(<div class=\"issue\">Web Server issue</div>), <div class=\"fpage\">W452</div>–<div class=\"lpage\">W457</div>.</p><!--citationLinks: case 1--><div class=\"citation-links\"></div><div class=\"citation-links\"><p class=\"citation-links-compatibility\"><span class=\"google-scholar-ref-link\"><a class=\"openInAnotherWindow\" href=\"https://scholar.google.com/scholar_lookup?title=SIFT%20web%20server%3A%20predicting%20effects%20of%20amino%20acid%20substitutions%20on%20proteins&amp;author=N.L.%20Sim&amp;publication_year=2012&amp;journal=Nucleic%20Acids%20Res.&amp;volume=40&amp;pages=W452-W457\" target=\"_blank\">Google Scholar</a></span></p><div class=\"crossref-doi js-ref-link\"><a class=\"openInAnotherWindow\" href=\"http://dx.doi.org/10.1093/nar/gks539\" target=\"_blank\">Crossref</a></div><div class=\"adsDoiReference hide\"><a class=\"openInAnotherWindow\" href=\"http://adsabs.harvard.edu/cgi-bin/basic_connect?qsearch=10.1093%2Fnar%2Fgks539\" target=\"_blank\">Search ADS</a></div><div class=\"xslopenurl empty-target\"><span class=\"inst-open-url-holders\" data-targetId=\"10.1093%2Fnar%2Fgks539\"> </span></div><div class=\"pub-id\"><a href=\"http://www.ncbi.nlm.nih.gov/pubmed/22689647\" class=\"link link-pub-id openInAnotherWindow\" target=\"_blank\">PubMed</a></div><p class=\"citation-links-compatibility\"><span class=\"worldcat-reference-ref-link js-worldcat-preview-ref-link\" style=\"display:none\"><a class=\"openInAnotherWindow\" href=\"https://www.worldcat.org/search?q=ti:SIFT%20web%20server%3A%20predicting%20effects%20of%20amino%20acid%20substitutions%20on%20proteins&amp;qt=advanced&amp;dblist=638\" target=\"_blank\">WorldCat</a></span></p>\\xa0</div></div></div></div></div><div content-id=\"btu739-B28\" class=\"js-splitview-ref-item\" data-legacy-id=\"btu739-B28\"><div class=\"refLink-parent\"><span class=\"refLink\"><a name=\"jumplink-btu739-B28\" href=\"javascript:;\" aria-label=\"jumplink-btu739-B28\" data-id=\"\"></a></span></div><div class=\"ref false\"><div id=\"ref-auto-btu739-B28\" class=\"ref-content \" data-id=\"btu739-B28\"><div class=\"mixed-citation citation\"><p class=\"mixed-citation-compatibility\"><span class=\"person-group\"><div class=\"name\"><div class=\"surname\">Suzek</div> <div class=\"given-names\">B.E.</div></div>et al.\\xa0</span>. (<div class=\"year\">2007</div>) <div class=\"article-title\">UniRef: comprehensive and non-redundant UniProt reference clusters</div>. <div class=\"source \">Bioinformatics</div>, <div class=\"volume\">23</div>, <div class=\"fpage\">1282</div>–<div class=\"lpage\">1288</div>.</p><!--citationLinks: case 1--><div class=\"citation-links\"></div><div class=\"citation-links\"><p class=\"citation-links-compatibility\"><span class=\"google-scholar-ref-link\"><a class=\"openInAnotherWindow\" href=\"https://scholar.google.com/scholar_lookup?title=UniRef%3A%20comprehensive%20and%20non-redundant%20UniProt%20reference%20clusters&amp;author=B.E.%20Suzek&amp;publication_year=2007&amp;journal=Bioinformatics&amp;volume=23&amp;pages=1282-1288\" target=\"_blank\">Google Scholar</a></span></p><div class=\"crossref-doi js-ref-link\"><a class=\"openInAnotherWindow\" href=\"http://dx.doi.org/10.1093/bioinformatics/btm098\" target=\"_blank\">Crossref</a></div><div class=\"adsDoiReference hide\"><a class=\"openInAnotherWindow\" href=\"http://adsabs.harvard.edu/cgi-bin/basic_connect?qsearch=10.1093%2Fbioinformatics%2Fbtm098\" target=\"_blank\">Search ADS</a></div><div class=\"xslopenurl empty-target\"><span class=\"inst-open-url-holders\" data-targetId=\"10.1093%2Fbioinformatics%2Fbtm098\"> </span></div><div class=\"pub-id\"><a href=\"http://www.ncbi.nlm.nih.gov/pubmed/17379688\" class=\"link link-pub-id openInAnotherWindow\" target=\"_blank\">PubMed</a></div><p class=\"citation-links-compatibility\"><span class=\"worldcat-reference-ref-link js-worldcat-preview-ref-link\" style=\"display:none\"><a class=\"openInAnotherWindow\" href=\"https://www.worldcat.org/search?q=ti:UniRef%3A%20comprehensive%20and%20non-redundant%20UniProt%20reference%20clusters&amp;qt=advanced&amp;dblist=638\" target=\"_blank\">WorldCat</a></span></p>\\xa0</div></div></div></div></div><div content-id=\"btu739-B29\" class=\"js-splitview-ref-item\" data-legacy-id=\"btu739-B29\"><div class=\"refLink-parent\"><span class=\"refLink\"><a name=\"jumplink-btu739-B29\" href=\"javascript:;\" aria-label=\"jumplink-btu739-B29\" data-id=\"\"></a></span></div><div class=\"ref false\"><div id=\"ref-auto-btu739-B29\" class=\"ref-content \" data-id=\"btu739-B29\"><div class=\"mixed-citation citation\"><p class=\"mixed-citation-compatibility\"><span class=\"person-group\"><div class=\"name\"><div class=\"surname\">UniProt</div> <div class=\"given-names\">C.</div></div></span> (<div class=\"year\">2013</div>) <div class=\"article-title\">Update on activities at the Universal Protein Resource (UniProt) in 2013</div>. <div class=\"source \">Nucleic Acids Res.</div>, <div class=\"volume\">41</div>(<div class=\"supplement\">Database issue</div>), <div class=\"fpage\">D43</div>–<div class=\"lpage\">D47</div>.</p><!--citationLinks: case 1--><div class=\"citation-links\"></div><div class=\"citation-links\"><p class=\"citation-links-compatibility\"><span class=\"google-scholar-ref-link\"><a class=\"openInAnotherWindow\" href=\"https://scholar.google.com/scholar_lookup?title=Update%20on%20activities%20at%20the%20Universal%20Protein%20Resource%20%28UniProt%29%20in%202013&amp;author=C.%20UniProt&amp;publication_year=2013&amp;journal=Nucleic%20Acids%20Res.&amp;volume=41&amp;pages=D43-D47\" target=\"_blank\">Google Scholar</a></span></p><div class=\"crossref-doi js-ref-link\"><a class=\"openInAnotherWindow\" href=\"http://dx.doi.org/10.1093/nar/gks1068\" target=\"_blank\">Crossref</a></div><div class=\"adsDoiReference hide\"><a class=\"openInAnotherWindow\" href=\"http://adsabs.harvard.edu/cgi-bin/basic_connect?qsearch=10.1093%2Fnar%2Fgks1068\" target=\"_blank\">Search ADS</a></div><div class=\"xslopenurl empty-target\"><span class=\"inst-open-url-holders\" data-targetId=\"10.1093%2Fnar%2Fgks1068\"> </span></div><div class=\"pub-id\"><a href=\"http://www.ncbi.nlm.nih.gov/pubmed/23161681\" class=\"link link-pub-id openInAnotherWindow\" target=\"_blank\">PubMed</a></div><p class=\"citation-links-compatibility\"><span class=\"worldcat-reference-ref-link js-worldcat-preview-ref-link\" style=\"display:none\"><a class=\"openInAnotherWindow\" href=\"https://www.worldcat.org/search?q=ti:Update%20on%20activities%20at%20the%20Universal%20Protein%20Resource%20%28UniProt%29%20in%202013&amp;qt=advanced&amp;dblist=638\" target=\"_blank\">WorldCat</a></span></p>\\xa0</div></div></div></div></div><div content-id=\"btu739-B30\" class=\"js-splitview-ref-item\" data-legacy-id=\"btu739-B30\"><div class=\"refLink-parent\"><span class=\"refLink\"><a name=\"jumplink-btu739-B30\" href=\"javascript:;\" aria-label=\"jumplink-btu739-B30\" data-id=\"\"></a></span></div><div class=\"ref false\"><div id=\"ref-auto-btu739-B30\" class=\"ref-content \" data-id=\"btu739-B30\"><div class=\"mixed-citation citation\"><p class=\"mixed-citation-compatibility\"><span class=\"person-group\"><div class=\"name\"><div class=\"surname\">Wommack</div> <div class=\"given-names\">K.E.</div></div>et al.\\xa0</span>. (<div class=\"year\">2012</div>) <div class=\"article-title\">VIROME: a standard operating procedure for analysis of viral metagenome sequences</div>. <div class=\"source \">Stand. Genomic Sci.</div>, <div class=\"volume\">6</div>, <div class=\"fpage\">427</div>–<div class=\"lpage\">439</div>.</p><!--citationLinks: case 1--><div class=\"citation-links\"></div><div class=\"citation-links\"><p class=\"citation-links-compatibility\"><span class=\"google-scholar-ref-link\"><a class=\"openInAnotherWindow\" href=\"https://scholar.google.com/scholar_lookup?title=VIROME%3A%20a%20standard%20operating%20procedure%20for%20analysis%20of%20viral%20metagenome%20sequences&amp;author=K.E.%20Wommack&amp;publication_year=2012&amp;journal=Stand.%20Genomic%20Sci.&amp;volume=6&amp;pages=427-439\" target=\"_blank\">Google Scholar</a></span></p><div class=\"crossref-doi js-ref-link\"><a class=\"openInAnotherWindow\" href=\"http://dx.doi.org/10.4056/sigs.2945050\" target=\"_blank\">Crossref</a></div><div class=\"adsDoiReference hide\"><a class=\"openInAnotherWindow\" href=\"http://adsabs.harvard.edu/cgi-bin/basic_connect?qsearch=10.4056%2Fsigs.2945050\" target=\"_blank\">Search ADS</a></div><div class=\"xslopenurl empty-target\"><span class=\"inst-open-url-holders\" data-targetId=\"10.4056%2Fsigs.2945050\"> </span></div><div class=\"pub-id\"><a href=\"http://www.ncbi.nlm.nih.gov/pubmed/23407591\" class=\"link link-pub-id openInAnotherWindow\" target=\"_blank\">PubMed</a></div><p class=\"citation-links-compatibility\"><span class=\"worldcat-reference-ref-link js-worldcat-preview-ref-link\" style=\"display:none\"><a class=\"openInAnotherWindow\" href=\"https://www.worldcat.org/search?q=ti:VIROME%3A%20a%20standard%20operating%20procedure%20for%20analysis%20of%20viral%20metagenome%20sequences&amp;qt=advanced&amp;dblist=638\" target=\"_blank\">WorldCat</a></span></p>\\xa0</div></div></div></div></div><div content-id=\"btu739-B31\" class=\"js-splitview-ref-item\" data-legacy-id=\"btu739-B31\"><div class=\"refLink-parent\"><span class=\"refLink\"><a name=\"jumplink-btu739-B31\" href=\"javascript:;\" aria-label=\"jumplink-btu739-B31\" data-id=\"\"></a></span></div><div class=\"ref false\"><div id=\"ref-auto-btu739-B31\" class=\"ref-content \" data-id=\"btu739-B31\"><div class=\"mixed-citation citation\"><p class=\"mixed-citation-compatibility\"><span class=\"person-group\"><div class=\"name\"><div class=\"surname\">Wu</div> <div class=\"given-names\">C.H.</div></div>et al.\\xa0</span>. (<div class=\"year\">2004</div>) <div class=\"article-title\">PIRSF: family classification system at the Protein Information Resource</div>. <div class=\"source \">Nucleic Acids Res.</div>, <div class=\"volume\">32</div>(<div class=\"supplement\">Database issue</div>), <div class=\"fpage\">D112</div>–<div class=\"lpage\">D114</div>.</p><!--citationLinks: case 1--><div class=\"citation-links\"></div><div class=\"citation-links\"><p class=\"citation-links-compatibility\"><span class=\"google-scholar-ref-link\"><a class=\"openInAnotherWindow\" href=\"https://scholar.google.com/scholar_lookup?title=PIRSF%3A%20family%20classification%20system%20at%20the%20Protein%20Information%20Resource&amp;author=C.H.%20Wu&amp;publication_year=2004&amp;journal=Nucleic%20Acids%20Res.&amp;volume=32&amp;pages=D112-D114\" target=\"_blank\">Google Scholar</a></span></p><div class=\"crossref-doi js-ref-link\"><a class=\"openInAnotherWindow\" href=\"http://dx.doi.org/10.1093/nar/gkh097\" target=\"_blank\">Crossref</a></div><div class=\"adsDoiReference hide\"><a class=\"openInAnotherWindow\" href=\"http://adsabs.harvard.edu/cgi-bin/basic_connect?qsearch=10.1093%2Fnar%2Fgkh097\" target=\"_blank\">Search ADS</a></div><div class=\"xslopenurl empty-target\"><span class=\"inst-open-url-holders\" data-targetId=\"10.1093%2Fnar%2Fgkh097\"> </span></div><div class=\"pub-id\"><a href=\"http://www.ncbi.nlm.nih.gov/pubmed/14681371\" class=\"link link-pub-id openInAnotherWindow\" target=\"_blank\">PubMed</a></div><p class=\"citation-links-compatibility\"><span class=\"worldcat-reference-ref-link js-worldcat-preview-ref-link\" style=\"display:none\"><a class=\"openInAnotherWindow\" href=\"https://www.worldcat.org/search?q=ti:PIRSF%3A%20family%20classification%20system%20at%20the%20Protein%20Information%20Resource&amp;qt=advanced&amp;dblist=638\" target=\"_blank\">WorldCat</a></span></p>\\xa0</div></div></div></div></div></div>    <!-- /foreach in Model.Sections -->\\r\\n\\r\\n\\r\\n\\r\\n        <div class=\"article-metadata-standalone-panel clearfix\"></div>\\r\\n\\r\\n        \\r\\n                    <h2 class=\"authorNotes-section-title\" id=\"authorNotesSectionTitle\" scrollto-destination=\"authorNotesSectionTitle\">Author notes</h2>\\r\\n<div content-id=\"btu741-FN1\" class=\"footnote\"><span class=\"fn\"><div class=\"footnote-content\"><p class=\"footnote-compatibility\">†The authors wish it to be known that, in their opinion, the first two authors should be regarded as joint First Authors.</p></div></span></div><div content-id=\"btu741-FN2\" class=\"footnote\"><span class=\"fn\"><div class=\"footnote-content\"><p class=\"footnote-compatibility\">Associate Editor: Janet Kelso</p></div></span></div><div class=\"copyright copyright-statement\">© The Author 2014. Published by Oxford University Press.</div><div class=\"license\"><div class=\"license-p\">This is an Open Access article distributed under the terms of the Creative Commons Attribution License (http://creativecommons.org/licenses/by/4.0/), which permits unrestricted reuse, distribution, and reproduction in any medium, provided the original work is properly cited.</div></div><!-- /foreach -->\\r\\n\\r\\n        <span id=\"UserHasAccess\" data-userHasAccess=\"True\"></span>\\r\\n\\r\\n    </div><!-- /.widget-items -->\\r\\n</div><!-- /.module-widget -->\\r\\n\\r\\n\\r\\n\\r\\n\\r\\n\\r\\n \\r\\n    </div>\\r\\n    <div class=\"widget widget-SolrResourceMetadata widget-instance-OUP_Article_ResourceMetadata_Widget\">\\r\\n        \\r\\n    <div class=\"article-metadata-panel solr-resource-metadata js-metadata-panel at-ContentMetadata\">\\r\\n                <div class=\"article-metadata-tocSections\">\\r\\n                    <div class=\"article-metadata-tocSections-title\">Issue Section:</div>\\r\\n                        <a href=\"/bioinformatics/search-results?f_TocHeadingTitle=Databases+and+ontologies\">Databases and ontologies</a>\\r\\n                </div>\\r\\n\\r\\n    </div>\\r\\n\\r\\n\\r\\n \\r\\n    </div>\\r\\n    <div class=\"widget widget-EditorInformation widget-instance-OUP_Article_EditorInformation_Widget\">\\r\\n        \\r\\n \\r\\n    </div>\\r\\n    <div class=\"widget widget-ArticleOpenScienceBadges widget-instance-OUP_Article_OpenScienceBadge_Widget\">\\r\\n        \\r\\n \\r\\n    </div>\\r\\n\\r\\n                <div id=\"ContentTabFilteredView\"></div>\\r\\n                <div class=\"downloadImagesppt js-download-images-ppt st-download-images-ppt\">\\r\\n                    <a id=\"lnkDownloadAllImages\"\\r\\n                       class=\"js-download-all-images-link btn\"\\r\\n                       href=\"/DownloadFile/DownloadImage.aspx?image=&amp;PPTtype=SlideSet&amp;ar=214968&amp;xsltPath=~/UI/app/XSLT&amp;siteId=5139\">Download all slides</a>\\r\\n                </div>\\r\\n                    <div class=\"widget widget-ArticleDataRepositories widget-instance-Article_DryadLink\">\\r\\n         \\r\\n    </div>\\r\\n\\r\\n                <div class=\"comments\">\\r\\n    <div class=\"widget widget-UserCommentBody widget-instance-UserCommentBody_Article\">\\r\\n        \\r\\n\\r\\n \\r\\n    </div>\\r\\n    <div class=\"widget widget-UserComment widget-instance-OUP_UserComment_Article\">\\r\\n         \\r\\n    </div>\\r\\n\\r\\n                </div>\\r\\n            </div>\\r\\n        </div>\\r\\n\\r\\n    </div>\\r\\n</div>\\r\\n<div id=\"Sidebar\" class=\"page-column page-column--right\">\\r\\n    <div class=\"widget widget-AdBlock widget-instance-ArticlePageTopSidebar\">\\r\\n        <div class=\"adBlockMainBodyTop-wrap js-adBlockMainBodyTop hide\">\\r\\n    \\r\\n    <div id=\"adBlockMainBodyTop\" class=\"js-adblock at-adblock\">\\r\\n        <script>\\r\\n            \\r\\n            googletag.cmd.push(function () {\\r\\n                googletag.display(\\'adBlockMainBodyTop\\');\\r\\n            });\\r\\n        </script>\\r\\n    </div>\\r\\n        <div class=\"advertisement-text js-adblock-advertisement-text hide\">Advertisement</div>\\r\\n</div> \\r\\n    </div>\\r\\n<div class=\"widget widget-dynamic \" data-count=\"1\"> \\r\\n\\r\\n    <div class=\"widget-dynamic-inner-wrap\">\\r\\n\\r\\n<div class=\"widget widget-dynamic \" data-count=\"11\"> \\r\\n\\r\\n    <div class=\"widget-dynamic-inner-wrap\">\\r\\n\\r\\n    <div class=\"widget widget-ArticleLevelMetrics widget-instance-Article_RightRailB0Article_RightRail_ArticleLevelMetrics\">\\r\\n        \\n\\n\\n\\n        <div class=\"artmet-wrapper horizontal-artmet\">\\n\\n            <div class=\"artmet-condensed-wrap clearfix\">\\n\\n                <div class=\"artmet-condensed-stats clearfix\">\\n                        <div class=\"artmet-item artmet-views\">\\n                            <span class=\"artmet-number\">7,072</span>\\n                            <span class=\"artmet-text\">Views</span>\\n                        </div>\\n                    \\n                        <div class=\"artmet-item artmet-citations\">\\n                            <span class=\"artmet-number\">\\n                                    <a href=\"http://gateway.webofknowledge.com/gateway/Gateway.cgi?GWVersion=2&amp;SrcApp=PARTNER_APP&amp;SrcAuth=Silverchair&amp;KeyUT=WOS:000352268900017&amp;DestLinkType=CitingArticles&amp;DestApp=WOS_CPL&amp;UsrCustomerID=61f30d8ae69c46f86624c5f98a3bc13a\" target=\"_blank\">449</a>\\n                            </span>\\n                            <span class=\"artmet-text\">Citations</span>\\n                        </div>\\n                        \\n                    <div class=\"artmet-item artmet-badges-wrap\">\\n                            <div class=\"artmet-item artmet-altmetric\">\\n    <div class=\"widget widget-AltmetricLink widget-instance-ArticleLevelMetrics_AltmetricLinkSummary\">\\r\\n            <!-- Altmetrics -->\\r\\n    <div id=\"altmetricEmbedId\"\\r\\n         runat=\"server\"\\r\\n         class=\\'altmetric-embed\\'\\r\\n         data-badge-type=\"donut\"\\r\\n         data-hide-no-mentions=\"false\"\\r\\n         data-doi=\"10.1093/bioinformatics/btu739\"\\r\\n\\r\\n        \\r\\n\\r\\n        ></div>\\r\\n         <script type=\\'text/javascript\\' src=\\'https://d1bxh8uas1mnw7.cloudfront.net/assets/embed.js\\'></script>\\r\\n \\r\\n    </div>\\r\\n\\n                            </div>\\n\\n\\n                        </div>\\n                    </div>\\n\\n                    <div class=\"artmet-modal-trigger-wrap clearfix\">\\n                        <a class=\"artmet-modal-trigger js-artmet-modal-trigger at-alm-metrics-modal-trigger\" data-article-id=\"214968\"><i class=\"icon-metrics\"></i><span>View Metrics</span></a>\\n                    </div>\\n            </div>\\n                <div class=\"artmet-modal js-artmet-modal\" id=\"MetricsModal\">\\n                    <div class=\"artmet-modal-contents js-metric-modal-contents at-alm-modal-contents\">\\n                        <a class=\"artmet-close-modal js-artmet-close-modal\">&#215;</a>\\n                    </div>\\n                </div>\\n        </div>\\n \\r\\n    </div>\\r\\n    <div class=\"widget widget-Alerts widget-instance-Article_RightRailB0Article_RightRail_Alerts\">\\r\\n        \\r\\n    <div class=\"alertsWidget\">\\r\\n        <h3>Email alerts</h3>\\r\\n                <div class=\"userAlert alertType-1\">\\r\\n                    <a href=\"javascript:;\" class=\"js-user-alert\" role=\"button\"\\r\\n                       data-userLoggedIn=\"False\"\\r\\n                       data-alertType=\"1\" href=\"javascript:;\">Article activity alert</a>\\r\\n                </div>\\r\\n                <div class=\"userAlert alertType-3\">\\r\\n                    <a href=\"javascript:;\" class=\"js-user-alert\" role=\"button\"\\r\\n                       data-userLoggedIn=\"False\"\\r\\n                       data-alertType=\"3\" href=\"javascript:;\">Advance article alerts</a>\\r\\n                </div>\\r\\n                <div class=\"userAlert alertType-5\">\\r\\n                    <a href=\"javascript:;\" class=\"js-user-alert\" role=\"button\"\\r\\n                       data-userLoggedIn=\"False\"\\r\\n                       data-alertType=\"5\" href=\"javascript:;\">New issue alert</a>\\r\\n                </div>\\r\\n                    <div class=\"userAlert alertType-MarketingLink\">\\r\\n                <a href=\"javascript:;\" class=\"js-user-alert\" role=\"button\"\\r\\n                   data-userLoggedIn=\"False\"\\r\\n                   data-additionalUrl=\"/my-account/communication-preferences\" href=\"javascript:;\">Receive exclusive offers and updates from Oxford Academic</a>\\r\\n            </div>\\r\\n        <div class=\"userAlertSignUpModal reveal-modal small\" data-reveal>\\r\\n            <div class=\"userAlertSignUp at-userAlertSignUp\"></div>\\r\\n            <a href=\"javascript:;\" role=\"button\" aria-label=\"Close\" class=\"close-reveal-modal\" href=\"javascript:;\">\\r\\n                <i class=\"icon-general-close\"></i>\\r\\n            </a>\\r\\n        </div>\\r\\n    </div>\\r\\n \\r\\n    </div>\\r\\n    <div class=\"widget widget-TrendMD widget-instance-Article_RightRailB0trendmd\">\\r\\n        <script defer async src=\\'//js.trendmd.com/trendmd.min.js\\'  data-trendmdconfig=\\'{\"journal_id\":\"62038\",\"element\":\"#trendmd-suggestions\"}\\'></script>\\r\\n\\r\\n<div id=\"trendmd-suggestions\"></div> \\r\\n    </div>\\r\\n    <div class=\"widget widget-RelatedContent widget-instance-Article_RightRailB0Article_RightRail_RelatedContent\">\\r\\n         \\r\\n    </div>\\r\\n    <div class=\"widget widget-RelatedArticleIn widget-instance-Article_RightRailB0Article_RightRail_RelatedArticleIn\">\\r\\n            <h3 class=\"relatedArticleIn-title\">Related articles in</h3>\\r\\n    <div class=\"relatedArticleIn-content\">\\r\\n        <ul>\\r\\n                <li>\\r\\n                    <a href=\"http://gateway.webofknowledge.com/gateway/Gateway.cgi?GWVersion=2&amp;SrcApp=PARTNER_APP&amp;SrcAuth=Silverchair&amp;KeyUT=WOS:000352268900017&amp;DestLinkType=RelatedRecords&amp;DestApp=WOS_CPL&amp;UsrCustomerID=61f30d8ae69c46f86624c5f98a3bc13a\">Web of Science</a>\\r\\n                </li>\\r\\n                <li>\\r\\n                    <a href=\"https://scholar.google.com/scholar?q=related:https%3a%2f%2facademic.oup.com%2fbioinformatics%2farticle%2f31%2f6%2f926%2f214968\">Google Scholar</a>\\r\\n                </li>\\r\\n        </ul>\\r\\n    </div>\\r\\n \\r\\n    </div>\\r\\n    <div class=\"widget widget-ArticleCitedBy widget-instance-Article_RightRailB0Article_RightRail_ArticleCitedBy\">\\r\\n        <div class=\"rail-widget_wrap vt-articles-cited-by\">\\r\\n    <h3 class=\"article-cited-title\">Citing articles via</h3>\\r\\n    <div class=\"widget-links_wrap\">\\r\\n            <div class=\"article-cited-link-wrap web-of-science\">\\r\\n                <a href=\"http://gateway.webofknowledge.com/gateway/Gateway.cgi?GWVersion=2&SrcApp=PARTNER_APP&SrcAuth=Silverchair&KeyUT=WOS:000352268900017&DestLinkType=CitingArticles&DestApp=WOS_CPL&UsrCustomerID=61f30d8ae69c46f86624c5f98a3bc13a\" target=\"_blank\">Web of Science (450)</a>\\r\\n            </div>\\r\\n                    <div class=\"article-cited-link-wrap google-scholar-url\">\\r\\n                <a href=\"http://scholar.google.com/scholar?q=link:https%3A%2F%2Facademic.oup.com%2Fbioinformatics%2Farticle%2F31%2F6%2F926%2F214968\" target=\"_blank\">Google Scholar</a>\\r\\n            </div>\\r\\n                    <div class=\"article-cited-link-wrap crossref-citedby\">\\r\\n                <a href=\\'https://academic.oup.com/bioinformatics/crossref-citedby/214968\\'>Crossref</a>\\r\\n            </div>\\r\\n    </div>\\r\\n</div> \\r\\n    </div>\\r\\n    <div class=\"widget widget-ArticleListNewAndPopular widget-instance-Article_RightRailB0Article_RightRail_ArticleNewPopularCombined\">\\r\\n            <ul class=\"articleListNewAndPopularCombinedView\">\\r\\n            <li>\\r\\n                <h3>\\r\\n                    <a href=\"javascript:;\" class=\"articleListNewAndPopular-mode active\" data-mode=\"MostRecent\">Latest</a>\\r\\n                </h3>\\r\\n            </li>\\r\\n            <li>\\r\\n                <h3>\\r\\n                    <a href=\"javascript:;\" class=\"articleListNewAndPopular-mode \" data-mode=\"MostRead\">Most Read</a>\\r\\n                </h3>\\r\\n            </li>\\r\\n            <li>\\r\\n                <h3>\\r\\n                    <a href=\"javascript:;\" class=\"articleListNewAndPopular-mode \" data-mode=\"MostCited\">Most Cited</a>\\r\\n                </h3>\\r\\n            </li>\\r\\n    </ul>\\r\\n        <section class=\"articleListNewPopContent articleListNewAndPopular-ContentView-MostRecent hasContent\">\\r\\n\\r\\n\\r\\n\\r\\n\\r\\n<div id=\"newPopularList-Article_RightRailB0Article_RightRail_ArticleNewPopularCombined\" class=\"fb\">\\r\\n\\r\\n    \\r\\n\\r\\n\\r\\n\\r\\n<div class=\"widget-layout widget-layout--vert \">\\r\\n            <div class=\"widget-columns widget-col-1\">\\r\\n                    <div class=\"col\">\\r\\n\\r\\n<div class=\"widget-dynamic-entry at-widget-entry-SCL\">\\r\\n    <input id=\"hfDoi\" name=\"hfDoi\" type=\"hidden\" value=\"10.1093/bioinformatics/btac036\" />\\r\\n\\r\\n    \\r\\n\\r\\n\\r\\n<a href=\"/bioinformatics/advance-article/doi/10.1093/bioinformatics/btac036/6511439?searchresult=1\">\\r\\n        <div class=\"widget-dynamic-journal-title\">\\r\\nIdentify, quantify and characterize cellular communication from single cell RNA sequencing data with <em>scSeqComm</em>    </div>\\r\\n</a>\\r\\n\\r\\n\\r\\n\\r\\n\\r\\n\\r\\n\\r\\n<div class=\"widget-dynamic-journal-image-synopsis\">\\r\\n        <div class=\"widget-dynamic-journal-synopsis\">\\r\\n            \\r\\n        </div>\\r\\n</div>\\r\\n</div>\\r\\n<div class=\"widget-dynamic-entry at-widget-entry-SCL\">\\r\\n    <input id=\"hfDoi\" name=\"hfDoi\" type=\"hidden\" value=\"10.1093/bioinformatics/btac035\" />\\r\\n\\r\\n    \\r\\n\\r\\n\\r\\n<a href=\"/bioinformatics/advance-article/doi/10.1093/bioinformatics/btac035/6511437?searchresult=1\">\\r\\n        <div class=\"widget-dynamic-journal-title\">\\r\\nBACPI: a bi-directional attention neural network for compound-protein interaction and binding affinity prediction    </div>\\r\\n</a>\\r\\n\\r\\n\\r\\n\\r\\n\\r\\n\\r\\n\\r\\n<div class=\"widget-dynamic-journal-image-synopsis\">\\r\\n        <div class=\"widget-dynamic-journal-synopsis\">\\r\\n            \\r\\n        </div>\\r\\n</div>\\r\\n</div>\\r\\n<div class=\"widget-dynamic-entry at-widget-entry-SCL\">\\r\\n    <input id=\"hfDoi\" name=\"hfDoi\" type=\"hidden\" value=\"10.1093/bioinformatics/btac031\" />\\r\\n\\r\\n    \\r\\n\\r\\n\\r\\n<a href=\"/bioinformatics/advance-article/doi/10.1093/bioinformatics/btac031/6511435?searchresult=1\">\\r\\n        <div class=\"widget-dynamic-journal-title\">\\r\\nptairMS: real-time processing and analysis of PTR-TOF-MS data for biomarker discovery in exhaled breath    </div>\\r\\n</a>\\r\\n\\r\\n\\r\\n\\r\\n\\r\\n\\r\\n\\r\\n<div class=\"widget-dynamic-journal-image-synopsis\">\\r\\n        <div class=\"widget-dynamic-journal-synopsis\">\\r\\n            \\r\\n        </div>\\r\\n</div>\\r\\n</div>\\r\\n<div class=\"widget-dynamic-entry at-widget-entry-SCL\">\\r\\n    <input id=\"hfDoi\" name=\"hfDoi\" type=\"hidden\" value=\"10.1093/bioinformatics/btac027\" />\\r\\n\\r\\n    \\r\\n\\r\\n\\r\\n<a href=\"/bioinformatics/advance-article/doi/10.1093/bioinformatics/btac027/6510960?searchresult=1\">\\r\\n        <div class=\"widget-dynamic-journal-title\">\\r\\nFrom viral evolution to spatial contagion: a biologically modulated Hawkes model    </div>\\r\\n</a>\\r\\n\\r\\n\\r\\n\\r\\n\\r\\n\\r\\n\\r\\n<div class=\"widget-dynamic-journal-image-synopsis\">\\r\\n        <div class=\"widget-dynamic-journal-synopsis\">\\r\\n            \\r\\n        </div>\\r\\n</div>\\r\\n</div>\\r\\n<div class=\"widget-dynamic-entry at-widget-entry-SCL\">\\r\\n    <input id=\"hfDoi\" name=\"hfDoi\" type=\"hidden\" value=\"10.1093/bioinformatics/btac033\" />\\r\\n\\r\\n    \\r\\n\\r\\n\\r\\n<a href=\"/bioinformatics/advance-article/doi/10.1093/bioinformatics/btac033/6510934?searchresult=1\">\\r\\n        <div class=\"widget-dynamic-journal-title\">\\r\\nAlzCode: a Platform for Multiview Analysis of Genes Related to Alzheimer’s Disease    </div>\\r\\n</a>\\r\\n\\r\\n\\r\\n\\r\\n\\r\\n\\r\\n\\r\\n<div class=\"widget-dynamic-journal-image-synopsis\">\\r\\n        <div class=\"widget-dynamic-journal-synopsis\">\\r\\n            \\r\\n        </div>\\r\\n</div>\\r\\n</div>\\r\\n                    </div>\\r\\n            </div>\\r\\n\\r\\n</div></div>\\r\\n        </section>\\r\\n        <section class=\"articleListNewPopContent articleListNewAndPopular-ContentView-MostRead hide\">\\r\\n        </section>\\r\\n        <section class=\"articleListNewPopContent articleListNewAndPopular-ContentView-MostCited hide\">\\r\\n        </section>\\r\\n \\r\\n    </div>\\r\\n    <div class=\"widget widget-JobTarget widget-instance-Article_RightRailB0Article_RightRail_JobTarget\">\\r\\n        <div class=\"wrapper\">\\r\\n    <div class=\"header\">\\r\\n        <h3>\\r\\n            <a href=\"http://medicine-and-health-careernetwork.oxfordjournals.org/jobseeker/search/results/\">Looking for your next opportunity?</a>\\r\\n        </h3>\\r\\n    </div>\\r\\n\\r\\n        <div id=\"jobs\" class=\"jobs-list\">\\r\\n                <div class=\"job\">\\r\\n                    <div class=\"job-position\"><a href=\"https://Medicine-and-health-careernetwork.oxfordjournals.org/job/assistant-professor-associate-professor-professor/60961121/20102/\">Assistant Professor, Associate Professor, Professor</a></div>\\r\\n                    <div class=\"job-location\">\\r\\n                        Rochester, New York\\r\\n                    </div>\\r\\n                </div>\\r\\n                <div class=\"job\">\\r\\n                    <div class=\"job-position\"><a href=\"https://Medicine-and-health-careernetwork.oxfordjournals.org/job/infectious-diseases-clinician-educator-positions-at-vanderbilt/60960652/20102/\">Infectious Diseases Clinician-Educator Positions at Vanderbilt</a></div>\\r\\n                    <div class=\"job-location\">\\r\\n                        Nashville, Tennessee\\r\\n                    </div>\\r\\n                </div>\\r\\n                <div class=\"job\">\\r\\n                    <div class=\"job-position\"><a href=\"https://Medicine-and-health-careernetwork.oxfordjournals.org/job/faculty-position-va-ann-arbor-healthcare-system/60915109/20102/\">Faculty Position, VA Ann Arbor Healthcare System</a></div>\\r\\n                    <div class=\"job-location\">\\r\\n                        Ann Arbor, Michigan\\r\\n                    </div>\\r\\n                </div>\\r\\n                <div class=\"job\">\\r\\n                    <div class=\"job-position\"><a href=\"https://Medicine-and-health-careernetwork.oxfordjournals.org/job/burn-surgerysurgical-critical-care/57711256/20102/\">Burn Surgery/Surgical Critical Care</a></div>\\r\\n                    <div class=\"job-location\">\\r\\n                        Salt Lake City, Utah\\r\\n                    </div>\\r\\n                </div>\\r\\n        </div>\\r\\n        <div class=\"all-jobs\"><a href=\"http://medicine-and-health-careernetwork.oxfordjournals.org/jobseeker/search/results/\">View all jobs</a></div>\\r\\n\\r\\n    <div class=\"sponsor-and-jobnetwork-links\">\\r\\n        <div class=\"job-sponsor\"><a href=\"http://global.oup.com/\"><img src=\"https://oup.silverchair-cdn.com/data/Multimedia/oup-logo.svg\" alt=\"Oxford University Press\"/></a></div>\\r\\n        <div class=\"job-network\"><a href=\"http://globaljobs-careernetwork.oxfordjournals.org/home/index.cfm?site_id=20101\"><img src=\"https://oup.silverchair-cdn.com/data/Multimedia/journals-careers-network.svg\" alt=\"Journals Career Network\"/></a></div>\\r\\n    </div>\\r\\n</div>\\r\\n \\r\\n    </div>\\r\\n\\r\\n    </div>\\r\\n\\r\\n</div>\\r\\n    </div>\\r\\n\\r\\n</div>    <div class=\"widget widget-AdBlock widget-instance-ArticlePageTopMainBodyBottom\">\\r\\n        <div class=\"adBlockMainBodyBottom-wrap js-adBlockMainBodyBottom hide\">\\r\\n    \\r\\n    <div id=\"adBlockMainBodyBottom\" class=\"js-adblock at-adblock\">\\r\\n        <script>\\r\\n            \\r\\n            googletag.cmd.push(function () {\\r\\n                googletag.display(\\'adBlockMainBodyBottom\\');\\r\\n            });\\r\\n        </script>\\r\\n    </div>\\r\\n        <div class=\"advertisement-text js-adblock-advertisement-text hide\">Advertisement</div>\\r\\n</div> \\r\\n    </div>\\r\\n\\r\\n</div>\\r\\n\\r\\n</div>\\r\\n<input id=\"hfArticleTitle\" name=\"hfArticleTitle\" type=\"hidden\" value=\"UniRef clusters: a comprehensive and scalable alternative for improving sequence similarity searches | Bioinformatics | Oxford Academic\" />\\r\\n<input id=\"hfLeftNavStickyOffset\" name=\"hfLeftNavStickyOffset\" type=\"hidden\" value=\"29\" />\\r\\n<input id=\"hfAreOpFeaturesEnabled\" name=\"hfAreOpFeaturesEnabled\" type=\"hidden\" value=\"False\" />\\r\\n\\r\\n\\r\\n\\r\\n                </div><!-- /.center-inner-row no-overflow -->\\r\\n            </section>\\r\\n    </div>\\r\\n\\r\\n        <div class=\"mobile-mask\">\\r\\n        </div>\\r\\n\\r\\n        <section class=\"footer_wrap vt-site-footer\">\\r\\n            \\r\\n\\r\\n\\r\\n    <div class=\"widget widget-SitePageFooter widget-instance-SitePageFooter\">\\r\\n            <div class=\"ad-banner ad-banner-footer\">\\r\\n    <div class=\"widget widget-AdBlock widget-instance-FooterAd\">\\r\\n        <div class=\"adBlockFooter-wrap js-adBlockFooter hide\">\\r\\n    \\r\\n    <div id=\"adBlockFooter\" class=\"js-adblock at-adblock\">\\r\\n        <script>\\r\\n            \\r\\n            googletag.cmd.push(function () {\\r\\n                googletag.display(\\'adBlockFooter\\');\\r\\n            });\\r\\n        </script>\\r\\n    </div>\\r\\n        <div class=\"advertisement-text js-adblock-advertisement-text hide\">Advertisement</div>\\r\\n</div> \\r\\n    </div>\\r\\n\\r\\n    </div>\\r\\n\\r\\n<div class=\"journal-footer journal-bg\">\\r\\n    <div class=\"center-inner-row\">\\r\\n\\r\\n<div class=\"journal-footer-menu\">\\r\\n\\r\\n    <ul>\\r\\n<li class=\"link-1\">\\r\\n    <a href=\"/bioinformatics/pages/About\">About Bioinformatics</a>\\r\\n</li> <li class=\"link-2\">\\r\\n    <a href=\"/bioinformatics/pages/Editorial_Board\">Editorial Board</a>\\r\\n</li> <li class=\"link-3\">\\r\\n    <a href=\"/bioinformatics/pages/General_Instructions\">Author Guidelines</a>\\r\\n</li> <li class=\"link-4\">\\r\\n    <a href=\"https://www.facebook.com/OUPAcademic\">Facebook</a>\\r\\n</li> <li class=\"link-5\">\\r\\n    <a href=\"https://twitter.com/oxfordjournals\">Twitter</a>\\r\\n</li> </ul><ul><li class=\"link-1\">\\r\\n    <a href=\"/bioinformatics/subscribe\">Purchase</a>\\r\\n</li> <li class=\"link-2\">\\r\\n    <a href=\"http://www.oxfordjournals.org/en/library-recommendation-form.html\">Recommend to your Library</a>\\r\\n</li> <li class=\"link-3\">\\r\\n    <a href=\"http://www.oupmediainfo.com/\">Advertising and Corporate Services</a>\\r\\n</li> <li class=\"link-4\">\\r\\n    <a href=\"http://science-and-mathematics-careernetwork.oxfordjournals.org/jobseeker/search/results/?t730=&amp;t732=470053&amp;t731=&amp;t733=&amp;t735=&amp;t737=&amp;max=25&amp;site_id=20106&amp;search=\">Journals Career Network</a>\\r\\n</li> \\r\\n    </ul>\\r\\n\\r\\n\\r\\n</div><!-- /.journal-footer-menu -->\\r\\n        <div class=\"journal-footer-affiliations\">\\r\\n            <!-- <h3>Affiliations</h3> -->\\r\\n<a href=\"https://academic.oup.com/bioinformatics\" target=\"\">\\r\\n    <img id=\"footer-logo-Bioinformatics\" class=\"journal-footer-affiliations-logo\" src=\"//oup.silverchair-cdn.com/data/SiteBuilderAssets/Live/Images/bioinformatics/bioinformatics_f1-205396838.svg\" alt=\"Bioinformatics\" />\\r\\n</a>                        </div><!-- /.journal-footer-affiliations -->\\r\\n\\r\\n        <div class=\"journal-footer-colophon\">\\r\\n            <ul>\\r\\n<li>Online ISSN 1460-2059</li>                <li>Print ISSN 1367-4803</li>                <li>Copyright &#169; 2022 Oxford University Press</li>\\r\\n            </ul>\\r\\n        </div><!-- /.journal-footer-colophon -->\\r\\n\\r\\n\\r\\n    </div><!-- /.center-inner-row -->\\r\\n</div><!-- /.journal-footer --> \\r\\n    </div>\\r\\n\\r\\n    <div class=\"oup-footer\">\\r\\n        <div class=\"center-inner-row\">\\r\\n    <div class=\"widget widget-SelfServeContent widget-instance-OupUmbrellaFooterSelfServe\">\\r\\n        \\r\\n<div class=\"oup-footer-row journal-links\">\\n<div class=\"global-footer selfservelinks\">\\n<ul>\\n    <li>\\n    <a href=\"/journals/pages/about_us\">About Us</a>\\n    </li>\\n    <li>\\n    <a href=\"/journals/pages/contact_us\">Contact Us</a>\\n    </li>\\n    <li>\\n    <a href=\"http://global.oup.com/jobs\">Careers</a>\\n    </li>\\n    <li>\\n    <a href=\"/journals/pages/help\">Help</a>\\n    </li>\\n    <li>\\n    <a href=\"/journals/pages/access_purchase\">Access &amp; Purchase</a></li>\\n    <li>\\n    <a href=\"/journals/pages/access_purchase/rights_and_permissions\">Rights &amp; Permissions</a>\\n    </li>\\n    <li>\\n    <a href=\"/journals/pages/open_access\">Open Access</a>\\n    </li>\\n    <li>\\n    <a href=\"/journals/pages/potentially-offensive-content-statement\">Potentially Offensive Content</a>\\n    </li>\\n</ul>\\n</div>\\n<div class=\"global-footer selfservelinks\">\\n<h4 id=\"global-footer-customer services\" class=\"title footerheader\">Connect</h4>\\n<ul>\\n    <li>\\n    <a href=\"/my-account/communication-preferences\">Join Our Mailing List</a>\\n    </li>\\n    <li>\\n    <a href=\"http://blog.oup.com/\">OUPblog</a>\\n    </li>\\n    <li>\\n    <a href=\"http://twitter.com/oupacademic\">Twitter</a>\\n    </li>\\n    <li>\\n    <a href=\"https://www.facebook.com/OUPAcademic\">Facebook</a>\\n    </li>\\n    <li>\\n    <a href=\"http://www.youtube.com/playlist?list=PL3MAPgqN8JWioLLTkU4mlFM4-SNt-f1Xs\">YouTube</a>\\n    </li>\\n    <li>\\n    <a href=\"http://oupacademic.tumblr.com/\">Tumblr</a>\\n    </li>\\n</ul>\\n</div>\\n<div class=\"global-footer selfservelinks\">\\n<h4>Resources</h4>\\n<ul>\\n    <li><a href=\"/journals/pages/authors\">Authors</a></li>\\n    <li><a href=\"/journals/pages/librarians\">Librarians</a></li>\\n    <li><a href=\"/journals/pages/societies\">Societies</a></li>\\n    <li><a href=\"https://academic.oup.com/journals/pages/sponsorship_and_advertising\">Sponsors &amp; Advertisers</a></li>\\n    <li><a href=\"/journals/pages/press\">Press &amp; Media</a></li>\\n    <li><a href=\"/journals/pages/agents\">Agents</a></li>\\n</ul>\\n</div>\\n<div class=\"global-footer selfservelinks\">\\n<h4>Explore</h4>\\n<ul>\\n    <li><a href=\"http://global.oup.com/academic\">Shop OUP Academic</a></li>\\n    <li><a href=\"http://www.oxforddictionaries.com/\">Oxford Dictionaries</a></li>\\n    <li><a href=\"https://www.epigeum.com/\">Epigeum</a></li>\\n    <li><a href=\"http://global.oup.com/\">OUP Worldwide</a></li>\\n    <li><a href=\"http://www.ox.ac.uk/\">University of Oxford</a></li>\\n</ul>\\n</div>\\n<div class=\"OUP-mission\">\\n<p>Oxford University Press is a department of the University of Oxford. It furthers the University\\'s objective of excellence in research, scholarship, and education by publishing worldwide</p>\\n<img class=\"journal-footer-logo\" src=\"//oup.silverchair-cdn.com/UI/app/svg/umbrella/oup-logo.svg\" alt=\"Oxford University Press\" width=\"150\" height=\"42\" />\\n</div>\\n</div>\\n<div class=\"oup-footer-row\">\\n<div class=\"oup-footer-row-links\">\\n<ul>\\n    <li>Copyright © 2021 Oxford University Press</li>\\n    <li><a href=\"https://global.oup.com/cookiepolicy/\">Cookie Policy</a></li>\\n    <li><a href=\"https://global.oup.com/privacy\">Privacy Policy</a></li>\\n    <li><a href=\"/journals/pages/about_us/legal/notices\">Legal Notice</a></li>\\n    <li><a href=\"/journals/pages/sitemap\">Site Map</a></li>\\n    <li><a href=\"/journals/pages/about_us/legal/accessibility\">Accessibility</a></li>\\n</ul>\\n</div>\\n</div>\\n<style type=\"text/css\">\\n    /* Issue right column fix for tablet/mobile */\\n    @media (max-width: 1200px) {\\n    .pg_issue .widget-instance-OUP_Issue {\\n    width: 100%;\\n    }\\n    }\\n    .sf-facet-list .sf-facet label, .sf-facet-list .taxonomy-label-wrap label {font-size: .9375rem;}\\n    .issue-pagination-wrap .pagination-container {float: right;}\\n</style>\\r\\n\\r\\n\\r\\n     \\r\\n    </div>\\r\\n\\r\\n        </div>\\r\\n    </div>\\r\\n    <div class=\"ss-ui-only\">\\r\\n\\r\\n    </div>\\r\\n\\r\\n        </section>\\r\\n</div>\\r\\n\\r\\n\\r\\n\\r\\n\\r\\n\\r\\n\\r\\n    \\r\\n\\r\\n\\r\\n\\r\\n    <div class=\"widget widget-SiteWideModals widget-instance-SiteWideModals\">\\r\\n        <div id=\"revealModal\" class=\"reveal-modal\" data-reveal>\\r\\n    <div id=\"revealContent\"></div>\\r\\n    <a class=\"close-reveal-modal\" href=\"javascript:;\"><i class=\"icon-general-close\"></i><span class=\"screenreader-text\">Close</span></a>\\r\\n</div>\\r\\n\\r\\n<div id=\"NeedSubscription\" class=\"reveal-modal small\" data-reveal>\\r\\n    <div class=\"subscription-needed\">\\r\\n        <h5>This Feature Is Available To Subscribers Only</h5>\\r\\n        <p><a href=\"/sign-in\">Sign In</a> or <a href=\"/my-account/register?siteId=5139&amp;returnUrl=%2fbioinformatics%2farticle%2f31%2f6%2f926%2f214968\">Create an Account</a></p>\\r\\n    </div>\\r\\n    <a class=\"close-reveal-modal\" href=\"javascript:;\"><i class=\"icon-general-close\"></i><span class=\"screenreader-text\">Close</span></a>\\r\\n</div>\\r\\n\\r\\n<div id=\"noAccessReveal\" class=\"reveal-modal tiny\" data-reveal>\\r\\n    <p>This PDF is available to Subscribers Only</p>\\r\\n    <a class=\"hide-for-article-page\" id=\"articleLinkToPurchase\" data-reveal><span>View Article Abstract & Purchase Options</span></a>\\r\\n    <div class=\"issue-purchase-modal\">\\r\\n        <p>For full access to this pdf, sign in to an existing account, or purchase an annual subscription.</p>\\r\\n    </div>\\r\\n    <a class=\"close-reveal-modal\" href=\"javascript:;\"><i class=\"icon-general-close\"></i><span class=\"screenreader-text\">Close</span></a>\\r\\n</div>\\r\\n \\r\\n    </div>\\r\\n\\r\\n    \\r\\n\\r\\n\\r\\n<script src=\"//cdnjs.cloudflare.com/ajax/libs/mathjax/2.7.1/MathJax.js?config=TeX-AMS-MML_HTMLorMML\"></script>\\r\\n\\r\\n\\r\\n<script src=\"//cdn.jsdelivr.net/npm/promise-polyfill@8/dist/polyfill.min.js\"></script>\\r\\n\\r\\n    <script type=\"text/javascript\" src=\"//oup.silverchair-cdn.com/Themes/Client/app/jsdist/v-637776852443951517/site.min.js\"></script>\\r\\n    <script async src=\"//s7.addthis.com/js/300/addthis_widget.js#pubid=xa-5265518246c10183&domready=1\"></script>\\r\\n\\r\\n\\r\\n    \\r\\n    \\r\\n    <script type=\"text/javascript\" src=\"https://www.google.com/recaptcha/api.js?onload=onloadCallback&render=explicit\"></script>\\r\\n\\r\\n    \\r\\n    <script type=\"text/javascript\" src=\"https://cdn.jsdelivr.net/chartist.js/latest/chartist.min.js\"></script>\\r\\n\\r\\n    <script type=\"text/javascript\" src=\"//oup.silverchair-cdn.com/Themes/Client/app/jsdist/v-637776852380949826/article-page.min.js\"></script>\\r\\n\\r\\n\\r\\n\\r\\n    \\r\\n\\r\\n    \\r\\n    \\r\\n\\r\\n\\r\\n\\r\\n\\r\\n    \\r\\n\\r\\n\\r\\n    <script>\\r\\n        var NTPT_PGEXTRA = \\'event_type=full-text\\\\u0026supplier_tag=SC_Journals\\\\u0026object_type=Article\\\\u0026siteid=bioinformatics\\\\u0026authentication_method=IP\\\\u0026authzrequired=false\\\\u0026account_id=2763981\\\\u0026account_list=2763981,2891860\\\\u0026authnips=193.62.194.241\\\\u0026doi=10.1093/bioinformatics/btu739\\';\\r\\n    </script>\\r\\n    <!-- Copyright 2001-2010, IBM Corporation All rights reserved. -->\\r\\n    <script src=\"//ouptag.scholarlyiq.com/ntpagetag.js\"></script>    \\r\\n        <noscript>\\r\\n            <img src=\"//ouptag.scholarlyiq.com/ntpagetag.gif?js=0\" height=\"1\" width=\"1\" border=\"0\" hspace=\"0\" vspace=\"0\" alt=\"Scholarly IQ\" />\\r\\n        </noscript>\\r\\n\\r\\n\\r\\n    <div class=\"ad-banner js-ad-riser ad-banner-riser\">\\r\\n\\r\\n    <div class=\"widget widget-AdBlock widget-instance-RiserAd\">\\r\\n            \\r\\n\\r\\n \\r\\n    </div>\\r\\n\\r\\n    </div>\\r\\n\\r\\n\\r\\n</body>\\r\\n</html>\\r\\n\\r\\n'"
      ]
     },
     "execution_count": 11,
     "metadata": {},
     "output_type": "execute_result"
    }
   ],
   "source": [
    "response.text"
   ]
  },
  {
   "cell_type": "code",
   "execution_count": 2,
   "id": "93b60f4c",
   "metadata": {},
   "outputs": [],
   "source": [
    "with open('../input/colheaders.rss') as f:\n",
    "    rss = ''.join(f.readlines())\n",
    "feed = feedparser.parse(rss)"
   ]
  },
  {
   "cell_type": "code",
   "execution_count": 47,
   "id": "8ce5308a",
   "metadata": {},
   "outputs": [],
   "source": [
    "re_sequence_annotation = re.compile(r'sequence_annotation_(.*)')\n",
    "re_general_annotation = re.compile(r'general_annotation_(.*)')\n",
    "\n",
    "\n",
    "import pandas as pd\n",
    "\n",
    "get_dict = lambda x: dict(zip(x.Old, x.New))\n",
    "\n",
    "df = pd.read_excel('/Users/dlrice/Downloads/return-fields-old-to-new.xlsx', sheet_name=None)\n",
    "\n",
    "for sheet in df.values():\n",
    "    sheet['Old'] = sheet['Old'].str.lower()\n",
    "\n",
    "fields_uniprotkb = get_dict(df['uniprotkb'])\n",
    "fields_uniref = get_dict(df['uniref'])\n",
    "fields_uniparc = get_dict(df['uniparc'])\n",
    "fields_proteomes = get_dict(df['proteomes'])\n",
    "\n",
    "fields = [\n",
    "    {\n",
    "        'namespace' :'uniprotkb',\n",
    "        'fields': fields_uniprotkb\n",
    "    },\n",
    "    {\n",
    "        'namespace' :'uniref',\n",
    "        'fields': fields_uniref\n",
    "    },\n",
    "    {\n",
    "        'namespace' :'uniparc',\n",
    "        'fields': fields_uniparc\n",
    "    },\n",
    "    {\n",
    "        'namespace' :'proteomes',\n",
    "        'fields': fields_proteomes\n",
    "    },\n",
    "]\n",
    "\n",
    "def check_fields(x):\n",
    "    found = {}\n",
    "    for d in fields:\n",
    "        if x in d['fields']:\n",
    "            found[d['namespace']] = d['fields'][x]\n",
    "    return found\n",
    "\n",
    "            \n",
    "def convert_return_field(old):\n",
    "    lower = old.lower()\n",
    "    \n",
    "\n",
    "    found = check_fields(lower)\n",
    "    if found:\n",
    "        return found\n",
    "    \n",
    "    lower_spaces = lower.replace('_', ' ')\n",
    "    found = check_fields(lower_spaces)\n",
    "    if found:\n",
    "        return found\n",
    "    \n",
    "    m = re_sequence_annotation.match(lower)\n",
    "    if m:\n",
    "        g = m.groups()[0].replace('_', ' ')\n",
    "        feature = f'feature({g})'\n",
    "        found = check_fields(feature)\n",
    "        if found:\n",
    "            return found\n",
    "\n",
    "    feature = f'feature({lower_spaces})'\n",
    "    found = check_fields(feature)\n",
    "    if found:\n",
    "        return found\n",
    "        \n",
    "    m = re_general_annotation.match(lower)\n",
    "    if m:\n",
    "        g = m.groups()[0].replace('_', ' ')\n",
    "        comment = f'comment({g})'\n",
    "        found = check_fields(comment)\n",
    "        if found:\n",
    "            return found\n",
    "    \n",
    "    comment = f'comment({lower_spaces})'\n",
    "    found = check_fields(comment)\n",
    "    if found:\n",
    "        return found"
   ]
  },
  {
   "cell_type": "code",
   "execution_count": null,
   "id": "57157539",
   "metadata": {},
   "outputs": [],
   "source": [
    "general_annotation_ABSORPTION\n",
    "comment(ABSORPTION)\n",
    "absorption"
   ]
  },
  {
   "cell_type": "code",
   "execution_count": 29,
   "id": "a65772b3",
   "metadata": {},
   "outputs": [],
   "source": [
    "m = re_general_annotation.match('general_annotation_ABSORPTION')"
   ]
  },
  {
   "cell_type": "code",
   "execution_count": 48,
   "id": "f78cdca6",
   "metadata": {},
   "outputs": [
    {
     "data": {
      "text/plain": [
       "{'uniprotkb': 'absorption'}"
      ]
     },
     "execution_count": 48,
     "metadata": {},
     "output_type": "execute_result"
    }
   ],
   "source": [
    "convert_return_field('general_annotation_ABSORPTION')"
   ]
  },
  {
   "cell_type": "code",
   "execution_count": null,
   "id": "27e0dd38",
   "metadata": {},
   "outputs": [],
   "source": []
  },
  {
   "cell_type": "code",
   "execution_count": 30,
   "id": "1d8fd9d1",
   "metadata": {},
   "outputs": [
    {
     "data": {
      "text/plain": [
       "<re.Match object; span=(0, 29), match='general_annotation_ABSORPTION'>"
      ]
     },
     "execution_count": 30,
     "metadata": {},
     "output_type": "execute_result"
    }
   ],
   "source": [
    "m"
   ]
  },
  {
   "cell_type": "code",
   "execution_count": 31,
   "id": "528f4807",
   "metadata": {},
   "outputs": [],
   "source": [
    "g = m.groups()[0].replace('_', ' ')\n",
    "comment = f'comment({g})'\n",
    "found = check_fields(comment)"
   ]
  },
  {
   "cell_type": "code",
   "execution_count": 33,
   "id": "3c6095c4",
   "metadata": {},
   "outputs": [
    {
     "data": {
      "text/plain": [
       "'comment(ABSORPTION)'"
      ]
     },
     "execution_count": 33,
     "metadata": {},
     "output_type": "execute_result"
    }
   ],
   "source": [
    "comment"
   ]
  },
  {
   "cell_type": "code",
   "execution_count": 32,
   "id": "c8237af3",
   "metadata": {},
   "outputs": [
    {
     "data": {
      "text/plain": [
       "{}"
      ]
     },
     "execution_count": 32,
     "metadata": {},
     "output_type": "execute_result"
    }
   ],
   "source": [
    "found"
   ]
  },
  {
   "cell_type": "code",
   "execution_count": null,
   "id": "c6710918",
   "metadata": {},
   "outputs": [],
   "source": []
  },
  {
   "cell_type": "code",
   "execution_count": 22,
   "id": "7f7c8e2b",
   "metadata": {},
   "outputs": [
    {
     "data": {
      "text/plain": [
       "{'uniprotkb': 'accession',\n",
       " 'uniref': 'id',\n",
       " 'uniparc': 'upi',\n",
       " 'proteomes': 'upid'}"
      ]
     },
     "execution_count": 22,
     "metadata": {},
     "output_type": "execute_result"
    }
   ],
   "source": [
    "check_fields('id')"
   ]
  },
  {
   "cell_type": "code",
   "execution_count": 28,
   "id": "4e2e8fab",
   "metadata": {},
   "outputs": [],
   "source": [
    "manual = {\n",
    "    'virus_host': 'virus_hosts',\n",
    "    'busco_score': 'busco',\n",
    "    'general_annotation_ALLERGEN': 'cc_allergen'\n",
    "}"
   ]
  },
  {
   "cell_type": "code",
   "execution_count": 24,
   "id": "eb83b28e",
   "metadata": {},
   "outputs": [],
   "source": [
    "ignore = {\n",
    "    'active',\n",
    "    'general_annotation_ENZYME_REGULATION',\n",
    "    'blastAlignment',\n",
    "    'alignments',\n",
    "    'unirule_annnotation_types_added',\n",
    "    \n",
    "}"
   ]
  },
  {
   "cell_type": "code",
   "execution_count": 51,
   "id": "519dd57f",
   "metadata": {},
   "outputs": [
    {
     "name": "stdout",
     "output_type": "stream",
     "text": [
      "0: sequence_annotation_CALCIUM_BIND\n",
      "0: general_annotation_CATALYTIC_ACTIVITY\n",
      "0: citation_mapping_id\n",
      "0: citation_scope\n",
      "0: uniref_cluster_id\n",
      "0: members_uniref\n",
      "0: uniref_cluster_name\n",
      "0: general_annotation_COFACTOR\n",
      "0: common_taxon_id\n",
      "0: cpd_score\n",
      "0: crossref_data\n",
      "0: database\n",
      "0: creation_date_uniref\n",
      "0: creation_date\n",
      "0: modification_annotation_date\n",
      "0: modification_sequence_date\n",
      "0: involvement_in_disease\n",
      "0: disease_id\n",
      "0: domain_count\n",
      "0: domains\n",
      "0: e-value\n",
      "0: ec_numbers\n",
      "0: entry_uniref\n",
      "0: entry\n",
      "0: accession_numbers\n",
      "0: general_annotation_ERRONEOUS_INITIATION\n",
      "0: general_annotation_ERRONEOUS_TERMINATION\n",
      "0: general_annotation_ERRONEOUS_TRANSLATION\n",
      "0: feature_subsection\n",
      "0: first_seen\n",
      "0: sequence_status\n",
      "0: general_annotation_FRAMESHIFT\n",
      "0: encoded_on\n",
      "0: gene_name\n",
      "0: gene_names\n",
      "0: gene_ontology\n",
      "0: go_id\n",
      "0: general_annotation\n",
      "0: genome_assembly_representation\n",
      "0: genome_accession\n",
      "0: hit_length\n",
      "0: identifier\n",
      "0: identity_uniref\n",
      "0: identity_blast\n",
      "0: binary_interactions\n",
      "0: interpro\n",
      "0: keyword_id\n",
      "0: proteome_last_mod\n",
      "0: last_seen\n",
      "0: length_uniprotkb\n",
      "0: length_uniref\n",
      "0: lenght\n",
      "0: mapped_pubmed_id\n",
      "0: mass_uniprot\n",
      "0: match_length\n",
      "0: matched_hit\n",
      "0: matched_text\n",
      "0: general_annotation_GENERAL\n",
      "0: gi\n",
      "0: sequence_annotation_NUCLEOTIDE_BINDING\n",
      "0: organism_name\n",
      "0: organism_id\n",
      "0: organism_ids\n",
      "0: positives\n",
      "0: unirule_protein_name_predicted\n",
      "0: protein_existence\n",
      "0: protein_family\n",
      "0: protein_name\n",
      "0: unirule_uniprot_count\n",
      "0: proteome_id\n",
      "0: pubmed_id\n",
      "0: query_hit\n",
      "0: query_length\n",
      "0: rawScore\n",
      "0: reference_sequence\n",
      "0: related_uniprotkb\n",
      "0: uniref_related_clusters\n",
      "0: role\n",
      "0: score_blast\n",
      "0: section\n",
      "0: sequence_uniparc\n",
      "0: sequence_uniprotkb\n",
      "0: sequence_annotation\n",
      "0: size\n",
      "0: entry_status\n",
      "0: subcellular_location_id\n",
      "0: taxon_id\n",
      "0: taxon_mnemonic\n",
      "0: taxonomic_identifier\n",
      "0: taxonomic_lineage_name\n",
      "0: taxonomic_lineage_id\n",
      "0: unirule_taxonomic_scope\n",
      "0: timeline\n",
      "0: uniparc_count\n",
      "0: uniprotkb\n",
      "0: unirule_id\n",
      "0: version\n",
      "0: version_entry\n",
      "0: version_sequence\n",
      "0: version_uniparc\n"
     ]
    }
   ],
   "source": [
    "for i, entry in enumerate(feed['entries']):\n",
    "    parsed = urlparse(entry['id'])\n",
    "    old = parsed.path[1:]\n",
    "    if old in ignore:\n",
    "        continue\n",
    "    converted = convert_return_field(old)\n",
    "    if not converted:\n",
    "        if old in manual:\n",
    "            converted = manual[old]\n",
    "            continue\n",
    "        print('0:', old)\n",
    "    elif len(converted) > 1:\n",
    "        if len(set(converted.values())) > 1:\n",
    "            print('>1 distinct:', old, converted)\n",
    "            continue\n",
    "    \n",
    "    md = convert_html_to_gfm(html, strict=strict)"
   ]
  },
  {
   "cell_type": "code",
   "execution_count": 39,
   "id": "bebedb80",
   "metadata": {},
   "outputs": [],
   "source": [
    "converted"
   ]
  },
  {
   "cell_type": "code",
   "execution_count": 40,
   "id": "16c08cd9",
   "metadata": {},
   "outputs": [
    {
     "data": {
      "text/plain": [
       "'general_annotation_ABSORPTION'"
      ]
     },
     "execution_count": 40,
     "metadata": {},
     "output_type": "execute_result"
    }
   ],
   "source": [
    "old"
   ]
  },
  {
   "cell_type": "code",
   "execution_count": null,
   "id": "af0b2c69",
   "metadata": {},
   "outputs": [],
   "source": []
  },
  {
   "cell_type": "code",
   "execution_count": 100,
   "id": "e9612ecc",
   "metadata": {},
   "outputs": [
    {
     "data": {
      "text/plain": [
       "True"
      ]
     },
     "execution_count": 100,
     "metadata": {},
     "output_type": "execute_result"
    }
   ],
   "source": [
    "not converted"
   ]
  },
  {
   "cell_type": "code",
   "execution_count": 11,
   "id": "3fe5113d",
   "metadata": {},
   "outputs": [
    {
     "name": "stdout",
     "output_type": "stream",
     "text": [
      "comment(subcellular location)\n"
     ]
    }
   ],
   "source": [
    "convert_return_field('subcellular_location')"
   ]
  },
  {
   "cell_type": "code",
   "execution_count": 13,
   "id": "dd2146ad",
   "metadata": {},
   "outputs": [],
   "source": [
    "found = check_fields('comment(subcellular location)')"
   ]
  },
  {
   "cell_type": "code",
   "execution_count": 15,
   "id": "e6c63259",
   "metadata": {},
   "outputs": [
    {
     "data": {
      "text/html": [
       "<div>\n",
       "<style scoped>\n",
       "    .dataframe tbody tr th:only-of-type {\n",
       "        vertical-align: middle;\n",
       "    }\n",
       "\n",
       "    .dataframe tbody tr th {\n",
       "        vertical-align: top;\n",
       "    }\n",
       "\n",
       "    .dataframe thead th {\n",
       "        text-align: right;\n",
       "    }\n",
       "</style>\n",
       "<table border=\"1\" class=\"dataframe\">\n",
       "  <thead>\n",
       "    <tr style=\"text-align: right;\">\n",
       "      <th></th>\n",
       "      <th>Old</th>\n",
       "      <th>New</th>\n",
       "      <th>df</th>\n",
       "    </tr>\n",
       "  </thead>\n",
       "  <tbody>\n",
       "    <tr>\n",
       "      <th>0</th>\n",
       "      <td>3d</td>\n",
       "      <td>structure_3d</td>\n",
       "      <td>3d</td>\n",
       "    </tr>\n",
       "    <tr>\n",
       "      <th>1</th>\n",
       "      <td>annotation score</td>\n",
       "      <td>annotation_score</td>\n",
       "      <td>annotation score</td>\n",
       "    </tr>\n",
       "    <tr>\n",
       "      <th>2</th>\n",
       "      <td>chebi</td>\n",
       "      <td>ft_ca_bind</td>\n",
       "      <td>chebi</td>\n",
       "    </tr>\n",
       "    <tr>\n",
       "      <th>3</th>\n",
       "      <td>chebi(Catalytic activity)</td>\n",
       "      <td>cc_catalytic_activity</td>\n",
       "      <td>chebi(catalytic activity)</td>\n",
       "    </tr>\n",
       "    <tr>\n",
       "      <th>4</th>\n",
       "      <td>chebi(Cofactor)</td>\n",
       "      <td>cc_cofactor</td>\n",
       "      <td>chebi(cofactor)</td>\n",
       "    </tr>\n",
       "    <tr>\n",
       "      <th>...</th>\n",
       "      <td>...</td>\n",
       "      <td>...</td>\n",
       "      <td>...</td>\n",
       "    </tr>\n",
       "    <tr>\n",
       "      <th>112</th>\n",
       "      <td>tools</td>\n",
       "      <td>tools</td>\n",
       "      <td>tools</td>\n",
       "    </tr>\n",
       "    <tr>\n",
       "      <th>113</th>\n",
       "      <td>uniparcid</td>\n",
       "      <td>uniparc_id</td>\n",
       "      <td>uniparcid</td>\n",
       "    </tr>\n",
       "    <tr>\n",
       "      <th>114</th>\n",
       "      <td>version(entry)</td>\n",
       "      <td>version</td>\n",
       "      <td>version(entry)</td>\n",
       "    </tr>\n",
       "    <tr>\n",
       "      <th>115</th>\n",
       "      <td>version(sequence)</td>\n",
       "      <td>sequence_version</td>\n",
       "      <td>version(sequence)</td>\n",
       "    </tr>\n",
       "    <tr>\n",
       "      <th>116</th>\n",
       "      <td>virus hosts</td>\n",
       "      <td>virus_hosts</td>\n",
       "      <td>virus hosts</td>\n",
       "    </tr>\n",
       "  </tbody>\n",
       "</table>\n",
       "<p>117 rows × 3 columns</p>\n",
       "</div>"
      ],
      "text/plain": [
       "                           Old                    New  \\\n",
       "0                           3d           structure_3d   \n",
       "1             annotation score       annotation_score   \n",
       "2                        chebi             ft_ca_bind   \n",
       "3    chebi(Catalytic activity)  cc_catalytic_activity   \n",
       "4              chebi(Cofactor)            cc_cofactor   \n",
       "..                         ...                    ...   \n",
       "112                      tools                  tools   \n",
       "113                  uniparcid             uniparc_id   \n",
       "114             version(entry)                version   \n",
       "115          version(sequence)       sequence_version   \n",
       "116                virus hosts            virus_hosts   \n",
       "\n",
       "                            df  \n",
       "0                           3d  \n",
       "1             annotation score  \n",
       "2                        chebi  \n",
       "3    chebi(catalytic activity)  \n",
       "4              chebi(cofactor)  \n",
       "..                         ...  \n",
       "112                      tools  \n",
       "113                  uniparcid  \n",
       "114             version(entry)  \n",
       "115          version(sequence)  \n",
       "116                virus hosts  \n",
       "\n",
       "[117 rows x 3 columns]"
      ]
     },
     "execution_count": 15,
     "metadata": {},
     "output_type": "execute_result"
    }
   ],
   "source": [
    "df['uniprotkb']"
   ]
  },
  {
   "cell_type": "code",
   "execution_count": 14,
   "id": "11015925",
   "metadata": {},
   "outputs": [
    {
     "data": {
      "text/plain": [
       "{}"
      ]
     },
     "execution_count": 14,
     "metadata": {},
     "output_type": "execute_result"
    }
   ],
   "source": [
    "found"
   ]
  },
  {
   "cell_type": "code",
   "execution_count": 27,
   "id": "b9dcfae2",
   "metadata": {},
   "outputs": [
    {
     "data": {
      "text/plain": [
       "[]"
      ]
     },
     "execution_count": 27,
     "metadata": {},
     "output_type": "execute_result"
    }
   ],
   "source": [
    "busco = [entry for entry in feed['entries'] if entry['id'] == 'http://www.uniprot.org/busco']\n",
    "busco"
   ]
  },
  {
   "cell_type": "code",
   "execution_count": 87,
   "id": "3ee0c264",
   "metadata": {},
   "outputs": [],
   "source": []
  },
  {
   "cell_type": "code",
   "execution_count": 26,
   "id": "d0cdf89e",
   "metadata": {},
   "outputs": [
    {
     "data": {
      "text/plain": [
       "[{'id': 'http://www.uniprot.org/busco_score',\n",
       "  'guidislink': True,\n",
       "  'link': 'http://www.uniprot.org/busco_score',\n",
       "  'title': 'BUSCO',\n",
       "  'title_detail': {'type': 'text/plain',\n",
       "   'language': 'en-US',\n",
       "   'base': 'http://www.uniprot.org',\n",
       "   'value': 'BUSCO'},\n",
       "  'authors': [{'name': 'uniprot'}],\n",
       "  'author_detail': {'name': 'uniprot'},\n",
       "  'author': 'uniprot',\n",
       "  'published': '2019-11-21T10:33:25Z',\n",
       "  'published_parsed': time.struct_time(tm_year=2019, tm_mon=11, tm_mday=21, tm_hour=10, tm_min=33, tm_sec=25, tm_wday=3, tm_yday=325, tm_isdst=0),\n",
       "  'updated': '2021-10-07T10:52:35Z',\n",
       "  'updated_parsed': time.struct_time(tm_year=2021, tm_mon=10, tm_mday=7, tm_hour=10, tm_min=52, tm_sec=35, tm_wday=3, tm_yday=280, tm_isdst=0),\n",
       "  'content': [{'type': 'application/xhtml+xml',\n",
       "    'language': 'en-US',\n",
       "    'base': 'http://www.uniprot.org',\n",
       "    'value': '<p>The Benchmarking Universal Single-Copy Ortholog (BUSCO) assessment tool is used, for eukaryotic and bacterial proteomes, to provide quantitative measures of UniProt proteome data completeness in terms of expected gene content. BUSCO scores include percentages of complete (C) single-copy (S) genes, complete (C) duplicated (D) genes, fragmented (F) and missing (M) genes, as well as the total number of orthologous clusters (n) used in the BUSCO assessment, and the name of the taxonomic lineage dataset used.</p>'}],\n",
       "  'summary': '<p>The Benchmarking Universal Single-Copy Ortholog (BUSCO) assessment tool is used, for eukaryotic and bacterial proteomes, to provide quantitative measures of UniProt proteome data completeness in terms of expected gene content. BUSCO scores include percentages of complete (C) single-copy (S) genes, complete (C) duplicated (D) genes, fragmented (F) and missing (M) genes, as well as the total number of orthologous clusters (n) used in the BUSCO assessment, and the name of the taxonomic lineage dataset used.</p>'}]"
      ]
     },
     "execution_count": 26,
     "metadata": {},
     "output_type": "execute_result"
    }
   ],
   "source": [
    "busco = [entry for entry in feed['entries'] if entry['id'] == 'http://www.uniprot.org/busco_score']\n",
    "busco"
   ]
  },
  {
   "cell_type": "code",
   "execution_count": 78,
   "id": "c1d93d62",
   "metadata": {},
   "outputs": [
    {
     "name": "stdout",
     "output_type": "stream",
     "text": [
      "uniprotkb uniref\n",
      "        Old      New_x  New_y\n",
      "0   context        NaN    NaN\n",
      "1        id  accession     id\n",
      "4  reviewed   reviewed  types\n",
      "uniprotkb uniparc\n",
      "       Old       New_x New_y\n",
      "0  context         NaN   NaN\n",
      "1    genes  gene_names  gene\n",
      "2       id   accession   upi\n",
      "uniprotkb proteomes\n",
      "  Old      New_x New_y\n",
      "0  id  accession  upid\n",
      "uniref uniparc\n",
      "       Old New_x New_y\n",
      "0       id    id   upi\n",
      "4  context   NaN   NaN\n",
      "uniref proteomes\n",
      "    Old New_x     New_y\n",
      "0    id    id      upid\n",
      "1  name  name  organism\n",
      "uniparc proteomes\n",
      "  Old New_x New_y\n",
      "0  id   upi  upid\n"
     ]
    }
   ],
   "source": [
    "import itertools\n",
    "\n",
    "for a, b in itertools.combinations(df, 2):\n",
    "    print(a,b)\n",
    "    merged = df[a].merge(df[b], on='Old', how='inner')\n",
    "    print(merged[merged['New_x'] != merged['New_y']])"
   ]
  },
  {
   "cell_type": "code",
   "execution_count": 57,
   "id": "2897dcf3",
   "metadata": {},
   "outputs": [],
   "source": []
  },
  {
   "cell_type": "code",
   "execution_count": 58,
   "id": "5fc0ddb6",
   "metadata": {},
   "outputs": [],
   "source": []
  },
  {
   "cell_type": "code",
   "execution_count": 52,
   "id": "f6a0c0a0",
   "metadata": {},
   "outputs": [
    {
     "ename": "NameError",
     "evalue": "name 'c' is not defined",
     "output_type": "error",
     "traceback": [
      "\u001b[0;31m---------------------------------------------------------------------------\u001b[0m",
      "\u001b[0;31mNameError\u001b[0m                                 Traceback (most recent call last)",
      "\u001b[0;32m/var/folders/3k/kq3mykdx3hs0jxfmjzxzxxx0f__wfl/T/ipykernel_54405/3235490055.py\u001b[0m in \u001b[0;36m<module>\u001b[0;34m\u001b[0m\n\u001b[0;32m----> 1\u001b[0;31m \u001b[0mc\u001b[0m\u001b[0;34m\u001b[0m\u001b[0;34m\u001b[0m\u001b[0m\n\u001b[0m",
      "\u001b[0;31mNameError\u001b[0m: name 'c' is not defined"
     ]
    }
   ],
   "source": [
    "c"
   ]
  },
  {
   "cell_type": "code",
   "execution_count": 55,
   "id": "188a2088",
   "metadata": {},
   "outputs": [
    {
     "data": {
      "text/plain": [
       "'\\n<p>\\n Positions of the experimentally determined \\'Turn\\' region(s) (\\n <a href=\"http://www.uniprot.org/manual/turn\">\\n  more...\\n </a>\\n )\\n</p>\\n'"
      ]
     },
     "execution_count": 55,
     "metadata": {},
     "output_type": "execute_result"
    }
   ],
   "source": [
    "c = list(parent.children)\n",
    "if c[0].text != 'See also:' or not parent.find_all('br'):\n",
    "    return\n",
    "lis = ''.join([f'<li>{el}</li>' for el in c[1:] if el.name != 'br'])\n",
    "paragraph = BeautifulSoup(f'<p>See also:<ul>{lis}</ul></p>')\n",
    "parent.replace_with(paragraph)"
   ]
  },
  {
   "cell_type": "code",
   "execution_count": 4,
   "id": "ed38f5f2",
   "metadata": {},
   "outputs": [],
   "source": [
    "def get_link(accession):\n",
    "    return '<Link to={generatePath(LocationToPath[Location.HelpEntry], {accession: \"' + accession + '\"})}>'\n",
    "\n",
    "def replace_anchor_with_link(html):\n",
    "    re_anchor = re.compile(r'<a href=(.*)>')\n",
    "    link = get_link('biophysicochemical_properties')\n",
    "    html = re_anchor.sub(link, html)\n",
    "    html = html.replace('</a>', '</Link>')\n",
    "    html = html.replace('<p>', '<>')\n",
    "    html = html.replace('</p>', '</>')\n",
    "    return html"
   ]
  },
  {
   "cell_type": "code",
   "execution_count": 49,
   "id": "28b9b539",
   "metadata": {},
   "outputs": [],
   "source": [
    "def get_help_link(accession):\n",
    "    return '<Link to={generatePath(LocationToPath[Location.HelpEntry], {accession: \"' + accession + '\"})}>'\n",
    "\n",
    "\n",
    "def get_help_accession(url):\n",
    "    re_help_link = re.compile(r'\"https?:\\/\\/www\\.uniprot\\.org\\/manual\\/(.*)\"')\n",
    "    m = re_help_link.match(url)\n",
    "    return unquote(m.groups()[0])\n",
    "\n",
    "\n",
    "def replace_anchor_with_link(html):\n",
    "    re_anchor = re.compile(r'<a href=(.*)>')\n",
    "    m = re_anchor.search(html)\n",
    "    if not m:\n",
    "        print('h')\n",
    "        return html\n",
    "    url = m.groups()[0]\n",
    "    accession = get_help_accession(url)\n",
    "    link = get_help_link(accession)\n",
    "    html = re_anchor.sub(link, html)\n",
    "    html = html.replace('</a>', '</Link>')\n",
    "    html = html.replace('<p>', '<>')\n",
    "    html = html.replace('</p>', '</>')\n",
    "    return html"
   ]
  },
  {
   "cell_type": "code",
   "execution_count": 79,
   "id": "8eb99eb8",
   "metadata": {},
   "outputs": [],
   "source": [
    "h = '''\n",
    "<p>\n",
    " Indicates the wavelength at which photoreactive protein shows maximal light absorption (\n",
    " <a href=\"http://www.uniprot.org/manual/biophysicochemical%5Fproperties\">\n",
    "  more...\n",
    " </a>\n",
    " )\n",
    "</p>\n",
    "'''"
   ]
  },
  {
   "cell_type": "code",
   "execution_count": 42,
   "id": "8ff90ee0",
   "metadata": {},
   "outputs": [],
   "source": [
    "re_anchor = re.compile(r'<a href=(.*)>')\n",
    "m = re_anchor.search(h)"
   ]
  },
  {
   "cell_type": "code",
   "execution_count": 45,
   "id": "55fa4426",
   "metadata": {},
   "outputs": [
    {
     "data": {
      "text/plain": [
       "'\"http://www.uniprot.org/manual/biophysicochemical%5Fproperties\"'"
      ]
     },
     "execution_count": 45,
     "metadata": {},
     "output_type": "execute_result"
    }
   ],
   "source": [
    "m.groups()[0]"
   ]
  },
  {
   "cell_type": "code",
   "execution_count": 80,
   "id": "1533e648",
   "metadata": {},
   "outputs": [
    {
     "name": "stdout",
     "output_type": "stream",
     "text": [
      "\n",
      "<>\n",
      " Indicates the wavelength at which photoreactive protein shows maximal light absorption (\n",
      " <Link to={generatePath(LocationToPath[Location.HelpEntry], {accession: \"biophysicochemical_properties\"})}>\n",
      "  more...\n",
      " </Link>\n",
      " )\n",
      "</>\n",
      "\n"
     ]
    }
   ],
   "source": [
    "print(replace_anchor_with_link(h))"
   ]
  },
  {
   "cell_type": "code",
   "execution_count": 81,
   "id": "4bb57f60",
   "metadata": {},
   "outputs": [],
   "source": []
  },
  {
   "cell_type": "code",
   "execution_count": 82,
   "id": "d64f67ee",
   "metadata": {},
   "outputs": [],
   "source": []
  },
  {
   "cell_type": "code",
   "execution_count": 83,
   "id": "05662e8f",
   "metadata": {},
   "outputs": [
    {
     "name": "stdout",
     "output_type": "stream",
     "text": [
      "\n",
      "<p>\n",
      " Indicates the wavelength at which photoreactive protein shows maximal light absorption \n",
      " <a href=\"http://www.uniprot.org/manual/biophysicochemical%5Fproperties\">\n",
      "  more...\n",
      " </a>\n",
      "</p>\n",
      "\n"
     ]
    }
   ],
   "source": [
    "print(h)"
   ]
  },
  {
   "cell_type": "code",
   "execution_count": 96,
   "id": "f950c932",
   "metadata": {},
   "outputs": [],
   "source": [
    "m = re_anchor.search(h)"
   ]
  },
  {
   "cell_type": "code",
   "execution_count": 97,
   "id": "6613d8ad",
   "metadata": {},
   "outputs": [
    {
     "data": {
      "text/plain": [
       "<re.Match object; span=(69, 114), match='<a href=\"http://www.uniprot.org/manual/turn\">'>"
      ]
     },
     "execution_count": 97,
     "metadata": {},
     "output_type": "execute_result"
    }
   ],
   "source": [
    "m"
   ]
  },
  {
   "cell_type": "code",
   "execution_count": 98,
   "id": "14d87857",
   "metadata": {},
   "outputs": [],
   "source": [
    "url = m.groups()[0]"
   ]
  },
  {
   "cell_type": "code",
   "execution_count": 99,
   "id": "ef11d424",
   "metadata": {},
   "outputs": [
    {
     "data": {
      "text/plain": [
       "69"
      ]
     },
     "execution_count": 99,
     "metadata": {},
     "output_type": "execute_result"
    }
   ],
   "source": [
    "m.start()"
   ]
  },
  {
   "cell_type": "code",
   "execution_count": 100,
   "id": "4575a27a",
   "metadata": {},
   "outputs": [
    {
     "data": {
      "text/plain": [
       "114"
      ]
     },
     "execution_count": 100,
     "metadata": {},
     "output_type": "execute_result"
    }
   ],
   "source": [
    "m.end()"
   ]
  },
  {
   "cell_type": "code",
   "execution_count": 31,
   "id": "6b2867b9",
   "metadata": {},
   "outputs": [],
   "source": [
    "def get_help_accession(url):\n",
    "    re_help_link = re.compile(r'https?:\\/\\/www\\.uniprot\\.org\\/manual\\/(.*)')\n",
    "    m = re_help_link.match(url)\n",
    "    return unquote(m.groups()[0])"
   ]
  },
  {
   "cell_type": "code",
   "execution_count": 17,
   "id": "1a2eaeaf",
   "metadata": {},
   "outputs": [],
   "source": [
    "u = 'http://www.uniprot.org/manual/biophysicochemical%5Fproperties'"
   ]
  },
  {
   "cell_type": "code",
   "execution_count": 19,
   "id": "50faebbd",
   "metadata": {},
   "outputs": [],
   "source": []
  },
  {
   "cell_type": "code",
   "execution_count": 24,
   "id": "ae5adb19",
   "metadata": {},
   "outputs": [],
   "source": [
    "from urllib.parse import unquote"
   ]
  },
  {
   "cell_type": "code",
   "execution_count": 25,
   "id": "c5f82e6f",
   "metadata": {},
   "outputs": [
    {
     "data": {
      "text/plain": [
       "'biophysicochemical_properties'"
      ]
     },
     "execution_count": 25,
     "metadata": {},
     "output_type": "execute_result"
    }
   ],
   "source": []
  },
  {
   "cell_type": "code",
   "execution_count": 10,
   "id": "734a7f69",
   "metadata": {},
   "outputs": [],
   "source": [
    "assert parsed.netloc == 'www.uniprot.org' and parsed.path.startswith('/manual/')"
   ]
  },
  {
   "cell_type": "code",
   "execution_count": 13,
   "id": "2a257e05",
   "metadata": {},
   "outputs": [
    {
     "data": {
      "text/plain": [
       "'biophysicochemical%5Fproperties'"
      ]
     },
     "execution_count": 13,
     "metadata": {},
     "output_type": "execute_result"
    }
   ],
   "source": [
    "accession = os.path.split(parsed.path)[-1]"
   ]
  },
  {
   "cell_type": "code",
   "execution_count": 104,
   "id": "3c7ddd21",
   "metadata": {},
   "outputs": [
    {
     "name": "stdout",
     "output_type": "stream",
     "text": [
      "\n",
      "<p>\n",
      " Positions of the experimentally determined 'Turn' region(s) (\n",
      " <Link to={generatePath(LocationToPath[Location.HelpEntry], {accession: \"biophysicochemical_properties\"})}>\n",
      "  more...\n",
      " </a>\n",
      " )\n",
      "</p>\n",
      "\n"
     ]
    }
   ],
   "source": [
    "print(h)"
   ]
  },
  {
   "cell_type": "code",
   "execution_count": 105,
   "id": "a2be0610",
   "metadata": {},
   "outputs": [],
   "source": []
  },
  {
   "cell_type": "code",
   "execution_count": 106,
   "id": "521f0b2d",
   "metadata": {},
   "outputs": [
    {
     "name": "stdout",
     "output_type": "stream",
     "text": [
      "\n",
      "<>\n",
      " Positions of the experimentally determined 'Turn' region(s) (\n",
      " <Link to={generatePath(LocationToPath[Location.HelpEntry], {accession: \"biophysicochemical_properties\"})}>\n",
      "  more...\n",
      " </Link>\n",
      " )\n",
      "</>\n",
      "\n"
     ]
    }
   ],
   "source": [
    "print(h)"
   ]
  },
  {
   "cell_type": "code",
   "execution_count": 54,
   "id": "e856ccd9",
   "metadata": {},
   "outputs": [
    {
     "ename": "NameError",
     "evalue": "name 'c' is not defined",
     "output_type": "error",
     "traceback": [
      "\u001b[0;31m---------------------------------------------------------------------------\u001b[0m",
      "\u001b[0;31mNameError\u001b[0m                                 Traceback (most recent call last)",
      "\u001b[0;32m/var/folders/3k/kq3mykdx3hs0jxfmjzxzxxx0f__wfl/T/ipykernel_54405/3425949900.py\u001b[0m in \u001b[0;36m<module>\u001b[0;34m\u001b[0m\n\u001b[0;32m----> 1\u001b[0;31m \u001b[0md\u001b[0m \u001b[0;34m=\u001b[0m \u001b[0mc\u001b[0m\u001b[0;34m.\u001b[0m\u001b[0mprettify\u001b[0m\u001b[0;34m(\u001b[0m\u001b[0;34m)\u001b[0m\u001b[0;34m\u001b[0m\u001b[0;34m\u001b[0m\u001b[0m\n\u001b[0m",
      "\u001b[0;31mNameError\u001b[0m: name 'c' is not defined"
     ]
    }
   ],
   "source": [
    "d = c.prettify()"
   ]
  },
  {
   "cell_type": "code",
   "execution_count": 38,
   "id": "af9efbba",
   "metadata": {},
   "outputs": [
    {
     "data": {
      "text/plain": [
       "\"<html>\\n <body>\\n  <p>\\n   Positions of the experimentally determined 'Turn' region(s) (\\n   foo\\n    more...\\n   </a>\\n   )\\n  </p>\\n </body>\\n</html>\""
      ]
     },
     "execution_count": 38,
     "metadata": {},
     "output_type": "execute_result"
    }
   ],
   "source": [
    "d.replace('<a href=\"http://www.uniprot.org/manual/turn\">', 'foo')"
   ]
  },
  {
   "cell_type": "code",
   "execution_count": 53,
   "id": "16ae8b5f",
   "metadata": {},
   "outputs": [
    {
     "ename": "NameError",
     "evalue": "name 'd' is not defined",
     "output_type": "error",
     "traceback": [
      "\u001b[0;31m---------------------------------------------------------------------------\u001b[0m",
      "\u001b[0;31mNameError\u001b[0m                                 Traceback (most recent call last)",
      "\u001b[0;32m/var/folders/3k/kq3mykdx3hs0jxfmjzxzxxx0f__wfl/T/ipykernel_54405/3161387801.py\u001b[0m in \u001b[0;36m<module>\u001b[0;34m\u001b[0m\n\u001b[0;32m----> 1\u001b[0;31m \u001b[0md\u001b[0m\u001b[0;34m\u001b[0m\u001b[0;34m\u001b[0m\u001b[0m\n\u001b[0m",
      "\u001b[0;31mNameError\u001b[0m: name 'd' is not defined"
     ]
    }
   ],
   "source": [
    "d"
   ]
  },
  {
   "cell_type": "code",
   "execution_count": 40,
   "id": "3fbb9f7e",
   "metadata": {},
   "outputs": [
    {
     "name": "stdout",
     "output_type": "stream",
     "text": [
      "<html>\n",
      " <body>\n",
      "  <p>\n",
      "   Positions of the experimentally determined 'Turn' region(s) (\n",
      "   <a href=\"http://www.uniprot.org/manual/turn\">\n",
      "    more...\n",
      "   </a>\n",
      "   )\n",
      "  </p>\n",
      " </body>\n",
      "</html>\n"
     ]
    }
   ],
   "source": [
    "print(d)"
   ]
  },
  {
   "cell_type": "code",
   "execution_count": 37,
   "id": "132b64d5",
   "metadata": {},
   "outputs": [
    {
     "name": "stdout",
     "output_type": "stream",
     "text": [
      "<a href=\"http://www.uniprot.org/manual/turn\">\n",
      " more...\n",
      "</a>\n",
      "\n"
     ]
    }
   ],
   "source": [
    "print(a.prettify())"
   ]
  },
  {
   "cell_type": "code",
   "execution_count": 35,
   "id": "1cb6287a",
   "metadata": {},
   "outputs": [
    {
     "name": "stdout",
     "output_type": "stream",
     "text": [
      "<html>\n",
      " <body>\n",
      "  <p>\n",
      "   Positions of the experimentally determined 'Turn' region(s) (\n",
      "   <a href=\"http://www.uniprot.org/manual/turn\">\n",
      "    more...\n",
      "   </a>\n",
      "   )\n",
      "  </p>\n",
      " </body>\n",
      "</html>\n"
     ]
    }
   ],
   "source": [
    "print(d.replace(a.prettify(), 'foo'))"
   ]
  },
  {
   "cell_type": "code",
   "execution_count": null,
   "id": "141bb74a",
   "metadata": {},
   "outputs": [],
   "source": []
  },
  {
   "cell_type": "code",
   "execution_count": 28,
   "id": "64df6aac",
   "metadata": {},
   "outputs": [],
   "source": [
    "for a in c.find_all('a'):\n",
    "    break"
   ]
  },
  {
   "cell_type": "code",
   "execution_count": 29,
   "id": "d6a57928",
   "metadata": {},
   "outputs": [
    {
     "data": {
      "text/plain": [
       "<a href=\"http://www.uniprot.org/manual/turn\">\n",
       "  more...\n",
       " </a>"
      ]
     },
     "execution_count": 29,
     "metadata": {},
     "output_type": "execute_result"
    }
   ],
   "source": [
    "a"
   ]
  },
  {
   "cell_type": "code",
   "execution_count": 17,
   "id": "1ad9ca87",
   "metadata": {},
   "outputs": [
    {
     "data": {
      "text/plain": [
       "<a href=\"http://www.uniprot.org/manual/turn\">\n",
       "  more...\n",
       " </a>"
      ]
     },
     "execution_count": 17,
     "metadata": {},
     "output_type": "execute_result"
    }
   ],
   "source": [
    "a.replace_with(t)"
   ]
  },
  {
   "cell_type": "code",
   "execution_count": 18,
   "id": "803348f0",
   "metadata": {},
   "outputs": [
    {
     "data": {
      "text/plain": [
       "<a href=\"http://www.uniprot.org/manual/turn\">\n",
       "  more...\n",
       " </a>"
      ]
     },
     "execution_count": 18,
     "metadata": {},
     "output_type": "execute_result"
    }
   ],
   "source": [
    "a"
   ]
  },
  {
   "cell_type": "code",
   "execution_count": 20,
   "id": "8e395366",
   "metadata": {},
   "outputs": [
    {
     "name": "stdout",
     "output_type": "stream",
     "text": [
      "<?xml version=\"1.0\" encoding=\"utf-8\"?>\n",
      "<p>\n",
      " Positions of the experimentally determined 'Turn' region(s) (\n",
      " <Link>\n",
      "  {generatePath(LocationToPath[Location.HelpEntry], {\n",
      "  accession: 'biophysicochemical_properties',\n",
      "})}\n",
      "&gt;\n",
      "more...\n",
      " </Link>\n",
      " )\n",
      "</p>\n"
     ]
    }
   ],
   "source": [
    "print(c.prettify())"
   ]
  },
  {
   "cell_type": "code",
   "execution_count": null,
   "id": "32c5aca1",
   "metadata": {},
   "outputs": [],
   "source": []
  }
 ],
 "metadata": {
  "kernelspec": {
   "display_name": "Python 3 (ipykernel)",
   "language": "python",
   "name": "python3"
  },
  "language_info": {
   "codemirror_mode": {
    "name": "ipython",
    "version": 3
   },
   "file_extension": ".py",
   "mimetype": "text/x-python",
   "name": "python",
   "nbconvert_exporter": "python",
   "pygments_lexer": "ipython3",
   "version": "3.9.7"
  }
 },
 "nbformat": 4,
 "nbformat_minor": 5
}
